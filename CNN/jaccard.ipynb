{
 "cells": [
  {
   "cell_type": "markdown",
   "metadata": {},
   "source": [
    "## Intercept over Union (Jaccard index)"
   ]
  },
  {
   "cell_type": "code",
   "execution_count": 4,
   "metadata": {},
   "outputs": [],
   "source": [
    "import numpy as np\n",
    "import matplotlib.pyplot as plt"
   ]
  },
  {
   "cell_type": "markdown",
   "metadata": {},
   "source": [
    "A box here is defined as `x,y` of center and `w,h` of edges"
   ]
  },
  {
   "cell_type": "code",
   "execution_count": 65,
   "metadata": {},
   "outputs": [],
   "source": [
    "def intercept(box1, box2):\n",
    "    'calculate the IoU'\n",
    "    x1,y1,w1,h1 = box1\n",
    "    x2,y2,w2,h2 = box2\n",
    "    \n",
    "    if (abs(x1-x2) >= w1/2+w2/2) or (abs(y1-y2) >= h1/2+h2/2):\n",
    "        # no intercept\n",
    "        return 0\n",
    "    else:\n",
    "        # find left x\n",
    "        if (x1-w1/2 > x2-w2/2):\n",
    "            xl = x1-w1/2\n",
    "        else:\n",
    "            xl = x2-w2/2\n",
    "        # find right x\n",
    "        if (x1+w1/2 > x2+w2/2):\n",
    "            xr = x2+w2/2\n",
    "        else:\n",
    "            xr = x1+w1/2\n",
    "        # find bottom y\n",
    "        if (y1-h1/2 > y2-h2/2):\n",
    "            yb = y1-h1/2\n",
    "        else:\n",
    "            yb = y2-h2/2\n",
    "        # find top y\n",
    "        if (y1+h1/2 > y2+h2/2):\n",
    "            yt = y2+h2/2\n",
    "        else:\n",
    "            yt = y1+h1/2  \n",
    "        # intercept over union\n",
    "        i = (xr-xl)*(yt-yb)\n",
    "        return i / (w1*h1 + w2*h2 - i)"
   ]
  },
  {
   "cell_type": "markdown",
   "metadata": {},
   "source": [
    "### Example"
   ]
  },
  {
   "cell_type": "code",
   "execution_count": 66,
   "metadata": {},
   "outputs": [],
   "source": [
    "# Helper method\n",
    "def draw_box(box):\n",
    "    'draw a rectangle in pyplot'\n",
    "    x,y,w,h = box\n",
    "    bl = [x-w/2,y-h/2]\n",
    "    br = [x+w/2,y-h/2]\n",
    "    tl = [x-w/2,y+h/2]\n",
    "    tr = [x+w/2,y+h/2]\n",
    "    plt.plot([bl[0],br[0],tr[0],tl[0],bl[0]],[bl[1],br[1],tr[1],tl[1],bl[1]])  "
   ]
  },
  {
   "cell_type": "code",
   "execution_count": 120,
   "metadata": {},
   "outputs": [
    {
     "data": {
      "image/png": "[encoded data removed]",
      "text/plain": [
       "<Figure size 360x360 with 1 Axes>"
      ]
     },
     "metadata": {},
     "output_type": "display_data"
    },
    {
     "data": {
      "text/plain": [
       "0.7964717545113479"
      ]
     },
     "execution_count": 120,
     "metadata": {},
     "output_type": "execute_result"
    }
   ],
   "source": [
    "# generate two random boxes\n",
    "r = np.random.random(size=8)+0.5\n",
    "box1 = [r[0],r[1],r[2],r[3]]\n",
    "box2 = [r[4],r[5],r[6],r[7]]\n",
    "\n",
    "# draw boxes\n",
    "plt.figure(figsize=(5,5))\n",
    "draw_box(box1)\n",
    "draw_box(box2)\n",
    "plt.xlim(-1,3)\n",
    "plt.ylim(-1,3)\n",
    "plt.show()\n",
    "\n",
    "# calculate IoU\n",
    "intercept(box1,box2)"
   ]
  }
 ],
 "metadata": {
  "kernelspec": {
   "display_name": "Python 3",
   "language": "python",
   "name": "python3"
  },
  "language_info": {
   "codemirror_mode": {
    "name": "ipython",
    "version": 3
   },
   "file_extension": ".py",
   "mimetype": "text/x-python",
   "name": "python",
   "nbconvert_exporter": "python",
   "pygments_lexer": "ipython3",
   "version": "3.6.8"
  }
 },
 "nbformat": 4,
 "nbformat_minor": 2
}
