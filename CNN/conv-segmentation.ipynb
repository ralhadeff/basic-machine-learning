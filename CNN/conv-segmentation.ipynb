{
 "cells": [
  {
   "cell_type": "code",
   "execution_count": 1,
   "metadata": {},
   "outputs": [],
   "source": [
    "# Discontinued\n",
    "import matplotlib.pyplot as plt\n",
    "import matplotlib.image as mpimg\n",
    "import numpy as np\n",
    "\n",
    "from conv2d import Conv2D\n",
    "from neural_network import Layer, ReLU, dSigmoid, sigmoid"
   ]
  },
  {
   "cell_type": "code",
   "execution_count": 2,
   "metadata": {},
   "outputs": [
    {
     "data": {
      "image/png": "[encoded data removed]",
      "text/plain": [
       "<Figure size 432x288 with 1 Axes>"
      ]
     },
     "metadata": {},
     "output_type": "display_data"
    }
   ],
   "source": [
    "image = mpimg.imread('fig.png')\n",
    "# make image smaller (faster execution) and change format from [0,1] to [0,255]\n",
    "image = (image[::10,::10])\n",
    "plt.imshow(image)\n",
    "plt.show()"
   ]
  },
  {
   "cell_type": "code",
   "execution_count": 40,
   "metadata": {},
   "outputs": [],
   "source": [
    "flags = image.copy()\n",
    "flags = flags.sum(axis=2)\n",
    "flags[flags!=3]=0\n",
    "flags[flags==3]=1\n",
    "flags = flags.reshape((*flags.shape,1))"
   ]
  },
  {
   "cell_type": "code",
   "execution_count": 41,
   "metadata": {},
   "outputs": [],
   "source": [
    "# initialize system\n",
    "n=16\n",
    "cnn_input = Conv2D(n,image.shape[2],activation='ReLU')\n",
    "cnn_hidden_1 = Conv2D(n,n,previous_layer=cnn_input,activation='ReLU')\n",
    "cnn_hidden_2 = Conv2D(n,n,previous_layer=cnn_hidden_1,activation='ReLU')\n",
    "cnn_output = Conv2D(1,n,previous_layer=cnn_hidden_2,activation='none')\n",
    "cnn_output.initialize_weights()"
   ]
  },
  {
   "cell_type": "code",
   "execution_count": 47,
   "metadata": {},
   "outputs": [
    {
     "name": "stdout",
     "output_type": "stream",
     "text": [
      "1332.0726097216211\n",
      "1330.602728243402\n",
      "1327.9447151596269\n",
      "1324.9662915571678\n",
      "1321.0688439740395\n",
      "1315.8036876987774\n",
      "1308.5625754630669\n",
      "1298.5437620211046\n",
      "1284.9654256880222\n",
      "1267.9061277313815\n"
     ]
    }
   ],
   "source": [
    "pad = 4\n",
    "for i in range(10):\n",
    "    aa = cnn_input.feed_forward(image)    \n",
    "    # manual derivative of the loss function\n",
    "    y = flags[pad:-pad,pad:-pad]\n",
    "    a = sigmoid(cnn_output.a)\n",
    "    dy = -( (y/a) - ((1-y)/(1-a)) ) * dSigmoid(cnn_output.a)\n",
    "    loss = (-y*np.log(a)-(1-y)*np.log(1-a)).sum()\n",
    "    print(loss)\n",
    "    cnn_output.back_propagate(dy)"
   ]
  },
  {
   "cell_type": "code",
   "execution_count": 48,
   "metadata": {},
   "outputs": [],
   "source": [
    "aa = cnn_input.feed_forward(image) \n",
    "bb = sigmoid(aa)"
   ]
  },
  {
   "cell_type": "code",
   "execution_count": 49,
   "metadata": {},
   "outputs": [
    {
     "data": {
      "text/plain": [
       "0.573272476714025"
      ]
     },
     "execution_count": 49,
     "metadata": {},
     "output_type": "execute_result"
    }
   ],
   "source": [
    "bb.min()"
   ]
  },
  {
   "cell_type": "code",
   "execution_count": 50,
   "metadata": {},
   "outputs": [
    {
     "data": {
      "image/png": "[encoded data removed]",
      "text/plain": [
       "<Figure size 864x288 with 3 Axes>"
      ]
     },
     "metadata": {},
     "output_type": "display_data"
    }
   ],
   "source": [
    "fig,axes = plt.subplots(ncols=3,figsize=(12,4))\n",
    "axes[0].imshow(aa[:,:,0],cmap='gray')\n",
    "axes[1].imshow(bb[:,:,0],cmap='gray')\n",
    "axes[2].imshow(flags[pad:-pad,pad:-pad,0],cmap='gray')\n",
    "plt.show()"
   ]
  },
  {
   "cell_type": "code",
   "execution_count": null,
   "metadata": {},
   "outputs": [],
   "source": [
    "fig,axes = plt.subplots(ncols=2,figsize=(12,4))\n",
    "axes[0].imshow(aa[:,:,0],cmap='gray')\n",
    "axes[1].imshow(flags[2:-2,2:-2,0],cmap='gray')\n",
    "plt.show()"
   ]
  },
  {
   "cell_type": "code",
   "execution_count": null,
   "metadata": {},
   "outputs": [],
   "source": [
    "copy1 = conv.kernels.copy()\n",
    "copyb1 = conv.bias.copy()\n",
    "copy2 = conv2.kernels.copy()\n",
    "copyb2 = conv2.bias.copy()\n",
    "for i in range(5):\n",
    "    # run one iteration\n",
    "    temp = conv.feed_forward(image)\n",
    "    #temp = conv2.feed_forward(temp)\n",
    "\n",
    "    conv2.back_propagate(y=flags[2:-2,2:-2],learning_rate=0.00001)\n",
    "    conv.back_propagate(learning_rate=0.00001)\n",
    "    \n",
    "    error = temp-flags[2:-2,2:-2]\n",
    "    print((error**2).sum())"
   ]
  },
  {
   "cell_type": "code",
   "execution_count": null,
   "metadata": {},
   "outputs": [],
   "source": [
    "# restore in case of gradient explosion\n",
    "conv.kernels = copy1.copy()\n",
    "conv.bias = copyb1.copy()\n",
    "conv2.kernels = copy2.copy()\n",
    "conv2.bias = copyb2.copy()"
   ]
  },
  {
   "cell_type": "code",
   "execution_count": null,
   "metadata": {},
   "outputs": [],
   "source": [
    "fig,axes = plt.subplots(ncols=3,figsize=(12,4))\n",
    "axes[0].imshow(temp[:,:,0],cmap='gray')\n",
    "axes[1].imshow(flags[2:-2,2:-2,0],cmap='gray')\n",
    "axes[2].imshow(error[:,:,0],cmap='gray')\n",
    "plt.show()"
   ]
  },
  {
   "cell_type": "code",
   "execution_count": null,
   "metadata": {},
   "outputs": [],
   "source": [
    "result = temp.copy()"
   ]
  },
  {
   "cell_type": "code",
   "execution_count": null,
   "metadata": {},
   "outputs": [],
   "source": [
    "result.mean()"
   ]
  },
  {
   "cell_type": "code",
   "execution_count": null,
   "metadata": {},
   "outputs": [],
   "source": [
    "result[result>=0.7] = 1\n",
    "result[result<0.7] = 0"
   ]
  },
  {
   "cell_type": "code",
   "execution_count": null,
   "metadata": {},
   "outputs": [],
   "source": [
    "fig,axes = plt.subplots(ncols=4,figsize=(12,4))\n",
    "axes[0].imshow(temp[:,:,0],cmap='gray')\n",
    "axes[1].imshow(result[:,:,0],cmap='gray')\n",
    "axes[2].imshow(flags[2:-2,2:-2,0],cmap='gray')\n",
    "axes[3].imshow(error[:,:,0],cmap='gray')\n",
    "plt.show()"
   ]
  },
  {
   "cell_type": "code",
   "execution_count": null,
   "metadata": {},
   "outputs": [],
   "source": []
  }
 ],
 "metadata": {
  "kernelspec": {
   "display_name": "Python 3",
   "language": "python",
   "name": "python3"
  },
  "language_info": {
   "codemirror_mode": {
    "name": "ipython",
    "version": 3
   },
   "file_extension": ".py",
   "mimetype": "text/x-python",
   "name": "python",
   "nbconvert_exporter": "python",
   "pygments_lexer": "ipython3",
   "version": "3.6.8"
  }
 },
 "nbformat": 4,
 "nbformat_minor": 2
}
