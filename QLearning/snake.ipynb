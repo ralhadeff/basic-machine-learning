{
 "cells": [
  {
   "cell_type": "code",
   "execution_count": 1,
   "metadata": {},
   "outputs": [],
   "source": [
    "import numpy as np\n",
    "import matplotlib.pyplot as plt\n",
    "from qlearn import Qlearn\n",
    "import torch"
   ]
  },
  {
   "cell_type": "code",
   "execution_count": 5,
   "metadata": {},
   "outputs": [],
   "source": [
    "class Snake():\n",
    "    \n",
    "    movement = ([[1,0],[0,1],[-1,0],[0,-1]])\n",
    "    \n",
    "    def __init__(self,board,starting_size):\n",
    "        # the board on which snake is playing\n",
    "        self.grid = board.shape\n",
    "        # position of head\n",
    "        self.pos = None\n",
    "        # direction facing\n",
    "        self.d = 0\n",
    "        # number of tail segments\n",
    "        self.size = starting_size\n",
    "        self.s_size = starting_size\n",
    "        # position of tail segments\n",
    "        self.segments = []\n",
    "    \n",
    "    def reset(self,pad=2):\n",
    "        pad=0\n",
    "        # pad starting position\n",
    "        x = np.random.randint(pad,self.grid[0]-pad)\n",
    "        y = np.random.randint(pad,self.grid[1]-pad)\n",
    "        self.pos = (x,y)\n",
    "        self.d = np.random.randint(4)\n",
    "        self.size = self.s_size\n",
    "        self.segments = []\n",
    "        \n",
    "    def move(self):\n",
    "        # add head's position to segments\n",
    "        self.segments.append(self.pos)\n",
    "        # move head\n",
    "        x,y = self.pos\n",
    "        dx,dy = self.movement[self.d]\n",
    "        self.pos = (x+dx,y+dy)\n",
    "        # remove one segment if needed\n",
    "        seg = None\n",
    "        if (len(self.segments)>self.size):\n",
    "            seg = self.segments.pop(0)\n",
    "        # return new position and position that has been cleared\n",
    "        return self.pos, seg\n",
    "    \n",
    "    def eat(self):\n",
    "        self.size+=1"
   ]
  },
  {
   "cell_type": "code",
   "execution_count": 17,
   "metadata": {},
   "outputs": [],
   "source": [
    "class Game():\n",
    "    \n",
    "    def __init__(self,grid,snake_size):\n",
    "        self.board = np.ones((grid,grid,3))\n",
    "        self.snake = Snake(self.board,snake_size)\n",
    "        self.apple = None\n",
    "        self.score = 0\n",
    "        self.total = 0\n",
    "        self.deaths = 0\n",
    "    \n",
    "    def reset(self):\n",
    "        self.snake.reset()\n",
    "        self.spawn_apple()\n",
    "        self.draw()\n",
    "    \n",
    "    def draw(self):\n",
    "        # white background\n",
    "        self.board[:,:,:] = 1\n",
    "        # black snake\n",
    "        self.board[self.snake.pos[0],self.snake.pos[1],:] = 0\n",
    "        for s in self.snake.segments:\n",
    "            self.board[s[0],s[1],:] = 0\n",
    "        # red apple\n",
    "        self.board[self.apple[0],self.apple[1],1:] = 0\n",
    "        \n",
    "    def spawn_apple(self):\n",
    "        # dummy x,y for while loop\n",
    "        x,y = self.snake.pos\n",
    "        # keep generating new apples until a free cell is rolled\n",
    "        while ((x,y) in self.snake.segments+[self.snake.pos]):\n",
    "            x = np.random.randint(self.board.shape[0])\n",
    "            y = np.random.randint(self.board.shape[1])\n",
    "        self.apple = np.array([x,y],dtype=int)\n",
    "        self.new_apple = False\n",
    "    \n",
    "    def iterate(self):\n",
    "        reward = 0.1\n",
    "        # move snake\n",
    "        new,old = self.snake.move()\n",
    "        if (self.new_apple==True):\n",
    "            self.spawn_apple()\n",
    "        # check death condition\n",
    "        grid = len(self.board)\n",
    "        p = self.snake.pos\n",
    "        a = self.apple\n",
    "        if (p[0]<0 or p[0]>=grid or p[1]<0 or p[1]>=grid):\n",
    "            # lose border\n",
    "            self.lose()\n",
    "            reward = -1\n",
    "        elif (p in self.snake.segments):\n",
    "            # lose self\n",
    "            self.lose()\n",
    "            reward = -1\n",
    "        else:\n",
    "            if (p == a).all():\n",
    "                # eat apple\n",
    "                self.eat() \n",
    "                reward = 10000\n",
    "            # update board (graphics)\n",
    "            self.board[new[0],new[1],:] = 0\n",
    "            if old is not None:\n",
    "                self.board[old[0],old[1],:] = 1\n",
    "        return reward\n",
    "        \n",
    "    def lose(self):\n",
    "        self.reset()\n",
    "        self.score=0\n",
    "        self.deaths+=1\n",
    "        \n",
    "    def eat(self):\n",
    "        self.snake.eat()\n",
    "        self.score+=1\n",
    "        self.total+=1\n",
    "        old = self.apple\n",
    "        #self.spawn_apple()\n",
    "        # remove old apple (covered by snake)\n",
    "        self.board[old[0],old[1],1:] = 0\n",
    "        # paint new apple red\n",
    "        #self.board[self.apple[0],self.apple[1],1:] = 0\n",
    "        self.new_apple = True\n",
    "    \n",
    "    def get_state(self):\n",
    "        grid = len(self.board)\n",
    "        state = np.zeros(6)\n",
    "        x,y = self.snake.pos\n",
    "        'S,E,N,W'\n",
    "        if ((x+1,y) in self.snake.segments or x+1>=grid):\n",
    "            state[0] = 1\n",
    "        if ((x-1,y) in self.snake.segments or x-1<0):\n",
    "            state[2] = 1\n",
    "        if ((x,y+1) in self.snake.segments or y+1>=grid):\n",
    "            state[1] = 1\n",
    "        if ((x,y-1) in self.snake.segments or y-1<0):\n",
    "            state[3] = 1\n",
    "        state[4] = np.sign(x-self.apple[0])\n",
    "        state[5] = np.sign(y-self.apple[1])\n",
    "        return state"
   ]
  },
  {
   "cell_type": "code",
   "execution_count": 83,
   "metadata": {},
   "outputs": [],
   "source": [
    "policy = {}\n",
    "#0/1, 0/1, 0/1, 0/1, -1/0/1, -1/0/1\n",
    "#(a-S, b-E, c-N, d-W)\n",
    "# e: (row) 1 go north\n",
    "# f: column 1 go west\n",
    "#SENW\n",
    "\n",
    "for a in range(2):\n",
    "    for b in range(2):\n",
    "        for c in range(2):\n",
    "            for d in range(2):\n",
    "                for e in range(-1,2):\n",
    "                    for f in range(-1,2):\n",
    "                        if (a==1):\n",
    "                            S=0\n",
    "                        else:\n",
    "                            S=1\n",
    "                        if (b==1):\n",
    "                            E=0\n",
    "                        else:\n",
    "                            E=1\n",
    "                        if (c==1):\n",
    "                            N=0\n",
    "                        else:\n",
    "                            N=1\n",
    "                        if (d==1):\n",
    "                            W=0\n",
    "                        else:\n",
    "                            W=1\n",
    "                        if (e==-1):\n",
    "                            S*=10\n",
    "                            N*=0.1\n",
    "                        elif (e==0):\n",
    "                            S*=0.1\n",
    "                            N*=0.1\n",
    "                        elif (e==1):\n",
    "                            N*=10\n",
    "                            S*=0.1\n",
    "                        if (f==-1):\n",
    "                            E*=10\n",
    "                            W*=0.1\n",
    "                        elif (f==0):\n",
    "                            E*=0.1\n",
    "                            W*=0.1\n",
    "                        elif (f==1):\n",
    "                            W*=10\n",
    "                            E*=0.1\n",
    "                        policy[(a,b,c,d,e,f)] = (S,E,N,W)"
   ]
  },
  {
   "cell_type": "code",
   "execution_count": 102,
   "metadata": {},
   "outputs": [
    {
     "data": {
      "text/plain": [
       "0"
      ]
     },
     "execution_count": 102,
     "metadata": {},
     "output_type": "execute_result"
    }
   ],
   "source": []
  },
  {
   "cell_type": "code",
   "execution_count": 107,
   "metadata": {},
   "outputs": [],
   "source": [
    "g = Game(grid, s_size)\n",
    "g.reset()\n",
    "reward = 0"
   ]
  },
  {
   "cell_type": "code",
   "execution_count": 142,
   "metadata": {},
   "outputs": [
    {
     "name": "stderr",
     "output_type": "stream",
     "text": [
      "/home/raphael/Software/anaconda3/lib/python3.6/site-packages/ipykernel_launcher.py:3: RuntimeWarning: invalid value encountered in true_divide\n",
      "  This is separate from the ipykernel package so we can avoid doing imports until\n"
     ]
    },
    {
     "data": {
      "image/png": "[encoded data removed]",
      "text/plain": [
       "<Figure size 432x288 with 1 Axes>"
      ]
     },
     "metadata": {
      "needs_background": "light"
     },
     "output_type": "display_data"
    },
    {
     "name": "stdout",
     "output_type": "stream",
     "text": [
      "1 0 6\n"
     ]
    }
   ],
   "source": [
    "s = g.get_state()\n",
    "a = policy[tuple(s)]\n",
    "a = np.argmax(np.random.multinomial(1,np.array(a)/np.array(a).sum()))\n",
    "g.snake.d = a\n",
    "g.iterate() \n",
    "g.draw()\n",
    "plt.imshow(g.board)\n",
    "plt.show()\n",
    "print(g.deaths,g.score,g.total)"
   ]
  },
  {
   "cell_type": "code",
   "execution_count": null,
   "metadata": {},
   "outputs": [],
   "source": []
  },
  {
   "cell_type": "code",
   "execution_count": 18,
   "metadata": {},
   "outputs": [
    {
     "name": "stdout",
     "output_type": "stream",
     "text": [
      "10\n",
      "20\n",
      "30\n",
      "40\n",
      "50\n",
      "60\n",
      "70\n",
      "80\n",
      "90\n",
      "3 0 0\n"
     ]
    },
    {
     "data": {
      "image/png": "[encoded data removed]",
      "text/plain": [
       "<Figure size 432x288 with 1 Axes>"
      ]
     },
     "metadata": {
      "needs_background": "light"
     },
     "output_type": "display_data"
    }
   ],
   "source": [
    "grid = 4\n",
    "s_size = 1\n",
    "steps = 10\n",
    "\n",
    "brain = Qlearn([6,16,4],10000,0.9,1,100)\n",
    "\n",
    "g = Game(grid, s_size)\n",
    "g.reset()\n",
    "reward = 0\n",
    "\n",
    "progress = 0\n",
    "for i in range(steps):\n",
    "    if (progress<(int(100*(i/steps)))):\n",
    "        progress = int(100*(i/steps))\n",
    "        print(progress)\n",
    "    state = g.get_state()\n",
    "    if (reward==-1):\n",
    "        d = brain.terminal_update(reward,state)\n",
    "    else:\n",
    "        d = brain.update(reward,state)\n",
    "    g.snake.d = d\n",
    "    reward = g.iterate()   \n",
    "# summarize game\n",
    "print(g.deaths,g.score,g.total)\n",
    "plt.imshow(g.board)\n",
    "plt.show()"
   ]
  },
  {
   "cell_type": "code",
   "execution_count": 8,
   "metadata": {},
   "outputs": [],
   "source": [
    "# 11075 0 1062 - first\n",
    "# ~11000 ~1500 - second"
   ]
  },
  {
   "cell_type": "code",
   "execution_count": 72,
   "metadata": {},
   "outputs": [
    {
     "data": {
      "image/png": "[encoded data removed]",
      "text/plain": [
       "<Figure size 432x288 with 1 Axes>"
      ]
     },
     "metadata": {
      "needs_background": "light"
     },
     "output_type": "display_data"
    },
    {
     "name": "stdout",
     "output_type": "stream",
     "text": [
      "[ 0.  1.  1.  1. -1. -1.] 2\n"
     ]
    }
   ],
   "source": [
    "state = g.get_state()\n",
    "if (reward==-1):\n",
    "    d = brain.terminal_update(reward,state)\n",
    "else:\n",
    "    d = brain.update(reward,state)\n",
    "g.snake.d = 3\n",
    "reward = g.iterate() \n",
    "g.draw()\n",
    "plt.imshow(g.board)\n",
    "plt.show()\n",
    "g.new_apple\n",
    "print(g.get_state(),d)"
   ]
  },
  {
   "cell_type": "code",
   "execution_count": 67,
   "metadata": {},
   "outputs": [
    {
     "data": {
      "text/plain": [
       "array([3, 4])"
      ]
     },
     "execution_count": 67,
     "metadata": {},
     "output_type": "execute_result"
    }
   ],
   "source": [
    "g.apple"
   ]
  },
  {
   "cell_type": "code",
   "execution_count": null,
   "metadata": {},
   "outputs": [],
   "source": [
    "s = [[0,0,0,0,1,1],[1,0,0,0,1,1],[0,1,0,0,1,1],[0,0,1,0,1,1],[0,0,0,1,1,1],[1,1,0,0,1,1],[1,0,1,0,1,1],[1,0,0,1,1,1]]\n",
    "s = torch.Tensor(s)\n",
    "with torch.no_grad():\n",
    "    s = torch.autograd.Variable(s)\n",
    "brain.network(s)"
   ]
  },
  {
   "cell_type": "code",
   "execution_count": null,
   "metadata": {},
   "outputs": [],
   "source": [
    "#SENW\n",
    "# -3 S, 1 W"
   ]
  },
  {
   "cell_type": "code",
   "execution_count": null,
   "metadata": {},
   "outputs": [],
   "source": [
    "s = [[0,0,0,0,0,0],[0,0,0,0,1,0],[0,0,0,0,0,-1],[0,0,0,0,-1,0]]\n",
    "s = torch.Tensor(s)\n",
    "with torch.no_grad():\n",
    "    s = torch.autograd.Variable(s)\n",
    "brain.network(s)"
   ]
  },
  {
   "cell_type": "code",
   "execution_count": null,
   "metadata": {},
   "outputs": [],
   "source": [
    "[i for i in brain.memory if i[2]>0.1]"
   ]
  },
  {
   "cell_type": "code",
   "execution_count": null,
   "metadata": {},
   "outputs": [],
   "source": [
    "torch.save(brain.network.state_dict(), 'dqn_080419_b')\n",
    "\n",
    "#model = TheModelClass(*args, **kwargs)\n",
    "#model.load_state_dict(torch.load(PATH))\n",
    "#model.eval()"
   ]
  },
  {
   "cell_type": "code",
   "execution_count": null,
   "metadata": {},
   "outputs": [],
   "source": []
  }
 ],
 "metadata": {
  "kernelspec": {
   "display_name": "Python 3",
   "language": "python",
   "name": "python3"
  },
  "language_info": {
   "codemirror_mode": {
    "name": "ipython",
    "version": 3
   },
   "file_extension": ".py",
   "mimetype": "text/x-python",
   "name": "python",
   "nbconvert_exporter": "python",
   "pygments_lexer": "ipython3",
   "version": "3.6.7"
  }
 },
 "nbformat": 4,
 "nbformat_minor": 2
}
