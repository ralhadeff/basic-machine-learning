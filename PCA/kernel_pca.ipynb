{
 "cells": [
  {
   "cell_type": "markdown",
   "metadata": {},
   "source": [
    "# Kernel PCA"
   ]
  },
  {
   "cell_type": "code",
   "execution_count": 1,
   "metadata": {},
   "outputs": [],
   "source": [
    "import numpy as np\n",
    "import math\n",
    "import matplotlib.pyplot as plt\n",
    "\n",
    "import pca"
   ]
  },
  {
   "cell_type": "markdown",
   "metadata": {},
   "source": [
    "### Kernel PCA solver"
   ]
  },
  {
   "cell_type": "markdown",
   "metadata": {},
   "source": [
    "**Using rbf kernel**"
   ]
  },
  {
   "cell_type": "code",
   "execution_count": 2,
   "metadata": {},
   "outputs": [],
   "source": [
    "import numpy as np\n",
    "import math\n",
    "\n",
    "class KernelPCA():\n",
    "    \"\"\"\n",
    "    Kernel PCA solver\n",
    "        this solver uses numpy's lingear algebra tools because they are much faster\n",
    "        see pca for an implementation of these tools\n",
    "    \"\"\"\n",
    "\n",
    "    def __init__(self):\n",
    "        self.vectors=None\n",
    "        self.values=None\n",
    "        self.means=None\n",
    "        self.k=None\n",
    "\n",
    "    def fit(self,data):\n",
    "        \"\"\"\n",
    "        finds the eigenvectors and eigenvalues\n",
    "        \"\"\"\n",
    "        # transform data\n",
    "        self.landmarks = data.copy()\n",
    "        X = self.transform(data,1)\n",
    "        # save means for later\n",
    "        self.means = X.mean(axis=0)\n",
    "        # move data to origin\n",
    "        A = X-self.means\n",
    "        # get covariance matrix\n",
    "        cov = np.cov(A)\n",
    "        self.values, self.vectors = np.linalg.eig(cov)\n",
    "\n",
    "    def reduce_dimensionality(self,data,k):\n",
    "        \"\"\"\n",
    "        Transform given data, reducing it to k dimensions,\n",
    "        using eigenvectors previously computed\n",
    "        \"\"\"\n",
    "        # transform data\n",
    "        X = self.transform(data,1)\n",
    "        # move data to origin\n",
    "        A = X-self.means\n",
    "        W = self.vectors[:k]\n",
    "        self.k=k\n",
    "        return np.matmul(W,A.T).T\n",
    "    \n",
    "    def transform(self,X,gamma):\n",
    "        n = len(X)\n",
    "        matrix = np.zeros((n,len(self.landmarks)))\n",
    "        for i in range(n):\n",
    "            for j in range(len(self.landmarks)):\n",
    "                matrix[i][j] = math.exp(-gamma*((X[i]-self.landmarks[j])**2).sum())\n",
    "        return matrix"
   ]
  },
  {
   "cell_type": "markdown",
   "metadata": {},
   "source": [
    "### Data"
   ]
  },
  {
   "cell_type": "code",
   "execution_count": 3,
   "metadata": {},
   "outputs": [],
   "source": [
    "size = 100\n",
    "x=np.random.normal(0,1,size)\n",
    "y=x/5+np.random.normal(0,1,size)\n",
    "z=x/10+y/5+np.random.normal(0,1,size)\n",
    "w=x/20+y/10+z/5+np.random.normal(0,1,size)\n",
    "\n",
    "M = np.concatenate((x,y,z,w)).reshape(4,size).T"
   ]
  },
  {
   "cell_type": "markdown",
   "metadata": {},
   "source": [
    "### Regular PCA"
   ]
  },
  {
   "cell_type": "code",
   "execution_count": 4,
   "metadata": {},
   "outputs": [],
   "source": [
    "p = pca.PCA()"
   ]
  },
  {
   "cell_type": "code",
   "execution_count": 5,
   "metadata": {},
   "outputs": [],
   "source": [
    "p.fit(M)"
   ]
  },
  {
   "cell_type": "code",
   "execution_count": 6,
   "metadata": {},
   "outputs": [],
   "source": [
    "nokernel = p.reduce_dimensionality(M,2)"
   ]
  },
  {
   "cell_type": "markdown",
   "metadata": {},
   "source": [
    "### Kernel PCA"
   ]
  },
  {
   "cell_type": "code",
   "execution_count": 7,
   "metadata": {},
   "outputs": [],
   "source": [
    "kp = KernelPCA()\n",
    "kp.fit(M)\n",
    "wkernel = kp.reduce_dimensionality(M,2)"
   ]
  },
  {
   "cell_type": "markdown",
   "metadata": {},
   "source": [
    "### Reduced dimensions graphs"
   ]
  },
  {
   "cell_type": "code",
   "execution_count": 8,
   "metadata": {},
   "outputs": [
    {
     "data": {
      "image/png": "[encoded data removed]",
      "text/plain": [
       "<Figure size 1152x288 with 2 Axes>"
      ]
     },
     "metadata": {
      "needs_background": "light"
     },
     "output_type": "display_data"
    }
   ],
   "source": [
    "fig, axes = plt.subplots(ncols=2,figsize=(16,4))\n",
    "\n",
    "axes[0].scatter(nokernel[:,0],nokernel[:,1],)\n",
    "axes[0].set_title('PCA without kernel')\n",
    "axes[0].set_xlabel('PC1')\n",
    "axes[0].set_ylabel('PC2')\n",
    "\n",
    "axes[1].scatter(wkernel[:,0],wkernel[:,1])\n",
    "axes[1].set_title('Kernel PCA (rbf)')\n",
    "axes[1].set_xlabel('PC1')\n",
    "axes[1].set_ylabel('PC2')\n",
    "\n",
    "\n",
    "plt.show()"
   ]
  },
  {
   "cell_type": "markdown",
   "metadata": {},
   "source": [
    "**Note: I currently don't have metrics to check and visualize the performance of this kernel PCA analysis**"
   ]
  }
 ],
 "metadata": {
  "kernelspec": {
   "display_name": "Python 3",
   "language": "python",
   "name": "python3"
  },
  "language_info": {
   "codemirror_mode": {
    "name": "ipython",
    "version": 3
   },
   "file_extension": ".py",
   "mimetype": "text/x-python",
   "name": "python",
   "nbconvert_exporter": "python",
   "pygments_lexer": "ipython3",
   "version": "3.6.7"
  }
 },
 "nbformat": 4,
 "nbformat_minor": 2
}
