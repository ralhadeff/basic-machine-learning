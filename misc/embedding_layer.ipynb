{
 "cells": [
  {
   "cell_type": "markdown",
   "metadata": {},
   "source": [
    "# Embedding layer"
   ]
  },
  {
   "cell_type": "code",
   "execution_count": 1,
   "metadata": {},
   "outputs": [],
   "source": [
    "import numpy as np"
   ]
  },
  {
   "cell_type": "markdown",
   "metadata": {},
   "source": [
    "### Data"
   ]
  },
  {
   "cell_type": "code",
   "execution_count": 44,
   "metadata": {},
   "outputs": [],
   "source": [
    "'''Made up ratings of somewhat rigid watchers'''\n",
    "\n",
    "# number of watchers\n",
    "n_p = 1000\n",
    "# number of unique movies\n",
    "movies = 80\n",
    "# types of people (in terms of what types of movies they like)\n",
    "types = 10\n",
    "\n",
    "# which types does each person belong to\n",
    "people = np.random.randint(types,size=n_p)\n",
    "\n",
    "def get_like(i):\n",
    "    '''generate a probably to like movies array and then randomly select whether a specific watcher\n",
    "        liked them or not'''\n",
    "    # type of ith person\n",
    "    t = people[i]\n",
    "    draws = np.random.random(movies)\n",
    "    # probability array. Each type likes on average 50% of the movies (with fixed criteria)\n",
    "    # and doesn't like the others, with fairly high probabilities\n",
    "    like = np.array([0.95 if abs(m%types-t)<3 else 0.05 for m in range(movies)])\n",
    "    return (like > draws).astype(int)\n",
    "\n",
    "ratings = np.zeros((len(people),movies))\n",
    "\n",
    "# populate the ratings array\n",
    "# for simplicity, all people have seen all movies\n",
    "for i in range(len(ratings)):\n",
    "    ratings[i] = get_like(i)\n",
    "\n",
    "# add other features\n",
    "age = np.maximum(np.random.normal(20+people*5,scale=10).astype(int),15)\n",
    "age = (age-age.mean())/age.std()\n",
    "education = np.zeros(len(ratings),dtype=int)\n",
    "for i in range(len(ratings)):\n",
    "    education[i] = np.random.randint(people[i]%2,people[i]%5+people[i]%2+1)\n",
    "\n",
    "# data\n",
    "X = np.hstack((age[:,None],education[:,None],ratings))"
   ]
  },
  {
   "cell_type": "markdown",
   "metadata": {},
   "source": [
    "### Model"
   ]
  },
  {
   "cell_type": "code",
   "execution_count": 54,
   "metadata": {},
   "outputs": [],
   "source": [
    "from keras.models import Model\n",
    "from keras.layers import Input, Dense, concatenate"
   ]
  },
  {
   "cell_type": "code",
   "execution_count": 65,
   "metadata": {},
   "outputs": [
    {
     "name": "stdout",
     "output_type": "stream",
     "text": [
      "__________________________________________________________________________________________________\n",
      "Layer (type)                    Output Shape         Param #     Connected to                     \n",
      "==================================================================================================\n",
      "input_21 (InputLayer)           (None, 80)           0                                            \n",
      "__________________________________________________________________________________________________\n",
      "input_22 (InputLayer)           (None, 2)            0                                            \n",
      "__________________________________________________________________________________________________\n",
      "dense_28 (Dense)                (None, 5)            400         input_21[0][0]                   \n",
      "__________________________________________________________________________________________________\n",
      "concatenate_12 (Concatenate)    (None, 7)            0           input_22[0][0]                   \n",
      "                                                                 dense_28[0][0]                   \n",
      "__________________________________________________________________________________________________\n",
      "dense_29 (Dense)                (None, 32)           256         concatenate_12[0][0]             \n",
      "__________________________________________________________________________________________________\n",
      "dense_30 (Dense)                (None, 80)           2640        dense_29[0][0]                   \n",
      "==================================================================================================\n",
      "Total params: 3,296\n",
      "Trainable params: 3,296\n",
      "Non-trainable params: 0\n",
      "__________________________________________________________________________________________________\n"
     ]
    }
   ],
   "source": [
    "# size of word vector\n",
    "embed = 4\n",
    "\n",
    "embed_input = Input(shape=(movies,))\n",
    "embed_layer = Dense(units=5,use_bias=False)(embed_input)\n",
    "other_input = Input(shape=(2,))\n",
    "merge = concatenate([other_input,embed_layer])\n",
    "\n",
    "dense = Dense(32,activation='relu')(merge)\n",
    "output = Dense(movies,activation='sigmoid')(dense)\n",
    "\n",
    "model = Model(inputs=[embed_input,other_input],outputs=output)\n",
    "model.compile(optimizer='adam', loss='binary_crossentropy')\n",
    "model.summary()"
   ]
  },
  {
   "cell_type": "markdown",
   "metadata": {},
   "source": [
    "### Training"
   ]
  },
  {
   "cell_type": "code",
   "execution_count": 67,
   "metadata": {},
   "outputs": [
    {
     "name": "stdout",
     "output_type": "stream",
     "text": [
      "Epoch 1/10\n",
      "1000/1000 [==============================] - 0s 71us/step - loss: 0.5757\n",
      "Epoch 2/10\n",
      "1000/1000 [==============================] - 0s 71us/step - loss: 0.4250\n",
      "Epoch 3/10\n",
      "1000/1000 [==============================] - 0s 71us/step - loss: 0.3149\n",
      "Epoch 4/10\n",
      "1000/1000 [==============================] - 0s 68us/step - loss: 0.2645\n",
      "Epoch 5/10\n",
      "1000/1000 [==============================] - 0s 70us/step - loss: 0.2490\n",
      "Epoch 6/10\n",
      "1000/1000 [==============================] - 0s 73us/step - loss: 0.2428\n",
      "Epoch 7/10\n",
      "1000/1000 [==============================] - 0s 76us/step - loss: 0.2391\n",
      "Epoch 8/10\n",
      "1000/1000 [==============================] - 0s 72us/step - loss: 0.2361\n",
      "Epoch 9/10\n",
      "1000/1000 [==============================] - 0s 71us/step - loss: 0.2336\n",
      "Epoch 10/10\n",
      "1000/1000 [==============================] - 0s 71us/step - loss: 0.2313\n"
     ]
    },
    {
     "data": {
      "text/plain": [
       "<keras.callbacks.History at 0x7fd6bcc85f28>"
      ]
     },
     "execution_count": 67,
     "metadata": {},
     "output_type": "execute_result"
    }
   ],
   "source": [
    "model.fit(x=[X[:,2:],X[:,:2]],y=X[:,2:],epochs=10)"
   ]
  },
  {
   "cell_type": "markdown",
   "metadata": {},
   "source": [
    "### Embedding layer"
   ]
  },
  {
   "cell_type": "markdown",
   "metadata": {},
   "source": [
    "Each row is the vector representation of the ith movie"
   ]
  },
  {
   "cell_type": "code",
   "execution_count": 76,
   "metadata": {},
   "outputs": [
    {
     "data": {
      "text/plain": [
       "array([[-0.12, -0.01, -0.11, -0.02, -0.25],\n",
       "       [ 0.13, -0.02,  0.13,  0.24, -0.2 ],\n",
       "       [-0.31, -0.13,  0.2 ,  0.18,  0.  ],\n",
       "       [-0.24, -0.38,  0.06, -0.36,  0.14],\n",
       "       [ 0.06,  0.06,  0.21, -0.2 ,  0.31],\n",
       "       [ 0.34,  0.11,  0.03, -0.07,  0.18],\n",
       "       [ 0.15,  0.25,  0.39, -0.03, -0.18],\n",
       "       [ 0.23,  0.37,  0.09, -0.12, -0.13],\n",
       "       [ 0.11,  0.39,  0.18,  0.03,  0.03],\n",
       "       [ 0.11,  0.21, -0.11, -0.28, -0.31],\n",
       "       [-0.33,  0.08, -0.12,  0.  , -0.  ],\n",
       "       [-0.09, -0.21,  0.08,  0.  , -0.3 ],\n",
       "       [-0.15, -0.19,  0.29,  0.09,  0.11],\n",
       "       [-0.21, -0.1 ,  0.03, -0.21, -0.06],\n",
       "       [-0.11,  0.11,  0.08,  0.03,  0.32],\n",
       "       [ 0.28, -0.13,  0.37, -0.07,  0.23],\n",
       "       [ 0.1 ,  0.3 ,  0.24, -0.31, -0.18],\n",
       "       [ 0.01,  0.25, -0.09, -0.01, -0.02],\n",
       "       [ 0.04, -0.09, -0.19,  0.17, -0.24],\n",
       "       [-0.27,  0.33,  0.07, -0.25, -0.39],\n",
       "       [-0.1 , -0.08,  0.24,  0.39, -0.12],\n",
       "       [-0.26, -0.2 ,  0.1 ,  0.07, -0.34],\n",
       "       [ 0.1 , -0.13, -0.08, -0.01,  0.06],\n",
       "       [-0.36, -0.13, -0.02, -0.43,  0.18],\n",
       "       [-0.2 ,  0.12, -0.01,  0.08,  0.36],\n",
       "       [ 0.19, -0.15,  0.04, -0.31,  0.01],\n",
       "       [ 0.  , -0.05,  0.31,  0.02, -0.08],\n",
       "       [ 0.13, -0.01, -0.08, -0.13,  0.01],\n",
       "       [-0.12, -0.06,  0.03, -0.04, -0.32],\n",
       "       [ 0.01,  0.25, -0.19,  0.  , -0.22],\n",
       "       [-0.25,  0.06,  0.05,  0.08, -0.36],\n",
       "       [ 0.03, -0.16,  0.2 , -0.03, -0.11],\n",
       "       [-0.22, -0.34,  0.03, -0.01,  0.13],\n",
       "       [-0.07, -0.19,  0.14, -0.18,  0.01],\n",
       "       [-0.12,  0.15,  0.45, -0.27,  0.01],\n",
       "       [ 0.05, -0.14,  0.33, -0.06,  0.22],\n",
       "       [ 0.17,  0.04,  0.15, -0.17,  0.22],\n",
       "       [-0.12,  0.12,  0.09, -0.4 , -0.18],\n",
       "       [-0.1 , -0.02,  0.14,  0.05, -0.31],\n",
       "       [ 0.17, -0.06, -0.29,  0.  ,  0.03],\n",
       "       [ 0.1 , -0.02,  0.07,  0.26, -0.31],\n",
       "       [ 0.05, -0.09, -0.03,  0.22, -0.3 ],\n",
       "       [-0.31,  0.1 , -0.06,  0.28,  0.08],\n",
       "       [ 0.05,  0.09, -0.09, -0.24,  0.36],\n",
       "       [-0.12, -0.31,  0.3 , -0.26,  0.42],\n",
       "       [ 0.31, -0.29,  0.23, -0.32,  0.34],\n",
       "       [ 0.29,  0.18,  0.02, -0.32, -0.01],\n",
       "       [ 0.24,  0.19, -0.09, -0.19, -0.13],\n",
       "       [ 0.28,  0.36, -0.2 ,  0.11, -0.04],\n",
       "       [-0.15, -0.03, -0.05, -0.36, -0.13],\n",
       "       [-0.3 , -0.28,  0.22,  0.34, -0.19],\n",
       "       [-0.25, -0.31, -0.08,  0.3 , -0.08],\n",
       "       [-0.31, -0.27,  0.1 ,  0.23, -0.2 ],\n",
       "       [ 0.05, -0.2 ,  0.24, -0.05,  0.11],\n",
       "       [-0.01,  0.11,  0.35, -0.22,  0.09],\n",
       "       [-0.14,  0.1 ,  0.17,  0.1 ,  0.35],\n",
       "       [ 0.33,  0.1 ,  0.34, -0.29,  0.02],\n",
       "       [ 0.05,  0.29,  0.11,  0.08, -0.37],\n",
       "       [ 0.26,  0.22, -0.01, -0.27, -0.17],\n",
       "       [-0.24,  0.14, -0.29, -0.33, -0.32],\n",
       "       [ 0.01, -0.24,  0.05, -0.07, -0.12],\n",
       "       [ 0.16, -0.18,  0.08,  0.28, -0.04],\n",
       "       [-0.31,  0.05,  0.14,  0.21,  0.07],\n",
       "       [-0.22, -0.09,  0.06,  0.02, -0.05],\n",
       "       [ 0.18, -0.01,  0.11, -0.17,  0.14],\n",
       "       [ 0.03, -0.28,  0.17,  0.03, -0.05],\n",
       "       [ 0.26,  0.3 ,  0.12, -0.22, -0.08],\n",
       "       [ 0.06,  0.38, -0.07, -0.37, -0.08],\n",
       "       [-0.01,  0.11, -0.1 ,  0.15, -0.25],\n",
       "       [ 0.03,  0.19, -0.15, -0.2 , -0.02],\n",
       "       [-0.14, -0.33, -0.13, -0.06, -0.34],\n",
       "       [-0.35, -0.05, -0.03,  0.17, -0.18],\n",
       "       [-0.27, -0.1 ,  0.34,  0.3 , -0.18],\n",
       "       [-0.27, -0.38,  0.19, -0.18,  0.08],\n",
       "       [ 0.17, -0.03,  0.14, -0.33,  0.34],\n",
       "       [ 0.27, -0.25,  0.2 , -0.37, -0.07],\n",
       "       [ 0.2 , -0.15,  0.3 ,  0.06, -0.18],\n",
       "       [ 0.11, -0.07,  0.19,  0.04, -0.32],\n",
       "       [ 0.01,  0.08, -0.07, -0.28, -0.37],\n",
       "       [ 0.19, -0.13, -0.31, -0.07, -0.07]], dtype=float32)"
      ]
     },
     "execution_count": 76,
     "metadata": {},
     "output_type": "execute_result"
    }
   ],
   "source": [
    "np.round(model.layers[2].get_weights()[0],2)"
   ]
  }
 ],
 "metadata": {
  "kernelspec": {
   "display_name": "Python 3",
   "language": "python",
   "name": "python3"
  },
  "language_info": {
   "codemirror_mode": {
    "name": "ipython",
    "version": 3
   },
   "file_extension": ".py",
   "mimetype": "text/x-python",
   "name": "python",
   "nbconvert_exporter": "python",
   "pygments_lexer": "ipython3",
   "version": "3.6.8"
  }
 },
 "nbformat": 4,
 "nbformat_minor": 2
}
