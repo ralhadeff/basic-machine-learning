{
 "cells": [
  {
   "cell_type": "markdown",
   "metadata": {},
   "source": [
    "work in progress"
   ]
  },
  {
   "cell_type": "code",
   "execution_count": 1,
   "metadata": {},
   "outputs": [],
   "source": [
    "import numpy as np\n",
    "import matplotlib.pyplot as plt"
   ]
  },
  {
   "cell_type": "code",
   "execution_count": 2,
   "metadata": {},
   "outputs": [],
   "source": [
    "data = np.genfromtxt('fashion-mnist_train.csv',delimiter=',',skip_header=1)"
   ]
  },
  {
   "cell_type": "code",
   "execution_count": 3,
   "metadata": {},
   "outputs": [
    {
     "data": {
      "text/plain": [
       "(60000, 785)"
      ]
     },
     "execution_count": 3,
     "metadata": {},
     "output_type": "execute_result"
    }
   ],
   "source": [
    "data.shape"
   ]
  },
  {
   "cell_type": "code",
   "execution_count": 10,
   "metadata": {},
   "outputs": [
    {
     "data": {
      "text/plain": [
       "((60000, 28, 28, 1), (60000, 10))"
      ]
     },
     "execution_count": 10,
     "metadata": {},
     "output_type": "execute_result"
    }
   ],
   "source": [
    "X = data[:,1:].reshape(-1,28,28,1)\n",
    "\n",
    "y = np.zeros(shape=(len(data),10),dtype=int)\n",
    "y[np.arange(len(data)),data[:,0].astype(int)] = 1\n",
    "\n",
    "X.shape,y.shape"
   ]
  },
  {
   "cell_type": "code",
   "execution_count": 12,
   "metadata": {},
   "outputs": [
    {
     "data": {
      "image/png": "[encoded data removed]",
      "text/plain": [
       "<Figure size 432x288 with 1 Axes>"
      ]
     },
     "metadata": {
      "needs_background": "light"
     },
     "output_type": "display_data"
    }
   ],
   "source": [
    "i = np.random.randint(len(X))\n",
    "\n",
    "plt.imshow(X[i].reshape((28,28)),cmap='gray')\n",
    "plt.show()"
   ]
  },
  {
   "cell_type": "code",
   "execution_count": 13,
   "metadata": {},
   "outputs": [],
   "source": [
    "from keras.models import Model\n",
    "from keras.layers import Input, Dense, Convolution2D, Flatten, MaxPooling2D, Dropout"
   ]
  },
  {
   "cell_type": "code",
   "execution_count": 14,
   "metadata": {},
   "outputs": [],
   "source": [
    "input_layer = Input(shape=(28,28,1))\n",
    "conv1 = Convolution2D(16, kernel_size=3,activation='relu')(input_layer)\n",
    "conv2 = Convolution2D(32, kernel_size=3,activation='relu')(conv1)\n",
    "pool = MaxPooling2D()(conv2)\n",
    "hidden = Dense(128,activation='relu')(Flatten()(pool))\n",
    "drop = Dropout(rate=0.5)(hidden)\n",
    "output = Dense(10, activation='softmax')(drop)\n",
    "\n",
    "model = Model(inputs=input_layer, outputs=output)\n",
    "model.compile(optimizer='adam', loss='binary_crossentropy',\n",
    "              metrics=['accuracy'])"
   ]
  },
  {
   "cell_type": "code",
   "execution_count": 15,
   "metadata": {},
   "outputs": [
    {
     "name": "stdout",
     "output_type": "stream",
     "text": [
      "Train on 48000 samples, validate on 12000 samples\n",
      "Epoch 1/10\n",
      "48000/48000 [==============================] - 81s 2ms/step - loss: 0.3305 - acc: 0.9487 - val_loss: 0.0707 - val_acc: 0.9704\n",
      "Epoch 2/10\n",
      "48000/48000 [==============================] - 80s 2ms/step - loss: 0.0722 - acc: 0.9706 - val_loss: 0.0645 - val_acc: 0.9733\n",
      "Epoch 3/10\n",
      "48000/48000 [==============================] - 79s 2ms/step - loss: 0.0636 - acc: 0.9742 - val_loss: 0.0618 - val_acc: 0.9752\n",
      "Epoch 4/10\n",
      "48000/48000 [==============================] - 90s 2ms/step - loss: 0.0576 - acc: 0.9767 - val_loss: 0.0545 - val_acc: 0.9783\n",
      "Epoch 5/10\n",
      "48000/48000 [==============================] - 86s 2ms/step - loss: 0.0526 - acc: 0.9788 - val_loss: 0.0582 - val_acc: 0.9773\n",
      "Epoch 6/10\n",
      "48000/48000 [==============================] - 80s 2ms/step - loss: 0.0502 - acc: 0.9798 - val_loss: 0.0546 - val_acc: 0.9793\n",
      "Epoch 7/10\n",
      "48000/48000 [==============================] - 80s 2ms/step - loss: 0.0467 - acc: 0.9811 - val_loss: 0.0569 - val_acc: 0.9786\n",
      "Epoch 8/10\n",
      "48000/48000 [==============================] - 78s 2ms/step - loss: 0.0448 - acc: 0.9822 - val_loss: 0.0603 - val_acc: 0.9781\n",
      "Epoch 9/10\n",
      "48000/48000 [==============================] - 78s 2ms/step - loss: 0.0422 - acc: 0.9829 - val_loss: 0.0565 - val_acc: 0.9801\n",
      "Epoch 10/10\n",
      "48000/48000 [==============================] - 86s 2ms/step - loss: 0.0402 - acc: 0.9841 - val_loss: 0.0610 - val_acc: 0.9806\n"
     ]
    },
    {
     "data": {
      "text/plain": [
       "<keras.callbacks.History at 0x7fdd45c52080>"
      ]
     },
     "execution_count": 15,
     "metadata": {},
     "output_type": "execute_result"
    }
   ],
   "source": [
    "model.fit(X,y,epochs=10,validation_split=0.2)"
   ]
  },
  {
   "cell_type": "code",
   "execution_count": null,
   "metadata": {},
   "outputs": [],
   "source": []
  }
 ],
 "metadata": {
  "kernelspec": {
   "display_name": "Python 3",
   "language": "python",
   "name": "python3"
  },
  "language_info": {
   "codemirror_mode": {
    "name": "ipython",
    "version": 3
   },
   "file_extension": ".py",
   "mimetype": "text/x-python",
   "name": "python",
   "nbconvert_exporter": "python",
   "pygments_lexer": "ipython3",
   "version": "3.6.7"
  }
 },
 "nbformat": 4,
 "nbformat_minor": 2
}
