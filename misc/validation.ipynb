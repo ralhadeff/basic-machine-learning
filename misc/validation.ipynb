{
 "cells": [
  {
   "cell_type": "markdown",
   "metadata": {},
   "source": [
    "## Keras validation\n",
    "\n",
    "### Fashion MNIST"
   ]
  },
  {
   "cell_type": "code",
   "execution_count": 1,
   "metadata": {},
   "outputs": [],
   "source": [
    "import numpy as np\n",
    "import matplotlib.pyplot as plt"
   ]
  },
  {
   "cell_type": "code",
   "execution_count": 2,
   "metadata": {},
   "outputs": [],
   "source": [
    "data = np.genfromtxt('fashion-mnist_train.csv',delimiter=',',skip_header=1)"
   ]
  },
  {
   "cell_type": "code",
   "execution_count": 3,
   "metadata": {},
   "outputs": [
    {
     "data": {
      "text/plain": [
       "(60000, 785)"
      ]
     },
     "execution_count": 3,
     "metadata": {},
     "output_type": "execute_result"
    }
   ],
   "source": [
    "data.shape"
   ]
  },
  {
   "cell_type": "code",
   "execution_count": 4,
   "metadata": {},
   "outputs": [
    {
     "data": {
      "text/plain": [
       "((60000, 28, 28, 1), (60000, 10))"
      ]
     },
     "execution_count": 4,
     "metadata": {},
     "output_type": "execute_result"
    }
   ],
   "source": [
    "X = data[:,1:].reshape(-1,28,28,1)\n",
    "\n",
    "y = np.zeros(shape=(len(data),10),dtype=int)\n",
    "y[np.arange(len(data)),data[:,0].astype(int)] = 1\n",
    "\n",
    "X.shape,y.shape"
   ]
  },
  {
   "cell_type": "code",
   "execution_count": 5,
   "metadata": {},
   "outputs": [
    {
     "data": {
      "image/png": "[encoded data removed]",
      "text/plain": [
       "<Figure size 432x288 with 1 Axes>"
      ]
     },
     "metadata": {
      "needs_background": "light"
     },
     "output_type": "display_data"
    }
   ],
   "source": [
    "i = np.random.randint(len(X))\n",
    "\n",
    "plt.imshow(X[i].reshape((28,28)),cmap='gray')\n",
    "plt.show()"
   ]
  },
  {
   "cell_type": "code",
   "execution_count": 6,
   "metadata": {},
   "outputs": [
    {
     "name": "stderr",
     "output_type": "stream",
     "text": [
      "Using TensorFlow backend.\n"
     ]
    }
   ],
   "source": [
    "from keras.models import Model\n",
    "from keras.layers import Input, Dense, Convolution2D, Flatten, MaxPooling2D, Dropout"
   ]
  },
  {
   "cell_type": "markdown",
   "metadata": {},
   "source": [
    "### Option 1"
   ]
  },
  {
   "cell_type": "code",
   "execution_count": 7,
   "metadata": {},
   "outputs": [],
   "source": [
    "input_layer = Input(shape=(28,28,1))\n",
    "conv1 = Convolution2D(16, kernel_size=3,activation='relu')(input_layer)\n",
    "conv2 = Convolution2D(32, kernel_size=3,activation='relu')(conv1)\n",
    "pool = MaxPooling2D()(conv2)\n",
    "hidden = Dense(128,activation='relu')(Flatten()(pool))\n",
    "drop = Dropout(rate=0.5)(hidden)\n",
    "output = Dense(10, activation='softmax')(drop)\n",
    "\n",
    "model = Model(inputs=input_layer, outputs=output)\n",
    "model.compile(optimizer='adam', loss='binary_crossentropy',\n",
    "              metrics=['accuracy'])"
   ]
  },
  {
   "cell_type": "code",
   "execution_count": 8,
   "metadata": {},
   "outputs": [
    {
     "name": "stdout",
     "output_type": "stream",
     "text": [
      "Train on 48000 samples, validate on 12000 samples\n",
      "Epoch 1/5\n",
      "48000/48000 [==============================] - 98s 2ms/step - loss: 0.3230 - acc: 0.9491 - val_loss: 0.0699 - val_acc: 0.9712\n",
      "Epoch 2/5\n",
      "48000/48000 [==============================] - 92s 2ms/step - loss: 0.0735 - acc: 0.9706 - val_loss: 0.0617 - val_acc: 0.9749\n",
      "Epoch 3/5\n",
      "48000/48000 [==============================] - 94s 2ms/step - loss: 0.0656 - acc: 0.9737 - val_loss: 0.0595 - val_acc: 0.9761\n",
      "Epoch 4/5\n",
      "48000/48000 [==============================] - 94s 2ms/step - loss: 0.0604 - acc: 0.9755 - val_loss: 0.0590 - val_acc: 0.9760\n",
      "Epoch 5/5\n",
      "48000/48000 [==============================] - 91s 2ms/step - loss: 0.0564 - acc: 0.9774 - val_loss: 0.0570 - val_acc: 0.9779\n"
     ]
    },
    {
     "data": {
      "text/plain": [
       "<keras.callbacks.History at 0x7f86d139eb00>"
      ]
     },
     "execution_count": 8,
     "metadata": {},
     "output_type": "execute_result"
    }
   ],
   "source": [
    "model.fit(X,y,epochs=5,validation_split=0.2)"
   ]
  },
  {
   "cell_type": "markdown",
   "metadata": {},
   "source": [
    "### Option 2"
   ]
  },
  {
   "cell_type": "code",
   "execution_count": 9,
   "metadata": {},
   "outputs": [],
   "source": [
    "# the actual split can be done with any tool\n",
    "mask = np.zeros(shape=len(X),dtype=bool)\n",
    "mask[np.random.choice(np.arange(len(X)),size=int(0.8*len(X)),replace=False)] = 1\n",
    "X_train = X[mask]\n",
    "X_val = X[~mask]\n",
    "y_train = y[mask]\n",
    "y_val = y[~mask]"
   ]
  },
  {
   "cell_type": "code",
   "execution_count": 12,
   "metadata": {},
   "outputs": [],
   "source": [
    "# rest model weights\n",
    "input_layer = Input(shape=(28,28,1))\n",
    "conv1 = Convolution2D(16, kernel_size=3,activation='relu')(input_layer)\n",
    "conv2 = Convolution2D(32, kernel_size=3,activation='relu')(conv1)\n",
    "pool = MaxPooling2D()(conv2)\n",
    "hidden = Dense(128,activation='relu')(Flatten()(pool))\n",
    "drop = Dropout(rate=0.5)(hidden)\n",
    "output = Dense(10, activation='softmax')(drop)\n",
    "\n",
    "model = Model(inputs=input_layer, outputs=output)\n",
    "model.compile(optimizer='adam', loss='binary_crossentropy',\n",
    "              metrics=['accuracy'])"
   ]
  },
  {
   "cell_type": "code",
   "execution_count": 13,
   "metadata": {},
   "outputs": [
    {
     "name": "stdout",
     "output_type": "stream",
     "text": [
      "Train on 48000 samples, validate on 12000 samples\n",
      "Epoch 1/5\n",
      "48000/48000 [==============================] - 81s 2ms/step - loss: 0.4776 - acc: 0.9400 - val_loss: 0.0720 - val_acc: 0.9710\n",
      "Epoch 2/5\n",
      "48000/48000 [==============================] - 77s 2ms/step - loss: 0.0750 - acc: 0.9696 - val_loss: 0.0650 - val_acc: 0.9738\n",
      "Epoch 3/5\n",
      "48000/48000 [==============================] - 77s 2ms/step - loss: 0.0654 - acc: 0.9737 - val_loss: 0.0598 - val_acc: 0.9766\n",
      "Epoch 4/5\n",
      "48000/48000 [==============================] - 78s 2ms/step - loss: 0.0586 - acc: 0.9765 - val_loss: 0.0578 - val_acc: 0.9775\n",
      "Epoch 5/5\n",
      "48000/48000 [==============================] - 77s 2ms/step - loss: 0.0550 - acc: 0.9782 - val_loss: 0.0542 - val_acc: 0.9785\n"
     ]
    },
    {
     "data": {
      "text/plain": [
       "<keras.callbacks.History at 0x7f86a2dccc18>"
      ]
     },
     "execution_count": 13,
     "metadata": {},
     "output_type": "execute_result"
    }
   ],
   "source": [
    "model.fit(X_train,y_train,epochs=5,validation_data=(X_val,y_val))"
   ]
  },
  {
   "cell_type": "code",
   "execution_count": null,
   "metadata": {},
   "outputs": [],
   "source": []
  }
 ],
 "metadata": {
  "kernelspec": {
   "display_name": "Python 3",
   "language": "python",
   "name": "python3"
  },
  "language_info": {
   "codemirror_mode": {
    "name": "ipython",
    "version": 3
   },
   "file_extension": ".py",
   "mimetype": "text/x-python",
   "name": "python",
   "nbconvert_exporter": "python",
   "pygments_lexer": "ipython3",
   "version": "3.6.7"
  }
 },
 "nbformat": 4,
 "nbformat_minor": 2
}
