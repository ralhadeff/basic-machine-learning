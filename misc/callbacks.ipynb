{
 "cells": [
  {
   "cell_type": "markdown",
   "metadata": {},
   "source": [
    "## Keras - early stopping\n",
    "\n",
    "### Fashion MNIST"
   ]
  },
  {
   "cell_type": "code",
   "execution_count": 1,
   "metadata": {},
   "outputs": [],
   "source": [
    "import numpy as np\n",
    "import matplotlib.pyplot as plt"
   ]
  },
  {
   "cell_type": "code",
   "execution_count": 2,
   "metadata": {},
   "outputs": [],
   "source": [
    "data = np.genfromtxt('fashion-mnist_train.csv',delimiter=',',skip_header=1)"
   ]
  },
  {
   "cell_type": "code",
   "execution_count": 3,
   "metadata": {},
   "outputs": [
    {
     "data": {
      "text/plain": [
       "((60000, 28, 28, 1), (60000, 10))"
      ]
     },
     "execution_count": 3,
     "metadata": {},
     "output_type": "execute_result"
    }
   ],
   "source": [
    "X = data[:,1:].reshape(-1,28,28,1)\n",
    "\n",
    "y = np.zeros(shape=(len(data),10),dtype=int)\n",
    "y[np.arange(len(data)),data[:,0].astype(int)] = 1\n",
    "\n",
    "X.shape,y.shape"
   ]
  },
  {
   "cell_type": "code",
   "execution_count": 4,
   "metadata": {},
   "outputs": [],
   "source": [
    "from keras.models import Model\n",
    "from keras.layers import Input, Dense, Convolution2D, Flatten, MaxPooling2D, Dropout\n",
    "from keras.callbacks import EarlyStopping, ModelCheckpoint"
   ]
  },
  {
   "cell_type": "code",
   "execution_count": 5,
   "metadata": {},
   "outputs": [],
   "source": [
    "input_layer = Input(shape=(28,28,1))\n",
    "conv1 = Convolution2D(16, kernel_size=3,activation='relu')(input_layer)\n",
    "conv2 = Convolution2D(32, kernel_size=3,activation='relu')(conv1)\n",
    "pool = MaxPooling2D()(conv2)\n",
    "hidden = Dense(128,activation='relu')(Flatten()(pool))\n",
    "drop = Dropout(rate=0.5)(hidden)\n",
    "output = Dense(10, activation='softmax')(drop)\n",
    "\n",
    "model = Model(inputs=input_layer, outputs=output)\n",
    "model.compile(optimizer='adam', loss='binary_crossentropy',\n",
    "              metrics=['accuracy'])"
   ]
  },
  {
   "cell_type": "markdown",
   "metadata": {},
   "source": [
    "### Early stopping"
   ]
  },
  {
   "cell_type": "code",
   "execution_count": 6,
   "metadata": {},
   "outputs": [
    {
     "name": "stdout",
     "output_type": "stream",
     "text": [
      "Train on 48000 samples, validate on 12000 samples\n",
      "Epoch 1/100\n",
      "48000/48000 [==============================] - 60s 1ms/step - loss: 0.1838 - acc: 0.9587 - val_loss: 0.0713 - val_acc: 0.9718\n",
      "Epoch 2/100\n",
      "48000/48000 [==============================] - 55s 1ms/step - loss: 0.0659 - acc: 0.9735 - val_loss: 0.0567 - val_acc: 0.9771\n",
      "Epoch 3/100\n",
      "48000/48000 [==============================] - 54s 1ms/step - loss: 0.0576 - acc: 0.9772 - val_loss: 0.0521 - val_acc: 0.9796\n",
      "Epoch 4/100\n",
      "48000/48000 [==============================] - 55s 1ms/step - loss: 0.0524 - acc: 0.9790 - val_loss: 0.0510 - val_acc: 0.9802\n",
      "Epoch 5/100\n",
      "48000/48000 [==============================] - 60s 1ms/step - loss: 0.0491 - acc: 0.9806 - val_loss: 0.0539 - val_acc: 0.9798\n"
     ]
    }
   ],
   "source": [
    "history = model.fit(X,y,epochs=100,validation_split=0.2, callbacks=[EarlyStopping(monitor='val_loss')])"
   ]
  },
  {
   "cell_type": "code",
   "execution_count": 11,
   "metadata": {},
   "outputs": [
    {
     "data": {
      "text/plain": [
       "[<matplotlib.lines.Line2D at 0x7f35563ecba8>]"
      ]
     },
     "execution_count": 11,
     "metadata": {},
     "output_type": "execute_result"
    },
    {
     "data": {
      "image/png": "[encoded data removed]",
      "text/plain": [
       "<Figure size 432x288 with 1 Axes>"
      ]
     },
     "metadata": {
      "needs_background": "light"
     },
     "output_type": "display_data"
    }
   ],
   "source": [
    "plt.plot(history.history['acc'])"
   ]
  },
  {
   "cell_type": "markdown",
   "metadata": {},
   "source": [
    "### Save best model (checkpoint)"
   ]
  },
  {
   "cell_type": "code",
   "execution_count": 12,
   "metadata": {},
   "outputs": [],
   "source": [
    "# reset model\n",
    "input_layer = Input(shape=(28,28,1))\n",
    "conv1 = Convolution2D(16, kernel_size=3,activation='relu')(input_layer)\n",
    "conv2 = Convolution2D(32, kernel_size=3,activation='relu')(conv1)\n",
    "pool = MaxPooling2D()(conv2)\n",
    "hidden = Dense(128,activation='relu')(Flatten()(pool))\n",
    "drop = Dropout(rate=0.5)(hidden)\n",
    "output = Dense(10, activation='softmax')(drop)\n",
    "\n",
    "model = Model(inputs=input_layer, outputs=output)\n",
    "model.compile(optimizer='adam', loss='binary_crossentropy',\n",
    "              metrics=['accuracy'])"
   ]
  },
  {
   "cell_type": "code",
   "execution_count": 13,
   "metadata": {},
   "outputs": [
    {
     "name": "stdout",
     "output_type": "stream",
     "text": [
      "Train on 48000 samples, validate on 12000 samples\n",
      "Epoch 1/100\n",
      "48000/48000 [==============================] - 62s 1ms/step - loss: 0.2563 - acc: 0.9551 - val_loss: 0.0623 - val_acc: 0.9750\n",
      "\n",
      "Epoch 00001: val_loss improved from inf to 0.06233, saving model to best_model.h5\n",
      "Epoch 2/100\n",
      "48000/48000 [==============================] - 55s 1ms/step - loss: 0.0660 - acc: 0.9736 - val_loss: 0.0580 - val_acc: 0.9770\n",
      "\n",
      "Epoch 00002: val_loss improved from 0.06233 to 0.05795, saving model to best_model.h5\n",
      "Epoch 3/100\n",
      "48000/48000 [==============================] - 57s 1ms/step - loss: 0.0580 - acc: 0.9766 - val_loss: 0.0542 - val_acc: 0.9784\n",
      "\n",
      "Epoch 00003: val_loss improved from 0.05795 to 0.05419, saving model to best_model.h5\n",
      "Epoch 4/100\n",
      "48000/48000 [==============================] - 64s 1ms/step - loss: 0.0526 - acc: 0.9788 - val_loss: 0.0526 - val_acc: 0.9791\n",
      "\n",
      "Epoch 00004: val_loss improved from 0.05419 to 0.05265, saving model to best_model.h5\n",
      "Epoch 5/100\n",
      "48000/48000 [==============================] - 63s 1ms/step - loss: 0.0487 - acc: 0.9805 - val_loss: 0.0537 - val_acc: 0.9787\n",
      "\n",
      "Epoch 00005: val_loss did not improve from 0.05265\n",
      "Epoch 6/100\n",
      "48000/48000 [==============================] - 60s 1ms/step - loss: 0.0461 - acc: 0.9813 - val_loss: 0.0526 - val_acc: 0.9804\n",
      "\n",
      "Epoch 00006: val_loss improved from 0.05265 to 0.05256, saving model to best_model.h5\n",
      "Epoch 7/100\n",
      "48000/48000 [==============================] - 60s 1ms/step - loss: 0.0434 - acc: 0.9829 - val_loss: 0.0529 - val_acc: 0.9796\n",
      "\n",
      "Epoch 00007: val_loss did not improve from 0.05256\n",
      "Epoch 8/100\n",
      "48000/48000 [==============================] - 67s 1ms/step - loss: 0.0409 - acc: 0.9836 - val_loss: 0.0528 - val_acc: 0.9809\n",
      "\n",
      "Epoch 00008: val_loss did not improve from 0.05256\n",
      "Epoch 9/100\n",
      "48000/48000 [==============================] - 64s 1ms/step - loss: 0.0386 - acc: 0.9848 - val_loss: 0.0557 - val_acc: 0.9803\n",
      "\n",
      "Epoch 00009: val_loss did not improve from 0.05256\n",
      "Epoch 10/100\n",
      "48000/48000 [==============================] - 64s 1ms/step - loss: 0.0361 - acc: 0.9859 - val_loss: 0.0538 - val_acc: 0.9806\n",
      "\n",
      "Epoch 00010: val_loss did not improve from 0.05256\n",
      "Epoch 11/100\n",
      "48000/48000 [==============================] - 68s 1ms/step - loss: 0.0351 - acc: 0.9861 - val_loss: 0.0583 - val_acc: 0.9799\n",
      "\n",
      "Epoch 00011: val_loss did not improve from 0.05256\n"
     ]
    }
   ],
   "source": [
    "history = model.fit(X,y,epochs=100,validation_split=0.2, callbacks=[\n",
    "    EarlyStopping(monitor='val_loss',patience=5),\n",
    "    ModelCheckpoint('best_model.h5', monitor='val_loss', verbose=1, save_best_only=True)\n",
    "])"
   ]
  },
  {
   "cell_type": "code",
   "execution_count": null,
   "metadata": {},
   "outputs": [],
   "source": []
  }
 ],
 "metadata": {
  "kernelspec": {
   "display_name": "Python 3",
   "language": "python",
   "name": "python3"
  },
  "language_info": {
   "codemirror_mode": {
    "name": "ipython",
    "version": 3
   },
   "file_extension": ".py",
   "mimetype": "text/x-python",
   "name": "python",
   "nbconvert_exporter": "python",
   "pygments_lexer": "ipython3",
   "version": "3.6.7"
  }
 },
 "nbformat": 4,
 "nbformat_minor": 2
}
