{
 "cells": [
  {
   "cell_type": "markdown",
   "metadata": {},
   "source": [
    "# Semantic segmentation"
   ]
  },
  {
   "cell_type": "code",
   "execution_count": 1,
   "metadata": {},
   "outputs": [],
   "source": [
    "import matplotlib.pyplot as plt\n",
    "import matplotlib.image as mpimg\n",
    "\n",
    "import numpy as np\n",
    "from os import listdir\n",
    "import re\n",
    "\n",
    "from PIL import Image"
   ]
  },
  {
   "cell_type": "markdown",
   "metadata": {},
   "source": [
    "### Read in data"
   ]
  },
  {
   "cell_type": "code",
   "execution_count": 3,
   "metadata": {},
   "outputs": [
    {
     "data": {
      "text/plain": [
       "1000"
      ]
     },
     "execution_count": 3,
     "metadata": {},
     "output_type": "execute_result"
    }
   ],
   "source": [
    "# get all file names\n",
    "path = 'generator'\n",
    "files = [f for f in listdir(path) if f[-4:]=='.png']\n",
    "# load one to get the dimensions\n",
    "image = mpimg.imread(f'{path}/{files[0]}')\n",
    "# get dimensions\n",
    "shape = list(image.shape)\n",
    "# remove alpha if necessary\n",
    "if (shape[2]==4):\n",
    "    shape[2] = 3\n",
    "n = len(files)\n",
    "n"
   ]
  },
  {
   "cell_type": "markdown",
   "metadata": {},
   "source": [
    "Decipher label legend"
   ]
  },
  {
   "cell_type": "code",
   "execution_count": 25,
   "metadata": {},
   "outputs": [
    {
     "data": {
      "text/plain": [
       "array([17., 24., 17.])"
      ]
     },
     "execution_count": 25,
     "metadata": {},
     "output_type": "execute_result"
    }
   ],
   "source": [
    "a = re.search('^([0-9]*)_([0-9]*)_([0-9]*)',files[1])\n",
    "b = np.zeros(3)\n",
    "b[:] = a[1],a[2],a[3]\n",
    "b"
   ]
  },
  {
   "cell_type": "code",
   "execution_count": 26,
   "metadata": {},
   "outputs": [],
   "source": [
    "y = np.zeros(shape=(n,3),dtype=int)\n",
    "X = np.zeros(shape=(n,*shape))\n",
    "for i in range(len(files)):\n",
    "    # get the hour from the file name\n",
    "    yy = re.search('^([0-9]*)_([0-9]*)_([0-9]*)',files[i])\n",
    "    y[i,:] = yy[1],yy[2],yy[3]\n",
    "    X[i] = (mpimg.imread(f'{path}/{files[i]}')[:,:,:shape[2]] )"
   ]
  },
  {
   "cell_type": "code",
   "execution_count": 1,
   "metadata": {},
   "outputs": [],
   "source": [
    "# generate labeled image from legend\n",
    "def segment(x,y):\n",
    "    a,b,c = y\n",
    "    output = np.zeros(shape=x.shape[:2],dtype=int)\n",
    "    ii,jj = x.shape[:2]\n",
    "    for i in range(ii):\n",
    "        for j in range(jj):\n",
    "            if (i-a)**2+(j-b)**2<=(c)**2:\n",
    "                output[j,i] = 1  \n",
    "    return output"
   ]
  },
  {
   "cell_type": "code",
   "execution_count": 112,
   "metadata": {},
   "outputs": [
    {
     "data": {
      "image/png": "[encoded data removed]",
      "text/plain": [
       "<Figure size 1152x432 with 2 Axes>"
      ]
     },
     "metadata": {},
     "output_type": "display_data"
    }
   ],
   "source": [
    "# sample input and label\n",
    "fig, ax = plt.subplots(ncols=2,figsize=(16,6))\n",
    "i = np.random.randint(0,n)\n",
    "ax[0].imshow(X[i])\n",
    "ax[1].imshow(segment(X[i],y[i]),cmap='gray')\n",
    "plt.show()"
   ]
  },
  {
   "cell_type": "markdown",
   "metadata": {},
   "source": [
    "### Generate model"
   ]
  },
  {
   "cell_type": "code",
   "execution_count": 146,
   "metadata": {},
   "outputs": [],
   "source": [
    "from keras.models import Model\n",
    "from keras.layers import Input, Convolution2D, MaxPooling2D, Conv2DTranspose, Dense, Reshape"
   ]
  },
  {
   "cell_type": "code",
   "execution_count": 159,
   "metadata": {},
   "outputs": [
    {
     "name": "stdout",
     "output_type": "stream",
     "text": [
      "_________________________________________________________________\n",
      "Layer (type)                 Output Shape              Param #   \n",
      "=================================================================\n",
      "input_12 (InputLayer)        (None, 48, 48, 3)         0         \n",
      "_________________________________________________________________\n",
      "conv2d_30 (Conv2D)           (None, 48, 48, 16)        448       \n",
      "_________________________________________________________________\n",
      "max_pooling2d_30 (MaxPooling (None, 24, 24, 16)        0         \n",
      "_________________________________________________________________\n",
      "conv2d_31 (Conv2D)           (None, 24, 24, 32)        4640      \n",
      "_________________________________________________________________\n",
      "max_pooling2d_31 (MaxPooling (None, 12, 12, 32)        0         \n",
      "_________________________________________________________________\n",
      "conv2d_32 (Conv2D)           (None, 12, 12, 64)        18496     \n",
      "_________________________________________________________________\n",
      "max_pooling2d_32 (MaxPooling (None, 6, 6, 64)          0         \n",
      "_________________________________________________________________\n",
      "flatten_5 (Flatten)          (None, 2304)              0         \n",
      "_________________________________________________________________\n",
      "dense_5 (Dense)              (None, 2304)              5310720   \n",
      "_________________________________________________________________\n",
      "reshape_4 (Reshape)          (None, 6, 6, 64)          0         \n",
      "_________________________________________________________________\n",
      "conv2d_transpose_24 (Conv2DT (None, 12, 12, 32)        18464     \n",
      "_________________________________________________________________\n",
      "conv2d_transpose_25 (Conv2DT (None, 24, 24, 16)        4624      \n",
      "_________________________________________________________________\n",
      "conv2d_transpose_26 (Conv2DT (None, 48, 48, 1)         145       \n",
      "=================================================================\n",
      "Total params: 5,357,537\n",
      "Trainable params: 5,357,537\n",
      "Non-trainable params: 0\n",
      "_________________________________________________________________\n"
     ]
    }
   ],
   "source": [
    "input_layer = Input(shape=(X.shape[1:]))\n",
    "conv1 = Convolution2D(16, kernel_size=3, padding='same',activation='relu')(input_layer)\n",
    "pool1 = MaxPooling2D()(conv1)\n",
    "\n",
    "conv2 = Convolution2D(32, kernel_size=3, padding='same',activation='relu')(pool1)\n",
    "pool2 = MaxPooling2D()(conv2)\n",
    "\n",
    "conv3 = Convolution2D(64, kernel_size=3, padding='same',activation='relu')(pool2)\n",
    "pool3 = MaxPooling2D()(conv3)\n",
    "\n",
    "dense = Dense(6*6*64,activation='relu')(Flatten()(pool3))\n",
    "reshape = Reshape(target_shape=(6,6,64))(dense)\n",
    "\n",
    "\n",
    "convT1 = Conv2DTranspose(32, 3, strides=(2,2), padding='same',activation='relu')(reshape)\n",
    "\n",
    "convT2 = Conv2DTranspose(16, 3, strides=(2,2), padding='same',activation='relu')(convT1)\n",
    "\n",
    "convT3 = Conv2DTranspose(1, 3, strides=(2,2), padding='same',activation='sigmoid')(convT2)\n",
    "\n",
    "\n",
    "model = Model(inputs=input_layer, outputs=convT3)\n",
    "model.compile(optimizer='adam', loss='binary_crossentropy', metrics=['accuracy'])\n",
    "model.summary()"
   ]
  },
  {
   "cell_type": "code",
   "execution_count": 115,
   "metadata": {},
   "outputs": [],
   "source": [
    "y_true = np.zeros(shape=[*X.shape[:-1],1])\n",
    "for i in range(len(y_true)):\n",
    "    y_true[i] = segment(X[i],y[i]).reshape(y_true.shape[1:])"
   ]
  },
  {
   "cell_type": "code",
   "execution_count": 120,
   "metadata": {},
   "outputs": [
    {
     "data": {
      "image/png": "[encoded data removed]",
      "text/plain": [
       "<Figure size 1152x432 with 2 Axes>"
      ]
     },
     "metadata": {},
     "output_type": "display_data"
    }
   ],
   "source": [
    "fig, ax = plt.subplots(ncols=2,figsize=(16,6))\n",
    "i = np.random.randint(0,n)\n",
    "ax[0].imshow(X[i])\n",
    "ax[1].imshow(y_true[i].reshape(48,48),cmap='gray')\n",
    "plt.show()"
   ]
  },
  {
   "cell_type": "markdown",
   "metadata": {},
   "source": [
    "### Train model"
   ]
  },
  {
   "cell_type": "code",
   "execution_count": 160,
   "metadata": {},
   "outputs": [
    {
     "name": "stdout",
     "output_type": "stream",
     "text": [
      "Epoch 1/10\n",
      "1000/1000 [==============================] - 6s 6ms/step - loss: 0.5063 - acc: 0.7495\n",
      "Epoch 2/10\n",
      "1000/1000 [==============================] - 5s 5ms/step - loss: 0.3632 - acc: 0.8296\n",
      "Epoch 3/10\n",
      "1000/1000 [==============================] - 5s 5ms/step - loss: 0.3388 - acc: 0.8412\n",
      "Epoch 4/10\n",
      "1000/1000 [==============================] - 5s 5ms/step - loss: 0.1336 - acc: 0.9449\n",
      "Epoch 5/10\n",
      "1000/1000 [==============================] - 5s 5ms/step - loss: 0.0734 - acc: 0.9688\n",
      "Epoch 6/10\n",
      "1000/1000 [==============================] - 5s 5ms/step - loss: 0.0604 - acc: 0.9742\n",
      "Epoch 7/10\n",
      "1000/1000 [==============================] - 5s 5ms/step - loss: 0.0531 - acc: 0.9775\n",
      "Epoch 8/10\n",
      "1000/1000 [==============================] - 5s 5ms/step - loss: 0.0457 - acc: 0.9805\n",
      "Epoch 9/10\n",
      "1000/1000 [==============================] - 5s 5ms/step - loss: 0.0412 - acc: 0.9826\n",
      "Epoch 10/10\n",
      "1000/1000 [==============================] - 5s 5ms/step - loss: 0.0339 - acc: 0.9857\n"
     ]
    },
    {
     "data": {
      "text/plain": [
       "<keras.callbacks.History at 0x7f44744cb630>"
      ]
     },
     "execution_count": 160,
     "metadata": {},
     "output_type": "execute_result"
    }
   ],
   "source": [
    "model.fit(X,y_true,epochs=10)"
   ]
  },
  {
   "cell_type": "code",
   "execution_count": 161,
   "metadata": {},
   "outputs": [
    {
     "name": "stdout",
     "output_type": "stream",
     "text": [
      "1000/1000 [==============================] - 1s 1ms/step\n"
     ]
    },
    {
     "data": {
      "text/plain": [
       "[0.03481433433294296, 0.9843919258117676]"
      ]
     },
     "execution_count": 161,
     "metadata": {},
     "output_type": "execute_result"
    }
   ],
   "source": [
    "model.evaluate(X,y_true)"
   ]
  },
  {
   "cell_type": "markdown",
   "metadata": {},
   "source": [
    "### Read in test-set and evaluate"
   ]
  },
  {
   "cell_type": "code",
   "execution_count": 123,
   "metadata": {},
   "outputs": [],
   "source": [
    "path = 'test'\n",
    "files = [f for f in listdir(path) if f[-4:]=='.png']\n",
    "# load one to get the dimensions\n",
    "image = mpimg.imread(f'{path}/{files[0]}')\n",
    "# get dimensions\n",
    "shape = list(image.shape)\n",
    "# remove alpha if necessary\n",
    "if (shape[2]==4):\n",
    "    shape[2] = 3\n",
    "\n",
    "y_t = np.zeros(shape=(n,3),dtype=int)\n",
    "X_t = np.zeros(shape=(n,*shape))\n",
    "for i in range(len(files)):\n",
    "    # get the hour from the file name\n",
    "    yy = re.search('^([0-9]*)_([0-9]*)_([0-9]*)',files[i])\n",
    "    y_t[i,:] = yy[1],yy[2],yy[3]\n",
    "    X_t[i] = (mpimg.imread(f'{path}/{files[i]}')[:,:,:shape[2]] )\n",
    "\n",
    "y_test = np.zeros(shape=[*X_t.shape[:-1],1])\n",
    "for i in range(len(y_test)):\n",
    "    y_test[i] = segment(X_t[i],y_t[i]).reshape(y_test.shape[1:])"
   ]
  },
  {
   "cell_type": "code",
   "execution_count": 162,
   "metadata": {},
   "outputs": [
    {
     "name": "stdout",
     "output_type": "stream",
     "text": [
      "1000/1000 [==============================] - 1s 1ms/step\n"
     ]
    },
    {
     "data": {
      "text/plain": [
       "[0.037954168498516086, 0.9832951426506042]"
      ]
     },
     "execution_count": 162,
     "metadata": {},
     "output_type": "execute_result"
    }
   ],
   "source": [
    "model.evaluate(X_t,y_test)"
   ]
  },
  {
   "cell_type": "code",
   "execution_count": 168,
   "metadata": {},
   "outputs": [
    {
     "data": {
      "image/png": "[encoded data removed]",
      "text/plain": [
       "<Figure size 1152x432 with 2 Axes>"
      ]
     },
     "metadata": {},
     "output_type": "display_data"
    }
   ],
   "source": [
    "fig, ax = plt.subplots(ncols=2,figsize=(16,6))\n",
    "i = np.random.randint(0,n)\n",
    "ax[0].imshow(X_t[i])\n",
    "pred = model.predict(X_t[i:i+1])\n",
    "ax[1].imshow(pred.reshape(48,48),cmap='gray')\n",
    "plt.show()"
   ]
  },
  {
   "cell_type": "code",
   "execution_count": null,
   "metadata": {},
   "outputs": [],
   "source": []
  }
 ],
 "metadata": {
  "kernelspec": {
   "display_name": "Python 3",
   "language": "python",
   "name": "python3"
  },
  "language_info": {
   "codemirror_mode": {
    "name": "ipython",
    "version": 3
   },
   "file_extension": ".py",
   "mimetype": "text/x-python",
   "name": "python",
   "nbconvert_exporter": "python",
   "pygments_lexer": "ipython3",
   "version": "3.6.8"
  }
 },
 "nbformat": 4,
 "nbformat_minor": 2
}
