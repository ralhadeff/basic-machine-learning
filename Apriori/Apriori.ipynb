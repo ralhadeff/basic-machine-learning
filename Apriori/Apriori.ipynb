{
 "cells": [
  {
   "cell_type": "markdown",
   "metadata": {},
   "source": [
    "# Apriori"
   ]
  },
  {
   "cell_type": "code",
   "execution_count": 1,
   "metadata": {},
   "outputs": [],
   "source": [
    "import numpy as np\n",
    "\n",
    "from apriori import Apriori"
   ]
  },
  {
   "cell_type": "markdown",
   "metadata": {},
   "source": [
    "### Generate data"
   ]
  },
  {
   "cell_type": "markdown",
   "metadata": {},
   "source": [
    "Generate lists of made-up items (with random names) that have some inheret associate to them (by comparing the similarity of their factors"
   ]
  },
  {
   "cell_type": "code",
   "execution_count": 2,
   "metadata": {},
   "outputs": [
    {
     "data": {
      "text/plain": [
       "(40, 1, 19.002)"
      ]
     },
     "execution_count": 2,
     "metadata": {},
     "output_type": "execute_result"
    }
   ],
   "source": [
    "# item codes\n",
    "items = np.arange(2,50)\n",
    "\n",
    "# item names\n",
    "names = []\n",
    "for i in items:\n",
    "    name = \"\".join([chr(i) for i in np.random.randint(65,91,size=4)])\n",
    "    names.append(name)\n",
    "\n",
    "# helper methods\n",
    "\n",
    "def factorize(num):\n",
    "    # return a list of all factors of given integer\n",
    "    factors = []\n",
    "    while(num>1):\n",
    "        for i in range(2,num+1):\n",
    "            if (num%i==0):\n",
    "                factors.append(i)\n",
    "                num = num//i\n",
    "                break\n",
    "    return factors\n",
    "\n",
    "def compare_factores(a,b):\n",
    "    # count percentage identity of the numbers in the two given lists \n",
    "    # lists are assumed to be ordered\n",
    "    a = a.copy()\n",
    "    b = b.copy()\n",
    "    before = len(a) + len(b)\n",
    "    after = 0\n",
    "    while (len(a)>0):\n",
    "        i = a.pop()\n",
    "        f = -1\n",
    "        for idx in range(len(b)):\n",
    "            j = b[idx]\n",
    "            if (i==j):\n",
    "                f = idx\n",
    "                break\n",
    "        if (f>-1):\n",
    "            b.pop(f)\n",
    "        else:\n",
    "            after+=1\n",
    "    after += len(a) + len(b)\n",
    "    return 1-after/before\n",
    "\n",
    "def similarity(a,b,minimum=0.05):\n",
    "    # give two numbers, return the percentage similiarity of their factors\n",
    "    # normalized with a minimum similarity\n",
    "    sim = compare_factores(factorize(a),factorize(b))\n",
    "    sim = (sim+minimum)/(1+minimum)\n",
    "    return sim\n",
    "\n",
    "def generate_purchase():\n",
    "    # generate a 'shopping list' - all items purchased by sampled user\n",
    "    purch = []\n",
    "\n",
    "    # inflate, to increase the amount of items purchased\n",
    "    inflate = np.random.random() + 0.25\n",
    "    \n",
    "    # start with one random item\n",
    "    start = np.random.randint(len(items))\n",
    "    purch.append(start)\n",
    "    # shuffle the other items\n",
    "    shuffled = np.arange(len(items))\n",
    "    np.random.shuffle(shuffled)\n",
    "    # add items based on inheret association with already purchased items (so far, one iteration)\n",
    "    for idx in shuffled:\n",
    "        if (idx not in purch):\n",
    "            i = items[idx]\n",
    "            chance = 0\n",
    "            counter = 0\n",
    "            for j in purch:\n",
    "                chance+= similarity(i,items[j])\n",
    "                counter+=1\n",
    "            chance/=counter\n",
    "            if (np.random.random()*inflate < chance):\n",
    "                purch.append(idx)\n",
    "    # convert to names\n",
    "    purch = [names[i] for i in purch]\n",
    "    return(purch)  \n",
    "\n",
    "# data generation\n",
    "# generate shopping lists\n",
    "people = []\n",
    "for i in range(1000):\n",
    "    people.append(generate_purchase())\n",
    "\n",
    "# check number of items per sample\n",
    "lists = np.array([len(x) for x in people])\n",
    "lists.max(),lists.min(),lists.mean()"
   ]
  },
  {
   "cell_type": "markdown",
   "metadata": {},
   "source": [
    "### Fit"
   ]
  },
  {
   "cell_type": "code",
   "execution_count": 3,
   "metadata": {},
   "outputs": [],
   "source": [
    "apriori = Apriori()\n",
    "apriori.fit(people)"
   ]
  },
  {
   "cell_type": "markdown",
   "metadata": {},
   "source": [
    "### Observe rules"
   ]
  },
  {
   "cell_type": "code",
   "execution_count": 4,
   "metadata": {},
   "outputs": [
    {
     "data": {
      "text/html": [
       "<div>\n",
       "<style scoped>\n",
       "    .dataframe tbody tr th:only-of-type {\n",
       "        vertical-align: middle;\n",
       "    }\n",
       "\n",
       "    .dataframe tbody tr th {\n",
       "        vertical-align: top;\n",
       "    }\n",
       "\n",
       "    .dataframe thead th {\n",
       "        text-align: right;\n",
       "    }\n",
       "</style>\n",
       "<table border=\"1\" class=\"dataframe\">\n",
       "  <thead>\n",
       "    <tr style=\"text-align: right;\">\n",
       "      <th></th>\n",
       "      <th>item_a</th>\n",
       "      <th>item_b</th>\n",
       "      <th>support</th>\n",
       "      <th>confidence(left)</th>\n",
       "      <th>lift</th>\n",
       "    </tr>\n",
       "  </thead>\n",
       "  <tbody>\n",
       "    <tr>\n",
       "      <th>0</th>\n",
       "      <td>EKCH</td>\n",
       "      <td>ONOT</td>\n",
       "      <td>0.108</td>\n",
       "      <td>0.7152317880794702</td>\n",
       "      <td>1.5057511327988846</td>\n",
       "    </tr>\n",
       "    <tr>\n",
       "      <th>1</th>\n",
       "      <td>EKCH</td>\n",
       "      <td>CECT</td>\n",
       "      <td>0.093</td>\n",
       "      <td>0.6158940397350994</td>\n",
       "      <td>1.6511904550538856</td>\n",
       "    </tr>\n",
       "    <tr>\n",
       "      <th>2</th>\n",
       "      <td>YCQB</td>\n",
       "      <td>JHEX</td>\n",
       "      <td>0.098</td>\n",
       "      <td>0.7205882352941176</td>\n",
       "      <td>1.5331664580725908</td>\n",
       "    </tr>\n",
       "    <tr>\n",
       "      <th>3</th>\n",
       "      <td>EFVK</td>\n",
       "      <td>WMUF</td>\n",
       "      <td>0.089</td>\n",
       "      <td>0.41784037558685444</td>\n",
       "      <td>1.5767561342900167</td>\n",
       "    </tr>\n",
       "    <tr>\n",
       "      <th>4</th>\n",
       "      <td>DSIN</td>\n",
       "      <td>PJWZ</td>\n",
       "      <td>0.202</td>\n",
       "      <td>0.5804597701149425</td>\n",
       "      <td>1.5155607574802676</td>\n",
       "    </tr>\n",
       "    <tr>\n",
       "      <th>5</th>\n",
       "      <td>MLFO</td>\n",
       "      <td>KMNG</td>\n",
       "      <td>0.066</td>\n",
       "      <td>0.532258064516129</td>\n",
       "      <td>1.5472618154538635</td>\n",
       "    </tr>\n",
       "    <tr>\n",
       "      <th>6</th>\n",
       "      <td>ENGQ</td>\n",
       "      <td>UGCZ</td>\n",
       "      <td>0.095</td>\n",
       "      <td>0.5026455026455027</td>\n",
       "      <td>1.5094459538903984</td>\n",
       "    </tr>\n",
       "    <tr>\n",
       "      <th>7</th>\n",
       "      <td>ENGQ</td>\n",
       "      <td>KYNI</td>\n",
       "      <td>0.07</td>\n",
       "      <td>0.37037037037037035</td>\n",
       "      <td>1.7146776406035664</td>\n",
       "    </tr>\n",
       "    <tr>\n",
       "      <th>8</th>\n",
       "      <td>KYNI</td>\n",
       "      <td>UGCZ</td>\n",
       "      <td>0.119</td>\n",
       "      <td>0.5509259259259259</td>\n",
       "      <td>1.6544322099877655</td>\n",
       "    </tr>\n",
       "  </tbody>\n",
       "</table>\n",
       "</div>"
      ],
      "text/plain": [
       "  item_a item_b support     confidence(left)                lift\n",
       "0   EKCH   ONOT   0.108   0.7152317880794702  1.5057511327988846\n",
       "1   EKCH   CECT   0.093   0.6158940397350994  1.6511904550538856\n",
       "2   YCQB   JHEX   0.098   0.7205882352941176  1.5331664580725908\n",
       "3   EFVK   WMUF   0.089  0.41784037558685444  1.5767561342900167\n",
       "4   DSIN   PJWZ   0.202   0.5804597701149425  1.5155607574802676\n",
       "5   MLFO   KMNG   0.066    0.532258064516129  1.5472618154538635\n",
       "6   ENGQ   UGCZ   0.095   0.5026455026455027  1.5094459538903984\n",
       "7   ENGQ   KYNI    0.07  0.37037037037037035  1.7146776406035664\n",
       "8   KYNI   UGCZ   0.119   0.5509259259259259  1.6544322099877655"
      ]
     },
     "execution_count": 4,
     "metadata": {},
     "output_type": "execute_result"
    }
   ],
   "source": [
    "df = apriori.get_rules(0.03,0.2,1.5)\n",
    "df"
   ]
  },
  {
   "cell_type": "markdown",
   "metadata": {},
   "source": [
    "**Making sense of data, based on the inherent associations**"
   ]
  },
  {
   "cell_type": "code",
   "execution_count": 5,
   "metadata": {},
   "outputs": [
    {
     "name": "stdout",
     "output_type": "stream",
     "text": [
      "11 22\n",
      "11 33\n",
      "19 38\n",
      "25 5\n",
      "27 9\n",
      "13 39\n",
      "49 35\n",
      "49 7\n",
      "7 35\n"
     ]
    }
   ],
   "source": [
    "for a in df.values:\n",
    "    print(items[names.index(a[0])],items[names.index(a[1])])"
   ]
  },
  {
   "cell_type": "markdown",
   "metadata": {},
   "source": [
    "Not surprisingly, all items are multiplications of one another.<br>\n",
    "The reason prime numbers are more common here than other numbers is because the lists that are based on a seeded prime number are shorter, increasing the overall propensity of prime numbers compared to numbers in long lists of many different even numbers (or numbers with many factors)."
   ]
  },
  {
   "cell_type": "code",
   "execution_count": 16,
   "metadata": {},
   "outputs": [
    {
     "name": "stdout",
     "output_type": "stream",
     "text": [
      "22 32\n",
      "16 4\n",
      "32 16\n",
      "16 8\n",
      "16 48\n",
      "34 4\n",
      "34 2\n",
      "38 4\n",
      "38 32\n",
      "38 14\n",
      "38 46\n",
      "32 4\n",
      "46 4\n",
      "44 4\n",
      "26 4\n",
      "32 8\n",
      "26 2\n"
     ]
    }
   ],
   "source": [
    "# more commonly occuring numbers:\n",
    "df = apriori.get_rules(0.3,0.4,1.3)\n",
    "for a in df.values:\n",
    "    print(items[names.index(a[0])],items[names.index(a[1])])"
   ]
  },
  {
   "cell_type": "markdown",
   "metadata": {},
   "source": [
    "**Important note: the apriori recieved only the names, and had no prior knowledge of these built-in relationships**"
   ]
  }
 ],
 "metadata": {
  "kernelspec": {
   "display_name": "Python 3",
   "language": "python",
   "name": "python3"
  },
  "language_info": {
   "codemirror_mode": {
    "name": "ipython",
    "version": 3
   },
   "file_extension": ".py",
   "mimetype": "text/x-python",
   "name": "python",
   "nbconvert_exporter": "python",
   "pygments_lexer": "ipython3",
   "version": "3.6.8"
  }
 },
 "nbformat": 4,
 "nbformat_minor": 2
}
