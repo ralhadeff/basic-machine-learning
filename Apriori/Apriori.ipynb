{
 "cells": [
  {
   "cell_type": "markdown",
   "metadata": {},
   "source": [
    "# Apriori"
   ]
  },
  {
   "cell_type": "markdown",
   "metadata": {},
   "source": [
    "Work is progress, compare to apyori for QA"
   ]
  },
  {
   "cell_type": "code",
   "execution_count": 152,
   "metadata": {},
   "outputs": [],
   "source": [
    "import numpy as np\n",
    "from apyori import apriori"
   ]
  },
  {
   "cell_type": "code",
   "execution_count": 153,
   "metadata": {},
   "outputs": [],
   "source": [
    "items = np.arange(2,50)\n",
    "\n",
    "names = []\n",
    "for i in items:\n",
    "    name = \"\".join([chr(i) for i in np.random.randint(65,91,size=4)])\n",
    "    names.append(name)"
   ]
  },
  {
   "cell_type": "code",
   "execution_count": 154,
   "metadata": {},
   "outputs": [],
   "source": [
    "def factorize(num):\n",
    "    factors = []\n",
    "    while(num>1):\n",
    "        for i in range(2,num+1):\n",
    "            if (num%i==0):\n",
    "                factors.append(i)\n",
    "                num = num//i\n",
    "                break\n",
    "    return factors\n",
    "\n",
    "def compare_factores(a,b):\n",
    "    a = a.copy()\n",
    "    b = b.copy()\n",
    "    before = len(a) + len(b)\n",
    "    after = 0\n",
    "    while (len(a)>0):\n",
    "        i = a.pop()\n",
    "        f = -1\n",
    "        for idx in range(len(b)):\n",
    "            j = b[idx]\n",
    "            if (i==j):\n",
    "                f = idx\n",
    "                break\n",
    "        if (f>-1):\n",
    "            b.pop(f)\n",
    "        else:\n",
    "            after+=1\n",
    "    after += len(a) + len(b)\n",
    "    return 1-after/before\n",
    "\n",
    "def similarity(a,b,minimum=0.05):\n",
    "    sim = compare_factores(factorize(a),factorize(b))\n",
    "    sim = (sim+minimum)/(1+minimum)\n",
    "    return sim"
   ]
  },
  {
   "cell_type": "code",
   "execution_count": 235,
   "metadata": {},
   "outputs": [],
   "source": [
    "def generate_purchase():\n",
    "    # all items purchased by user\n",
    "    purch = []\n",
    "\n",
    "    # inflate \n",
    "    inflate = np.random.random() + 0.25\n",
    "    \n",
    "    # start with one random item 0-47\n",
    "    start = np.random.randint(len(items))\n",
    "    purch.append(start)\n",
    "    shuffled = np.arange(len(items))\n",
    "    np.random.shuffle(shuffled)\n",
    "    for idx in shuffled:\n",
    "        i = items[idx]\n",
    "        chance = 0\n",
    "        counter = 0\n",
    "        for j in purch:\n",
    "            chance+= similarity(i,j)\n",
    "            counter+=1\n",
    "        chance/=counter\n",
    "        if (np.random.random()*inflate < chance):\n",
    "            purch.append(idx)\n",
    "    # convert to names\n",
    "    purch = [names[i] for i in purch]\n",
    "    return(purch)  "
   ]
  },
  {
   "cell_type": "code",
   "execution_count": 236,
   "metadata": {},
   "outputs": [
    {
     "data": {
      "text/plain": [
       "(44, 1, 18.705)"
      ]
     },
     "execution_count": 236,
     "metadata": {},
     "output_type": "execute_result"
    }
   ],
   "source": [
    "people = []\n",
    "for i in range(1000):\n",
    "    people.append(generate_purchase())\n",
    "    \n",
    "aa = np.array([len(x) for x in people])\n",
    "aa.max(),aa.min(),aa.mean()"
   ]
  },
  {
   "cell_type": "code",
   "execution_count": 336,
   "metadata": {},
   "outputs": [],
   "source": [
    "rules = apriori(people,min_support=0.03,min_confidence=0.2,min_lift=1.5,max_length=2)\n",
    "a = list(rules)"
   ]
  },
  {
   "cell_type": "code",
   "execution_count": 337,
   "metadata": {},
   "outputs": [
    {
     "data": {
      "text/plain": [
       "[0.04, 0.066, 0.038, 0.031, 0.033, 0.073, 0.051, 0.039, 0.044, 0.056, 0.059]"
      ]
     },
     "execution_count": 337,
     "metadata": {},
     "output_type": "execute_result"
    }
   ],
   "source": [
    "# all supports\n",
    "[i[1] for i in a]"
   ]
  },
  {
   "cell_type": "code",
   "execution_count": 338,
   "metadata": {},
   "outputs": [
    {
     "data": {
      "text/plain": [
       "[0.23529411764705882,\n",
       " 0.5076923076923077,\n",
       " 0.20994475138121546,\n",
       " 0.23484848484848483,\n",
       " 0.22758620689655176,\n",
       " 0.6403508771929824,\n",
       " 0.21794871794871792,\n",
       " 0.3679245283018868,\n",
       " 0.32352941176470584,\n",
       " 0.2679425837320574,\n",
       " 0.5566037735849056]"
      ]
     },
     "execution_count": 338,
     "metadata": {},
     "output_type": "execute_result"
    }
   ],
   "source": [
    "# confidence\n",
    "[i[2][0][2] for i in a]"
   ]
  },
  {
   "cell_type": "code",
   "execution_count": 339,
   "metadata": {},
   "outputs": [
    {
     "data": {
      "text/plain": [
       "[1.5582391897156214,\n",
       " 1.5246015246015245,\n",
       " 1.9806108620869383,\n",
       " 2.060074428495481,\n",
       " 1.67342799188641,\n",
       " 1.6763111968402682,\n",
       " 1.6025641025641022,\n",
       " 1.5723270440251573,\n",
       " 1.547987616099071,\n",
       " 1.8737243617626396,\n",
       " 1.7339681420090518]"
      ]
     },
     "execution_count": 339,
     "metadata": {},
     "output_type": "execute_result"
    }
   ],
   "source": [
    "# lift\n",
    "[i[2][0][3] for i in a]"
   ]
  },
  {
   "cell_type": "code",
   "execution_count": 340,
   "metadata": {},
   "outputs": [
    {
     "data": {
      "text/plain": [
       "(frozenset({'DARN'}), frozenset({'QRGZ'}))"
      ]
     },
     "execution_count": 340,
     "metadata": {},
     "output_type": "execute_result"
    }
   ],
   "source": [
    "# if they bought left, they will buy right using the confidence and lift as above (0th element)\n",
    "a[0][2][0][0],a[0][2][0][1]"
   ]
  },
  {
   "cell_type": "code",
   "execution_count": 391,
   "metadata": {},
   "outputs": [
    {
     "data": {
      "text/plain": [
       "(frozenset({'MQQQ'}), frozenset({'FQEK'}))"
      ]
     },
     "execution_count": 391,
     "metadata": {},
     "output_type": "execute_result"
    }
   ],
   "source": [
    "i = 1\n",
    "a[i][2][0][0],a[i][2][0][1]"
   ]
  },
  {
   "cell_type": "code",
   "execution_count": 349,
   "metadata": {},
   "outputs": [],
   "source": [
    "users = len(people)\n",
    "cont_m = np.array([np.sum([n in i for i in people]) for n in names])\n",
    "supports = cont_m/users"
   ]
  },
  {
   "cell_type": "code",
   "execution_count": 344,
   "metadata": {},
   "outputs": [],
   "source": [
    "confidence = np.zeros((len(names),len(names)))"
   ]
  },
  {
   "cell_type": "code",
   "execution_count": 347,
   "metadata": {},
   "outputs": [],
   "source": [
    "for i in range(len(names)):\n",
    "    for j in range(len(names)):\n",
    "        for p in people:\n",
    "            if names[i] in p and names[j] in p:\n",
    "                confidence[i,j]+=1"
   ]
  },
  {
   "cell_type": "code",
   "execution_count": 356,
   "metadata": {},
   "outputs": [],
   "source": [
    "confidence = confidence / cont_m"
   ]
  },
  {
   "cell_type": "code",
   "execution_count": 385,
   "metadata": {},
   "outputs": [],
   "source": [
    "lift = confidence.T / supports"
   ]
  },
  {
   "cell_type": "code",
   "execution_count": 386,
   "metadata": {},
   "outputs": [
    {
     "data": {
      "text/plain": [
       "array([1.83823529, 1.08232545, 1.28019958, 1.09979889, 1.23584062,\n",
       "       1.11283303, 1.27978407, 1.08232545, 1.21430872, 1.05968858,\n",
       "       1.21948289, 1.13215816, 1.24270214, 1.1515382 , 1.23012343,\n",
       "       1.16241349, 1.24321881, 1.06490872, 1.21460662, 1.10092114,\n",
       "       1.28529998, 1.07980255, 1.22139841, 1.12580918, 1.22179896,\n",
       "       1.20860352, 1.26462538, 1.2254902 , 1.1903581 , 1.00142669,\n",
       "       1.24475891, 1.04040883, 1.28187778, 1.09879478, 1.25691302,\n",
       "       0.96153846, 1.23413781, 0.98812047, 1.22437205, 0.98874777,\n",
       "       1.1921069 , 1.1126161 , 1.2254902 , 1.11160302, 1.2254902 ,\n",
       "       1.12721976, 1.21652866, 1.0460676 ])"
      ]
     },
     "execution_count": 386,
     "metadata": {},
     "output_type": "execute_result"
    }
   ],
   "source": [
    "lift[0]"
   ]
  },
  {
   "cell_type": "code",
   "execution_count": 387,
   "metadata": {},
   "outputs": [
    {
     "data": {
      "text/plain": [
       "9"
      ]
     },
     "execution_count": 387,
     "metadata": {},
     "output_type": "execute_result"
    }
   ],
   "source": [
    "np.argwhere(np.array(names) == 'DARN')[0][0]"
   ]
  },
  {
   "cell_type": "code",
   "execution_count": 388,
   "metadata": {},
   "outputs": [
    {
     "data": {
      "text/plain": [
       "11"
      ]
     },
     "execution_count": 388,
     "metadata": {},
     "output_type": "execute_result"
    }
   ],
   "source": [
    "np.argwhere(np.array(names) == 'QRGZ')[0][0]"
   ]
  },
  {
   "cell_type": "code",
   "execution_count": 389,
   "metadata": {},
   "outputs": [
    {
     "data": {
      "text/plain": [
       "(0.26490066225165565, 0.23529411764705882)"
      ]
     },
     "execution_count": 389,
     "metadata": {},
     "output_type": "execute_result"
    }
   ],
   "source": [
    "confidence[9,11], confidence[11,9]"
   ]
  },
  {
   "cell_type": "code",
   "execution_count": 390,
   "metadata": {},
   "outputs": [
    {
     "data": {
      "text/plain": [
       "1.5582391897156214"
      ]
     },
     "execution_count": 390,
     "metadata": {},
     "output_type": "execute_result"
    }
   ],
   "source": [
    "lift[11,9]"
   ]
  },
  {
   "cell_type": "code",
   "execution_count": 392,
   "metadata": {},
   "outputs": [
    {
     "data": {
      "text/plain": [
       "(35, 37)"
      ]
     },
     "execution_count": 392,
     "metadata": {},
     "output_type": "execute_result"
    }
   ],
   "source": [
    "np.argwhere(np.array(names) == 'MQQQ')[0][0],np.argwhere(np.array(names) == 'FQEK')[0][0]"
   ]
  },
  {
   "cell_type": "code",
   "execution_count": 394,
   "metadata": {},
   "outputs": [
    {
     "data": {
      "text/plain": [
       "(0.5076923076923077, 1.5246015246015245)"
      ]
     },
     "execution_count": 394,
     "metadata": {},
     "output_type": "execute_result"
    }
   ],
   "source": [
    "confidence[37,35], lift[37,35]"
   ]
  },
  {
   "cell_type": "code",
   "execution_count": null,
   "metadata": {},
   "outputs": [],
   "source": []
  }
 ],
 "metadata": {
  "kernelspec": {
   "display_name": "Python 3",
   "language": "python",
   "name": "python3"
  },
  "language_info": {
   "codemirror_mode": {
    "name": "ipython",
    "version": 3
   },
   "file_extension": ".py",
   "mimetype": "text/x-python",
   "name": "python",
   "nbconvert_exporter": "python",
   "pygments_lexer": "ipython3",
   "version": "3.6.8"
  }
 },
 "nbformat": 4,
 "nbformat_minor": 2
}
