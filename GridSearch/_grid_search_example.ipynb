{
 "cells": [
  {
   "cell_type": "markdown",
   "metadata": {},
   "source": [
    "# Grid search"
   ]
  },
  {
   "cell_type": "markdown",
   "metadata": {},
   "source": [
    "**Runs k-fold cross-validation on a grid of provided input parameters (all combinations) and returns the combiation that results in the best performance, selected by a given scoring function**"
   ]
  },
  {
   "cell_type": "code",
   "execution_count": 1,
   "metadata": {},
   "outputs": [],
   "source": [
    "import numpy as np\n",
    "import math\n",
    "\n",
    "import log_metrics\n",
    "from logistic_regressor import LogisticRegressor\n",
    "\n",
    "from grid_search import grid_search"
   ]
  },
  {
   "cell_type": "markdown",
   "metadata": {},
   "source": [
    "**Generate dataset**"
   ]
  },
  {
   "cell_type": "code",
   "execution_count": 2,
   "metadata": {},
   "outputs": [],
   "source": [
    "size =100\n",
    "\n",
    "coefficients = [0,-1.4,2.1,-3,10.4,-8]\n",
    "X = np.ones((size,len(coefficients)))\n",
    "for i in range(1,len(coefficients)):\n",
    "    X[:,i]=np.random.rand(size)\n",
    "y = np.vectorize(lambda x: round(1/(1+math.exp(-x))))\n",
    "y = y((X*coefficients).sum(axis=1) + np.random.normal(size=size))"
   ]
  },
  {
   "cell_type": "markdown",
   "metadata": {},
   "source": [
    "**Estimator**\n",
    "<br>\n",
    "No need to fit"
   ]
  },
  {
   "cell_type": "code",
   "execution_count": 3,
   "metadata": {},
   "outputs": [],
   "source": [
    "log = LogisticRegressor()"
   ]
  },
  {
   "cell_type": "markdown",
   "metadata": {},
   "source": [
    "### Grid search"
   ]
  },
  {
   "cell_type": "markdown",
   "metadata": {},
   "source": [
    "**Dictionary of input parameters to test**\n",
    "<br>\n",
    "keys are the parameters names (must match the estimator's input) and the value is a list of all parameters to try"
   ]
  },
  {
   "cell_type": "code",
   "execution_count": 4,
   "metadata": {},
   "outputs": [],
   "source": [
    "args = {'method':['batch'],'learning_rate':[0.2,0.1,0.01],'epochs':[100,200,500]}"
   ]
  },
  {
   "cell_type": "markdown",
   "metadata": {},
   "source": [
    "**Perform fitting, using all possible combinations:**\n",
    "<br>\n",
    "In this example, it is 1x3x2 combinations, each running 3 times (for the CV)\n",
    "<br>\n",
    "Note: Default scoring function is the estimator's default (total accuracy for Logistic Regressor)"
   ]
  },
  {
   "cell_type": "code",
   "execution_count": 5,
   "metadata": {},
   "outputs": [
    {
     "data": {
      "text/plain": [
       "{'method': 'batch', 'learning_rate': 0.2, 'epochs': 500}"
      ]
     },
     "execution_count": 5,
     "metadata": {},
     "output_type": "execute_result"
    }
   ],
   "source": [
    "grid_search(log,X,y,args,cv_k=3)"
   ]
  },
  {
   "cell_type": "markdown",
   "metadata": {},
   "source": [
    "A single value can be given as a 1-element list (as above) or simply as a value:"
   ]
  },
  {
   "cell_type": "code",
   "execution_count": 6,
   "metadata": {},
   "outputs": [
    {
     "data": {
      "text/plain": [
       "{'method': 'batch', 'learning_rate': 0.2, 'epochs': 500}"
      ]
     },
     "execution_count": 6,
     "metadata": {},
     "output_type": "execute_result"
    }
   ],
   "source": [
    "args = {'method':'batch','learning_rate':[0.2,0.1,0.01],'epochs':[100,200,500]}\n",
    "\n",
    "grid_search(log,X,y,args,cv_k=3)"
   ]
  },
  {
   "cell_type": "markdown",
   "metadata": {},
   "source": [
    "### Scoring functions"
   ]
  },
  {
   "cell_type": "markdown",
   "metadata": {},
   "source": [
    "**Any scoring function that processes real_y and predictions will work**"
   ]
  },
  {
   "cell_type": "code",
   "execution_count": 7,
   "metadata": {},
   "outputs": [],
   "source": [
    "def rate_of_false_positives(real_y,predictions):\n",
    "    return (real_y[real_y!=predictions]==0).sum()/len(real_y)"
   ]
  },
  {
   "cell_type": "markdown",
   "metadata": {},
   "source": [
    "`grid_search(log,X,y,args,cv_k=3,scoring=rate_of_false_positives)` will give a wrong result, because the rate of false positives should be minimized (accuracy, which was the default should be maximized"
   ]
  },
  {
   "cell_type": "markdown",
   "metadata": {},
   "source": [
    "**User can specify how to evaluate the output of the scoring function**"
   ]
  },
  {
   "cell_type": "code",
   "execution_count": 8,
   "metadata": {},
   "outputs": [
    {
     "data": {
      "text/plain": [
       "{'method': 'batch', 'learning_rate': 0.2, 'epochs': 500}"
      ]
     },
     "execution_count": 8,
     "metadata": {},
     "output_type": "execute_result"
    }
   ],
   "source": [
    "grid_search(log,X,y,args,cv_k=3,scoring=rate_of_false_positives,maximize=False)"
   ]
  }
 ],
 "metadata": {
  "kernelspec": {
   "display_name": "Python 3",
   "language": "python",
   "name": "python3"
  },
  "language_info": {
   "codemirror_mode": {
    "name": "ipython",
    "version": 3
   },
   "file_extension": ".py",
   "mimetype": "text/x-python",
   "name": "python",
   "nbconvert_exporter": "python",
   "pygments_lexer": "ipython3",
   "version": "3.6.7"
  }
 },
 "nbformat": 4,
 "nbformat_minor": 2
}
