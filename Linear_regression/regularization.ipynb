{
 "cells": [
  {
   "cell_type": "code",
   "execution_count": 1,
   "metadata": {},
   "outputs": [],
   "source": [
    "\"\"\"\n",
    "A copy of the LinearRegressor class from linear_regressor module with added regularization\n",
    "Note - regularization works fine with normal and batch GD,\n",
    "    but it doesn't seem to give precise results with mini-batch of SGD\n",
    "\n",
    "Also, and this is an issue that is true also when using scikit-learn,\n",
    "    regularization doesn't seem to actually help remove unecessary high polynomials (see below) like suggested\n",
    "    by scholars (e.g. Andrew Ng in his Couresera Machine Learning course)\n",
    "\"\"\"\n",
    "\n",
    "import numpy as np\n",
    "import pandas as pd\n",
    "\n",
    "class LinearRegressor(object):\n",
    "\n",
    "    def __init__(self):\n",
    "        self.coeff=None\n",
    "    \n",
    "    def fit(self,X,y,add_x0=True,method='normal',learning_rate=0.0001,epochs=100,starting_coeff=None,tolerance=\n",
    "                         0.01, bin_size=10, regularization=0):\n",
    "        \"\"\"\n",
    "        This is a simple linear regressor\n",
    "        it uses the normal equation, batch gradient decent, or stochastic gradient decent to find the coeffcients\n",
    "        it also automatically adds the first column x0 (all 1's) if it is missing\n",
    "\n",
    "        output is given as a 1d array with the intercept as x0 and the coefficients as elements 1 through n\n",
    "\n",
    "        if using batch gradient descent, a learning rate and number of ephochs can be provided\n",
    "           these have no effect for normal equation\n",
    "        also, starting coefficients can be provided\n",
    "        when doing gradient decent, learning rate will gradually decrease if diverging\n",
    "        if loss function improvement is smaller than tolance (in percentages) that learning rate will increase\n",
    "\n",
    "        if using stochastic gradient descent, same as batch, but with bins instead of the whole set\n",
    "\n",
    "        \"\"\"\n",
    "        # convert dataframe to ndarray\n",
    "        if (type(X) is pd.DataFrame):\n",
    "            X = X.values\n",
    "        if (type(y) is pd.Series):\n",
    "            y = y.values\n",
    "        # if only using one feature:\n",
    "        if (len(X.shape)==1):\n",
    "            X.shape = (X.shape[0],1)\n",
    "        # unless add_x0 is set to False, figure out whether a new column of 1's needs to be added\n",
    "        if (add_x0) and (X[0,0]!=1 or len(np.unique(X[:,0]))>1):\n",
    "            # n - number of samples, m - number of features (excluding the 1's)\n",
    "            n,m = X.shape\n",
    "            x0 = np.ones((n,1))\n",
    "            x = np.hstack((x0,X))\n",
    "            # update m\n",
    "            m+=1\n",
    "        else:\n",
    "            n,m = X.shape\n",
    "            x = X\n",
    "        # perform regression, based on method\n",
    "        if (method=='normal'):\n",
    "            # normal equation\n",
    "            self.coeff = np.matmul(np.matmul(np.linalg.inv(np.matmul(x.transpose(),x)+regularization*np.identity(x.shape[1])),x.transpose()),y)\n",
    "        else:\n",
    "            # batch is same as mini-batch but the size is the total number of samples\n",
    "            if (method=='batch'):\n",
    "                bin_size = n\n",
    "                \n",
    "            if (starting_coeff is None):\n",
    "                # initialize coefficients as 0's\n",
    "                self.coeff = np.zeros(m)\n",
    "            else:\n",
    "                # use provided coefficients as a starting point\n",
    "                self.coeff = np.asarray(starting_coeff)\n",
    "            # start descent\n",
    "            previous_error = float('inf')\n",
    "            for epoch in range(epochs):\n",
    "                # accumulating derivatives\n",
    "                dc = np.zeros(m)\n",
    "                error = 0 \n",
    "                # +1 in case n is not a natural multiplication of bin_size\n",
    "                for batch in (range(int(n/bin_size)+1)):\n",
    "                    # run one batch\n",
    "                    for j in range(bin_size):\n",
    "                        # index of sample from entire dataset\n",
    "                        i=batch*bin_size+j\n",
    "                        # full iteration through dataset done\n",
    "                        if (i>=n):\n",
    "                            break\n",
    "                        # x values\n",
    "                        xs = x[i]\n",
    "                        # label\n",
    "                        y_real = y[i]\n",
    "                        # prediction\n",
    "                        h = np.dot(self.coeff,xs)\n",
    "                        # derivation\n",
    "                        dc+= (h-y_real)*xs\n",
    "                        # error function (MSE)\n",
    "                        error+= (h-y_real)**2\n",
    "                    # update coefficients including regularization\n",
    "                    self.coeff-= dc * (learning_rate/n) + (learning_rate/n)*regularization*self.coeff\n",
    "                # end of batch/mini-batch loop\n",
    "                # self correcting learning rate only for batch - in mini-batch MSE is not always going down on each iteration \n",
    "                if (method=='batch'):\n",
    "                    # calculate total error and compare to previous error\n",
    "                    if (error<previous_error):\n",
    "                        # improvement\n",
    "                        if (previous_error/error-1<tolerance):\n",
    "                            # improvement is very small, increase learning rate\n",
    "                            learning_rate *= 1.1\n",
    "                    else:\n",
    "                        # diverging\n",
    "                        learning_rate/=2\n",
    "                    previous_error = error\n",
    "            # end of epochs loop\n",
    "\n",
    "    def predict(self,X):\n",
    "        \"\"\"\n",
    "        Predict and returns the values h for all samples provided\n",
    "        \"\"\"\n",
    "        # convert dataframe to ndarray if needed\n",
    "        if (type(X) is pd.DataFrame):\n",
    "            X = X.values\n",
    "        # add 1's as the first column if needed\n",
    "        # here simply check if there is only one column missing\n",
    "        if (X.shape[1]==self.coeff.shape[0]-1):\n",
    "            n = X.shape[0]\n",
    "            x0 = np.ones((n,1))\n",
    "            X = np.hstack((x0,X))\n",
    "        return np.squeeze(np.asarray(np.matmul(X,self.coeff)))\n"
   ]
  },
  {
   "cell_type": "markdown",
   "metadata": {},
   "source": [
    "### Generate dataset"
   ]
  },
  {
   "cell_type": "code",
   "execution_count": 2,
   "metadata": {},
   "outputs": [],
   "source": [
    "size = 500\n",
    "\n",
    "coefficients = [6.2,-1.4,2.1,-3,11,-8]\n",
    "x = np.ones((size,len(coefficients)))\n",
    "for i in range(1,len(coefficients)):\n",
    "    x[:,i]=np.random.rand(size)\n",
    "y = (x*coefficients).sum(axis=1) + np.random.normal(size=size)"
   ]
  },
  {
   "cell_type": "markdown",
   "metadata": {},
   "source": [
    "### Regression"
   ]
  },
  {
   "cell_type": "code",
   "execution_count": 3,
   "metadata": {},
   "outputs": [],
   "source": [
    "reg = LinearRegressor()"
   ]
  },
  {
   "cell_type": "markdown",
   "metadata": {},
   "source": [
    "** No regularization, coefficients are reproduced **"
   ]
  },
  {
   "cell_type": "code",
   "execution_count": 4,
   "metadata": {},
   "outputs": [
    {
     "data": {
      "text/plain": [
       "array([ 6.29606473, -1.3516777 ,  1.96500161, -2.96405227, 11.01830982,\n",
       "       -8.09054707])"
      ]
     },
     "execution_count": 4,
     "metadata": {},
     "output_type": "execute_result"
    }
   ],
   "source": [
    "reg.fit(x,y,regularization=0)\n",
    "reg.coeff"
   ]
  },
  {
   "cell_type": "markdown",
   "metadata": {},
   "source": [
    "** With regularization, coefficients are slightly smaller **"
   ]
  },
  {
   "cell_type": "code",
   "execution_count": 5,
   "metadata": {},
   "outputs": [
    {
     "data": {
      "text/plain": [
       "array([ 5.06731864, -0.51353778,  1.95276201, -1.87329118,  9.47027686,\n",
       "       -6.04770273])"
      ]
     },
     "execution_count": 5,
     "metadata": {},
     "output_type": "execute_result"
    }
   ],
   "source": [
    "reg.fit(x,y,regularization=10)\n",
    "reg.coeff"
   ]
  },
  {
   "cell_type": "code",
   "execution_count": 6,
   "metadata": {},
   "outputs": [
    {
     "data": {
      "text/plain": [
       "array([ 5.0661896 , -0.51130902,  1.95466903, -1.87127174,  9.47251826,\n",
       "       -6.04551313])"
      ]
     },
     "execution_count": 6,
     "metadata": {},
     "output_type": "execute_result"
    }
   ],
   "source": [
    "reg.fit(x,y,method='batch',regularization=10)\n",
    "reg.fit(x,y,method='batch',epochs=800, starting_coeff=reg.coeff,regularization=10)\n",
    "\n",
    "reg.coeff"
   ]
  },
  {
   "cell_type": "markdown",
   "metadata": {},
   "source": [
    "** SGD results are over regularized **"
   ]
  },
  {
   "cell_type": "code",
   "execution_count": 7,
   "metadata": {},
   "outputs": [
    {
     "data": {
      "text/plain": [
       "array([ 4.53067009, -0.06134652,  1.86300852, -1.35950177,  8.35380181,\n",
       "       -4.75373477])"
      ]
     },
     "execution_count": 7,
     "metadata": {},
     "output_type": "execute_result"
    }
   ],
   "source": [
    "reg.fit(x,y,method='batch',regularization=10)\n",
    "reg.fit(x,y,method='stochastic',learning_rate=0.05,epochs=300,bin_size=10,starting_coeff=reg.coeff,regularization=10)\n",
    "reg.fit(x,y,method='stochastic',learning_rate=0.02,epochs=1000,bin_size=10,starting_coeff=reg.coeff,regularization=10)\n",
    "reg.fit(x,y,method='stochastic',learning_rate=0.001,epochs=1000,bin_size=10,starting_coeff=reg.coeff,regularization=10)\n",
    "\n",
    "reg.coeff"
   ]
  },
  {
   "cell_type": "markdown",
   "metadata": {},
   "source": [
    "### Testing usefulness against unecessary polynomials"
   ]
  },
  {
   "cell_type": "markdown",
   "metadata": {},
   "source": [
    "** adding useless polynomials to dataset **"
   ]
  },
  {
   "cell_type": "code",
   "execution_count": 8,
   "metadata": {},
   "outputs": [],
   "source": [
    "x_poly = np.hstack((x,(x[:,4]**3)[:,None],(x[:,4]**6)[:,None],(x[:,4]**9)[:,None]))"
   ]
  },
  {
   "cell_type": "code",
   "execution_count": 9,
   "metadata": {},
   "outputs": [
    {
     "data": {
      "image/png": "[encoded data removed]",
      "text/plain": [
       "<Figure size 432x288 with 1 Axes>"
      ]
     },
     "metadata": {},
     "output_type": "display_data"
    }
   ],
   "source": [
    "import matplotlib.pyplot as plt\n",
    "plt.scatter(x[:,4],y)\n",
    "plt.show()"
   ]
  },
  {
   "cell_type": "code",
   "execution_count": 10,
   "metadata": {},
   "outputs": [
    {
     "data": {
      "image/png": "[encoded data removed]",
      "text/plain": [
       "<Figure size 432x288 with 1 Axes>"
      ]
     },
     "metadata": {},
     "output_type": "display_data"
    }
   ],
   "source": [
    "import matplotlib.pyplot as plt\n",
    "plt.scatter(x_poly[:,7],y)\n",
    "plt.show()"
   ]
  },
  {
   "cell_type": "code",
   "execution_count": 11,
   "metadata": {},
   "outputs": [
    {
     "data": {
      "text/plain": [
       "array([ 6.30641521, -1.33809594,  1.9808047 , -2.97445883, 11.21197255,\n",
       "       -8.08996226, -2.10527625,  5.5063628 , -3.74753252])"
      ]
     },
     "execution_count": 11,
     "metadata": {},
     "output_type": "execute_result"
    }
   ],
   "source": [
    "reg.fit(x_poly,y,regularization=0)\n",
    "reg.coeff"
   ]
  },
  {
   "cell_type": "markdown",
   "metadata": {},
   "source": [
    "Notice that the last free coefficients are not zero, even though they are unecessary high polynomials"
   ]
  },
  {
   "cell_type": "code",
   "execution_count": 12,
   "metadata": {},
   "outputs": [
    {
     "data": {
      "text/plain": [
       "array([ 3.61117295,  0.55077973,  1.81421359, -0.34157498,  4.45931463,\n",
       "       -2.74564751,  2.62152215,  1.32501485,  0.77808196])"
      ]
     },
     "execution_count": 12,
     "metadata": {},
     "output_type": "execute_result"
    }
   ],
   "source": [
    "reg.fit(x_poly,y,regularization=50)\n",
    "reg.coeff"
   ]
  },
  {
   "cell_type": "markdown",
   "metadata": {},
   "source": [
    "Notice that the ^3 term still has a fairly high coefficient\n",
    "<br>\n",
    "Increasing the regularization further starts ruining the other coefficients\n"
   ]
  }
 ],
 "metadata": {
  "kernelspec": {
   "display_name": "Python 3",
   "language": "python",
   "name": "python3"
  },
  "language_info": {
   "codemirror_mode": {
    "name": "ipython",
    "version": 3
   },
   "file_extension": ".py",
   "mimetype": "text/x-python",
   "name": "python",
   "nbconvert_exporter": "python",
   "pygments_lexer": "ipython3",
   "version": "3.6.5"
  }
 },
 "nbformat": 4,
 "nbformat_minor": 2
}
