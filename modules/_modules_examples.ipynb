{
 "cells": [
  {
   "cell_type": "markdown",
   "metadata": {},
   "source": [
    "# Modules examples\n",
    "\n",
    "\n",
    "### In this notebook I will demonstate the usage of several modules from this folder, using a randomly generated dataset\n",
    "\n",
    "January 2018\n"
   ]
  },
  {
   "cell_type": "code",
   "execution_count": 1,
   "metadata": {},
   "outputs": [],
   "source": [
    "import pandas as pd\n",
    "import numpy as np"
   ]
  },
  {
   "cell_type": "markdown",
   "metadata": {},
   "source": [
    "** Dummy dataset to work with **"
   ]
  },
  {
   "cell_type": "code",
   "execution_count": 2,
   "metadata": {},
   "outputs": [],
   "source": [
    "data = np.random.randint(-100,100,size=(400,5))"
   ]
  },
  {
   "cell_type": "code",
   "execution_count": 3,
   "metadata": {},
   "outputs": [
    {
     "data": {
      "text/html": [
       "<div>\n",
       "<style scoped>\n",
       "    .dataframe tbody tr th:only-of-type {\n",
       "        vertical-align: middle;\n",
       "    }\n",
       "\n",
       "    .dataframe tbody tr th {\n",
       "        vertical-align: top;\n",
       "    }\n",
       "\n",
       "    .dataframe thead th {\n",
       "        text-align: right;\n",
       "    }\n",
       "</style>\n",
       "<table border=\"1\" class=\"dataframe\">\n",
       "  <thead>\n",
       "    <tr style=\"text-align: right;\">\n",
       "      <th></th>\n",
       "      <th>0</th>\n",
       "      <th>1</th>\n",
       "      <th>2</th>\n",
       "      <th>3</th>\n",
       "      <th>4</th>\n",
       "      <th>boolean</th>\n",
       "      <th>text</th>\n",
       "    </tr>\n",
       "  </thead>\n",
       "  <tbody>\n",
       "    <tr>\n",
       "      <th>0</th>\n",
       "      <td>66</td>\n",
       "      <td>70</td>\n",
       "      <td>-27</td>\n",
       "      <td>-67</td>\n",
       "      <td>60</td>\n",
       "      <td>0</td>\n",
       "      <td>p</td>\n",
       "    </tr>\n",
       "    <tr>\n",
       "      <th>1</th>\n",
       "      <td>-53</td>\n",
       "      <td>-47</td>\n",
       "      <td>65</td>\n",
       "      <td>-17</td>\n",
       "      <td>-68</td>\n",
       "      <td>1</td>\n",
       "      <td>r</td>\n",
       "    </tr>\n",
       "    <tr>\n",
       "      <th>2</th>\n",
       "      <td>53</td>\n",
       "      <td>-35</td>\n",
       "      <td>-98</td>\n",
       "      <td>62</td>\n",
       "      <td>-32</td>\n",
       "      <td>1</td>\n",
       "      <td>o</td>\n",
       "    </tr>\n",
       "    <tr>\n",
       "      <th>3</th>\n",
       "      <td>-43</td>\n",
       "      <td>-67</td>\n",
       "      <td>80</td>\n",
       "      <td>92</td>\n",
       "      <td>25</td>\n",
       "      <td>1</td>\n",
       "      <td>u</td>\n",
       "    </tr>\n",
       "    <tr>\n",
       "      <th>4</th>\n",
       "      <td>13</td>\n",
       "      <td>-95</td>\n",
       "      <td>9</td>\n",
       "      <td>-9</td>\n",
       "      <td>-1</td>\n",
       "      <td>0</td>\n",
       "      <td>n</td>\n",
       "    </tr>\n",
       "  </tbody>\n",
       "</table>\n",
       "</div>"
      ],
      "text/plain": [
       "    0   1   2   3   4  boolean text\n",
       "0  66  70 -27 -67  60        0    p\n",
       "1 -53 -47  65 -17 -68        1    r\n",
       "2  53 -35 -98  62 -32        1    o\n",
       "3 -43 -67  80  92  25        1    u\n",
       "4  13 -95   9  -9  -1        0    n"
      ]
     },
     "execution_count": 3,
     "metadata": {},
     "output_type": "execute_result"
    }
   ],
   "source": [
    "df = pd.DataFrame(data)\n",
    "df['boolean'] = np.random.randint(0,2,size=(400,))\n",
    "df['text'] = np.random.randint(100,120,size=(400,))\n",
    "df['text'] = df['text'].map(lambda x: chr(x))\n",
    "df.head()"
   ]
  },
  {
   "cell_type": "markdown",
   "metadata": {},
   "source": [
    "<br>\n",
    "### Scaler object"
   ]
  },
  {
   "cell_type": "code",
   "execution_count": 4,
   "metadata": {},
   "outputs": [],
   "source": [
    "from scaler import Scaler"
   ]
  },
  {
   "cell_type": "code",
   "execution_count": 10,
   "metadata": {},
   "outputs": [
    {
     "data": {
      "text/html": [
       "<div>\n",
       "<style scoped>\n",
       "    .dataframe tbody tr th:only-of-type {\n",
       "        vertical-align: middle;\n",
       "    }\n",
       "\n",
       "    .dataframe tbody tr th {\n",
       "        vertical-align: top;\n",
       "    }\n",
       "\n",
       "    .dataframe thead th {\n",
       "        text-align: right;\n",
       "    }\n",
       "</style>\n",
       "<table border=\"1\" class=\"dataframe\">\n",
       "  <thead>\n",
       "    <tr style=\"text-align: right;\">\n",
       "      <th></th>\n",
       "      <th>0</th>\n",
       "      <th>1</th>\n",
       "      <th>2</th>\n",
       "      <th>3</th>\n",
       "      <th>4</th>\n",
       "      <th>boolean</th>\n",
       "      <th>text</th>\n",
       "    </tr>\n",
       "  </thead>\n",
       "  <tbody>\n",
       "    <tr>\n",
       "      <th>0</th>\n",
       "      <td>1.118633</td>\n",
       "      <td>1.252969</td>\n",
       "      <td>-0.493762</td>\n",
       "      <td>-1.183031</td>\n",
       "      <td>0.999311</td>\n",
       "      <td>0</td>\n",
       "      <td>p</td>\n",
       "    </tr>\n",
       "    <tr>\n",
       "      <th>1</th>\n",
       "      <td>-0.929641</td>\n",
       "      <td>-0.707347</td>\n",
       "      <td>1.076446</td>\n",
       "      <td>-0.303944</td>\n",
       "      <td>-1.131132</td>\n",
       "      <td>1</td>\n",
       "      <td>r</td>\n",
       "    </tr>\n",
       "    <tr>\n",
       "      <th>2</th>\n",
       "      <td>0.894872</td>\n",
       "      <td>-0.506289</td>\n",
       "      <td>-1.705553</td>\n",
       "      <td>1.085013</td>\n",
       "      <td>-0.531945</td>\n",
       "      <td>1</td>\n",
       "      <td>o</td>\n",
       "    </tr>\n",
       "    <tr>\n",
       "      <th>3</th>\n",
       "      <td>-0.757517</td>\n",
       "      <td>-1.042444</td>\n",
       "      <td>1.332458</td>\n",
       "      <td>1.612465</td>\n",
       "      <td>0.416768</td>\n",
       "      <td>1</td>\n",
       "      <td>u</td>\n",
       "    </tr>\n",
       "    <tr>\n",
       "      <th>4</th>\n",
       "      <td>0.206376</td>\n",
       "      <td>-1.511579</td>\n",
       "      <td>0.120667</td>\n",
       "      <td>-0.163290</td>\n",
       "      <td>-0.015978</td>\n",
       "      <td>0</td>\n",
       "      <td>n</td>\n",
       "    </tr>\n",
       "  </tbody>\n",
       "</table>\n",
       "</div>"
      ],
      "text/plain": [
       "          0         1         2         3         4  boolean text\n",
       "0  1.118633  1.252969 -0.493762 -1.183031  0.999311        0    p\n",
       "1 -0.929641 -0.707347  1.076446 -0.303944 -1.131132        1    r\n",
       "2  0.894872 -0.506289 -1.705553  1.085013 -0.531945        1    o\n",
       "3 -0.757517 -1.042444  1.332458  1.612465  0.416768        1    u\n",
       "4  0.206376 -1.511579  0.120667 -0.163290 -0.015978        0    n"
      ]
     },
     "execution_count": 10,
     "metadata": {},
     "output_type": "execute_result"
    }
   ],
   "source": [
    "sc = Scaler()\n",
    "sc.fit(df,scaler='standard')\n",
    "sc.scale(df).head()"
   ]
  },
  {
   "cell_type": "markdown",
   "metadata": {},
   "source": [
    "**scaling factors of 0 are skipped columns**"
   ]
  },
  {
   "cell_type": "code",
   "execution_count": 11,
   "metadata": {},
   "outputs": [
    {
     "data": {
      "text/plain": [
       "{0: (1.01, 58.097704413731904),\n",
       " 1: (-4.7825, 59.684258565817665),\n",
       " 2: (1.93, 58.59097503788211),\n",
       " 3: (0.2875, 56.87721325116101),\n",
       " 4: (-0.04, 60.08138507125315),\n",
       " 'boolean': (0, 0),\n",
       " 'text': (0, 0)}"
      ]
     },
     "execution_count": 11,
     "metadata": {},
     "output_type": "execute_result"
    }
   ],
   "source": [
    "sc.factors"
   ]
  },
  {
   "cell_type": "code",
   "execution_count": 12,
   "metadata": {},
   "outputs": [
    {
     "data": {
      "text/html": [
       "<div>\n",
       "<style scoped>\n",
       "    .dataframe tbody tr th:only-of-type {\n",
       "        vertical-align: middle;\n",
       "    }\n",
       "\n",
       "    .dataframe tbody tr th {\n",
       "        vertical-align: top;\n",
       "    }\n",
       "\n",
       "    .dataframe thead th {\n",
       "        text-align: right;\n",
       "    }\n",
       "</style>\n",
       "<table border=\"1\" class=\"dataframe\">\n",
       "  <thead>\n",
       "    <tr style=\"text-align: right;\">\n",
       "      <th></th>\n",
       "      <th>0</th>\n",
       "      <th>1</th>\n",
       "      <th>2</th>\n",
       "      <th>3</th>\n",
       "      <th>4</th>\n",
       "      <th>boolean</th>\n",
       "      <th>text</th>\n",
       "    </tr>\n",
       "  </thead>\n",
       "  <tbody>\n",
       "    <tr>\n",
       "      <th>0</th>\n",
       "      <td>1.118633</td>\n",
       "      <td>1.252969</td>\n",
       "      <td>-0.493762</td>\n",
       "      <td>-1.183031</td>\n",
       "      <td>0.999311</td>\n",
       "      <td>-1.008787</td>\n",
       "      <td>p</td>\n",
       "    </tr>\n",
       "    <tr>\n",
       "      <th>1</th>\n",
       "      <td>-0.929641</td>\n",
       "      <td>-0.707347</td>\n",
       "      <td>1.076446</td>\n",
       "      <td>-0.303944</td>\n",
       "      <td>-1.131132</td>\n",
       "      <td>0.988811</td>\n",
       "      <td>r</td>\n",
       "    </tr>\n",
       "    <tr>\n",
       "      <th>2</th>\n",
       "      <td>0.894872</td>\n",
       "      <td>-0.506289</td>\n",
       "      <td>-1.705553</td>\n",
       "      <td>1.085013</td>\n",
       "      <td>-0.531945</td>\n",
       "      <td>0.988811</td>\n",
       "      <td>o</td>\n",
       "    </tr>\n",
       "    <tr>\n",
       "      <th>3</th>\n",
       "      <td>-0.757517</td>\n",
       "      <td>-1.042444</td>\n",
       "      <td>1.332458</td>\n",
       "      <td>1.612465</td>\n",
       "      <td>0.416768</td>\n",
       "      <td>0.988811</td>\n",
       "      <td>u</td>\n",
       "    </tr>\n",
       "    <tr>\n",
       "      <th>4</th>\n",
       "      <td>0.206376</td>\n",
       "      <td>-1.511579</td>\n",
       "      <td>0.120667</td>\n",
       "      <td>-0.163290</td>\n",
       "      <td>-0.015978</td>\n",
       "      <td>-1.008787</td>\n",
       "      <td>n</td>\n",
       "    </tr>\n",
       "  </tbody>\n",
       "</table>\n",
       "</div>"
      ],
      "text/plain": [
       "          0         1         2         3         4   boolean text\n",
       "0  1.118633  1.252969 -0.493762 -1.183031  0.999311 -1.008787    p\n",
       "1 -0.929641 -0.707347  1.076446 -0.303944 -1.131132  0.988811    r\n",
       "2  0.894872 -0.506289 -1.705553  1.085013 -0.531945  0.988811    o\n",
       "3 -0.757517 -1.042444  1.332458  1.612465  0.416768  0.988811    u\n",
       "4  0.206376 -1.511579  0.120667 -0.163290 -0.015978 -1.008787    n"
      ]
     },
     "execution_count": 12,
     "metadata": {},
     "output_type": "execute_result"
    }
   ],
   "source": [
    "sc = Scaler()\n",
    "sc.fit(df,scaler='standard',skip_boolean=False)\n",
    "sc.scale(df).head()"
   ]
  },
  {
   "cell_type": "code",
   "execution_count": 13,
   "metadata": {},
   "outputs": [
    {
     "data": {
      "text/html": [
       "<div>\n",
       "<style scoped>\n",
       "    .dataframe tbody tr th:only-of-type {\n",
       "        vertical-align: middle;\n",
       "    }\n",
       "\n",
       "    .dataframe tbody tr th {\n",
       "        vertical-align: top;\n",
       "    }\n",
       "\n",
       "    .dataframe thead th {\n",
       "        text-align: right;\n",
       "    }\n",
       "</style>\n",
       "<table border=\"1\" class=\"dataframe\">\n",
       "  <thead>\n",
       "    <tr style=\"text-align: right;\">\n",
       "      <th></th>\n",
       "      <th>0</th>\n",
       "      <th>1</th>\n",
       "      <th>2</th>\n",
       "      <th>3</th>\n",
       "      <th>4</th>\n",
       "      <th>boolean</th>\n",
       "      <th>text</th>\n",
       "    </tr>\n",
       "  </thead>\n",
       "  <tbody>\n",
       "    <tr>\n",
       "      <th>0</th>\n",
       "      <td>1.118633</td>\n",
       "      <td>70</td>\n",
       "      <td>-27</td>\n",
       "      <td>-1.183031</td>\n",
       "      <td>0.999311</td>\n",
       "      <td>0</td>\n",
       "      <td>p</td>\n",
       "    </tr>\n",
       "    <tr>\n",
       "      <th>1</th>\n",
       "      <td>-0.929641</td>\n",
       "      <td>-47</td>\n",
       "      <td>65</td>\n",
       "      <td>-0.303944</td>\n",
       "      <td>-1.131132</td>\n",
       "      <td>1</td>\n",
       "      <td>r</td>\n",
       "    </tr>\n",
       "    <tr>\n",
       "      <th>2</th>\n",
       "      <td>0.894872</td>\n",
       "      <td>-35</td>\n",
       "      <td>-98</td>\n",
       "      <td>1.085013</td>\n",
       "      <td>-0.531945</td>\n",
       "      <td>1</td>\n",
       "      <td>o</td>\n",
       "    </tr>\n",
       "    <tr>\n",
       "      <th>3</th>\n",
       "      <td>-0.757517</td>\n",
       "      <td>-67</td>\n",
       "      <td>80</td>\n",
       "      <td>1.612465</td>\n",
       "      <td>0.416768</td>\n",
       "      <td>1</td>\n",
       "      <td>u</td>\n",
       "    </tr>\n",
       "    <tr>\n",
       "      <th>4</th>\n",
       "      <td>0.206376</td>\n",
       "      <td>-95</td>\n",
       "      <td>9</td>\n",
       "      <td>-0.163290</td>\n",
       "      <td>-0.015978</td>\n",
       "      <td>0</td>\n",
       "      <td>n</td>\n",
       "    </tr>\n",
       "  </tbody>\n",
       "</table>\n",
       "</div>"
      ],
      "text/plain": [
       "          0   1   2         3         4  boolean text\n",
       "0  1.118633  70 -27 -1.183031  0.999311        0    p\n",
       "1 -0.929641 -47  65 -0.303944 -1.131132        1    r\n",
       "2  0.894872 -35 -98  1.085013 -0.531945        1    o\n",
       "3 -0.757517 -67  80  1.612465  0.416768        1    u\n",
       "4  0.206376 -95   9 -0.163290 -0.015978        0    n"
      ]
     },
     "execution_count": 13,
     "metadata": {},
     "output_type": "execute_result"
    }
   ],
   "source": [
    "sc = Scaler()\n",
    "sc.fit(df,scaler='standard',skip_row=[1,2])\n",
    "sc.scale(df).head()"
   ]
  },
  {
   "cell_type": "code",
   "execution_count": 17,
   "metadata": {},
   "outputs": [
    {
     "data": {
      "text/html": [
       "<div>\n",
       "<style scoped>\n",
       "    .dataframe tbody tr th:only-of-type {\n",
       "        vertical-align: middle;\n",
       "    }\n",
       "\n",
       "    .dataframe tbody tr th {\n",
       "        vertical-align: top;\n",
       "    }\n",
       "\n",
       "    .dataframe thead th {\n",
       "        text-align: right;\n",
       "    }\n",
       "</style>\n",
       "<table border=\"1\" class=\"dataframe\">\n",
       "  <thead>\n",
       "    <tr style=\"text-align: right;\">\n",
       "      <th></th>\n",
       "      <th>0</th>\n",
       "      <th>1</th>\n",
       "      <th>2</th>\n",
       "      <th>3</th>\n",
       "      <th>4</th>\n",
       "      <th>boolean</th>\n",
       "      <th>text</th>\n",
       "    </tr>\n",
       "  </thead>\n",
       "  <tbody>\n",
       "    <tr>\n",
       "      <th>0</th>\n",
       "      <td>0.834171</td>\n",
       "      <td>0.854271</td>\n",
       "      <td>0.366834</td>\n",
       "      <td>0.167513</td>\n",
       "      <td>0.804020</td>\n",
       "      <td>0</td>\n",
       "      <td>p</td>\n",
       "    </tr>\n",
       "    <tr>\n",
       "      <th>1</th>\n",
       "      <td>0.236181</td>\n",
       "      <td>0.266332</td>\n",
       "      <td>0.829146</td>\n",
       "      <td>0.421320</td>\n",
       "      <td>0.160804</td>\n",
       "      <td>1</td>\n",
       "      <td>r</td>\n",
       "    </tr>\n",
       "    <tr>\n",
       "      <th>2</th>\n",
       "      <td>0.768844</td>\n",
       "      <td>0.326633</td>\n",
       "      <td>0.010050</td>\n",
       "      <td>0.822335</td>\n",
       "      <td>0.341709</td>\n",
       "      <td>1</td>\n",
       "      <td>o</td>\n",
       "    </tr>\n",
       "    <tr>\n",
       "      <th>3</th>\n",
       "      <td>0.286432</td>\n",
       "      <td>0.165829</td>\n",
       "      <td>0.904523</td>\n",
       "      <td>0.974619</td>\n",
       "      <td>0.628141</td>\n",
       "      <td>1</td>\n",
       "      <td>u</td>\n",
       "    </tr>\n",
       "    <tr>\n",
       "      <th>4</th>\n",
       "      <td>0.567839</td>\n",
       "      <td>0.025126</td>\n",
       "      <td>0.547739</td>\n",
       "      <td>0.461929</td>\n",
       "      <td>0.497487</td>\n",
       "      <td>0</td>\n",
       "      <td>n</td>\n",
       "    </tr>\n",
       "  </tbody>\n",
       "</table>\n",
       "</div>"
      ],
      "text/plain": [
       "          0         1         2         3         4  boolean text\n",
       "0  0.834171  0.854271  0.366834  0.167513  0.804020        0    p\n",
       "1  0.236181  0.266332  0.829146  0.421320  0.160804        1    r\n",
       "2  0.768844  0.326633  0.010050  0.822335  0.341709        1    o\n",
       "3  0.286432  0.165829  0.904523  0.974619  0.628141        1    u\n",
       "4  0.567839  0.025126  0.547739  0.461929  0.497487        0    n"
      ]
     },
     "execution_count": 17,
     "metadata": {},
     "output_type": "execute_result"
    }
   ],
   "source": [
    "sc = Scaler()\n",
    "sc.fit(df,scaler='normalize')\n",
    "scaled = sc.scale(df)\n",
    "scaled.head()"
   ]
  },
  {
   "cell_type": "code",
   "execution_count": 16,
   "metadata": {},
   "outputs": [
    {
     "data": {
      "text/plain": [
       "{0: (-100, 199),\n",
       " 1: (-100, 199),\n",
       " 2: (-100, 199),\n",
       " 3: (-100, 197),\n",
       " 4: (-100, 199),\n",
       " 'boolean': (0, 0),\n",
       " 'text': (0, 0)}"
      ]
     },
     "execution_count": 16,
     "metadata": {},
     "output_type": "execute_result"
    }
   ],
   "source": [
    "sc.factors"
   ]
  },
  {
   "cell_type": "markdown",
   "metadata": {},
   "source": [
    "**unscale and compare to original dataframe**"
   ]
  },
  {
   "cell_type": "code",
   "execution_count": 18,
   "metadata": {},
   "outputs": [
    {
     "data": {
      "text/html": [
       "<div>\n",
       "<style scoped>\n",
       "    .dataframe tbody tr th:only-of-type {\n",
       "        vertical-align: middle;\n",
       "    }\n",
       "\n",
       "    .dataframe tbody tr th {\n",
       "        vertical-align: top;\n",
       "    }\n",
       "\n",
       "    .dataframe thead th {\n",
       "        text-align: right;\n",
       "    }\n",
       "</style>\n",
       "<table border=\"1\" class=\"dataframe\">\n",
       "  <thead>\n",
       "    <tr style=\"text-align: right;\">\n",
       "      <th></th>\n",
       "      <th>0</th>\n",
       "      <th>1</th>\n",
       "      <th>2</th>\n",
       "      <th>3</th>\n",
       "      <th>4</th>\n",
       "      <th>boolean</th>\n",
       "      <th>text</th>\n",
       "    </tr>\n",
       "  </thead>\n",
       "  <tbody>\n",
       "    <tr>\n",
       "      <th>0</th>\n",
       "      <td>66.0</td>\n",
       "      <td>70.0</td>\n",
       "      <td>-27.0</td>\n",
       "      <td>-67.0</td>\n",
       "      <td>60.0</td>\n",
       "      <td>0</td>\n",
       "      <td>p</td>\n",
       "    </tr>\n",
       "    <tr>\n",
       "      <th>1</th>\n",
       "      <td>-53.0</td>\n",
       "      <td>-47.0</td>\n",
       "      <td>65.0</td>\n",
       "      <td>-17.0</td>\n",
       "      <td>-68.0</td>\n",
       "      <td>1</td>\n",
       "      <td>r</td>\n",
       "    </tr>\n",
       "    <tr>\n",
       "      <th>2</th>\n",
       "      <td>53.0</td>\n",
       "      <td>-35.0</td>\n",
       "      <td>-98.0</td>\n",
       "      <td>62.0</td>\n",
       "      <td>-32.0</td>\n",
       "      <td>1</td>\n",
       "      <td>o</td>\n",
       "    </tr>\n",
       "    <tr>\n",
       "      <th>3</th>\n",
       "      <td>-43.0</td>\n",
       "      <td>-67.0</td>\n",
       "      <td>80.0</td>\n",
       "      <td>92.0</td>\n",
       "      <td>25.0</td>\n",
       "      <td>1</td>\n",
       "      <td>u</td>\n",
       "    </tr>\n",
       "    <tr>\n",
       "      <th>4</th>\n",
       "      <td>13.0</td>\n",
       "      <td>-95.0</td>\n",
       "      <td>9.0</td>\n",
       "      <td>-9.0</td>\n",
       "      <td>-1.0</td>\n",
       "      <td>0</td>\n",
       "      <td>n</td>\n",
       "    </tr>\n",
       "  </tbody>\n",
       "</table>\n",
       "</div>"
      ],
      "text/plain": [
       "      0     1     2     3     4  boolean text\n",
       "0  66.0  70.0 -27.0 -67.0  60.0        0    p\n",
       "1 -53.0 -47.0  65.0 -17.0 -68.0        1    r\n",
       "2  53.0 -35.0 -98.0  62.0 -32.0        1    o\n",
       "3 -43.0 -67.0  80.0  92.0  25.0        1    u\n",
       "4  13.0 -95.0   9.0  -9.0  -1.0        0    n"
      ]
     },
     "execution_count": 18,
     "metadata": {},
     "output_type": "execute_result"
    }
   ],
   "source": [
    "sc.unscale(scaled).head()"
   ]
  },
  {
   "cell_type": "code",
   "execution_count": 19,
   "metadata": {},
   "outputs": [
    {
     "data": {
      "text/html": [
       "<div>\n",
       "<style scoped>\n",
       "    .dataframe tbody tr th:only-of-type {\n",
       "        vertical-align: middle;\n",
       "    }\n",
       "\n",
       "    .dataframe tbody tr th {\n",
       "        vertical-align: top;\n",
       "    }\n",
       "\n",
       "    .dataframe thead th {\n",
       "        text-align: right;\n",
       "    }\n",
       "</style>\n",
       "<table border=\"1\" class=\"dataframe\">\n",
       "  <thead>\n",
       "    <tr style=\"text-align: right;\">\n",
       "      <th></th>\n",
       "      <th>0</th>\n",
       "      <th>1</th>\n",
       "      <th>2</th>\n",
       "      <th>3</th>\n",
       "      <th>4</th>\n",
       "      <th>boolean</th>\n",
       "      <th>text</th>\n",
       "    </tr>\n",
       "  </thead>\n",
       "  <tbody>\n",
       "    <tr>\n",
       "      <th>0</th>\n",
       "      <td>66</td>\n",
       "      <td>70</td>\n",
       "      <td>-27</td>\n",
       "      <td>-67</td>\n",
       "      <td>60</td>\n",
       "      <td>0</td>\n",
       "      <td>p</td>\n",
       "    </tr>\n",
       "    <tr>\n",
       "      <th>1</th>\n",
       "      <td>-53</td>\n",
       "      <td>-47</td>\n",
       "      <td>65</td>\n",
       "      <td>-17</td>\n",
       "      <td>-68</td>\n",
       "      <td>1</td>\n",
       "      <td>r</td>\n",
       "    </tr>\n",
       "    <tr>\n",
       "      <th>2</th>\n",
       "      <td>53</td>\n",
       "      <td>-35</td>\n",
       "      <td>-98</td>\n",
       "      <td>62</td>\n",
       "      <td>-32</td>\n",
       "      <td>1</td>\n",
       "      <td>o</td>\n",
       "    </tr>\n",
       "    <tr>\n",
       "      <th>3</th>\n",
       "      <td>-43</td>\n",
       "      <td>-67</td>\n",
       "      <td>80</td>\n",
       "      <td>92</td>\n",
       "      <td>25</td>\n",
       "      <td>1</td>\n",
       "      <td>u</td>\n",
       "    </tr>\n",
       "    <tr>\n",
       "      <th>4</th>\n",
       "      <td>13</td>\n",
       "      <td>-95</td>\n",
       "      <td>9</td>\n",
       "      <td>-9</td>\n",
       "      <td>-1</td>\n",
       "      <td>0</td>\n",
       "      <td>n</td>\n",
       "    </tr>\n",
       "  </tbody>\n",
       "</table>\n",
       "</div>"
      ],
      "text/plain": [
       "    0   1   2   3   4  boolean text\n",
       "0  66  70 -27 -67  60        0    p\n",
       "1 -53 -47  65 -17 -68        1    r\n",
       "2  53 -35 -98  62 -32        1    o\n",
       "3 -43 -67  80  92  25        1    u\n",
       "4  13 -95   9  -9  -1        0    n"
      ]
     },
     "execution_count": 19,
     "metadata": {},
     "output_type": "execute_result"
    }
   ],
   "source": [
    "df.head()"
   ]
  },
  {
   "cell_type": "markdown",
   "metadata": {},
   "source": [
    "<br>\n",
    "\n",
    "### Scaling function\n",
    "** not an object ** <br>\n",
    "** otherwise has the exact same argument options as Scaler object above **"
   ]
  },
  {
   "cell_type": "code",
   "execution_count": 24,
   "metadata": {},
   "outputs": [],
   "source": [
    "from scaling import scale"
   ]
  },
  {
   "cell_type": "code",
   "execution_count": 27,
   "metadata": {},
   "outputs": [
    {
     "data": {
      "text/html": [
       "<div>\n",
       "<style scoped>\n",
       "    .dataframe tbody tr th:only-of-type {\n",
       "        vertical-align: middle;\n",
       "    }\n",
       "\n",
       "    .dataframe tbody tr th {\n",
       "        vertical-align: top;\n",
       "    }\n",
       "\n",
       "    .dataframe thead th {\n",
       "        text-align: right;\n",
       "    }\n",
       "</style>\n",
       "<table border=\"1\" class=\"dataframe\">\n",
       "  <thead>\n",
       "    <tr style=\"text-align: right;\">\n",
       "      <th></th>\n",
       "      <th>0</th>\n",
       "      <th>1</th>\n",
       "      <th>2</th>\n",
       "      <th>3</th>\n",
       "      <th>4</th>\n",
       "      <th>boolean</th>\n",
       "      <th>text</th>\n",
       "    </tr>\n",
       "  </thead>\n",
       "  <tbody>\n",
       "    <tr>\n",
       "      <th>0</th>\n",
       "      <td>1.118633</td>\n",
       "      <td>1.252969</td>\n",
       "      <td>-0.493762</td>\n",
       "      <td>-67</td>\n",
       "      <td>0.999311</td>\n",
       "      <td>0</td>\n",
       "      <td>p</td>\n",
       "    </tr>\n",
       "    <tr>\n",
       "      <th>1</th>\n",
       "      <td>-0.929641</td>\n",
       "      <td>-0.707347</td>\n",
       "      <td>1.076446</td>\n",
       "      <td>-17</td>\n",
       "      <td>-1.131132</td>\n",
       "      <td>1</td>\n",
       "      <td>r</td>\n",
       "    </tr>\n",
       "    <tr>\n",
       "      <th>2</th>\n",
       "      <td>0.894872</td>\n",
       "      <td>-0.506289</td>\n",
       "      <td>-1.705553</td>\n",
       "      <td>62</td>\n",
       "      <td>-0.531945</td>\n",
       "      <td>1</td>\n",
       "      <td>o</td>\n",
       "    </tr>\n",
       "    <tr>\n",
       "      <th>3</th>\n",
       "      <td>-0.757517</td>\n",
       "      <td>-1.042444</td>\n",
       "      <td>1.332458</td>\n",
       "      <td>92</td>\n",
       "      <td>0.416768</td>\n",
       "      <td>1</td>\n",
       "      <td>u</td>\n",
       "    </tr>\n",
       "    <tr>\n",
       "      <th>4</th>\n",
       "      <td>0.206376</td>\n",
       "      <td>-1.511579</td>\n",
       "      <td>0.120667</td>\n",
       "      <td>-9</td>\n",
       "      <td>-0.015978</td>\n",
       "      <td>0</td>\n",
       "      <td>n</td>\n",
       "    </tr>\n",
       "  </tbody>\n",
       "</table>\n",
       "</div>"
      ],
      "text/plain": [
       "          0         1         2   3         4  boolean text\n",
       "0  1.118633  1.252969 -0.493762 -67  0.999311        0    p\n",
       "1 -0.929641 -0.707347  1.076446 -17 -1.131132        1    r\n",
       "2  0.894872 -0.506289 -1.705553  62 -0.531945        1    o\n",
       "3 -0.757517 -1.042444  1.332458  92  0.416768        1    u\n",
       "4  0.206376 -1.511579  0.120667  -9 -0.015978        0    n"
      ]
     },
     "execution_count": 27,
     "metadata": {},
     "output_type": "execute_result"
    }
   ],
   "source": [
    "scale(df,skip_row=[3]).head()"
   ]
  },
  {
   "cell_type": "markdown",
   "metadata": {},
   "source": [
    "<br>\n",
    "## Linear Algebra tools\n",
    "\n",
    "** Note: these are slow and inefficient implementations **\n",
    "\n",
    "this implementation was written to practice and gain intuition"
   ]
  },
  {
   "cell_type": "code",
   "execution_count": 31,
   "metadata": {},
   "outputs": [],
   "source": [
    "from linear_algebra import Vector, Matrix"
   ]
  },
  {
   "cell_type": "markdown",
   "metadata": {},
   "source": [
    "### Vector"
   ]
  },
  {
   "cell_type": "code",
   "execution_count": 36,
   "metadata": {},
   "outputs": [],
   "source": [
    "v = Vector([1,3,4])\n",
    "u = Vector((1,2,3))\n",
    "u2 = Vector(1,2,3)\n",
    "u3 = Vector([1,2],3)\n",
    "u4 = Vector([1,2],(3,4),u)"
   ]
  },
  {
   "cell_type": "code",
   "execution_count": 38,
   "metadata": {},
   "outputs": [
    {
     "name": "stdout",
     "output_type": "stream",
     "text": [
      "[1.0, 2.0, 3.0]\n",
      "[1.0, 2.0, 3.0, 4.0, 1.0, 2.0, 3.0]\n"
     ]
    }
   ],
   "source": [
    "u.present()\n",
    "u4.present()"
   ]
  },
  {
   "cell_type": "markdown",
   "metadata": {},
   "source": [
    "** size of vector |v| **"
   ]
  },
  {
   "cell_type": "code",
   "execution_count": 40,
   "metadata": {},
   "outputs": [
    {
     "data": {
      "text/plain": [
       "5.0990195135927845"
      ]
     },
     "execution_count": 40,
     "metadata": {},
     "output_type": "execute_result"
    }
   ],
   "source": [
    "v.size()"
   ]
  },
  {
   "cell_type": "markdown",
   "metadata": {},
   "source": [
    "** length of vector array **"
   ]
  },
  {
   "cell_type": "code",
   "execution_count": 41,
   "metadata": {},
   "outputs": [
    {
     "data": {
      "text/plain": [
       "3"
      ]
     },
     "execution_count": 41,
     "metadata": {},
     "output_type": "execute_result"
    }
   ],
   "source": [
    "v.length()\n",
    "len(v)"
   ]
  },
  {
   "cell_type": "markdown",
   "metadata": {},
   "source": [
    "** other operations:  **"
   ]
  },
  {
   "cell_type": "code",
   "execution_count": 50,
   "metadata": {},
   "outputs": [
    {
     "name": "stdout",
     "output_type": "stream",
     "text": [
      "[0.19611613513818404, 0.5883484054145521, 0.7844645405527362]\n"
     ]
    }
   ],
   "source": [
    "norm = v.normalize()\n",
    "norm.present()"
   ]
  },
  {
   "cell_type": "code",
   "execution_count": 51,
   "metadata": {},
   "outputs": [
    {
     "name": "stdout",
     "output_type": "stream",
     "text": [
      "[0.5773502691896258, 0.5773502691896258, -0.5773502691896258]\n"
     ]
    }
   ],
   "source": [
    "ortho = v.orthogonal()\n",
    "ortho.present()"
   ]
  },
  {
   "cell_type": "markdown",
   "metadata": {},
   "source": [
    " returns the easiest to calculate orthogonal vector to v \n",
    " \n",
    " <br>\n",
    " <br>\n",
    " \n",
    " \n",
    " **Arithemetics:**\n"
   ]
  },
  {
   "cell_type": "code",
   "execution_count": 52,
   "metadata": {},
   "outputs": [
    {
     "name": "stdout",
     "output_type": "stream",
     "text": [
      "[2.0, 5.0, 7.0]\n"
     ]
    }
   ],
   "source": [
    "a = v + u\n",
    "a.present()"
   ]
  },
  {
   "cell_type": "code",
   "execution_count": 55,
   "metadata": {},
   "outputs": [
    {
     "name": "stdout",
     "output_type": "stream",
     "text": [
      "[4.0, 6.0, 7.0]\n"
     ]
    }
   ],
   "source": [
    "a = v + 3\n",
    "a.present()"
   ]
  },
  {
   "cell_type": "code",
   "execution_count": 56,
   "metadata": {},
   "outputs": [
    {
     "name": "stdout",
     "output_type": "stream",
     "text": [
      "[-1.0, -1.0, -2.0]\n"
     ]
    }
   ],
   "source": [
    "a = v - u*2\n",
    "a.present()"
   ]
  },
  {
   "cell_type": "code",
   "execution_count": 57,
   "metadata": {},
   "outputs": [
    {
     "name": "stdout",
     "output_type": "stream",
     "text": [
      "[0.8333333333333334, 2.5, 3.3333333333333335]\n"
     ]
    }
   ],
   "source": [
    "a = v/1.2\n",
    "a.present()"
   ]
  },
  {
   "cell_type": "code",
   "execution_count": 53,
   "metadata": {},
   "outputs": [
    {
     "data": {
      "text/plain": [
       "19.0"
      ]
     },
     "execution_count": 53,
     "metadata": {},
     "output_type": "execute_result"
    }
   ],
   "source": [
    "v * u"
   ]
  },
  {
   "cell_type": "code",
   "execution_count": 54,
   "metadata": {},
   "outputs": [
    {
     "data": {
      "text/plain": [
       "19.0"
      ]
     },
     "execution_count": 54,
     "metadata": {},
     "output_type": "execute_result"
    }
   ],
   "source": [
    "v.dot(u)"
   ]
  },
  {
   "cell_type": "markdown",
   "metadata": {},
   "source": [
    "### Matrix"
   ]
  },
  {
   "cell_type": "code",
   "execution_count": 84,
   "metadata": {},
   "outputs": [],
   "source": [
    "m = Matrix([1,2,3],[4,5,6],[7,8,9])\n",
    "m2 = Matrix((1,2,3),[4,5,6],[7,8,9])\n",
    "m3 = Matrix((1,2,3),[4,5,6],u)\n",
    "m4 = Matrix(u,v,u3)"
   ]
  },
  {
   "cell_type": "code",
   "execution_count": 85,
   "metadata": {},
   "outputs": [
    {
     "name": "stdout",
     "output_type": "stream",
     "text": [
      "[1.0, 2.0, 3.0]\n",
      "[4.0, 5.0, 6.0]\n",
      "[7.0, 8.0, 9.0]\n"
     ]
    }
   ],
   "source": [
    "m.present()"
   ]
  },
  {
   "cell_type": "code",
   "execution_count": 86,
   "metadata": {},
   "outputs": [
    {
     "data": {
      "text/plain": [
       "(3, 3)"
      ]
     },
     "execution_count": 86,
     "metadata": {},
     "output_type": "execute_result"
    }
   ],
   "source": [
    "m.shape()"
   ]
  },
  {
   "cell_type": "code",
   "execution_count": 87,
   "metadata": {},
   "outputs": [
    {
     "name": "stdout",
     "output_type": "stream",
     "text": [
      "[1.0, 4.0, 7.0]\n",
      "[2.0, 5.0, 8.0]\n",
      "[3.0, 6.0, 9.0]\n"
     ]
    }
   ],
   "source": [
    "a = m.transpose()\n",
    "a.present()"
   ]
  },
  {
   "cell_type": "code",
   "execution_count": 89,
   "metadata": {},
   "outputs": [
    {
     "name": "stdout",
     "output_type": "stream",
     "text": [
      "[1.0, 3.0]\n",
      "[7.0, 9.0]\n"
     ]
    }
   ],
   "source": [
    "a = m.minor(1,1)\n",
    "a.present()"
   ]
  },
  {
   "cell_type": "code",
   "execution_count": 90,
   "metadata": {},
   "outputs": [
    {
     "data": {
      "text/plain": [
       "0.0"
      ]
     },
     "execution_count": 90,
     "metadata": {},
     "output_type": "execute_result"
    }
   ],
   "source": [
    "m.det()"
   ]
  },
  {
   "cell_type": "markdown",
   "metadata": {},
   "source": [
    "original m is not invertible, redefining m:"
   ]
  },
  {
   "cell_type": "code",
   "execution_count": 93,
   "metadata": {},
   "outputs": [
    {
     "data": {
      "text/plain": [
       "-570.0"
      ]
     },
     "execution_count": 93,
     "metadata": {},
     "output_type": "execute_result"
    }
   ],
   "source": [
    "m = Matrix((1,12,3),[2,5,6],[-7,8,9])\n",
    "m.det()"
   ]
  },
  {
   "cell_type": "code",
   "execution_count": 94,
   "metadata": {},
   "outputs": [
    {
     "name": "stdout",
     "output_type": "stream",
     "text": [
      "[0.005263157894736842, 0.14736842105263157, -0.1]\n",
      "[0.10526315789473684, -0.05263157894736842, 0.0]\n",
      "[-0.08947368421052632, 0.16140350877192983, 0.03333333333333333]\n"
     ]
    }
   ],
   "source": [
    "a = m.inverse()\n",
    "a.present()"
   ]
  },
  {
   "cell_type": "code",
   "execution_count": 95,
   "metadata": {},
   "outputs": [
    {
     "name": "stdout",
     "output_type": "stream",
     "text": [
      "[-3.0, -60.0, 51.0]\n",
      "[-84.0, 30.0, -92.0]\n",
      "[57.0, -0.0, -19.0]\n"
     ]
    }
   ],
   "source": [
    "a = m.cofactor()\n",
    "a.present()"
   ]
  },
  {
   "cell_type": "markdown",
   "metadata": {},
   "source": [
    " **Arithemetics:**"
   ]
  },
  {
   "cell_type": "code",
   "execution_count": 96,
   "metadata": {},
   "outputs": [
    {
     "name": "stdout",
     "output_type": "stream",
     "text": [
      "[3.0, 14.0, 5.0]\n",
      "[4.0, 7.0, 8.0]\n",
      "[-5.0, 10.0, 11.0]\n"
     ]
    }
   ],
   "source": [
    "a = m + 2\n",
    "a.present()"
   ]
  },
  {
   "cell_type": "code",
   "execution_count": 97,
   "metadata": {},
   "outputs": [
    {
     "name": "stdout",
     "output_type": "stream",
     "text": [
      "[0.0, 10.0, 0.0]\n",
      "[1.0, 3.0, 3.0]\n",
      "[-8.0, 6.0, 6.0]\n"
     ]
    }
   ],
   "source": [
    "a = m - u\n",
    "a.present()"
   ]
  },
  {
   "cell_type": "code",
   "execution_count": 101,
   "metadata": {},
   "outputs": [
    {
     "name": "stdout",
     "output_type": "stream",
     "text": [
      "[34.0, 30.0, 36.0]\n"
     ]
    }
   ],
   "source": [
    "a = m * u\n",
    "a = m.by_vector(u)\n",
    "\n",
    "a.present()"
   ]
  },
  {
   "cell_type": "code",
   "execution_count": 103,
   "metadata": {},
   "outputs": [
    {
     "name": "stdout",
     "output_type": "stream",
     "text": [
      "[70.0, 86.0, 102.0]\n",
      "[64.0, 77.0, 90.0]\n",
      "[88.0, 98.0, 108.0]\n"
     ]
    }
   ],
   "source": [
    "a = m * m2\n",
    "a = m.by_matrix(m2)\n",
    "\n",
    "a.present()"
   ]
  },
  {
   "cell_type": "code",
   "execution_count": 104,
   "metadata": {},
   "outputs": [
    {
     "name": "stdout",
     "output_type": "stream",
     "text": [
      "[2.0, 14.0, 6.0]\n",
      "[6.0, 10.0, 12.0]\n",
      "[0.0, 16.0, 18.0]\n"
     ]
    }
   ],
   "source": [
    "a = m + m2\n",
    "a.present()"
   ]
  },
  {
   "cell_type": "code",
   "execution_count": null,
   "metadata": {},
   "outputs": [],
   "source": []
  }
 ],
 "metadata": {
  "kernelspec": {
   "display_name": "Python 3",
   "language": "python",
   "name": "python3"
  },
  "language_info": {
   "codemirror_mode": {
    "name": "ipython",
    "version": 3
   },
   "file_extension": ".py",
   "mimetype": "text/x-python",
   "name": "python",
   "nbconvert_exporter": "python",
   "pygments_lexer": "ipython3",
   "version": "3.6.5"
  }
 },
 "nbformat": 4,
 "nbformat_minor": 2
}
