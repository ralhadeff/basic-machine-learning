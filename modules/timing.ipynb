{
 "cells": [
  {
   "cell_type": "markdown",
   "metadata": {},
   "source": [
    "# Timing tools"
   ]
  },
  {
   "cell_type": "markdown",
   "metadata": {},
   "source": [
    "**Several useful timing tools**"
   ]
  },
  {
   "cell_type": "markdown",
   "metadata": {},
   "source": [
    "Examples below are trivial, and this is only a reference on how to use in Jupyter notebook"
   ]
  },
  {
   "cell_type": "code",
   "execution_count": 1,
   "metadata": {},
   "outputs": [],
   "source": [
    "import numpy as np"
   ]
  },
  {
   "cell_type": "markdown",
   "metadata": {},
   "source": [
    "## timeit"
   ]
  },
  {
   "cell_type": "code",
   "execution_count": 2,
   "metadata": {},
   "outputs": [
    {
     "name": "stdout",
     "output_type": "stream",
     "text": [
      "23.7 µs ± 393 ns per loop (mean ± std. dev. of 7 runs, 10000 loops each)\n"
     ]
    }
   ],
   "source": [
    "%timeit for i in range(1000): pass"
   ]
  },
  {
   "cell_type": "code",
   "execution_count": 3,
   "metadata": {},
   "outputs": [
    {
     "name": "stdout",
     "output_type": "stream",
     "text": [
      "61.4 µs ± 1.27 µs per loop (mean ± std. dev. of 7 runs, 10000 loops each)\n"
     ]
    }
   ],
   "source": [
    "%timeit for i in np.arange(1000): pass"
   ]
  },
  {
   "cell_type": "code",
   "execution_count": 6,
   "metadata": {},
   "outputs": [
    {
     "name": "stdout",
     "output_type": "stream",
     "text": [
      "55.8 µs ± 203 ns per loop (mean ± std. dev. of 7 runs, 10000 loops each)\n"
     ]
    }
   ],
   "source": [
    "%%timeit a = np.zeros(1000)\n",
    "         for i in a:\n",
    "             pass"
   ]
  },
  {
   "cell_type": "markdown",
   "metadata": {},
   "source": [
    "## prun"
   ]
  },
  {
   "cell_type": "code",
   "execution_count": 25,
   "metadata": {},
   "outputs": [],
   "source": [
    "def test_method():\n",
    "    a = np.random.randint(0,10,size = 1000)\n",
    "    uniques = np.unique(a)\n",
    "    counts = np.zeros(len(uniques))\n",
    "    for i in uniques:\n",
    "        counts[i] = len(a[a==i])\n",
    "    return counts"
   ]
  },
  {
   "cell_type": "code",
   "execution_count": 29,
   "metadata": {},
   "outputs": [
    {
     "name": "stdout",
     "output_type": "stream",
     "text": [
      "144 µs ± 191 ns per loop (mean ± std. dev. of 7 runs, 10000 loops each)\n"
     ]
    }
   ],
   "source": [
    "%timeit test_method()"
   ]
  },
  {
   "cell_type": "code",
   "execution_count": 30,
   "metadata": {},
   "outputs": [
    {
     "name": "stdout",
     "output_type": "stream",
     "text": [
      " "
     ]
    }
   ],
   "source": [
    "%prun test_method()"
   ]
  },
  {
   "cell_type": "raw",
   "metadata": {},
   "source": [
    "         28 function calls in 0.001 seconds\n",
    "\n",
    "   Ordered by: internal time\n",
    "\n",
    "   ncalls  tottime  percall  cumtime  percall filename:lineno(function)\n",
    "        1    0.001    0.001    0.001    0.001 <ipython-input-25-ee411369af52>:1(test_method)\n",
    "        1    0.000    0.000    0.000    0.000 {method 'randint' of 'mtrand.RandomState' objects}\n",
    "        1    0.000    0.000    0.000    0.000 {method 'sort' of 'numpy.ndarray' objects}\n",
    "        1    0.000    0.000    0.000    0.000 arraysetops.py:268(_unique1d)\n",
    "        1    0.000    0.000    0.001    0.001 {built-in method builtins.exec}\n",
    "        1    0.000    0.000    0.000    0.000 {method 'flatten' of 'numpy.ndarray' objects}\n",
    "        1    0.000    0.000    0.000    0.000 arraysetops.py:121(unique)\n",
    "        1    0.000    0.000    0.000    0.000 {built-in method numpy.core.multiarray.zeros}\n",
    "       12    0.000    0.000    0.000    0.000 {built-in method builtins.len}\n",
    "        1    0.000    0.000    0.000    0.000 arraysetops.py:113(_unpack_tuple)\n",
    "        2    0.000    0.000    0.000    0.000 numeric.py:504(asanyarray)\n",
    "        2    0.000    0.000    0.000    0.000 {built-in method numpy.core.multiarray.array}\n",
    "        1    0.000    0.000    0.000    0.000 {built-in method numpy.core.multiarray.empty}\n",
    "        1    0.000    0.000    0.001    0.001 <string>:1(<module>)\n",
    "        1    0.000    0.000    0.000    0.000 {method 'disable' of '_lsprof.Profiler' objects}"
   ]
  },
  {
   "cell_type": "markdown",
   "metadata": {},
   "source": [
    "## lprun"
   ]
  },
  {
   "cell_type": "code",
   "execution_count": 32,
   "metadata": {},
   "outputs": [],
   "source": [
    "%load_ext line_profiler"
   ]
  },
  {
   "cell_type": "code",
   "execution_count": 33,
   "metadata": {},
   "outputs": [],
   "source": [
    "%lprun -f test_method test_method()"
   ]
  },
  {
   "cell_type": "raw",
   "metadata": {},
   "source": [
    "Timer unit: 1e-06 s\n",
    "\n",
    "Total time: 0.001235 s\n",
    "File: <ipython-input-25-ee411369af52>\n",
    "Function: test_method at line 1\n",
    "\n",
    "Line #      Hits         Time  Per Hit   % Time  Line Contents\n",
    "==============================================================\n",
    "     1                                           def test_method():\n",
    "     2         1        218.0    218.0     17.7      a = np.random.randint(0,10,size = 1000)\n",
    "     3         1        196.0    196.0     15.9      uniques = np.unique(a)\n",
    "     4         1          7.0      7.0      0.6      counts = np.zeros(len(uniques))\n",
    "     5        11         30.0      2.7      2.4      for i in uniques:\n",
    "     6        10        783.0     78.3     63.4          counts[i] = len(a[a==i])\n",
    "     7         1          1.0      1.0      0.1      return counts"
   ]
  }
 ],
 "metadata": {
  "kernelspec": {
   "display_name": "Python 3",
   "language": "python",
   "name": "python3"
  },
  "language_info": {
   "codemirror_mode": {
    "name": "ipython",
    "version": 3
   },
   "file_extension": ".py",
   "mimetype": "text/x-python",
   "name": "python",
   "nbconvert_exporter": "python",
   "pygments_lexer": "ipython3",
   "version": "3.6.7"
  }
 },
 "nbformat": 4,
 "nbformat_minor": 2
}
