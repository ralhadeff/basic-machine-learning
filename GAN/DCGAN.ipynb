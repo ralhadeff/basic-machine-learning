{
 "cells": [
  {
   "cell_type": "markdown",
   "metadata": {},
   "source": [
    "## DCGAN\n",
    "### With Keras, on MNIST"
   ]
  },
  {
   "cell_type": "code",
   "execution_count": 1,
   "metadata": {},
   "outputs": [],
   "source": [
    "import numpy as np\n",
    "import matplotlib.pyplot as plt"
   ]
  },
  {
   "cell_type": "markdown",
   "metadata": {},
   "source": [
    "### Dataset"
   ]
  },
  {
   "cell_type": "code",
   "execution_count": 2,
   "metadata": {},
   "outputs": [
    {
     "data": {
      "text/plain": [
       "(42000, 785)"
      ]
     },
     "execution_count": 2,
     "metadata": {},
     "output_type": "execute_result"
    }
   ],
   "source": [
    "data = np.genfromtxt('train.csv', delimiter=',',skip_header=1)\n",
    "data.shape"
   ]
  },
  {
   "cell_type": "code",
   "execution_count": 3,
   "metadata": {},
   "outputs": [],
   "source": [
    "# normalize X\n",
    "X = (data[:,1:]/255).reshape(-1,28,28,1)\n",
    "# one hot encode y\n",
    "y = np.zeros(shape=(len(X),10),dtype=int)\n",
    "y[np.arange(len(data)),data[:,0].astype(int)] = 1"
   ]
  },
  {
   "cell_type": "code",
   "execution_count": 4,
   "metadata": {},
   "outputs": [
    {
     "data": {
      "image/png": "[encoded data removed]",
      "text/plain": [
       "<Figure size 432x288 with 1 Axes>"
      ]
     },
     "metadata": {},
     "output_type": "display_data"
    },
    {
     "data": {
      "text/plain": [
       "(1, array([0, 1, 0, 0, 0, 0, 0, 0, 0, 0]))"
      ]
     },
     "execution_count": 4,
     "metadata": {},
     "output_type": "execute_result"
    }
   ],
   "source": [
    "# sample image\n",
    "i = np.random.randint(len(X))\n",
    "plt.imshow(X[i].reshape(28,28),cmap='gray')\n",
    "plt.show()\n",
    "np.argmax(y[i]),y[i]"
   ]
  },
  {
   "cell_type": "markdown",
   "metadata": {},
   "source": [
    "### Model building"
   ]
  },
  {
   "cell_type": "code",
   "execution_count": 5,
   "metadata": {},
   "outputs": [
    {
     "name": "stderr",
     "output_type": "stream",
     "text": [
      "Using TensorFlow backend.\n"
     ]
    }
   ],
   "source": [
    "from keras.models import Model, Sequential\n",
    "from keras.layers import Convolution2D, LeakyReLU, BatchNormalization, Flatten\n",
    "from keras.layers import Dense, Input, Reshape, ReLU, Conv2DTranspose, Activation"
   ]
  },
  {
   "cell_type": "code",
   "execution_count": 6,
   "metadata": {},
   "outputs": [
    {
     "name": "stdout",
     "output_type": "stream",
     "text": [
      "WARNING:tensorflow:From /home/raphael/.local/lib/python3.6/site-packages/tensorflow/python/framework/op_def_library.py:263: colocate_with (from tensorflow.python.framework.ops) is deprecated and will be removed in a future version.\n",
      "Instructions for updating:\n",
      "Colocations handled automatically by placer.\n",
      "_________________________________________________________________\n",
      "Layer (type)                 Output Shape              Param #   \n",
      "=================================================================\n",
      "input_1 (InputLayer)         (None, 28, 28, 1)         0         \n",
      "_________________________________________________________________\n",
      "conv2d_1 (Conv2D)            (None, 14, 14, 32)        832       \n",
      "_________________________________________________________________\n",
      "leaky_re_lu_1 (LeakyReLU)    (None, 14, 14, 32)        0         \n",
      "_________________________________________________________________\n",
      "conv2d_2 (Conv2D)            (None, 7, 7, 64)          51264     \n",
      "_________________________________________________________________\n",
      "batch_normalization_1 (Batch (None, 7, 7, 64)          256       \n",
      "_________________________________________________________________\n",
      "leaky_re_lu_2 (LeakyReLU)    (None, 7, 7, 64)          0         \n",
      "_________________________________________________________________\n",
      "conv2d_3 (Conv2D)            (None, 4, 4, 128)         204928    \n",
      "_________________________________________________________________\n",
      "batch_normalization_2 (Batch (None, 4, 4, 128)         512       \n",
      "_________________________________________________________________\n",
      "leaky_re_lu_3 (LeakyReLU)    (None, 4, 4, 128)         0         \n",
      "_________________________________________________________________\n",
      "flatten_1 (Flatten)          (None, 2048)              0         \n",
      "_________________________________________________________________\n",
      "dense_1 (Dense)              (None, 1)                 2049      \n",
      "=================================================================\n",
      "Total params: 259,841\n",
      "Trainable params: 259,457\n",
      "Non-trainable params: 384\n",
      "_________________________________________________________________\n"
     ]
    }
   ],
   "source": [
    "input_layer = Input(shape = X[0].shape)\n",
    "x = Convolution2D(filters=32, kernel_size=(5, 5), strides=(2, 2), padding='same')(input_layer)\n",
    "x = LeakyReLU(0.2)(x)\n",
    "x = Convolution2D(filters=64, kernel_size=(5, 5), strides=(2, 2), padding='same')(x)\n",
    "x = BatchNormalization(momentum=0.5)(x)\n",
    "x = LeakyReLU(0.2)(x)\n",
    "x = Convolution2D(filters=128, kernel_size=(5, 5), strides=(2, 2), padding='same')(x)\n",
    "x = BatchNormalization(momentum=0.5)(x)\n",
    "x = LeakyReLU(0.2)(x)\n",
    "x = Flatten()(x)\n",
    "output = (Dense(1,activation='sigmoid'))(x)\n",
    "\n",
    "discriminator = Model(inputs=input_layer,outputs=output)\n",
    "discriminator.compile(optimizer='adam',loss='binary_crossentropy')\n",
    "\n",
    "discriminator.summary()"
   ]
  },
  {
   "cell_type": "code",
   "execution_count": 10,
   "metadata": {},
   "outputs": [
    {
     "name": "stdout",
     "output_type": "stream",
     "text": [
      "_________________________________________________________________\n",
      "Layer (type)                 Output Shape              Param #   \n",
      "=================================================================\n",
      "input_3 (InputLayer)         (None, 1, 1, 100)         0         \n",
      "_________________________________________________________________\n",
      "dense_3 (Dense)              (None, 1, 1, 2048)        206848    \n",
      "_________________________________________________________________\n",
      "reshape_2 (Reshape)          (None, 4, 4, 128)         0         \n",
      "_________________________________________________________________\n",
      "batch_normalization_7 (Batch (None, 4, 4, 128)         512       \n",
      "_________________________________________________________________\n",
      "re_lu_4 (ReLU)               (None, 4, 4, 128)         0         \n",
      "_________________________________________________________________\n",
      "conv2d_transpose_4 (Conv2DTr (None, 7, 7, 64)          204864    \n",
      "_________________________________________________________________\n",
      "batch_normalization_8 (Batch (None, 7, 7, 64)          256       \n",
      "_________________________________________________________________\n",
      "re_lu_5 (ReLU)               (None, 7, 7, 64)          0         \n",
      "_________________________________________________________________\n",
      "conv2d_transpose_5 (Conv2DTr (None, 14, 14, 32)        51232     \n",
      "_________________________________________________________________\n",
      "batch_normalization_9 (Batch (None, 14, 14, 32)        128       \n",
      "_________________________________________________________________\n",
      "re_lu_6 (ReLU)               (None, 14, 14, 32)        0         \n",
      "_________________________________________________________________\n",
      "conv2d_transpose_6 (Conv2DTr (None, 28, 28, 1)         801       \n",
      "_________________________________________________________________\n",
      "batch_normalization_10 (Batc (None, 28, 28, 1)         4         \n",
      "_________________________________________________________________\n",
      "activation_2 (Activation)    (None, 28, 28, 1)         0         \n",
      "=================================================================\n",
      "Total params: 464,645\n",
      "Trainable params: 464,195\n",
      "Non-trainable params: 450\n",
      "_________________________________________________________________\n"
     ]
    }
   ],
   "source": [
    "input_layer = Input(shape=(1,1,100))\n",
    "x = Dense(2048)(input_layer)\n",
    "x = Reshape(target_shape=(4, 4, 128))(x)\n",
    "x = BatchNormalization(momentum=0.5)(x)\n",
    "x = ReLU()(x)\n",
    "x = Conv2DTranspose(filters=64, kernel_size=(5, 5), strides=(2, 2), padding='same', output_padding=(0,0))(x)\n",
    "x = BatchNormalization(momentum=0.5)(x)\n",
    "x = ReLU()(x)\n",
    "x = Conv2DTranspose(filters=32, kernel_size=(5, 5), strides=(2, 2), padding='same')(x)\n",
    "x = BatchNormalization(momentum=0.5)(x)\n",
    "x = ReLU()(x)\n",
    "x = Conv2DTranspose(filters=1, kernel_size=(5, 5), strides=(2, 2), padding='same')(x)\n",
    "x = BatchNormalization(momentum=0.5)(x)\n",
    "output = Activation('tanh')(x)\n",
    "\n",
    "generator = Model(inputs = input_layer,outputs = output)\n",
    "generator.compile(optimizer='adam',loss='binary_crossentropy')\n",
    "generator.summary()"
   ]
  },
  {
   "cell_type": "code",
   "execution_count": 11,
   "metadata": {},
   "outputs": [
    {
     "data": {
      "text/plain": [
       "array([[0.4988991 ],\n",
       "       [0.50003064],\n",
       "       [0.5075602 ],\n",
       "       [0.50134796],\n",
       "       [0.49662948],\n",
       "       [0.5094825 ],\n",
       "       [0.49886936],\n",
       "       [0.5010342 ],\n",
       "       [0.501088  ],\n",
       "       [0.5033262 ]], dtype=float32)"
      ]
     },
     "execution_count": 11,
     "metadata": {},
     "output_type": "execute_result"
    }
   ],
   "source": [
    "discriminator.predict(X[:10])"
   ]
  },
  {
   "cell_type": "code",
   "execution_count": 13,
   "metadata": {},
   "outputs": [
    {
     "data": {
      "image/png": "[encoded data removed]",
      "text/plain": [
       "<Figure size 432x288 with 1 Axes>"
      ]
     },
     "metadata": {},
     "output_type": "display_data"
    }
   ],
   "source": [
    "# sample generate image (before training)\n",
    "z = np.random.normal(size=(1,1,1,100))\n",
    "\n",
    "im = generator.predict(z)\n",
    "\n",
    "plt.imshow(im[0].reshape(28,28),cmap='gray')\n",
    "plt.show()"
   ]
  },
  {
   "cell_type": "code",
   "execution_count": 14,
   "metadata": {},
   "outputs": [
    {
     "data": {
      "text/plain": [
       "array([[0.50038683]], dtype=float32)"
      ]
     },
     "execution_count": 14,
     "metadata": {},
     "output_type": "execute_result"
    }
   ],
   "source": [
    "gan = Sequential()\n",
    "discriminator.trainable = False\n",
    "gan.add(generator)\n",
    "gan.add(discriminator)\n",
    "\n",
    "gan.compile(optimizer='adam',loss='binary_crossentropy')\n",
    "\n",
    "gan.predict(z)"
   ]
  },
  {
   "cell_type": "markdown",
   "metadata": {},
   "source": [
    "### Training"
   ]
  },
  {
   "cell_type": "code",
   "execution_count": 15,
   "metadata": {},
   "outputs": [],
   "source": [
    "# take a subset of MNIST to make the training faster\n",
    "X_copy = X.copy()\n",
    "mask = np.random.choice(range(len(X)),size=2000)\n",
    "X = X[mask]"
   ]
  },
  {
   "cell_type": "code",
   "execution_count": 16,
   "metadata": {},
   "outputs": [
    {
     "name": "stdout",
     "output_type": "stream",
     "text": [
      "WARNING:tensorflow:From /home/raphael/.local/lib/python3.6/site-packages/tensorflow/python/ops/math_ops.py:3066: to_int32 (from tensorflow.python.ops.math_ops) is deprecated and will be removed in a future version.\n",
      "Instructions for updating:\n",
      "Use tf.cast instead.\n",
      "Epoch:  20\n",
      "Epoch:  40\n",
      "Epoch:  60\n",
      "Epoch:  80\n",
      "Epoch:  100\n",
      "Epoch:  120\n",
      "Epoch:  140\n",
      "Epoch:  160\n",
      "Epoch:  180\n",
      "Epoch:  200\n"
     ]
    }
   ],
   "source": [
    "epochs = 200\n",
    "print_fq = 20\n",
    "batch_size = 100\n",
    "generator_ratio = 2\n",
    "\n",
    "for epoch in range(epochs):\n",
    "    if ((epoch+1)%print_fq==0):\n",
    "        print('Epoch: ',epoch+1)\n",
    "    for batch in range(len(X)//batch_size):\n",
    "        # normalize data to -1, 1 (works better that way, also in line with tanh output of generator)\n",
    "        x_b = X[batch*batch_size:(batch+1)*batch_size]*2-1\n",
    "        y_b = y[batch*batch_size:(batch+1)*batch_size]\n",
    "        # randomly generate latent values\n",
    "        z = np.random.normal(size=((len(x_b),)+(1,1,100)))\n",
    "        images = generator.predict(z)\n",
    "        # generate labels for discriminator\n",
    "        real = np.ones(len(x_b)) - np.random.random(size=len(x_b))*0.2\n",
    "        fake = np.zeros(len(x_b)) + np.random.random(size=len(x_b))*0.2\n",
    "        \n",
    "        # train discriminator once\n",
    "        discriminator.trainable = True\n",
    "        discriminator.train_on_batch(x_b,real)\n",
    "        discriminator.train_on_batch(images,fake)\n",
    "        \n",
    "        # train generator n times\n",
    "        for i in range(generator_ratio):\n",
    "            discriminator.trainable = False\n",
    "            # generate new images\n",
    "            z = np.random.normal(size=((len(x_b),)+(1,1,100)))\n",
    "            # discriminator should be fooled into accepting those images\n",
    "            fool = np.ones(len(x_b)) - np.random.random(size=len(x_b))*0.2\n",
    "            gan.train_on_batch(z,fool)"
   ]
  },
  {
   "cell_type": "markdown",
   "metadata": {},
   "source": [
    "### Generated images"
   ]
  },
  {
   "cell_type": "code",
   "execution_count": 19,
   "metadata": {},
   "outputs": [
    {
     "data": {
      "image/png": "[encoded data removed]",
      "text/plain": [
       "<Figure size 1152x432 with 5 Axes>"
      ]
     },
     "metadata": {},
     "output_type": "display_data"
    }
   ],
   "source": [
    "z = np.random.normal(size=(5,1,1,100))\n",
    "\n",
    "im = generator.predict(z)\n",
    "\n",
    "fig, ax = plt.subplots(ncols=5,figsize=(16,6))\n",
    "for i in range(5):\n",
    "    ax[i].imshow(im[i].reshape(28,28),cmap='gray')\n",
    "plt.show()"
   ]
  }
 ],
 "metadata": {
  "kernelspec": {
   "display_name": "Python 3",
   "language": "python",
   "name": "python3"
  },
  "language_info": {
   "codemirror_mode": {
    "name": "ipython",
    "version": 3
   },
   "file_extension": ".py",
   "mimetype": "text/x-python",
   "name": "python",
   "nbconvert_exporter": "python",
   "pygments_lexer": "ipython3",
   "version": "3.6.8"
  }
 },
 "nbformat": 4,
 "nbformat_minor": 2
}
