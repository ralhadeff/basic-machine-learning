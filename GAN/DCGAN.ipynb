{
 "cells": [
  {
   "cell_type": "code",
   "execution_count": 1,
   "metadata": {},
   "outputs": [],
   "source": [
    "import numpy as np\n",
    "import matplotlib.pyplot as plt"
   ]
  },
  {
   "cell_type": "code",
   "execution_count": 2,
   "metadata": {},
   "outputs": [
    {
     "data": {
      "text/plain": [
       "(42000, 785)"
      ]
     },
     "execution_count": 2,
     "metadata": {},
     "output_type": "execute_result"
    }
   ],
   "source": [
    "data = np.genfromtxt('train.csv', delimiter=',',skip_header=1)\n",
    "data.shape"
   ]
  },
  {
   "cell_type": "code",
   "execution_count": 3,
   "metadata": {},
   "outputs": [],
   "source": [
    "# normalize X\n",
    "X = (data[:,1:]/255).reshape(-1,28,28,1)\n",
    "# one hot encode y\n",
    "y = np.zeros(shape=(len(X),10),dtype=int)\n",
    "y[np.arange(len(data)),data[:,0].astype(int)] = 1"
   ]
  },
  {
   "cell_type": "code",
   "execution_count": 4,
   "metadata": {},
   "outputs": [
    {
     "data": {
      "image/png": "[encoded data removed]",
      "text/plain": [
       "<Figure size 432x288 with 1 Axes>"
      ]
     },
     "metadata": {},
     "output_type": "display_data"
    },
    {
     "data": {
      "text/plain": [
       "(9, array([0, 0, 0, 0, 0, 0, 0, 0, 0, 1]))"
      ]
     },
     "execution_count": 4,
     "metadata": {},
     "output_type": "execute_result"
    }
   ],
   "source": [
    "# sample image\n",
    "i = np.random.randint(len(X))\n",
    "plt.imshow(X[i].reshape(28,28),cmap='gray')\n",
    "plt.show()\n",
    "np.argmax(y[i]),y[i]"
   ]
  },
  {
   "cell_type": "code",
   "execution_count": 5,
   "metadata": {},
   "outputs": [
    {
     "name": "stderr",
     "output_type": "stream",
     "text": [
      "Using TensorFlow backend.\n"
     ]
    }
   ],
   "source": [
    "from keras.models import Model, Sequential\n",
    "from keras.layers import Convolution2D, LeakyReLU, BatchNormalization, Flatten\n",
    "from keras.layers import Dense, Input, Reshape, ReLU, Conv2DTranspose, Activation"
   ]
  },
  {
   "cell_type": "code",
   "execution_count": 6,
   "metadata": {},
   "outputs": [
    {
     "name": "stdout",
     "output_type": "stream",
     "text": [
      "WARNING:tensorflow:From /home/raphael/.local/lib/python3.6/site-packages/tensorflow/python/framework/op_def_library.py:263: colocate_with (from tensorflow.python.framework.ops) is deprecated and will be removed in a future version.\n",
      "Instructions for updating:\n",
      "Colocations handled automatically by placer.\n",
      "_________________________________________________________________\n",
      "Layer (type)                 Output Shape              Param #   \n",
      "=================================================================\n",
      "input_1 (InputLayer)         (None, 28, 28, 1)         0         \n",
      "_________________________________________________________________\n",
      "conv2d_1 (Conv2D)            (None, 14, 14, 32)        832       \n",
      "_________________________________________________________________\n",
      "leaky_re_lu_1 (LeakyReLU)    (None, 14, 14, 32)        0         \n",
      "_________________________________________________________________\n",
      "conv2d_2 (Conv2D)            (None, 7, 7, 64)          51264     \n",
      "_________________________________________________________________\n",
      "batch_normalization_1 (Batch (None, 7, 7, 64)          256       \n",
      "_________________________________________________________________\n",
      "leaky_re_lu_2 (LeakyReLU)    (None, 7, 7, 64)          0         \n",
      "_________________________________________________________________\n",
      "conv2d_3 (Conv2D)            (None, 4, 4, 128)         204928    \n",
      "_________________________________________________________________\n",
      "batch_normalization_2 (Batch (None, 4, 4, 128)         512       \n",
      "_________________________________________________________________\n",
      "leaky_re_lu_3 (LeakyReLU)    (None, 4, 4, 128)         0         \n",
      "_________________________________________________________________\n",
      "flatten_1 (Flatten)          (None, 2048)              0         \n",
      "_________________________________________________________________\n",
      "dense_1 (Dense)              (None, 1)                 2049      \n",
      "=================================================================\n",
      "Total params: 259,841\n",
      "Trainable params: 259,457\n",
      "Non-trainable params: 384\n",
      "_________________________________________________________________\n"
     ]
    }
   ],
   "source": [
    "input_layer = Input(shape = X[0].shape)\n",
    "x = Convolution2D(filters=32, kernel_size=(5, 5), strides=(2, 2), padding='same')(input_layer)\n",
    "x = LeakyReLU(0.2)(x)\n",
    "x = Convolution2D(filters=64, kernel_size=(5, 5), strides=(2, 2), padding='same')(x)\n",
    "x = BatchNormalization(momentum=0.5)(x)\n",
    "x = LeakyReLU(0.2)(x)\n",
    "x = Convolution2D(filters=128, kernel_size=(5, 5), strides=(2, 2), padding='same')(x)\n",
    "x = BatchNormalization(momentum=0.5)(x)\n",
    "x = LeakyReLU(0.2)(x)\n",
    "x = Flatten()(x)\n",
    "output = (Dense(1,activation='sigmoid'))(x)\n",
    "\n",
    "discriminator = Model(inputs=input_layer,outputs=output)\n",
    "discriminator.compile(optimizer='adam',loss='binary_crossentropy')\n",
    "\n",
    "discriminator.summary()"
   ]
  },
  {
   "cell_type": "code",
   "execution_count": 7,
   "metadata": {},
   "outputs": [
    {
     "name": "stdout",
     "output_type": "stream",
     "text": [
      "_________________________________________________________________\n",
      "Layer (type)                 Output Shape              Param #   \n",
      "=================================================================\n",
      "input_2 (InputLayer)         (None, 1, 1, 100)         0         \n",
      "_________________________________________________________________\n",
      "dense_2 (Dense)              (None, 1, 1, 2048)        206848    \n",
      "_________________________________________________________________\n",
      "reshape_1 (Reshape)          (None, 4, 4, 128)         0         \n",
      "_________________________________________________________________\n",
      "batch_normalization_3 (Batch (None, 4, 4, 128)         512       \n",
      "_________________________________________________________________\n",
      "re_lu_1 (ReLU)               (None, 4, 4, 128)         0         \n",
      "_________________________________________________________________\n",
      "conv2d_transpose_1 (Conv2DTr (None, 7, 7, 64)          204864    \n",
      "_________________________________________________________________\n",
      "batch_normalization_4 (Batch (None, 7, 7, 64)          256       \n",
      "_________________________________________________________________\n",
      "re_lu_2 (ReLU)               (None, 7, 7, 64)          0         \n",
      "_________________________________________________________________\n",
      "conv2d_transpose_2 (Conv2DTr (None, 14, 14, 32)        51232     \n",
      "_________________________________________________________________\n",
      "batch_normalization_5 (Batch (None, 14, 14, 32)        128       \n",
      "_________________________________________________________________\n",
      "re_lu_3 (ReLU)               (None, 14, 14, 32)        0         \n",
      "_________________________________________________________________\n",
      "conv2d_transpose_3 (Conv2DTr (None, 28, 28, 1)         801       \n",
      "_________________________________________________________________\n",
      "batch_normalization_6 (Batch (None, 28, 28, 1)         4         \n",
      "_________________________________________________________________\n",
      "activation_1 (Activation)    (None, 28, 28, 1)         0         \n",
      "=================================================================\n",
      "Total params: 464,645\n",
      "Trainable params: 464,195\n",
      "Non-trainable params: 450\n",
      "_________________________________________________________________\n"
     ]
    }
   ],
   "source": [
    "input_layer = Input(shape=(1,1,100))\n",
    "x = Dense(2048)(input_layer)\n",
    "x = Reshape(target_shape=(4, 4, 128))(x)\n",
    "x = BatchNormalization(momentum=0.5)(x)\n",
    "x = ReLU()(x)\n",
    "x = Conv2DTranspose(filters=64, kernel_size=(5, 5), strides=(2, 2), padding='same', output_padding=(0,0))(x)\n",
    "x = BatchNormalization(momentum=0.5)(x)\n",
    "x = ReLU()(x)\n",
    "x = Conv2DTranspose(filters=32, kernel_size=(5, 5), strides=(2, 2), padding='same')(x)\n",
    "x = BatchNormalization(momentum=0.5)(x)\n",
    "x = ReLU()(x)\n",
    "x = Conv2DTranspose(filters=1, kernel_size=(5, 5), strides=(2, 2), padding='same')(x)\n",
    "x = BatchNormalization(momentum=0.5)(x)\n",
    "output = Activation('tanh')(x)\n",
    "\n",
    "generator = Model(inputs = input_layer,outputs = output)\n",
    "generator.compile(optimizer='adam',loss='binary_crossentropy')\n",
    "generator.summary()"
   ]
  },
  {
   "cell_type": "code",
   "execution_count": 8,
   "metadata": {},
   "outputs": [
    {
     "data": {
      "text/plain": [
       "array([[0.5047945 ],\n",
       "       [0.49903235],\n",
       "       [0.49576178],\n",
       "       [0.49791536],\n",
       "       [0.50120986],\n",
       "       [0.5021295 ],\n",
       "       [0.496387  ],\n",
       "       [0.49566987],\n",
       "       [0.49762914],\n",
       "       [0.5049986 ]], dtype=float32)"
      ]
     },
     "execution_count": 8,
     "metadata": {},
     "output_type": "execute_result"
    }
   ],
   "source": [
    "discriminator.predict(X[:10])"
   ]
  },
  {
   "cell_type": "code",
   "execution_count": 9,
   "metadata": {},
   "outputs": [
    {
     "data": {
      "image/png": "[encoded data removed]",
      "text/plain": [
       "<Figure size 432x288 with 1 Axes>"
      ]
     },
     "metadata": {},
     "output_type": "display_data"
    }
   ],
   "source": [
    "z = np.random.normal(size=(1,1,1,100))\n",
    "\n",
    "im = generator.predict(z)\n",
    "\n",
    "plt.imshow(im[0].reshape(28,28),cmap='gray')\n",
    "plt.show()"
   ]
  },
  {
   "cell_type": "code",
   "execution_count": 10,
   "metadata": {},
   "outputs": [
    {
     "data": {
      "text/plain": [
       "array([[0.5001141]], dtype=float32)"
      ]
     },
     "execution_count": 10,
     "metadata": {},
     "output_type": "execute_result"
    }
   ],
   "source": [
    "gan = Sequential()\n",
    "discriminator.trainable = False\n",
    "gan.add(generator)\n",
    "gan.add(discriminator)\n",
    "\n",
    "gan.compile(optimizer='adam',loss='binary_crossentropy')\n",
    "\n",
    "gan.predict(z)"
   ]
  },
  {
   "cell_type": "code",
   "execution_count": null,
   "metadata": {},
   "outputs": [],
   "source": [
    "X_copy = X.copy()\n",
    "mask = np.random.choice(range(len(X)),size=2000)\n",
    "X = X[mask]"
   ]
  },
  {
   "cell_type": "code",
   "execution_count": 34,
   "metadata": {},
   "outputs": [
    {
     "name": "stdout",
     "output_type": "stream",
     "text": [
      "Epoch:  0\n",
      "Epoch:  1\n",
      "Epoch:  2\n",
      "Epoch:  3\n",
      "Epoch:  4\n",
      "Epoch:  5\n",
      "Epoch:  6\n",
      "Epoch:  7\n",
      "Epoch:  8\n",
      "Epoch:  9\n",
      "Epoch:  10\n",
      "Epoch:  11\n",
      "Epoch:  12\n",
      "Epoch:  13\n",
      "Epoch:  14\n",
      "Epoch:  15\n",
      "Epoch:  16\n",
      "Epoch:  17\n",
      "Epoch:  18\n",
      "Epoch:  19\n",
      "Epoch:  20\n",
      "Epoch:  21\n",
      "Epoch:  22\n",
      "Epoch:  23\n",
      "Epoch:  24\n",
      "Epoch:  25\n",
      "Epoch:  26\n",
      "Epoch:  27\n",
      "Epoch:  28\n",
      "Epoch:  29\n",
      "Epoch:  30\n",
      "Epoch:  31\n",
      "Epoch:  32\n",
      "Epoch:  33\n",
      "Epoch:  34\n",
      "Epoch:  35\n",
      "Epoch:  36\n",
      "Epoch:  37\n",
      "Epoch:  38\n",
      "Epoch:  39\n",
      "Epoch:  40\n",
      "Epoch:  41\n",
      "Epoch:  42\n",
      "Epoch:  43\n",
      "Epoch:  44\n",
      "Epoch:  45\n",
      "Epoch:  46\n",
      "Epoch:  47\n",
      "Epoch:  48\n",
      "Epoch:  49\n",
      "Epoch:  50\n",
      "Epoch:  51\n",
      "Epoch:  52\n",
      "Epoch:  53\n",
      "Epoch:  54\n",
      "Epoch:  55\n",
      "Epoch:  56\n",
      "Epoch:  57\n",
      "Epoch:  58\n",
      "Epoch:  59\n",
      "Epoch:  60\n",
      "Epoch:  61\n",
      "Epoch:  62\n",
      "Epoch:  63\n",
      "Epoch:  64\n",
      "Epoch:  65\n",
      "Epoch:  66\n",
      "Epoch:  67\n",
      "Epoch:  68\n",
      "Epoch:  69\n",
      "Epoch:  70\n",
      "Epoch:  71\n",
      "Epoch:  72\n",
      "Epoch:  73\n",
      "Epoch:  74\n",
      "Epoch:  75\n",
      "Epoch:  76\n",
      "Epoch:  77\n",
      "Epoch:  78\n",
      "Epoch:  79\n",
      "Epoch:  80\n",
      "Epoch:  81\n",
      "Epoch:  82\n",
      "Epoch:  83\n",
      "Epoch:  84\n",
      "Epoch:  85\n",
      "Epoch:  86\n",
      "Epoch:  87\n",
      "Epoch:  88\n",
      "Epoch:  89\n",
      "Epoch:  90\n",
      "Epoch:  91\n",
      "Epoch:  92\n",
      "Epoch:  93\n",
      "Epoch:  94\n",
      "Epoch:  95\n",
      "Epoch:  96\n",
      "Epoch:  97\n",
      "Epoch:  98\n",
      "Epoch:  99\n",
      "Epoch:  100\n",
      "Epoch:  101\n",
      "Epoch:  102\n",
      "Epoch:  103\n",
      "Epoch:  104\n",
      "Epoch:  105\n",
      "Epoch:  106\n",
      "Epoch:  107\n",
      "Epoch:  108\n",
      "Epoch:  109\n",
      "Epoch:  110\n",
      "Epoch:  111\n",
      "Epoch:  112\n",
      "Epoch:  113\n",
      "Epoch:  114\n",
      "Epoch:  115\n",
      "Epoch:  116\n",
      "Epoch:  117\n",
      "Epoch:  118\n",
      "Epoch:  119\n",
      "Epoch:  120\n",
      "Epoch:  121\n",
      "Epoch:  122\n",
      "Epoch:  123\n",
      "Epoch:  124\n",
      "Epoch:  125\n",
      "Epoch:  126\n",
      "Epoch:  127\n",
      "Epoch:  128\n",
      "Epoch:  129\n",
      "Epoch:  130\n",
      "Epoch:  131\n",
      "Epoch:  132\n",
      "Epoch:  133\n",
      "Epoch:  134\n",
      "Epoch:  135\n",
      "Epoch:  136\n",
      "Epoch:  137\n",
      "Epoch:  138\n",
      "Epoch:  139\n",
      "Epoch:  140\n",
      "Epoch:  141\n",
      "Epoch:  142\n",
      "Epoch:  143\n",
      "Epoch:  144\n",
      "Epoch:  145\n",
      "Epoch:  146\n",
      "Epoch:  147\n",
      "Epoch:  148\n",
      "Epoch:  149\n",
      "Epoch:  150\n",
      "Epoch:  151\n",
      "Epoch:  152\n",
      "Epoch:  153\n",
      "Epoch:  154\n",
      "Epoch:  155\n",
      "Epoch:  156\n",
      "Epoch:  157\n",
      "Epoch:  158\n",
      "Epoch:  159\n",
      "Epoch:  160\n",
      "Epoch:  161\n",
      "Epoch:  162\n",
      "Epoch:  163\n",
      "Epoch:  164\n",
      "Epoch:  165\n",
      "Epoch:  166\n",
      "Epoch:  167\n",
      "Epoch:  168\n",
      "Epoch:  169\n",
      "Epoch:  170\n",
      "Epoch:  171\n",
      "Epoch:  172\n",
      "Epoch:  173\n",
      "Epoch:  174\n",
      "Epoch:  175\n",
      "Epoch:  176\n",
      "Epoch:  177\n",
      "Epoch:  178\n",
      "Epoch:  179\n",
      "Epoch:  180\n",
      "Epoch:  181\n",
      "Epoch:  182\n",
      "Epoch:  183\n",
      "Epoch:  184\n",
      "Epoch:  185\n",
      "Epoch:  186\n",
      "Epoch:  187\n",
      "Epoch:  188\n",
      "Epoch:  189\n",
      "Epoch:  190\n",
      "Epoch:  191\n",
      "Epoch:  192\n",
      "Epoch:  193\n",
      "Epoch:  194\n",
      "Epoch:  195\n",
      "Epoch:  196\n",
      "Epoch:  197\n",
      "Epoch:  198\n",
      "Epoch:  199\n"
     ]
    }
   ],
   "source": [
    "epochs = 200\n",
    "batch_size = 100\n",
    "generator_ratio = 2\n",
    "\n",
    "for epoch in range(epochs):\n",
    "    print('Epoch: ',epoch)\n",
    "    for batch in range(len(X)//batch_size):\n",
    "        # normalize data to -1, 1 (works better that way, also in line with tanh output of generator)\n",
    "        x_b = X[batch*batch_size:(batch+1)*batch_size]*2-1\n",
    "        y_b = y[batch*batch_size:(batch+1)*batch_size]\n",
    "        # randomly generate latent values\n",
    "        z = np.random.normal(size=((len(x_b),)+(1,1,100)))\n",
    "        images = generator.predict(z)\n",
    "        # generate labels for discriminator\n",
    "        real = np.ones(len(x_b)) - np.random.random(size=len(x_b))*0.2\n",
    "        fake = np.zeros(len(x_b)) + np.random.random(size=len(x_b))*0.2\n",
    "        \n",
    "        # train discriminator once\n",
    "        discriminator.trainable = True\n",
    "        discriminator.train_on_batch(x_b,real)\n",
    "        discriminator.train_on_batch(images,fake)\n",
    "        \n",
    "        # train generator n times\n",
    "        for i in range(generator_ratio):\n",
    "            discriminator.trainable = False\n",
    "            # generate new images\n",
    "            z = np.random.normal(size=((len(x_b),)+(1,1,100)))\n",
    "            # discriminator should be fooled into accepting those images\n",
    "            fool = np.ones(len(x_b)) - np.random.random(size=len(x_b))*0.2\n",
    "            gan.train_on_batch(z,fool)"
   ]
  },
  {
   "cell_type": "code",
   "execution_count": 43,
   "metadata": {},
   "outputs": [
    {
     "data": {
      "image/png": "[encoded data removed]",
      "text/plain": [
       "<Figure size 1152x432 with 5 Axes>"
      ]
     },
     "metadata": {},
     "output_type": "display_data"
    }
   ],
   "source": [
    "z = np.random.normal(size=(5,1,1,100))\n",
    "\n",
    "im = generator.predict(z)\n",
    "\n",
    "fig, ax = plt.subplots(ncols=5,figsize=(16,6))\n",
    "for i in range(5):\n",
    "    ax[i].imshow(im[i].reshape(28,28),cmap='gray')\n",
    "plt.show()"
   ]
  },
  {
   "cell_type": "code",
   "execution_count": null,
   "metadata": {},
   "outputs": [],
   "source": []
  }
 ],
 "metadata": {
  "kernelspec": {
   "display_name": "Python 3",
   "language": "python",
   "name": "python3"
  },
  "language_info": {
   "codemirror_mode": {
    "name": "ipython",
    "version": 3
   },
   "file_extension": ".py",
   "mimetype": "text/x-python",
   "name": "python",
   "nbconvert_exporter": "python",
   "pygments_lexer": "ipython3",
   "version": "3.6.8"
  }
 },
 "nbformat": 4,
 "nbformat_minor": 2
}
