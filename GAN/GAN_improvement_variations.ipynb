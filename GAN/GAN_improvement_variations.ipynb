{
 "cells": [
  {
   "cell_type": "markdown",
   "metadata": {},
   "source": [
    "## DCGAN\n",
    "### Implemented with Keras"
   ]
  },
  {
   "cell_type": "code",
   "execution_count": 1,
   "metadata": {},
   "outputs": [],
   "source": [
    "import numpy as np\n",
    "import matplotlib.pyplot as plt"
   ]
  },
  {
   "cell_type": "markdown",
   "metadata": {},
   "source": [
    "### MNIST dataset"
   ]
  },
  {
   "cell_type": "code",
   "execution_count": 2,
   "metadata": {},
   "outputs": [],
   "source": [
    "data = np.genfromtxt('train.csv', delimiter=',',skip_header=1)\n",
    "# normalize X\n",
    "X = (data[:,1:]/255).reshape(-1,28,28,1)\n",
    "# one hot encode y\n",
    "y = np.zeros(shape=(len(X),10),dtype=int)\n",
    "y[np.arange(len(data)),data[:,0].astype(int)] = 1\n",
    "# subsample X (for faster training)\n",
    "X_copy = X.copy()\n",
    "mask = np.random.choice(range(len(X)),size=2000)\n",
    "X = X[mask]"
   ]
  },
  {
   "cell_type": "code",
   "execution_count": 3,
   "metadata": {},
   "outputs": [],
   "source": [
    "from keras.models import Model, Sequential\n",
    "from keras.layers import Convolution2D, LeakyReLU, BatchNormalization, Flatten\n",
    "from keras.layers import Dense, Input, Reshape, ReLU, Conv2DTranspose, Activation"
   ]
  },
  {
   "cell_type": "markdown",
   "metadata": {},
   "source": [
    "### Generate models"
   ]
  },
  {
   "cell_type": "code",
   "execution_count": 7,
   "metadata": {},
   "outputs": [],
   "source": [
    "def build_models():\n",
    "    '''Generate keras models for a functional DCGAN'''\n",
    "    # discriminator\n",
    "    input_layer = Input(shape = X[0].shape)\n",
    "    x = Convolution2D(filters=32, kernel_size=(5, 5), strides=(2, 2), padding='same')(input_layer)\n",
    "    x = LeakyReLU(0.2)(x)\n",
    "    x = Convolution2D(filters=64, kernel_size=(5, 5), strides=(2, 2), padding='same')(x)\n",
    "    x = BatchNormalization(momentum=0.5)(x)\n",
    "    x = LeakyReLU(0.2)(x)\n",
    "    x = Convolution2D(filters=128, kernel_size=(5, 5), strides=(2, 2), padding='same')(x)\n",
    "    x = BatchNormalization(momentum=0.5)(x)\n",
    "    x = LeakyReLU(0.2)(x)\n",
    "    x = Flatten()(x)\n",
    "    output = (Dense(1,activation='sigmoid'))(x)\n",
    "\n",
    "    discriminator = Model(inputs=input_layer,outputs=output)\n",
    "    discriminator.compile(optimizer='adam',loss='binary_crossentropy')\n",
    "\n",
    "    # generator\n",
    "    input_layer = Input(shape=(1,1,100))\n",
    "    x = Dense(2048)(input_layer)\n",
    "    x = Reshape(target_shape=(4, 4, 128))(x)\n",
    "    x = BatchNormalization(momentum=0.5)(x)\n",
    "    x = ReLU()(x)\n",
    "    x = Conv2DTranspose(filters=64,kernel_size=(5, 5),strides=(2, 2),padding='same',output_padding=(0,0))(x)\n",
    "    x = BatchNormalization(momentum=0.5)(x)\n",
    "    x = ReLU()(x)\n",
    "    x = Conv2DTranspose(filters=32, kernel_size=(5, 5), strides=(2, 2), padding='same')(x)\n",
    "    x = BatchNormalization(momentum=0.5)(x)\n",
    "    x = ReLU()(x)\n",
    "    x = Conv2DTranspose(filters=1, kernel_size=(5, 5), strides=(2, 2), padding='same')(x)\n",
    "    x = BatchNormalization(momentum=0.5)(x)\n",
    "    output = Activation('tanh')(x)\n",
    "\n",
    "    generator = Model(inputs = input_layer,outputs = output)\n",
    "    generator.compile(optimizer='adam',loss='binary_crossentropy')\n",
    "\n",
    "    # GAN\n",
    "    gan = Sequential()\n",
    "    discriminator.trainable = False\n",
    "    gan.add(generator)\n",
    "    gan.add(discriminator)\n",
    "\n",
    "    gan.compile(optimizer='adam',loss='binary_crossentropy')\n",
    "    \n",
    "    return discriminator, generator, gan"
   ]
  },
  {
   "cell_type": "code",
   "execution_count": 8,
   "metadata": {},
   "outputs": [],
   "source": [
    "discriminator, generator, gan = build_models()"
   ]
  },
  {
   "cell_type": "markdown",
   "metadata": {},
   "source": [
    "### Training - basic"
   ]
  },
  {
   "cell_type": "code",
   "execution_count": 9,
   "metadata": {},
   "outputs": [
    {
     "name": "stdout",
     "output_type": "stream",
     "text": [
      "Epoch:  1\n",
      "Epoch:  11\n",
      "Epoch:  21\n",
      "Epoch:  31\n",
      "Epoch:  41\n",
      "Epoch:  51\n",
      "Epoch:  61\n",
      "Epoch:  71\n",
      "Epoch:  81\n",
      "Epoch:  91\n"
     ]
    }
   ],
   "source": [
    "epochs = 100\n",
    "print_fq = 10\n",
    "batch_size = 100\n",
    "generator_ratio = 2\n",
    "\n",
    "for epoch in range(epochs):\n",
    "    if (epoch%print_fq==0):\n",
    "        print('Epoch: ',epoch+1)\n",
    "    for batch in range(len(X)//batch_size):\n",
    "        # normalize data to -1, 1 (works better that way, also in line with tanh output of generator)\n",
    "        x_b = X[batch*batch_size:(batch+1)*batch_size]*2-1\n",
    "        y_b = y[batch*batch_size:(batch+1)*batch_size]\n",
    "        # randomly generate latent values\n",
    "        z = np.random.normal(size=((len(x_b),)+(1,1,100)))\n",
    "        images = generator.predict(z)\n",
    "        # generate labels for discriminator\n",
    "        real = np.ones(len(x_b)) - np.random.random(size=len(x_b))*0.2\n",
    "        fake = np.zeros(len(x_b)) + np.random.random(size=len(x_b))*0.2\n",
    "        \n",
    "        # train discriminator once\n",
    "        discriminator.trainable = True\n",
    "        discriminator.train_on_batch(x_b,real)\n",
    "        discriminator.train_on_batch(images,fake)\n",
    "        \n",
    "        # train generator n times\n",
    "        for i in range(generator_ratio):\n",
    "            discriminator.trainable = False\n",
    "            # generate new images\n",
    "            z = np.random.normal(size=((len(x_b),)+(1,1,100)))\n",
    "            # discriminator should be fooled into accepting those images\n",
    "            fool = np.ones(len(x_b)) - np.random.random(size=len(x_b))*0.2\n",
    "            gan.train_on_batch(z,fool)"
   ]
  },
  {
   "cell_type": "markdown",
   "metadata": {},
   "source": [
    "### Generated images"
   ]
  },
  {
   "cell_type": "code",
   "execution_count": 10,
   "metadata": {},
   "outputs": [
    {
     "data": {
      "image/png": "[encoded data removed]",
      "text/plain": [
       "<Figure size 1152x432 with 5 Axes>"
      ]
     },
     "metadata": {},
     "output_type": "display_data"
    }
   ],
   "source": [
    "z = np.random.normal(size=(5,1,1,100))\n",
    "\n",
    "im = generator.predict(z)\n",
    "\n",
    "fig, ax = plt.subplots(ncols=5,figsize=(16,6))\n",
    "for i in range(5):\n",
    "    ax[i].imshow(im[i].reshape(28,28),cmap='gray')\n",
    "plt.show()"
   ]
  },
  {
   "cell_type": "markdown",
   "metadata": {},
   "source": [
    "**Note: I did not let the DCGAN train properly to better compare with the variations below**"
   ]
  },
  {
   "cell_type": "markdown",
   "metadata": {},
   "source": [
    "## Variations:"
   ]
  },
  {
   "cell_type": "markdown",
   "metadata": {},
   "source": [
    "### Experience replay"
   ]
  },
  {
   "cell_type": "code",
   "execution_count": 29,
   "metadata": {},
   "outputs": [
    {
     "name": "stdout",
     "output_type": "stream",
     "text": [
      "Epoch:  1\n",
      "Epoch:  11\n",
      "Epoch:  21\n",
      "Epoch:  31\n",
      "Epoch:  41\n",
      "Epoch:  51\n",
      "Epoch:  61\n",
      "Epoch:  71\n",
      "Epoch:  81\n",
      "Epoch:  91\n"
     ]
    }
   ],
   "source": [
    "# reset models\n",
    "discriminator, generator, gan = build_models()\n",
    "\n",
    "# train\n",
    "epochs = 100\n",
    "print_fq = 10\n",
    "batch_size = 100\n",
    "generator_ratio = 2\n",
    "\n",
    "# for experience replay\n",
    "ex_size = 10*batch_size\n",
    "z = np.random.normal(size=(ex_size,)+(1,1,100))\n",
    "experience = generator.predict(z)\n",
    "\n",
    "for epoch in range(epochs):\n",
    "    if (epoch%print_fq==0):\n",
    "        print('Epoch: ',epoch+1)\n",
    "    for batch in range(len(X)//batch_size):\n",
    "        # normalize data to -1, 1 (works better that way, also in line with tanh output of generator)\n",
    "        x_b = X[batch*batch_size:(batch+1)*batch_size]*2-1\n",
    "        y_b = y[batch*batch_size:(batch+1)*batch_size]\n",
    "        # randomly generate images\n",
    "        z = np.random.normal(size=((len(x_b),)+(1,1,100)))\n",
    "        images = generator.predict(z)\n",
    "        # add new images to the beginning of the experience\n",
    "        experience = np.concatenate((images,experience))\n",
    "        # remove oldest images\n",
    "        experience = experience[:ex_size]\n",
    "        # sample images from experience\n",
    "        images = experience[np.random.choice(range(len(experience)),replace=False,size=len(x_b))]\n",
    "        # generate labels for discriminator\n",
    "        real = np.ones(len(x_b)) - np.random.random(size=len(x_b))*0.2\n",
    "        fake = np.zeros(len(x_b)) + np.random.random(size=len(x_b))*0.2\n",
    "        \n",
    "        # train discriminator once\n",
    "        discriminator.trainable = True\n",
    "        discriminator.train_on_batch(x_b,real)\n",
    "        discriminator.train_on_batch(images,fake)\n",
    "        \n",
    "        # train generator n times\n",
    "        for i in range(generator_ratio):\n",
    "            discriminator.trainable = False\n",
    "            # generate new images\n",
    "            z = np.random.normal(size=((len(x_b),)+(1,1,100)))\n",
    "            # discriminator should be fooled into accepting those images\n",
    "            fool = np.ones(len(x_b)) - np.random.random(size=len(x_b))*0.2\n",
    "            gan.train_on_batch(z,fool)"
   ]
  },
  {
   "cell_type": "code",
   "execution_count": 30,
   "metadata": {},
   "outputs": [
    {
     "data": {
      "image/png": "[encoded data removed]",
      "text/plain": [
       "<Figure size 1152x432 with 5 Axes>"
      ]
     },
     "metadata": {},
     "output_type": "display_data"
    }
   ],
   "source": [
    "z = np.random.normal(size=(5,1,1,100))\n",
    "\n",
    "im = generator.predict(z)\n",
    "\n",
    "fig, ax = plt.subplots(ncols=5,figsize=(16,6))\n",
    "for i in range(5):\n",
    "    ax[i].imshow(im[i].reshape(28,28),cmap='gray')\n",
    "plt.show()"
   ]
  },
  {
   "cell_type": "code",
   "execution_count": null,
   "metadata": {},
   "outputs": [],
   "source": [
    "## TBA - conditional GAN\n",
    "\n",
    "#merged_input = Concatenate()([input_layer, condition_layer])\n",
    "\n",
    "# for the D - add the cond to the last dense layer\n"
   ]
  }
 ],
 "metadata": {
  "kernelspec": {
   "display_name": "Python 3",
   "language": "python",
   "name": "python3"
  },
  "language_info": {
   "codemirror_mode": {
    "name": "ipython",
    "version": 3
   },
   "file_extension": ".py",
   "mimetype": "text/x-python",
   "name": "python",
   "nbconvert_exporter": "python",
   "pygments_lexer": "ipython3",
   "version": "3.6.8"
  }
 },
 "nbformat": 4,
 "nbformat_minor": 2
}
