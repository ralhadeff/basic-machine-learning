{
 "cells": [
  {
   "cell_type": "code",
   "execution_count": 1,
   "metadata": {},
   "outputs": [],
   "source": [
    "import numpy as np\n",
    "import matplotlib.pyplot as plt"
   ]
  },
  {
   "cell_type": "code",
   "execution_count": 2,
   "metadata": {},
   "outputs": [
    {
     "data": {
      "text/plain": [
       "(42000, 785)"
      ]
     },
     "execution_count": 2,
     "metadata": {},
     "output_type": "execute_result"
    }
   ],
   "source": [
    "data = np.genfromtxt('train.csv', delimiter=',',skip_header=1)\n",
    "data.shape"
   ]
  },
  {
   "cell_type": "code",
   "execution_count": 3,
   "metadata": {},
   "outputs": [],
   "source": [
    "# normalize X\n",
    "X = (data[:,1:]/255).reshape(-1,28,28,1)\n",
    "# one hot encode y\n",
    "y = np.zeros(shape=(len(X),10),dtype=int)\n",
    "y[np.arange(len(data)),data[:,0].astype(int)] = 1"
   ]
  },
  {
   "cell_type": "code",
   "execution_count": 4,
   "metadata": {},
   "outputs": [
    {
     "data": {
      "image/png": "[encoded data removed]",
      "text/plain": [
       "<Figure size 432x288 with 1 Axes>"
      ]
     },
     "metadata": {},
     "output_type": "display_data"
    },
    {
     "data": {
      "text/plain": [
       "(3, array([0, 0, 0, 1, 0, 0, 0, 0, 0, 0]))"
      ]
     },
     "execution_count": 4,
     "metadata": {},
     "output_type": "execute_result"
    }
   ],
   "source": [
    "# sample image\n",
    "i = np.random.randint(len(X))\n",
    "plt.imshow(X[i].reshape(28,28),cmap='gray')\n",
    "plt.show()\n",
    "np.argmax(y[i]),y[i]"
   ]
  },
  {
   "cell_type": "code",
   "execution_count": 39,
   "metadata": {},
   "outputs": [],
   "source": [
    "from keras.models import Model, Sequential\n",
    "from keras.layers import Convolution2D, LeakyReLU, BatchNormalization, Flatten\n",
    "from keras.layers import Dense, Input, Reshape, ReLU, Conv2DTranspose, Activation"
   ]
  },
  {
   "cell_type": "code",
   "execution_count": 87,
   "metadata": {},
   "outputs": [
    {
     "name": "stdout",
     "output_type": "stream",
     "text": [
      "_________________________________________________________________\n",
      "Layer (type)                 Output Shape              Param #   \n",
      "=================================================================\n",
      "input_19 (InputLayer)        (None, 28, 28, 1)         0         \n",
      "_________________________________________________________________\n",
      "conv2d_13 (Conv2D)           (None, 14, 14, 32)        832       \n",
      "_________________________________________________________________\n",
      "leaky_re_lu_13 (LeakyReLU)   (None, 14, 14, 32)        0         \n",
      "_________________________________________________________________\n",
      "conv2d_14 (Conv2D)           (None, 7, 7, 64)          51264     \n",
      "_________________________________________________________________\n",
      "batch_normalization_62 (Batc (None, 7, 7, 64)          256       \n",
      "_________________________________________________________________\n",
      "leaky_re_lu_14 (LeakyReLU)   (None, 7, 7, 64)          0         \n",
      "_________________________________________________________________\n",
      "conv2d_15 (Conv2D)           (None, 4, 4, 128)         204928    \n",
      "_________________________________________________________________\n",
      "batch_normalization_63 (Batc (None, 4, 4, 128)         512       \n",
      "_________________________________________________________________\n",
      "leaky_re_lu_15 (LeakyReLU)   (None, 4, 4, 128)         0         \n",
      "_________________________________________________________________\n",
      "flatten_5 (Flatten)          (None, 2048)              0         \n",
      "_________________________________________________________________\n",
      "dense_19 (Dense)             (None, 1)                 2049      \n",
      "=================================================================\n",
      "Total params: 259,841\n",
      "Trainable params: 259,457\n",
      "Non-trainable params: 384\n",
      "_________________________________________________________________\n"
     ]
    }
   ],
   "source": [
    "input_layer = Input(shape = X[0].shape)\n",
    "x = Convolution2D(filters=32, kernel_size=(5, 5), strides=(2, 2), padding='same')(input_layer)\n",
    "x = LeakyReLU(0.2)(x)\n",
    "x = Convolution2D(filters=64, kernel_size=(5, 5), strides=(2, 2), padding='same')(x)\n",
    "x = BatchNormalization(momentum=0.5)(x)\n",
    "x = LeakyReLU(0.2)(x)\n",
    "x = Convolution2D(filters=128, kernel_size=(5, 5), strides=(2, 2), padding='same')(x)\n",
    "x = BatchNormalization(momentum=0.5)(x)\n",
    "x = LeakyReLU(0.2)(x)\n",
    "x = Flatten()(x)\n",
    "output = (Dense(1,activation='sigmoid'))(x)\n",
    "\n",
    "discriminator = Model(inputs=input_layer,outputs=output)\n",
    "discriminator.compile(optimizer='adam',loss='binary_crossentropy')\n",
    "\n",
    "discriminator.summary()"
   ]
  },
  {
   "cell_type": "code",
   "execution_count": 88,
   "metadata": {},
   "outputs": [
    {
     "name": "stdout",
     "output_type": "stream",
     "text": [
      "_________________________________________________________________\n",
      "Layer (type)                 Output Shape              Param #   \n",
      "=================================================================\n",
      "input_20 (InputLayer)        (None, 1, 1, 100)         0         \n",
      "_________________________________________________________________\n",
      "dense_20 (Dense)             (None, 1, 1, 2048)        206848    \n",
      "_________________________________________________________________\n",
      "reshape_15 (Reshape)         (None, 4, 4, 128)         0         \n",
      "_________________________________________________________________\n",
      "batch_normalization_64 (Batc (None, 4, 4, 128)         512       \n",
      "_________________________________________________________________\n",
      "re_lu_41 (ReLU)              (None, 4, 4, 128)         0         \n",
      "_________________________________________________________________\n",
      "conv2d_transpose_41 (Conv2DT (None, 7, 7, 64)          204864    \n",
      "_________________________________________________________________\n",
      "batch_normalization_65 (Batc (None, 7, 7, 64)          256       \n",
      "_________________________________________________________________\n",
      "re_lu_42 (ReLU)              (None, 7, 7, 64)          0         \n",
      "_________________________________________________________________\n",
      "conv2d_transpose_42 (Conv2DT (None, 14, 14, 32)        51232     \n",
      "_________________________________________________________________\n",
      "batch_normalization_66 (Batc (None, 14, 14, 32)        128       \n",
      "_________________________________________________________________\n",
      "re_lu_43 (ReLU)              (None, 14, 14, 32)        0         \n",
      "_________________________________________________________________\n",
      "conv2d_transpose_43 (Conv2DT (None, 28, 28, 1)         801       \n",
      "_________________________________________________________________\n",
      "batch_normalization_67 (Batc (None, 28, 28, 1)         4         \n",
      "_________________________________________________________________\n",
      "activation_14 (Activation)   (None, 28, 28, 1)         0         \n",
      "=================================================================\n",
      "Total params: 464,645\n",
      "Trainable params: 464,195\n",
      "Non-trainable params: 450\n",
      "_________________________________________________________________\n"
     ]
    }
   ],
   "source": [
    "input_layer = Input(shape=(1,1,100))\n",
    "x = Dense(2048)(input_layer)\n",
    "x = Reshape(target_shape=(4, 4, 128))(x)\n",
    "x = BatchNormalization(momentum=0.5)(x)\n",
    "x = ReLU()(x)\n",
    "x = Conv2DTranspose(filters=64, kernel_size=(5, 5), strides=(2, 2), padding='same', output_padding=(0,0))(x)\n",
    "x = BatchNormalization(momentum=0.5)(x)\n",
    "x = ReLU()(x)\n",
    "x = Conv2DTranspose(filters=32, kernel_size=(5, 5), strides=(2, 2), padding='same')(x)\n",
    "x = BatchNormalization(momentum=0.5)(x)\n",
    "x = ReLU()(x)\n",
    "x = Conv2DTranspose(filters=1, kernel_size=(5, 5), strides=(2, 2), padding='same')(x)\n",
    "x = BatchNormalization(momentum=0.5)(x)\n",
    "output = Activation('tanh')(x)\n",
    "\n",
    "generator = Model(inputs = input_layer,outputs = output)\n",
    "generator.compile(optimizer='adam',loss='binary_crossentropy')\n",
    "generator.summary()"
   ]
  },
  {
   "cell_type": "code",
   "execution_count": 89,
   "metadata": {},
   "outputs": [
    {
     "data": {
      "text/plain": [
       "array([[0.5060192 ],\n",
       "       [0.49922177],\n",
       "       [0.5068962 ],\n",
       "       [0.49625048],\n",
       "       [0.49596238],\n",
       "       [0.5023812 ],\n",
       "       [0.49835512],\n",
       "       [0.50258064],\n",
       "       [0.50235635],\n",
       "       [0.49421123]], dtype=float32)"
      ]
     },
     "execution_count": 89,
     "metadata": {},
     "output_type": "execute_result"
    }
   ],
   "source": [
    "discriminator.predict(X[:10])"
   ]
  },
  {
   "cell_type": "code",
   "execution_count": 90,
   "metadata": {},
   "outputs": [
    {
     "data": {
      "image/png": "[encoded data removed]",
      "text/plain": [
       "<Figure size 432x288 with 1 Axes>"
      ]
     },
     "metadata": {},
     "output_type": "display_data"
    }
   ],
   "source": [
    "z = np.random.normal(size=(1,1,1,100))\n",
    "\n",
    "im = generator.predict(z)\n",
    "\n",
    "plt.imshow(im[0].reshape(28,28),cmap='gray')\n",
    "plt.show()"
   ]
  },
  {
   "cell_type": "code",
   "execution_count": null,
   "metadata": {},
   "outputs": [
    {
     "data": {
      "text/plain": [
       "array([[0.49979314]], dtype=float32)"
      ]
     },
     "execution_count": 91,
     "metadata": {},
     "output_type": "execute_result"
    }
   ],
   "source": [
    "gan = Sequential()\n",
    "discriminator.trainable = False\n",
    "gan.add(generator)\n",
    "gan.add(discriminator)\n",
    "\n",
    "gan.compile(optimizer='adam',loss='binary_crossentropy')\n",
    "\n",
    "gan.predict(z)"
   ]
  },
  {
   "cell_type": "code",
   "execution_count": null,
   "metadata": {},
   "outputs": [
    {
     "name": "stdout",
     "output_type": "stream",
     "text": [
      "Epoch:  0\n",
      "\tBatch:  0\n",
      "\tBatch:  1\n",
      "\tBatch:  2\n",
      "\tBatch:  3\n",
      "\tBatch:  4\n",
      "\tBatch:  5\n",
      "\tBatch:  6\n",
      "\tBatch:  7\n",
      "\tBatch:  8\n",
      "\tBatch:  9\n",
      "\tBatch:  10\n",
      "\tBatch:  11\n",
      "\tBatch:  12\n",
      "\tBatch:  13\n",
      "\tBatch:  14\n",
      "\tBatch:  15\n",
      "\tBatch:  16\n",
      "\tBatch:  17\n",
      "\tBatch:  18\n",
      "\tBatch:  19\n",
      "\tBatch:  20\n",
      "\tBatch:  21\n",
      "\tBatch:  22\n",
      "\tBatch:  23\n",
      "\tBatch:  24\n",
      "\tBatch:  25\n",
      "\tBatch:  26\n",
      "\tBatch:  27\n",
      "\tBatch:  28\n",
      "\tBatch:  29\n",
      "\tBatch:  30\n",
      "\tBatch:  31\n",
      "\tBatch:  32\n",
      "\tBatch:  33\n",
      "\tBatch:  34\n",
      "\tBatch:  35\n",
      "\tBatch:  36\n",
      "\tBatch:  37\n",
      "\tBatch:  38\n",
      "\tBatch:  39\n",
      "\tBatch:  40\n",
      "\tBatch:  41\n",
      "Epoch:  1\n",
      "\tBatch:  0\n",
      "\tBatch:  1\n",
      "\tBatch:  2\n",
      "\tBatch:  3\n",
      "\tBatch:  4\n",
      "\tBatch:  5\n",
      "\tBatch:  6\n",
      "\tBatch:  7\n",
      "\tBatch:  8\n",
      "\tBatch:  9\n",
      "\tBatch:  10\n",
      "\tBatch:  11\n",
      "\tBatch:  12\n",
      "\tBatch:  13\n",
      "\tBatch:  14\n",
      "\tBatch:  15\n",
      "\tBatch:  16\n"
     ]
    }
   ],
   "source": [
    "epochs = 10\n",
    "batch_size = 1000\n",
    "generator_ratio = 2\n",
    "\n",
    "for epoch in range(epochs):\n",
    "    print('Epoch: ',epoch)\n",
    "    for batch in range(len(X)//batch_size):\n",
    "        print('\\tBatch: ',batch)\n",
    "        # normalize data to -1, 1 (works better that way, also in line with tanh output of generator)\n",
    "        x_b = X[batch*batch_size:(batch+1)*batch_size]*2-1\n",
    "        y_b = y[batch*batch_size:(batch+1)*batch_size]\n",
    "        # randomly generate latent values\n",
    "        z = np.random.normal(size=((len(x_b),)+(1,1,100)))\n",
    "        images = generator.predict(z)\n",
    "        # generate labels for discriminator\n",
    "        real = np.ones(len(x_b)) # noise? - np.random.random(size=len(x_b))*0.2\n",
    "        fake = np.zeros(len(x_b)) # noise? + np.random.random(size=len(x_b))*0.2\n",
    "        \n",
    "        # train discriminator once\n",
    "        discriminator.trainable = True\n",
    "        discriminator.train_on_batch(x_b,real)\n",
    "        discriminator.train_on_batch(images,fake)\n",
    "        \n",
    "        # train generator n times\n",
    "        for i in range(generator_ratio):\n",
    "            discriminator.trainable = False\n",
    "            # generate new images\n",
    "            # TODO see if I can reuse the images from above\n",
    "            z = np.random.normal(size=((len(x_b),)+(1,1,100)))\n",
    "            # discriminator should be fooled into accepting those images\n",
    "            fool = np.ones(len(x_b)) # noise? - np.random.random(size=len(x_b))*0.2\n",
    "            gan.train_on_batch(z,fool)"
   ]
  },
  {
   "cell_type": "code",
   "execution_count": 86,
   "metadata": {},
   "outputs": [
    {
     "data": {
      "image/png": "[encoded data removed]",
      "text/plain": [
       "<Figure size 432x288 with 1 Axes>"
      ]
     },
     "metadata": {},
     "output_type": "display_data"
    }
   ],
   "source": [
    "z = np.random.normal(size=(1,1,1,100))\n",
    "\n",
    "im = generator.predict(z)\n",
    "\n",
    "plt.imshow(im[0].reshape(28,28),cmap='gray')\n",
    "plt.show()"
   ]
  },
  {
   "cell_type": "code",
   "execution_count": null,
   "metadata": {},
   "outputs": [],
   "source": []
  }
 ],
 "metadata": {
  "kernelspec": {
   "display_name": "Python 3",
   "language": "python",
   "name": "python3"
  },
  "language_info": {
   "codemirror_mode": {
    "name": "ipython",
    "version": 3
   },
   "file_extension": ".py",
   "mimetype": "text/x-python",
   "name": "python",
   "nbconvert_exporter": "python",
   "pygments_lexer": "ipython3",
   "version": "3.6.8"
  }
 },
 "nbformat": 4,
 "nbformat_minor": 2
}
