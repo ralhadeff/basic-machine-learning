{
 "cells": [
  {
   "cell_type": "markdown",
   "metadata": {},
   "source": [
    "# Eclat"
   ]
  },
  {
   "cell_type": "code",
   "execution_count": 1,
   "metadata": {},
   "outputs": [],
   "source": [
    "import numpy as np\n",
    "\n",
    "from eclat import Eclat"
   ]
  },
  {
   "cell_type": "markdown",
   "metadata": {},
   "source": [
    "### Generate data"
   ]
  },
  {
   "cell_type": "markdown",
   "metadata": {},
   "source": [
    "Generate lists of made-up items (with random names) that have some inheret associate to them (by comparing the similarity of their factors"
   ]
  },
  {
   "cell_type": "code",
   "execution_count": 3,
   "metadata": {},
   "outputs": [],
   "source": [
    "# item codes\n",
    "items = np.arange(3,49,2)\n",
    "\n",
    "# item names\n",
    "names = []\n",
    "for i in items:\n",
    "    name = \"\".join([chr(i) for i in np.random.randint(65,91,size=4)])\n",
    "    names.append(name)\n",
    "\n",
    "# helper methods\n",
    "\n",
    "def factorize(num):\n",
    "    # return a list of all factors of given integer\n",
    "    factors = []\n",
    "    while(num>1):\n",
    "        for i in range(2,num+1):\n",
    "            if (num%i==0):\n",
    "                factors.append(i)\n",
    "                num = num//i\n",
    "                break\n",
    "    return factors\n",
    "\n",
    "def compare_factores(a,b):\n",
    "    # count percentage identity of the numbers in the two given lists \n",
    "    # lists are assumed to be ordered\n",
    "    a = a.copy()\n",
    "    b = b.copy()\n",
    "    before = len(a) + len(b)\n",
    "    after = 0\n",
    "    while (len(a)>0):\n",
    "        i = a.pop()\n",
    "        f = -1\n",
    "        for idx in range(len(b)):\n",
    "            j = b[idx]\n",
    "            if (i==j):\n",
    "                f = idx\n",
    "                break\n",
    "        if (f>-1):\n",
    "            b.pop(f)\n",
    "        else:\n",
    "            after+=1\n",
    "    after += len(a) + len(b)\n",
    "    return 1-after/before\n",
    "\n",
    "def similarity(a,b,minimum=0.05):\n",
    "    # give two numbers, return the percentage similiarity of their factors\n",
    "    # normalized with a minimum similarity\n",
    "    sim = compare_factores(factorize(a),factorize(b))\n",
    "    sim = (sim+minimum)/(1+minimum)\n",
    "    return sim\n",
    "\n",
    "def generate_purchase():\n",
    "    # generate a 'shopping list' - all items purchased by sampled user\n",
    "    purch = []\n",
    "\n",
    "    # inflate, to increase the amount of items purchased\n",
    "    inflate = np.random.random() + 0.25\n",
    "    \n",
    "    # start with one random item\n",
    "    start = np.random.randint(len(items))\n",
    "    purch.append(start)\n",
    "    # shuffle the other items\n",
    "    shuffled = np.arange(len(items))\n",
    "    np.random.shuffle(shuffled)\n",
    "    # add items based on inheret association with already purchased items (so far, one iteration)\n",
    "    for idx in shuffled:\n",
    "        if (idx not in purch):\n",
    "            i = items[idx]\n",
    "            chance = 0\n",
    "            counter = 0\n",
    "            for j in purch:\n",
    "                chance+= similarity(i,items[j])\n",
    "                counter+=1\n",
    "            chance/=counter\n",
    "            if (np.random.random()*inflate < chance):\n",
    "                purch.append(idx)\n",
    "    # convert to names\n",
    "    purch = [names[i] for i in purch]\n",
    "    return(purch)  \n",
    "\n",
    "# data generation\n",
    "# generate shopping lists\n",
    "people = []\n",
    "for i in range(1000):\n",
    "    people.append(generate_purchase())"
   ]
  },
  {
   "cell_type": "markdown",
   "metadata": {},
   "source": [
    "### Fit"
   ]
  },
  {
   "cell_type": "code",
   "execution_count": 9,
   "metadata": {},
   "outputs": [],
   "source": [
    "eclat = Eclat()\n",
    "eclat.fit(people,0.16,4,6)"
   ]
  },
  {
   "cell_type": "markdown",
   "metadata": {},
   "source": [
    "### Observe rules"
   ]
  },
  {
   "cell_type": "code",
   "execution_count": 11,
   "metadata": {},
   "outputs": [
    {
     "data": {
      "text/plain": [
       "[{'KPJW', 'QCZK', 'RXPQ', 'WPAZ'},\n",
       " {'KPJW', 'QIXI', 'RXPQ', 'WPAZ'},\n",
       " {'KPJW', 'RXPQ', 'SOII', 'WPAZ'},\n",
       " {'NXOC', 'QCZK', 'QIXI', 'RURM', 'WPAZ'},\n",
       " {'NXOC', 'QCZK', 'QIXI', 'RURM', 'RXPQ'},\n",
       " {'NXOC', 'QIXI', 'RURM', 'RXPQ', 'WPAZ'},\n",
       " {'KPJW', 'NXOC', 'RURM', 'RXPQ', 'WPAZ'},\n",
       " {'NXOC', 'QCZK', 'QIXI', 'RXPQ', 'WPAZ'}]"
      ]
     },
     "execution_count": 11,
     "metadata": {},
     "output_type": "execute_result"
    }
   ],
   "source": [
    "# subset of 4- and 5-item groups\n",
    "(eclat.groups[-8:])"
   ]
  },
  {
   "cell_type": "markdown",
   "metadata": {},
   "source": [
    "**Making sense of data, based on the inherent associations**"
   ]
  },
  {
   "cell_type": "code",
   "execution_count": 12,
   "metadata": {},
   "outputs": [
    {
     "name": "stdout",
     "output_type": "stream",
     "text": [
      "[33, 27, 3, 15]\n",
      "[33, 3, 9, 15]\n",
      "[33, 39, 3, 15]\n",
      "[21, 27, 45, 3, 9]\n",
      "[21, 27, 45, 15, 9]\n",
      "[21, 3, 45, 15, 9]\n",
      "[21, 33, 3, 45, 15]\n",
      "[27, 3, 45, 15, 9]\n"
     ]
    }
   ],
   "source": [
    "for a in eclat.groups[-8:]:\n",
    "    print([items[names.index(j)] for j in a])"
   ]
  },
  {
   "cell_type": "markdown",
   "metadata": {},
   "source": [
    "**Important note: the Eclat object recieved only the names, and had no prior knowledge of these built-in relationships**"
   ]
  }
 ],
 "metadata": {
  "kernelspec": {
   "display_name": "Python 3",
   "language": "python",
   "name": "python3"
  },
  "language_info": {
   "codemirror_mode": {
    "name": "ipython",
    "version": 3
   },
   "file_extension": ".py",
   "mimetype": "text/x-python",
   "name": "python",
   "nbconvert_exporter": "python",
   "pygments_lexer": "ipython3",
   "version": "3.6.8"
  }
 },
 "nbformat": 4,
 "nbformat_minor": 2
}
