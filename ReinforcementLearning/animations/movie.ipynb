{
 "cells": [
  {
   "cell_type": "markdown",
   "metadata": {},
   "source": [
    "# Reinforcement learning\n",
    "### Snake - Monte Carlo\n",
    "Play games and iteratively improve the state values and corresponding policy"
   ]
  },
  {
   "cell_type": "code",
   "execution_count": 1,
   "metadata": {},
   "outputs": [],
   "source": [
    "import numpy as np\n",
    "import random\n",
    "import matplotlib.pyplot as plt\n",
    "from matplotlib.animation import FuncAnimation\n",
    "from matplotlib import animation\n",
    "from IPython.display import HTML, Image"
   ]
  },
  {
   "cell_type": "markdown",
   "metadata": {},
   "source": [
    "### Setup"
   ]
  },
  {
   "cell_type": "code",
   "execution_count": 12,
   "metadata": {},
   "outputs": [],
   "source": [
    "'''Modified with improved 'graphics' '''\n",
    "\n",
    "import numpy as np\n",
    "\n",
    "im = 5\n",
    "\n",
    "class Game():\n",
    "    \n",
    "    def __init__(self,grid,snake_size, snake_pad=2):\n",
    "        self.board = np.ones((grid,grid,3))\n",
    "        self.image = np.ones((grid*im,grid*im,3))\n",
    "        self.snake = Snake(self.board,snake_size)\n",
    "        self.pad = snake_pad\n",
    "        self.apple = None\n",
    "        self.score = 0\n",
    "        self.total = 0\n",
    "        self.deaths = 0\n",
    "\n",
    "    def reset(self):\n",
    "        self.snake.reset(self.pad)\n",
    "        self.spawn_apple()\n",
    "\n",
    "    def draw(self):\n",
    "        # white background\n",
    "        self.board[:,:,:] = 1\n",
    "        self.image[:,:,:] = 1\n",
    "        # black snake\n",
    "        \n",
    "        # head\n",
    "        x,y = self.snake.pos\n",
    "        self.board[x,y,:] = 0\n",
    "        self.image[x*im:(x+1)*im,y*im:(y+1)*im,:] = 0\n",
    "        d = self.snake.d\n",
    "        xx,yy = [((x+1)*im-1,(y+1)*im-1),((x)*im,(y+1)*im-1),(x*im,y*im),(x*im,y*im)][d]\n",
    "        self.image[xx,yy,:] = 1\n",
    "        xx,yy = [((x+1)*im-1,y*im),((x+1)*im-1,(y+1)*im-1),(x*im,(y+1)*im-1),((x+1)*im-1,y*im)][d]\n",
    "        self.image[xx,yy,:] = 1\n",
    "\n",
    "        for s in self.snake.segments[1:]:\n",
    "            x,y = s\n",
    "            self.board[x,y,:] = 0\n",
    "            self.image[x*im:(x+1)*im,y*im:(y+1)*im,:] = 0\n",
    "        # tail\n",
    "        if (len(self.snake.segments)>0):\n",
    "            x,y = self.snake.segments[0]\n",
    "            self.board[x,y,:] = 0    \n",
    "            #self.image[x*im:(x+1)*im,y*im:(y+1)*im,1] = 0\n",
    "            if (len(self.snake.segments)>1):\n",
    "                n,m = self.snake.segments[1]\n",
    "            else:\n",
    "                n,m = self.snake.pos\n",
    "            if (n==x and m>y):\n",
    "                self.image[x*im:(x+1)*im,(y+1)*im-1,:] = 0\n",
    "                self.image[x*im+1:(x+1)*im-1,(y+1)*im-2,:] = 0\n",
    "                self.image[x*im+1:(x+1)*im-1,(y+1)*im-3,:] = 0\n",
    "                self.image[x*im+2:(x+1)*im-2,(y+1)*im-4,:] = 0\n",
    "                self.image[x*im+2:(x+1)*im-2,(y+1)*im-5,:] = 0\n",
    "            elif (n==x and m<y):\n",
    "                self.image[x*im:(x+1)*im,(y+1)*im-5,:] = 0\n",
    "                self.image[x*im+1:(x+1)*im-1,(y+1)*im-4,:] = 0\n",
    "                self.image[x*im+1:(x+1)*im-1,(y+1)*im-3,:] = 0\n",
    "                self.image[x*im+2:(x+1)*im-2,(y+1)*im-2,:] = 0\n",
    "                self.image[x*im+2:(x+1)*im-2,(y+1)*im-1,:] = 0\n",
    "            elif (n<x and m==y):\n",
    "                self.image[(x+1)*im-5,y*im:(y+1)*im,:] = 0\n",
    "                self.image[(x+1)*im-4,y*im+1:(y+1)*im-1,:] = 0\n",
    "                self.image[(x+1)*im-3,y*im+1:(y+1)*im-1,:] = 0\n",
    "                self.image[(x+1)*im-2,y*im+2:(y+1)*im-2,:] = 0\n",
    "                self.image[(x+1)*im-1,y*im+2:(y+1)*im-2,:] = 0\n",
    "            elif (n>x and m==y):\n",
    "                self.image[(x+1)*im-1,y*im:(y+1)*im,:] = 0\n",
    "                self.image[(x+1)*im-2,y*im+1:(y+1)*im-1,:] = 0\n",
    "                self.image[(x+1)*im-3,y*im+1:(y+1)*im-1,:] = 0\n",
    "                self.image[(x+1)*im-4,y*im+2:(y+1)*im-2,:] = 0\n",
    "                self.image[(x+1)*im-5,y*im+2:(y+1)*im-2,:] = 0\n",
    "                \n",
    "        # red apple\n",
    "        x,y = self.apple\n",
    "        self.board[x,y,1:] = 0\n",
    "        self.image[x*im:(x+1)*im,y*im:(y+1)*im,1:] = 0\n",
    "        for i in range(2):\n",
    "            for j in range(2):\n",
    "                self.image[(x+i)*im-i,(y+j)*im-j,:] = 1\n",
    "\n",
    "    def spawn_apple(self):\n",
    "        # dummy x,y for while loop\n",
    "        x,y = self.snake.pos\n",
    "        # keep generating new apples until a free cell is rolled\n",
    "        while ((x,y) in self.snake.segments+[self.snake.pos]):\n",
    "            x = np.random.randint(self.board.shape[0])\n",
    "            y = np.random.randint(self.board.shape[1])\n",
    "        self.apple = np.array([x,y],dtype=int)\n",
    "\n",
    "    def iterate(self):\n",
    "        reward = 0\n",
    "        episode = 0\n",
    "        # move snake\n",
    "        self.snake.move()\n",
    "        # check death condition\n",
    "        grid = len(self.board)\n",
    "        p = self.snake.pos\n",
    "        a = self.apple\n",
    "        if ((p[0]<0 or p[0]>=grid or p[1]<0 or p[1]>=grid) or (p in self.snake.segments)):\n",
    "            self.lose()\n",
    "            episode = -1\n",
    "            reward = -1\n",
    "        elif (p == a).all():\n",
    "            # eat apple\n",
    "            self.eat()\n",
    "            episode = 1\n",
    "            reward = 1\n",
    "        return reward, episode\n",
    "\n",
    "    def lose(self):\n",
    "        self.reset()\n",
    "        self.score=0\n",
    "        self.deaths+=1\n",
    "\n",
    "    def eat(self):\n",
    "        self.snake.eat()\n",
    "        self.score+=1\n",
    "        self.total+=1\n",
    "        old = self.apple\n",
    "        self.spawn_apple()\n",
    "\n",
    "    def get_state(self):\n",
    "        grid = len(self.board)\n",
    "        state = np.zeros(6)\n",
    "        x,y = self.snake.pos\n",
    "        'S,E,N,W'\n",
    "        if ((x+1,y) in self.snake.segments or x+1>=grid):\n",
    "            state[0] = 1\n",
    "        if ((x-1,y) in self.snake.segments or x-1<0):\n",
    "            state[2] = 1\n",
    "        if ((x,y+1) in self.snake.segments or y+1>=grid):\n",
    "            state[1] = 1\n",
    "        if ((x,y-1) in self.snake.segments or y-1<0):\n",
    "            state[3] = 1\n",
    "        state[4] = np.sign(x-self.apple[0])\n",
    "        state[5] = np.sign(y-self.apple[1])\n",
    "        return state\n",
    "\n",
    "class Snake():\n",
    "    \n",
    "    movement = ([[1,0],[0,1],[-1,0],[0,-1]])\n",
    "    \n",
    "    def __init__(self,board,starting_size):\n",
    "        # the board on which the snake is moving\n",
    "        self.grid = board.shape\n",
    "        # position of head\n",
    "        self.pos = None\n",
    "        # direction facing\n",
    "        self.d = 0\n",
    "        # number of tail segments\n",
    "        self.size = starting_size\n",
    "        self.s_size = starting_size\n",
    "        # position of tail segments\n",
    "        self.segments = []\n",
    "    \n",
    "    def reset(self,pad=2):\n",
    "        # pad starting position\n",
    "        x = np.random.randint(pad,self.grid[0]-pad)\n",
    "        y = np.random.randint(pad,self.grid[1]-pad)\n",
    "        self.pos = (x,y)\n",
    "        self.d = np.random.randint(4)\n",
    "        self.size = self.s_size\n",
    "        self.segments = []\n",
    "        \n",
    "    def move(self):\n",
    "        # add head's position to segments\n",
    "        self.segments.append(self.pos)\n",
    "        # move head\n",
    "        x,y = self.pos\n",
    "        dx,dy = self.movement[self.d]\n",
    "        self.pos = (x+dx,y+dy)\n",
    "        # remove one segment if needed\n",
    "        seg = None\n",
    "        if (len(self.segments)>self.size):\n",
    "            seg = self.segments.pop(0)\n",
    "        # return new position and position that has been cleared\n",
    "        return self.pos, seg\n",
    "    \n",
    "    def eat(self):\n",
    "        self.size+=1"
   ]
  },
  {
   "cell_type": "code",
   "execution_count": 13,
   "metadata": {},
   "outputs": [],
   "source": [
    "# modified dictionary that incorporates random defaults and epsilon greedy\n",
    "class Policy(dict):\n",
    "    \n",
    "    import random\n",
    "    \n",
    "    def __init__(self,actions,epsilon=0.1):\n",
    "        '''\n",
    "        A policy with built in epsilon greedy and a uniform random choice for non initialized keys \n",
    "        actions - list of all possible actions\n",
    "        epsilon - chance for explore\n",
    "        '''\n",
    "        self.actions = actions\n",
    "        self.eps = epsilon\n",
    "        super().__init__(self)\n",
    "        \n",
    "    def __getitem__(self, key):\n",
    "        c = random.random()\n",
    "        if (c<self.eps or key not in self):\n",
    "            return self.actions[random.randint(0,len(self.actions)-1)]\n",
    "        else:\n",
    "            return super().__getitem__(key)"
   ]
  },
  {
   "cell_type": "code",
   "execution_count": 52,
   "metadata": {},
   "outputs": [],
   "source": [
    "# game parameters\n",
    "grid = 8\n",
    "s_size = 3\n",
    "# start game\n",
    "game = Game(grid, s_size)\n",
    "game.reset()\n",
    "\n",
    "# discount factor\n",
    "g = 0.9\n",
    "\n",
    "# initialize policy\n",
    "policy = Policy([0,1,2,3])\n",
    "\n",
    "# dummy state for a lost game\n",
    "LOSS = tuple(np.ones(6)*-1)"
   ]
  },
  {
   "cell_type": "markdown",
   "metadata": {},
   "source": [
    "### Learning"
   ]
  },
  {
   "cell_type": "code",
   "execution_count": 53,
   "metadata": {},
   "outputs": [
    {
     "name": "stdout",
     "output_type": "stream",
     "text": [
      "0 2 0\n",
      "1000 22 3\n",
      "2000 13 1\n",
      "3000 4 0\n",
      "4000 21 2\n",
      "5000 9 1\n",
      "6000 5 0\n",
      "7000 8 1\n",
      "8000 23 2\n",
      "9000 19 3\n",
      "10000 19 4\n",
      "11000 66 10\n",
      "12000 29 5\n",
      "13000 38 5\n",
      "14000 29 5\n",
      "15000 33 6\n",
      "16000 10 2\n",
      "17000 34 5\n",
      "18000 12 2\n",
      "19000 19 2\n"
     ]
    }
   ],
   "source": [
    "# aggregated values for states and actions\n",
    "agg = {}\n",
    "# calculated Q values\n",
    "Q = {}\n",
    "\n",
    "# initialize policy\n",
    "policy = Policy([0,1,2,3])\n",
    "\n",
    "# run MC loop\n",
    "for i in range(20000):\n",
    "    # play one episode\n",
    "    # game log\n",
    "    history = []\n",
    "    r = 0\n",
    "    score = 0\n",
    "    turns = 0\n",
    "    while (True):\n",
    "        # count turns (success in terms of not dying)\n",
    "        turns+=1\n",
    "        # count score\n",
    "        if (game.score>score):\n",
    "            score = game.score\n",
    "        # get current state\n",
    "        s = tuple(game.get_state())\n",
    "        # choose action\n",
    "        a = policy[s]\n",
    "        # update history before moving to the next state\n",
    "        history.append((s,r,a))\n",
    "        # apply action\n",
    "        game.snake.d = a\n",
    "        # run one game step, get reward and check if episode is finished\n",
    "        r,e = game.iterate() \n",
    "        if (e==-1):\n",
    "            # game is lost, add final dummy state\n",
    "            history.append((LOSS,r,0))\n",
    "            # start a new episode\n",
    "            break\n",
    "        if (e==1):\n",
    "            # eat apple, add modified state\n",
    "            eat = np.array(s)\n",
    "            eat[-2:] = 0\n",
    "            history.append((tuple(eat),r,0))\n",
    "            r = 0\n",
    "    # update Q returns (values for this episode)\n",
    "    q_values = []\n",
    "    value = 0\n",
    "    for s,r,a in reversed(history):\n",
    "        q_values.append((s,a,value))\n",
    "        # update value\n",
    "        value = r + g*value\n",
    "    q_values.reverse()\n",
    "    # update aggregated q_values\n",
    "    for s,a,v in q_values:\n",
    "        # aggregated values\n",
    "        if ((s,a) in agg):\n",
    "            agg[(s,a)].append(v)\n",
    "        else:\n",
    "            agg[(s,a)] = [v]\n",
    "        # average\n",
    "        if (s in Q):\n",
    "            Q[s][a] = np.mean(agg[(s,a)])\n",
    "        else:\n",
    "            Q[s] = {}\n",
    "            Q[s][a] = np.mean(agg[(s,a)])\n",
    "    # update policy\n",
    "    for s in Q:\n",
    "        aq = ([i for i in Q[s].items()])\n",
    "        a = np.argmax([i[1] for i in aq])\n",
    "        policy[s] = [i[0] for i in aq][a]\n",
    "    # print progress\n",
    "    if (i%1000==0):\n",
    "        print(i,turns,score)"
   ]
  },
  {
   "cell_type": "markdown",
   "metadata": {},
   "source": [
    "### Animation"
   ]
  },
  {
   "cell_type": "code",
   "execution_count": 54,
   "metadata": {},
   "outputs": [
    {
     "data": {
      "image/png": "[encoded data removed]",
      "text/plain": [
       "<Figure size 432x288 with 1 Axes>"
      ]
     },
     "metadata": {
      "needs_background": "light"
     },
     "output_type": "display_data"
    }
   ],
   "source": [
    "# render a game animation\n",
    "fig, ax = plt.subplots()\n",
    "image = ax.imshow(game.image)\n",
    "\n",
    "g = Game(grid, s_size)\n",
    "g.reset()\n",
    "\n",
    "policy.eps = 0\n",
    "\n",
    "def init():\n",
    "    image.set_data(g.image)\n",
    "    return (image,)\n",
    "\n",
    "def animate(i):\n",
    "    s = g.get_state()\n",
    "    a = policy[tuple(s)]\n",
    "    g.snake.d = a\n",
    "    g.iterate() \n",
    "    g.draw()\n",
    "    image.set_data(g.image)\n",
    "    \n",
    "    return (image,)\n",
    "\n",
    "anim = animation.FuncAnimation(fig, animate, init_func=init,\n",
    "                               frames=600, interval=120, \n",
    "                               blit=True)"
   ]
  },
  {
   "cell_type": "code",
   "execution_count": 55,
   "metadata": {},
   "outputs": [],
   "source": [
    "anim.save('./movies/iter20000.gif', writer='imagemagick', fps=18)"
   ]
  },
  {
   "cell_type": "code",
   "execution_count": 56,
   "metadata": {},
   "outputs": [
    {
     "data": {
      "text/html": [
       "<img src=\"./movies/iter20000.gif\"/>"
      ],
      "text/plain": [
       "<IPython.core.display.Image object>"
      ]
     },
     "execution_count": 56,
     "metadata": {},
     "output_type": "execute_result"
    }
   ],
   "source": [
    "Image(url='./movies/iter20000.gif')"
   ]
  },
  {
   "cell_type": "code",
   "execution_count": 51,
   "metadata": {},
   "outputs": [
    {
     "data": {
      "text/html": [
       "<img src=\"./movies/iter5000.gif\"/>"
      ],
      "text/plain": [
       "<IPython.core.display.Image object>"
      ]
     },
     "execution_count": 51,
     "metadata": {},
     "output_type": "execute_result"
    }
   ],
   "source": [
    "Image(url='./movies/iter5000.gif')"
   ]
  },
  {
   "cell_type": "code",
   "execution_count": 46,
   "metadata": {},
   "outputs": [
    {
     "data": {
      "text/html": [
       "<img src=\"./movies/iter1000.gif\"/>"
      ],
      "text/plain": [
       "<IPython.core.display.Image object>"
      ]
     },
     "execution_count": 46,
     "metadata": {},
     "output_type": "execute_result"
    }
   ],
   "source": [
    "Image(url='./movies/iter1000.gif')"
   ]
  },
  {
   "cell_type": "code",
   "execution_count": 41,
   "metadata": {},
   "outputs": [
    {
     "data": {
      "text/html": [
       "<img src=\"./movies/iter100.gif\"/>"
      ],
      "text/plain": [
       "<IPython.core.display.Image object>"
      ]
     },
     "execution_count": 41,
     "metadata": {},
     "output_type": "execute_result"
    }
   ],
   "source": [
    "Image(url='./movies/iter100.gif')"
   ]
  },
  {
   "cell_type": "code",
   "execution_count": 35,
   "metadata": {},
   "outputs": [
    {
     "data": {
      "text/html": [
       "<img src=\"./movies/iter1.gif\"/>"
      ],
      "text/plain": [
       "<IPython.core.display.Image object>"
      ]
     },
     "execution_count": 35,
     "metadata": {},
     "output_type": "execute_result"
    }
   ],
   "source": [
    "Image(url='./movies/iter1.gif')"
   ]
  },
  {
   "cell_type": "code",
   "execution_count": null,
   "metadata": {},
   "outputs": [],
   "source": []
  }
 ],
 "metadata": {
  "kernelspec": {
   "display_name": "Python 3",
   "language": "python",
   "name": "python3"
  },
  "language_info": {
   "codemirror_mode": {
    "name": "ipython",
    "version": 3
   },
   "file_extension": ".py",
   "mimetype": "text/x-python",
   "name": "python",
   "nbconvert_exporter": "python",
   "pygments_lexer": "ipython3",
   "version": "3.6.7"
  }
 },
 "nbformat": 4,
 "nbformat_minor": 2
}
