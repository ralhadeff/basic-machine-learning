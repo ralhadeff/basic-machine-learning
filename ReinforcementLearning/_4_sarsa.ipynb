{
 "cells": [
  {
   "cell_type": "markdown",
   "metadata": {},
   "source": [
    "# Reinforcement learning\n",
    "### Snake - Temporal difference\n",
    "SARSA algorithm"
   ]
  },
  {
   "cell_type": "code",
   "execution_count": 20,
   "metadata": {},
   "outputs": [],
   "source": [
    "from snake import Game\n",
    "import numpy as np\n",
    "import random\n",
    "import matplotlib.pyplot as plt\n",
    "from matplotlib.animation import FuncAnimation\n",
    "from matplotlib import animation\n",
    "from IPython.display import HTML, Image"
   ]
  },
  {
   "cell_type": "markdown",
   "metadata": {},
   "source": [
    "### Setup"
   ]
  },
  {
   "cell_type": "code",
   "execution_count": 21,
   "metadata": {},
   "outputs": [],
   "source": [
    "# modified dictionary that incorporates random defaults and epsilon greedy\n",
    "class Policy(dict):\n",
    "    \n",
    "    import random\n",
    "    \n",
    "    def __init__(self,actions,epsilon=0.1):\n",
    "        '''\n",
    "        A policy with built in epsilon greedy and a uniform random choice for non initialized keys \n",
    "        actions - list of all possible actions\n",
    "        epsilon - chance for explore\n",
    "        '''\n",
    "        self.actions = actions\n",
    "        self.eps = epsilon\n",
    "        super().__init__(self)\n",
    "        \n",
    "    def __getitem__(self, key):\n",
    "        c = random.random()\n",
    "        if (c<self.eps or key not in self):\n",
    "            return self.actions[random.randint(0,len(self.actions)-1)]\n",
    "        else:\n",
    "            return super().__getitem__(key)\n",
    "        \n",
    "    def update_with_Q(self,s,qs):\n",
    "        '''Update policy for a state given the Q values for this state and all available actions'''\n",
    "        # update policy for this state\n",
    "        a = np.argmax([i[1] for i in qs.items()])\n",
    "        self[s] = [i[0] for i in qs.items()][a]\n",
    "        "
   ]
  },
  {
   "cell_type": "code",
   "execution_count": 22,
   "metadata": {},
   "outputs": [],
   "source": [
    "# game parameters\n",
    "grid = 8\n",
    "s_size = 3\n",
    "# start game\n",
    "game = Game(grid, s_size)\n",
    "game.reset()\n",
    "\n",
    "# discount factor\n",
    "g = 0.9\n",
    "# learning rate\n",
    "learning_rate = 0.1\n",
    "\n",
    "# initialize policy\n",
    "policy = Policy([0,1,2,3])\n",
    "\n",
    "# dummy state for a lost game\n",
    "LOSS = tuple(np.ones(6)*-1)"
   ]
  },
  {
   "cell_type": "markdown",
   "metadata": {},
   "source": [
    "### Learning"
   ]
  },
  {
   "cell_type": "code",
   "execution_count": 23,
   "metadata": {},
   "outputs": [
    {
     "name": "stdout",
     "output_type": "stream",
     "text": [
      "0 2 0\n",
      "1000 54 6\n",
      "2000 24 5\n",
      "3000 54 9\n",
      "4000 11 0\n",
      "5000 15 2\n",
      "6000 2 0\n",
      "7000 5 1\n",
      "8000 43 5\n",
      "9000 9 1\n"
     ]
    }
   ],
   "source": [
    "# Q values\n",
    "Q = {}\n",
    "Q[LOSS] = {}\n",
    "Q[LOSS][0] = 0\n",
    "# state/action counts (for decaying learning rate)\n",
    "counts = {}\n",
    "\n",
    "# run MC loop\n",
    "for i in range(10000):\n",
    "    # reset some variables\n",
    "    s = tuple(game.get_state())\n",
    "    r = 0\n",
    "    a = policy[s]\n",
    "    score = 0\n",
    "    turns = 0\n",
    "    # play one episode\n",
    "    while (True):\n",
    "        # count turns (success in terms of not dying)\n",
    "        turns+=1\n",
    "        # count score\n",
    "        if (game.score>score):\n",
    "            score = game.score\n",
    "        # apply action\n",
    "        game.snake.d = a\n",
    "        # run one game step, get reward and check if episode is finished\n",
    "        r,e = game.iterate()\n",
    "        # decaying learning rate\n",
    "        if (s not in counts):\n",
    "            counts[s] = {}\n",
    "        if (a not in counts[s]):\n",
    "            counts[s][a] = 0\n",
    "        counts[s][a]+=1\n",
    "        lr = learning_rate/(1+counts[s][a]//10)\n",
    "        # add default Q if missing\n",
    "        if (s not in Q):\n",
    "            Q[s] = {}\n",
    "        if (a not in Q[s]):\n",
    "            Q[s][a] = 0\n",
    "        # treat specific cases\n",
    "        if (e==-1):\n",
    "            # game is lost, update with final dummy state\n",
    "            Q[s][a] = Q[s][a] + lr*(r + g*Q[LOSS][0] - Q[s][a])\n",
    "            policy.update_with_Q(s,Q[s])\n",
    "            # start a new episode\n",
    "            break\n",
    "        elif (e==1):\n",
    "            # eat apple, update modified state\n",
    "            eat = np.array(s)\n",
    "            eat[-2:] = 0\n",
    "            if (tuple(eat) not in Q):\n",
    "                Q[tuple(eat)] = {}\n",
    "                Q[tuple(eat)][0] = 0\n",
    "            Q[s][a] = Q[s][a] + lr*(r + g*Q[tuple(eat)][0] - Q[s][a])\n",
    "            policy.update_with_Q(s,Q[s])\n",
    "            r = 0\n",
    "            s = tuple(game.get_state())\n",
    "            a = policy[s]\n",
    "        else:\n",
    "            # next state and next action\n",
    "            s_p = tuple(game.get_state())\n",
    "            a_p = policy[s_p]\n",
    "            # update Q\n",
    "            if (s_p not in Q):\n",
    "                Q[s_p] = {}\n",
    "            if (a_p not in Q[s_p]):\n",
    "                Q[s_p][a_p] = 0\n",
    "            Q[s][a] = Q[s][a] + lr*(r + g*Q[s_p][a_p] - Q[s][a])\n",
    "            # update policy for this state\n",
    "            policy.update_with_Q(s,Q[s])\n",
    "            # update variables for next iteration\n",
    "            s = s_p\n",
    "            a = a_p           \n",
    "    # print progress\n",
    "    if (i%1000==0):\n",
    "        print(i,turns,score)"
   ]
  },
  {
   "cell_type": "markdown",
   "metadata": {},
   "source": [
    "### Animation"
   ]
  },
  {
   "cell_type": "code",
   "execution_count": 24,
   "metadata": {},
   "outputs": [],
   "source": [
    "# extract the policy without epsilon greedy\n",
    "p = dict(policy)"
   ]
  },
  {
   "cell_type": "code",
   "execution_count": 25,
   "metadata": {},
   "outputs": [
    {
     "data": {
      "image/png": "[encoded data removed]",
      "text/plain": [
       "<Figure size 432x288 with 1 Axes>"
      ]
     },
     "metadata": {
      "needs_background": "light"
     },
     "output_type": "display_data"
    }
   ],
   "source": [
    "# render a game animation\n",
    "fig, ax = plt.subplots()\n",
    "image = ax.imshow(game.board)\n",
    "\n",
    "g = Game(grid, s_size)\n",
    "g.reset()\n",
    "\n",
    "def init():\n",
    "    image.set_data(g.board)\n",
    "    return (image,)\n",
    "\n",
    "def animate(i):\n",
    "    s = g.get_state()\n",
    "    a = p[tuple(s)]\n",
    "    g.snake.d = a\n",
    "    g.iterate() \n",
    "    g.draw()\n",
    "    image.set_data(g.board)\n",
    "    return (image,)\n",
    "\n",
    "anim = animation.FuncAnimation(fig, animate, init_func=init,\n",
    "                               frames=300, interval=120, \n",
    "                               blit=True)\n",
    "\n",
    "anim.save('./animations/sarsa.gif', writer='imagemagick', fps=30)"
   ]
  },
  {
   "cell_type": "markdown",
   "metadata": {},
   "source": [
    "### Result"
   ]
  },
  {
   "cell_type": "code",
   "execution_count": 26,
   "metadata": {},
   "outputs": [
    {
     "data": {
      "text/html": [
       "<img src=\"./animations/sarsa.gif\"/>"
      ],
      "text/plain": [
       "<IPython.core.display.Image object>"
      ]
     },
     "execution_count": 26,
     "metadata": {},
     "output_type": "execute_result"
    }
   ],
   "source": [
    "Image(url='./animations/sarsa.gif')"
   ]
  },
  {
   "cell_type": "code",
   "execution_count": null,
   "metadata": {},
   "outputs": [],
   "source": []
  }
 ],
 "metadata": {
  "kernelspec": {
   "display_name": "Python 3",
   "language": "python",
   "name": "python3"
  },
  "language_info": {
   "codemirror_mode": {
    "name": "ipython",
    "version": 3
   },
   "file_extension": ".py",
   "mimetype": "text/x-python",
   "name": "python",
   "nbconvert_exporter": "python",
   "pygments_lexer": "ipython3",
   "version": "3.6.7"
  }
 },
 "nbformat": 4,
 "nbformat_minor": 2
}
