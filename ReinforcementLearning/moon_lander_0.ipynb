{
 "cells": [
  {
   "cell_type": "code",
   "execution_count": 3,
   "metadata": {},
   "outputs": [],
   "source": [
    "import numpy as np"
   ]
  },
  {
   "cell_type": "code",
   "execution_count": null,
   "metadata": {},
   "outputs": [],
   "source": []
  },
  {
   "cell_type": "code",
   "execution_count": 300,
   "metadata": {},
   "outputs": [],
   "source": [
    "class Lander():\n",
    "    \n",
    "    def __init__(self):\n",
    "        self.pos = np.array([0.,100])\n",
    "        self.vel = np.array([0.,0])\n",
    "        self.acc = np.array([0.,0])\n",
    "        self.grav = np.array([0.,-5])\n",
    "        self.fuel = 1000\n",
    "\n",
    "    def step(self,dt=1):\n",
    "        # one timestep\n",
    "        # for simplicity no leap-frog or similar algorithm\n",
    "        self.vel+=dt*(self.acc+self.grav)\n",
    "        self.pos+=dt*self.vel\n",
    "        \n",
    "    def check_landing(self):\n",
    "        # check if landed on the surface\n",
    "        return (self.pos[1]<=0)\n",
    "    \n",
    "    def burner(self,mag):\n",
    "        if (self.fuel>=mag):\n",
    "            self.acc = np.array([0.,mag])\n",
    "            #self.fuel-=mag\n",
    "        else:\n",
    "            self.acc = np.array([0.,0])\n",
    "      \n",
    "    def state(self):\n",
    "        return ([self.pos[1],self.vel[1]])"
   ]
  },
  {
   "cell_type": "code",
   "execution_count": 266,
   "metadata": {},
   "outputs": [
    {
     "name": "stdout",
     "output_type": "stream",
     "text": [
      "lost\n"
     ]
    }
   ],
   "source": [
    "lander = Lander()\n",
    "\n",
    "for i in range(100000):\n",
    "    lander.burner(4.88)\n",
    "    lander.step(0.1)\n",
    "    if (lander.check_landing()):\n",
    "        if (lander.vel[1]<-5):\n",
    "            print('lost')\n",
    "        else:\n",
    "            print('success')\n",
    "        break"
   ]
  },
  {
   "cell_type": "code",
   "execution_count": 267,
   "metadata": {},
   "outputs": [],
   "source": [
    "from qlearn import Qlearn"
   ]
  },
  {
   "cell_type": "code",
   "execution_count": 499,
   "metadata": {},
   "outputs": [
    {
     "name": "stdout",
     "output_type": "stream",
     "text": [
      "0\n",
      "100\n",
      "200\n",
      "300\n",
      "400\n",
      "500\n",
      "600\n",
      "700\n",
      "800\n",
      "900\n"
     ]
    }
   ],
   "source": [
    "#brain = Qlearn([2,32,3],10000,0.9,1)\n",
    "\n",
    "for j in range(1000):\n",
    "    lander = Lander()\n",
    "    r = 0\n",
    "    if(j%100==0):\n",
    "        print(j)\n",
    "    for i in range(10000):\n",
    "        s = lander.state()\n",
    "        a = brain.update(r,s)\n",
    "        lander.burner([0,6,8][a])\n",
    "        lander.step(0.5)\n",
    "        if (lander.check_landing()):\n",
    "            if (lander.vel[1]<-10):\n",
    "                reward = lander.vel[1]+10\n",
    "            else:\n",
    "                reward = 100\n",
    "            #print (lander.vel[1])\n",
    "            s = [-1,lander.vel[1]]\n",
    "            brain.update(r,s)\n",
    "            r = 0\n",
    "            break\n",
    "        else:\n",
    "            reward = 0\n",
    "            if (lander.pos[1]>100):\n",
    "                reward = -1 "
   ]
  },
  {
   "cell_type": "code",
   "execution_count": 502,
   "metadata": {},
   "outputs": [
    {
     "name": "stdout",
     "output_type": "stream",
     "text": [
      "success\n"
     ]
    }
   ],
   "source": [
    "lander = Lander()\n",
    "\n",
    "r = 0\n",
    "\n",
    "for i in range(1000):\n",
    "    s = lander.state()\n",
    "    a = brain.update(r,s)\n",
    "    lander.burner([0,6,8][a])\n",
    "    #print(a)\n",
    "    lander.step(0.5)\n",
    "    if (lander.check_landing()):\n",
    "        if (lander.vel[1]<-10):\n",
    "            print('lost')\n",
    "            print(lander.vel[1])\n",
    "            print(i)\n",
    "        else:\n",
    "            print('success')\n",
    "        break"
   ]
  },
  {
   "cell_type": "code",
   "execution_count": 510,
   "metadata": {},
   "outputs": [
    {
     "data": {
      "text/plain": [
       "(655, 340)"
      ]
     },
     "execution_count": 510,
     "metadata": {},
     "output_type": "execute_result"
    }
   ],
   "source": [
    "w = 0\n",
    "l = 0\n",
    "for j in range(1000):\n",
    "    for i in range(1000):\n",
    "        s = lander.state()\n",
    "        a = brain.update(r,s)\n",
    "        lander.burner([0,6,8][a])\n",
    "        #print(a)\n",
    "        lander.step(0.5)\n",
    "        if (lander.check_landing()):\n",
    "            if (lander.vel[1]<-10):\n",
    "                l+=1\n",
    "            else:\n",
    "                w+=1\n",
    "            break\n",
    "w,l"
   ]
  },
  {
   "cell_type": "code",
   "execution_count": null,
   "metadata": {},
   "outputs": [],
   "source": []
  }
 ],
 "metadata": {
  "kernelspec": {
   "display_name": "Python 3",
   "language": "python",
   "name": "python3"
  },
  "language_info": {
   "codemirror_mode": {
    "name": "ipython",
    "version": 3
   },
   "file_extension": ".py",
   "mimetype": "text/x-python",
   "name": "python",
   "nbconvert_exporter": "python",
   "pygments_lexer": "ipython3",
   "version": "3.6.7"
  }
 },
 "nbformat": 4,
 "nbformat_minor": 2
}
