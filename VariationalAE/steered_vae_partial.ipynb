{
 "cells": [
  {
   "cell_type": "markdown",
   "metadata": {},
   "source": [
    "# Steered Variational AutoEncoder"
   ]
  },
  {
   "cell_type": "markdown",
   "metadata": {},
   "source": [
    "**In this case the VAE is provided only 2 latent features - the other 2 are free**"
   ]
  },
  {
   "cell_type": "code",
   "execution_count": 1,
   "metadata": {},
   "outputs": [],
   "source": [
    "import numpy as np\n",
    "import matplotlib.pyplot as plt"
   ]
  },
  {
   "cell_type": "code",
   "execution_count": 2,
   "metadata": {},
   "outputs": [],
   "source": [
    "import numpy as np\n",
    "import tensorflow as tf\n",
    "\n",
    "from tensorflow.distributions import Normal\n",
    "from tensorflow.distributions import Bernoulli\n",
    "\n",
    "# modified version\n",
    "class VariationalAutoencoder:\n",
    "    \n",
    "    def __init__(self, n_input, n_list, n_y=None):\n",
    "        # input data\n",
    "        self.X = tf.placeholder(tf.float32, shape=(None, n_input))\n",
    "        if (n_y is not None):\n",
    "            self.y = tf.placeholder(tf.float32, shape=(None, n_y))\n",
    "        \n",
    "        # encoder\n",
    "        self.encoder_layers = []\n",
    "        # input layer\n",
    "        previous = n_input\n",
    "        # current is the output of each layer (skip last because there is nothing after it)\n",
    "        for current in n_list[:-1]:\n",
    "            h = DenseLayer(previous,current)\n",
    "            self.encoder_layers.append(h)\n",
    "            previous = current\n",
    "        # latent features number\n",
    "        latent = n_list[-1]\n",
    "        encoder_output = DenseLayer(current,latent*2,activation='none')\n",
    "        self.encoder_layers.append(encoder_output)\n",
    "        \n",
    "        # feed forward through encoder\n",
    "        c_X = self.X\n",
    "        for layer in self.encoder_layers:\n",
    "            c_X = layer.feed_forward(c_X)\n",
    "        # c_X now holds the output of the encoder\n",
    "        # first half are the means\n",
    "        self.means = c_X[:,:latent]\n",
    "        # second half are the std; must be positive; +1e-6 for smoothing\n",
    "        self.std = tf.nn.softplus(c_X[:,latent:]) + 1e-6\n",
    "        \n",
    "        # optional loss for directed latent features\n",
    "        if (n_y is not None):\n",
    "            self.yhat = self.means[:,:n_y]\n",
    "            self.error = tf.losses.mean_squared_error(labels=self.y,predictions=self.yhat)\n",
    "        \n",
    "        # reparameterization trick\n",
    "        normal = Normal(loc=self.means,scale=self.std)\n",
    "        self.Z = normal.sample()\n",
    "                \n",
    "        # decoder\n",
    "        self.decoder_layers = []\n",
    "        previous = latent\n",
    "        for current in reversed(n_list[:-1]):\n",
    "            h = DenseLayer(previous,current)\n",
    "            self.decoder_layers.append(h)\n",
    "            previous = current\n",
    "        # output is the reconstruction\n",
    "        decoder_output = DenseLayer(previous,n_input,activation=lambda x:x)\n",
    "        self.decoder_layers.append(decoder_output)\n",
    "\n",
    "        #feed forward through decoder, using the sampled 'data'\n",
    "        c_X = self.Z\n",
    "        for layer in self.decoder_layers:\n",
    "            c_X = layer.feed_forward(c_X)\n",
    "        logits = c_X\n",
    "        # use logits for cost function below\n",
    "        neg_cross_entropy = -tf.nn.sigmoid_cross_entropy_with_logits(labels=self.X,\n",
    "                    logits=logits)\n",
    "        neg_cross_entropy = tf.reduce_sum(neg_cross_entropy, 1)\n",
    "        \n",
    "        # output\n",
    "        self.y_prob = Bernoulli(logits=logits)\n",
    "        \n",
    "        # sample from output\n",
    "        self.post_pred = self.y_prob.sample()\n",
    "        self.post_pred_probs = tf.nn.sigmoid(logits)\n",
    "        \n",
    "        # generate 'de-novo' output\n",
    "        self.gen = tf.Variable(0)\n",
    "        Z_std = Normal(0.0,1.0).sample([self.gen,latent])\n",
    "        c_X = Z_std\n",
    "        for layer in self.decoder_layers:\n",
    "            c_X = layer.feed_forward(c_X)\n",
    "        logits = c_X\n",
    "        \n",
    "        prior_pred_dist = Bernoulli(logits=logits)\n",
    "        self.prior_pred = prior_pred_dist.sample()\n",
    "        self.prior_pred_probs = tf.nn.sigmoid(logits)\n",
    "        \n",
    "        # manually input Z\n",
    "        self.Z_input = tf.placeholder(np.float32, shape=(None, latent))\n",
    "        c_X = self.Z_input\n",
    "        for layer in self.decoder_layers:\n",
    "            c_X = layer.feed_forward(c_X)\n",
    "        logits = c_X\n",
    "        self.manual_prior_prob = tf.nn.sigmoid(logits)\n",
    "        \n",
    "        # cost function\n",
    "        # Kullback–Leibler divergence\n",
    "        kl = -tf.log(self.std) + 0.5*(self.std**2 + self.means**2) - 0.5\n",
    "        kl = tf.reduce_sum(kl, axis=1)\n",
    "        # ELBO\n",
    "        self.elbo = tf.reduce_sum(neg_cross_entropy - kl)\n",
    "        \n",
    "        if (n_y is None):\n",
    "            self.optimizer = tf.train.RMSPropOptimizer(learning_rate=0.001).minimize(-self.elbo)\n",
    "        else:\n",
    "            self.optimizer = tf.train.RMSPropOptimizer(learning_rate=0.001).minimize(\n",
    "                tf.reduce_sum(100*self.error-self.elbo))\n",
    "               \n",
    "        self.init = tf.global_variables_initializer()\n",
    "        self.session = tf.Session()\n",
    "        self.session.run(self.init)\n",
    "    \n",
    "    def steer(self,X,y,epochs=10,batch=50):\n",
    "        '''Replaces fit, user provides the labels for the latent features'''\n",
    "        n_batches = len(X) // batch\n",
    "        for epoch in range(epochs):\n",
    "            print('Epoch:',epoch+1)\n",
    "            cost = 0\n",
    "            e_cost = 0\n",
    "            for b in range(n_batches):\n",
    "                c_batch = X[b*batch:(b+1)*batch]\n",
    "                y_batch = y[b*batch:(b+1)*batch]\n",
    "                _,c,e, = self.session.run((self.optimizer, self.elbo,self.error),feed_dict={self.X: c_batch,self.y:y_batch})\n",
    "                # accumulate cost\n",
    "                cost+=c\n",
    "                e_cost+=e\n",
    "            print('Cost:', cost,e_cost)\n",
    "    \n",
    "    def fit(self,X,epochs=10,batch=50):\n",
    "        n_batches = len(X) // batch\n",
    "        for epoch in range(epochs):\n",
    "            print('Epoch:',epoch+1)\n",
    "            cost = 0\n",
    "            for b in range(n_batches):\n",
    "                c_batch = X[b*batch:(b+1)*batch]\n",
    "                _,c, = self.session.run((self.optimizer, self.elbo),feed_dict={self.X: c_batch})\n",
    "                # accumulate cost\n",
    "                cost+=c\n",
    "            print('Cost:', cost)\n",
    "                       \n",
    "    def predict(self,X,out='prob'):\n",
    "        '''\n",
    "        Pass data through encoder and decoder and retrieve reconstructed output\n",
    "            by default the probabilities are returned, user can specify 'sample' or 'both'\n",
    "        '''\n",
    "        # correct shape if needed\n",
    "        if (X.ndim==1):\n",
    "            X = X.reshape([1,-1])\n",
    "        pred,prob,mm = self.session.run((self.post_pred,self.post_pred_probs,self.means),feed_dict={self.X:X})\n",
    "        if (out=='prob'):\n",
    "            return prob,mm\n",
    "        elif (out=='sample'):\n",
    "            return pred\n",
    "        else:\n",
    "            return pred,prob\n",
    "\n",
    "    def generate(self,n=1,out='prob'):\n",
    "        '''\n",
    "        Generate output\n",
    "            by default the probabilities are returned, user can specify 'sample' or 'both'\n",
    "            User specifies the number of points requested \n",
    "        '''\n",
    "        pred,prob = self.session.run((self.prior_pred,self.prior_pred_probs),feed_dict={self.gen:n})\n",
    "        if (out=='prob'):\n",
    "            return prob\n",
    "        elif (out=='sample'):\n",
    "            return pred\n",
    "        else:\n",
    "            return pred,prob\n",
    "    \n",
    "    def feed(self,Z):\n",
    "        '''Generate output using provided latent-space input Z'''\n",
    "        # correct shape if needed\n",
    "        if (Z.ndim==1):\n",
    "            Z = Z.reshape([1,-1])\n",
    "        return self.session.run(self.manual_prior_prob,feed_dict={self.Z_input:Z})\n",
    "    \n",
    "    def close(self):\n",
    "        self.session.close()\n",
    "\n",
    "class DenseLayer(object):\n",
    "    '''A fully connected layer'''\n",
    "    \n",
    "    def __init__(self, n_in, n_out, activation=tf.nn.relu):\n",
    "        '''number of input and output neurons; the activation function'''\n",
    "        self.weights = tf.Variable(tf.random_normal(shape=(n_in, n_out), stddev=2/np.sqrt(n_in)))\n",
    "        self.bias = tf.Variable(tf.constant(0.0,shape=[n_out]))\n",
    "        if (activation=='none'):\n",
    "            self.activation = lambda x: x\n",
    "        else:\n",
    "            self.activation = activation\n",
    "            \n",
    "    def feed_forward(self, X):\n",
    "        '''Run input through layer and retrieve output'''\n",
    "        return self.activation(tf.matmul(X, self.weights) + self.bias)"
   ]
  },
  {
   "cell_type": "markdown",
   "metadata": {},
   "source": [
    "### Generate data"
   ]
  },
  {
   "cell_type": "code",
   "execution_count": 3,
   "metadata": {},
   "outputs": [],
   "source": [
    "size = 100000\n",
    "d = 8\n",
    "\n",
    "center = np.random.randint(1,d-1,size=(size,2))\n",
    "height = np.random.randint(1,d//2-1,size=size)\n",
    "width =  np.random.randint(1,d//2-1,size=size)\n",
    "\n",
    "X = np.zeros((size,d,d),dtype=int)\n",
    "y = np.zeros((size,4))\n",
    "\n",
    "# paint rectangles\n",
    "for i in range (len(X)):\n",
    "    left = min(max(center[i,0]-width[i]//2,0),d-1)\n",
    "    right = min(max(center[i,0]+width[i]//2,0),d-1)\n",
    "    top = min(max(center[i,1]+height[i]//2,0),d-1)\n",
    "    bottom = min(max(center[i,1]-height[i]//2,0),d-1)\n",
    "    # fix single lines\n",
    "    if abs(left-right) < 3:\n",
    "        if (left>0):\n",
    "            left-=1\n",
    "        if (right<d-1):\n",
    "            right+=1\n",
    "    if abs(bottom-top) < 3:\n",
    "        if (bottom>0):\n",
    "            bottom-=1\n",
    "        if (top<d-1):\n",
    "            top+=1\n",
    "    X[i,top,left:right+1] = 1\n",
    "    X[i,bottom,left:right] = 1\n",
    "    X[i,bottom:top,left] = 1\n",
    "    X[i,bottom:top,right] = 1\n",
    "    y[i,0] = abs(top-bottom)+1\n",
    "    y[i,1] = abs(left-right)+1\n",
    "    y[i,2] = (top+bottom)/2\n",
    "    y[i,3] = (left+right)/2\n",
    "\n",
    "# save for later\n",
    "y_m = y.mean(axis=0)\n",
    "y_s = y.std(axis=0)\n",
    "y = (y-y_m)/y_s"
   ]
  },
  {
   "cell_type": "code",
   "execution_count": 5,
   "metadata": {},
   "outputs": [
    {
     "name": "stdout",
     "output_type": "stream",
     "text": [
      "[5. 3. 2. 1.]\n"
     ]
    },
    {
     "data": {
      "image/png": "[encoded data removed]",
      "text/plain": [
       "<Figure size 432x288 with 1 Axes>"
      ]
     },
     "metadata": {
      "needs_background": "light"
     },
     "output_type": "display_data"
    }
   ],
   "source": [
    "i = np.random.choice(range(len(X)))\n",
    "print(y[i]*y_s+y_m)\n",
    "plt.imshow(X[i],cmap='gray')\n",
    "plt.show()"
   ]
  },
  {
   "cell_type": "code",
   "execution_count": 6,
   "metadata": {},
   "outputs": [
    {
     "data": {
      "text/plain": [
       "((100000, 64), (100000, 4))"
      ]
     },
     "execution_count": 6,
     "metadata": {},
     "output_type": "execute_result"
    }
   ],
   "source": [
    "# flatten\n",
    "X = X.reshape(size,-1)\n",
    "X.shape, y.shape"
   ]
  },
  {
   "cell_type": "markdown",
   "metadata": {},
   "source": [
    "### Generate and train encoder"
   ]
  },
  {
   "cell_type": "code",
   "execution_count": 7,
   "metadata": {},
   "outputs": [],
   "source": [
    "vae = VariationalAutoencoder(64, [24,4],2)"
   ]
  },
  {
   "cell_type": "markdown",
   "metadata": {},
   "source": [
    "**Note: only 2 features from y vector are provided**"
   ]
  },
  {
   "cell_type": "code",
   "execution_count": 10,
   "metadata": {},
   "outputs": [
    {
     "name": "stdout",
     "output_type": "stream",
     "text": [
      "Epoch: 1\n",
      "Cost: -2372564.5774536133 1785.1706592738628\n",
      "Epoch: 2\n",
      "Cost: -1690078.1971435547 1312.2893505990505\n",
      "Epoch: 3\n",
      "Cost: -1512209.0942382812 1244.2165083289146\n",
      "Epoch: 4\n",
      "Cost: -1396751.8181762695 1211.8184068500996\n",
      "Epoch: 5\n",
      "Cost: -1313136.0899047852 1191.3478370904922\n",
      "Epoch: 6\n",
      "Cost: -1244561.9219360352 1199.9778178036213\n",
      "Epoch: 7\n",
      "Cost: -1190038.2004394531 1207.9301469624043\n",
      "Epoch: 8\n",
      "Cost: -1145068.7677612305 1207.6242992579937\n",
      "Epoch: 9\n",
      "Cost: -1110784.6152038574 1206.7198694944382\n",
      "Epoch: 10\n",
      "Cost: -1082172.8645324707 1206.2499058544636\n",
      "Epoch: 11\n",
      "Cost: -1058619.8073120117 1209.6121617853642\n",
      "Epoch: 12\n",
      "Cost: -1039637.0124816895 1209.0844059884548\n",
      "Epoch: 13\n",
      "Cost: -1026069.8919677734 1206.1858757138252\n",
      "Epoch: 14\n",
      "Cost: -1011961.0485839844 1202.1169167757034\n",
      "Epoch: 15\n",
      "Cost: -1002063.5605163574 1198.3036632835865\n",
      "Epoch: 16\n",
      "Cost: -992064.4755859375 1190.8746100068092\n",
      "Epoch: 17\n",
      "Cost: -984412.5281066895 1189.244235008955\n",
      "Epoch: 18\n",
      "Cost: -975849.1715087891 1184.5513357818127\n",
      "Epoch: 19\n",
      "Cost: -969303.8739318848 1181.9223229587078\n",
      "Epoch: 20\n",
      "Cost: -964661.4090270996 1176.715487420559\n",
      "Epoch: 21\n",
      "Cost: -958351.0247802734 1175.0174302458763\n",
      "Epoch: 22\n",
      "Cost: -955946.1276245117 1169.2788255810738\n",
      "Epoch: 23\n",
      "Cost: -952609.8139953613 1165.3569833636284\n",
      "Epoch: 24\n",
      "Cost: -949863.1895751953 1161.3478457033634\n",
      "Epoch: 25\n",
      "Cost: -945873.6517944336 1157.6404519081116\n",
      "Epoch: 26\n",
      "Cost: -944356.3604431152 1157.217608243227\n",
      "Epoch: 27\n",
      "Cost: -942819.125793457 1157.5585978329182\n",
      "Epoch: 28\n",
      "Cost: -939830.9328918457 1152.2036045491695\n",
      "Epoch: 29\n",
      "Cost: -937449.4299926758 1152.443186968565\n",
      "Epoch: 30\n",
      "Cost: -936976.2944335938 1149.074726074934\n",
      "Epoch: 31\n",
      "Cost: -932653.0941162109 1147.979276418686\n",
      "Epoch: 32\n",
      "Cost: -933507.3941650391 1144.1610566675663\n",
      "Epoch: 33\n",
      "Cost: -931260.4195251465 1145.3338180184364\n",
      "Epoch: 34\n",
      "Cost: -929852.7632446289 1142.711557239294\n",
      "Epoch: 35\n",
      "Cost: -929347.473449707 1141.067194223404\n",
      "Epoch: 36\n",
      "Cost: -928263.0921020508 1139.4043757617474\n",
      "Epoch: 37\n",
      "Cost: -929258.3758544922 1135.4879938066006\n",
      "Epoch: 38\n",
      "Cost: -929749.5020751953 1135.031070381403\n",
      "Epoch: 39\n",
      "Cost: -928917.148651123 1131.3853142857552\n",
      "Epoch: 40\n",
      "Cost: -927702.6847839355 1128.6470101773739\n",
      "Epoch: 41\n",
      "Cost: -928262.3181762695 1125.5768370628357\n",
      "Epoch: 42\n",
      "Cost: -928759.6952209473 1122.4112077057362\n",
      "Epoch: 43\n",
      "Cost: -928062.7424926758 1121.0339293181896\n",
      "Epoch: 44\n",
      "Cost: -927026.1200866699 1120.9327939152718\n",
      "Epoch: 45\n",
      "Cost: -928643.3304138184 1118.5478700101376\n",
      "Epoch: 46\n",
      "Cost: -928451.9498901367 1117.4519710540771\n",
      "Epoch: 47\n",
      "Cost: -928553.5619506836 1117.1076118052006\n",
      "Epoch: 48\n",
      "Cost: -928280.1551513672 1113.2225774228573\n",
      "Epoch: 49\n",
      "Cost: -927699.6577453613 1115.3745892643929\n",
      "Epoch: 50\n",
      "Cost: -926941.3087463379 1111.3834261000156\n",
      "Epoch: 51\n",
      "Cost: -929144.0550842285 1111.6672115027905\n",
      "Epoch: 52\n",
      "Cost: -926850.4492492676 1110.7325846850872\n",
      "Epoch: 53\n",
      "Cost: -927288.9286193848 1110.5068138837814\n",
      "Epoch: 54\n",
      "Cost: -927312.1782531738 1108.6251074373722\n",
      "Epoch: 55\n",
      "Cost: -927031.9577331543 1105.6277259886265\n",
      "Epoch: 56\n",
      "Cost: -929171.2196044922 1107.7962538599968\n",
      "Epoch: 57\n",
      "Cost: -926403.4481201172 1108.6421148180962\n",
      "Epoch: 58\n",
      "Cost: -925112.8259277344 1111.8865703046322\n",
      "Epoch: 59\n",
      "Cost: -927435.061706543 1106.6218196451664\n",
      "Epoch: 60\n",
      "Cost: -927981.2377929688 1108.0587776601315\n",
      "Epoch: 61\n",
      "Cost: -927414.9398803711 1107.9566675424576\n",
      "Epoch: 62\n",
      "Cost: -927792.152130127 1104.9513584673405\n",
      "Epoch: 63\n",
      "Cost: -926777.493927002 1108.1306124329567\n",
      "Epoch: 64\n",
      "Cost: -927533.7784729004 1107.6157877743244\n",
      "Epoch: 65\n",
      "Cost: -927502.8984375 1107.9835873246193\n",
      "Epoch: 66\n",
      "Cost: -930710.505065918 1103.7673325836658\n",
      "Epoch: 67\n",
      "Cost: -927803.0461425781 1105.5864058732986\n",
      "Epoch: 68\n",
      "Cost: -927829.0121459961 1109.4007928073406\n",
      "Epoch: 69\n",
      "Cost: -926756.360168457 1109.335546657443\n",
      "Epoch: 70\n",
      "Cost: -928663.6676330566 1110.6253546476364\n",
      "Epoch: 71\n",
      "Cost: -927632.2224731445 1111.2714744210243\n",
      "Epoch: 72\n",
      "Cost: -931314.96484375 1111.2403418719769\n",
      "Epoch: 73\n",
      "Cost: -930572.5978393555 1111.9041554927826\n",
      "Epoch: 74\n",
      "Cost: -929291.3695983887 1112.4055210351944\n",
      "Epoch: 75\n",
      "Cost: -931469.0608520508 1111.9491572082043\n",
      "Epoch: 76\n",
      "Cost: -932328.4391784668 1111.469018638134\n",
      "Epoch: 77\n",
      "Cost: -932993.9624633789 1107.3245147764683\n",
      "Epoch: 78\n",
      "Cost: -933604.9140014648 1113.174426406622\n",
      "Epoch: 79\n",
      "Cost: -933275.6743469238 1113.051629036665\n",
      "Epoch: 80\n",
      "Cost: -935807.505645752 1110.450983375311\n",
      "Epoch: 81\n",
      "Cost: -935165.0197143555 1115.7178816497326\n",
      "Epoch: 82\n",
      "Cost: -937441.8504333496 1113.7931780815125\n",
      "Epoch: 83\n",
      "Cost: -937499.0018920898 1113.441701322794\n",
      "Epoch: 84\n",
      "Cost: -938748.0051879883 1116.1792225539684\n",
      "Epoch: 85\n",
      "Cost: -939264.3063354492 1116.0213426053524\n",
      "Epoch: 86\n",
      "Cost: -940192.8932800293 1119.841208666563\n",
      "Epoch: 87\n",
      "Cost: -941730.4907531738 1121.4492714703083\n",
      "Epoch: 88\n",
      "Cost: -944851.9382629395 1126.9816569387913\n",
      "Epoch: 89\n",
      "Cost: -943588.1719970703 1127.3200024068356\n",
      "Epoch: 90\n",
      "Cost: -944247.0308227539 1126.4153859615326\n",
      "Epoch: 91\n",
      "Cost: -946823.7193603516 1123.5927910208702\n",
      "Epoch: 92\n",
      "Cost: -945160.1734619141 1126.8913348317146\n",
      "Epoch: 93\n",
      "Cost: -944371.7960205078 1128.47147205472\n",
      "Epoch: 94\n",
      "Cost: -946072.9178466797 1125.9114784002304\n",
      "Epoch: 95\n",
      "Cost: -949490.6946716309 1127.8869754970074\n",
      "Epoch: 96\n",
      "Cost: -947718.5686645508 1132.0144764482975\n",
      "Epoch: 97\n",
      "Cost: -948545.2794799805 1131.070571422577\n",
      "Epoch: 98\n",
      "Cost: -949524.8891296387 1135.969620168209\n",
      "Epoch: 99\n",
      "Cost: -950540.5739746094 1134.4652014672756\n",
      "Epoch: 100\n",
      "Cost: -949916.7810058594 1135.1605076491833\n"
     ]
    }
   ],
   "source": [
    "vae.steer(X,y[:,:2],epochs=100)"
   ]
  },
  {
   "cell_type": "markdown",
   "metadata": {},
   "source": [
    "### Reconstruction"
   ]
  },
  {
   "cell_type": "code",
   "execution_count": 14,
   "metadata": {},
   "outputs": [
    {
     "name": "stdout",
     "output_type": "stream",
     "text": [
      "[-0.92697626 -0.92667553  0.93874035  1.56946808]\n",
      "[-0.79562914 -1.1802454   0.12780467  1.9258348 ]\n"
     ]
    },
    {
     "data": {
      "image/png": "[encoded data removed]",
      "text/plain": [
       "<Figure size 1152x1152 with 3 Axes>"
      ]
     },
     "metadata": {
      "needs_background": "light"
     },
     "output_type": "display_data"
    }
   ],
   "source": [
    "fig,axes = plt.subplots(ncols=3,figsize=(16,16))\n",
    "\n",
    "i = np.random.choice(len(X))\n",
    "aa,mm = vae.predict(X[i:i+3])\n",
    "a = aa[0].reshape(d,d)\n",
    "b = vae.predict(X[i],'sample')[0].reshape(d,d)\n",
    "\n",
    "print(y[i])\n",
    "print(mm[0])\n",
    "\n",
    "axes[0].imshow(X[i].reshape(d,d),cmap='gray')\n",
    "axes[0].set_title('original')\n",
    "axes[1].imshow(a,cmap='gray')\n",
    "axes[1].set_title('probability')\n",
    "axes[2].imshow(b,cmap='gray')\n",
    "axes[2].set_title('sample')\n",
    "plt.show()"
   ]
  },
  {
   "cell_type": "markdown",
   "metadata": {},
   "source": [
    "### Observe latent space - steered features"
   ]
  },
  {
   "cell_type": "code",
   "execution_count": 17,
   "metadata": {},
   "outputs": [
    {
     "data": {
      "image/png": "[encoded data removed]",
      "text/plain": [
       "<Figure size 720x720 with 1 Axes>"
      ]
     },
     "metadata": {
      "needs_background": "light"
     },
     "output_type": "display_data"
    }
   ],
   "source": [
    "grid = 7\n",
    "xs = np.linspace(-2, 2, grid)\n",
    "ys = np.linspace(-2, 2, grid)\n",
    "latent = np.empty((d * grid, d * grid))\n",
    "\n",
    "manual_Z = []\n",
    "for x in xs:\n",
    "    for y in ys:\n",
    "        manual_Z.append([y,x,1,1])\n",
    "        \n",
    "manual_Z = np.array(manual_Z)\n",
    "g = vae.feed(manual_Z)\n",
    "\n",
    "for x in range(grid):\n",
    "    for y in range(grid):\n",
    "        idx = x+y*grid\n",
    "        current = g[idx].reshape(d,d)\n",
    "        latent[x*d:(x+1)*d,y*d:(y+1)*d] = current\n",
    "        latent[x*d,:] = 1\n",
    "        latent[:,y*d] = 1\n",
    "\n",
    "plt.figure(figsize=(10,10))\n",
    "plt.imshow(latent,cmap='gray')\n",
    "plt.show()"
   ]
  },
  {
   "cell_type": "markdown",
   "metadata": {},
   "source": [
    "Width and height, as trained"
   ]
  },
  {
   "cell_type": "markdown",
   "metadata": {},
   "source": [
    "### Observe latent space - free features"
   ]
  },
  {
   "cell_type": "code",
   "execution_count": 18,
   "metadata": {},
   "outputs": [
    {
     "data": {
      "image/png": "[encoded data removed]",
      "text/plain": [
       "<Figure size 720x720 with 1 Axes>"
      ]
     },
     "metadata": {
      "needs_background": "light"
     },
     "output_type": "display_data"
    }
   ],
   "source": [
    "grid = 7\n",
    "xs = np.linspace(-2, 2, grid)\n",
    "ys = np.linspace(-2, 2, grid)\n",
    "latent = np.empty((d * grid, d * grid))\n",
    "\n",
    "manual_Z = []\n",
    "for x in xs:\n",
    "    for y in ys:\n",
    "        manual_Z.append([1,1,y,x])\n",
    "        \n",
    "manual_Z = np.array(manual_Z)\n",
    "g = vae.feed(manual_Z)\n",
    "\n",
    "for x in range(grid):\n",
    "    for y in range(grid):\n",
    "        idx = x+y*grid\n",
    "        current = g[idx].reshape(d,d)\n",
    "        latent[x*d:(x+1)*d,y*d:(y+1)*d] = current\n",
    "        latent[x*d,:] = 1\n",
    "        latent[:,y*d] = 1\n",
    "\n",
    "plt.figure(figsize=(10,10))\n",
    "plt.imshow(latent,cmap='gray')\n",
    "plt.show()"
   ]
  },
  {
   "cell_type": "markdown",
   "metadata": {},
   "source": [
    "Probably not by chance, the other two features assume the position"
   ]
  }
 ],
 "metadata": {
  "kernelspec": {
   "display_name": "Python 3",
   "language": "python",
   "name": "python3"
  },
  "language_info": {
   "codemirror_mode": {
    "name": "ipython",
    "version": 3
   },
   "file_extension": ".py",
   "mimetype": "text/x-python",
   "name": "python",
   "nbconvert_exporter": "python",
   "pygments_lexer": "ipython3",
   "version": "3.6.7"
  }
 },
 "nbformat": 4,
 "nbformat_minor": 2
}
