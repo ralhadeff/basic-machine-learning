{
 "cells": [
  {
   "cell_type": "markdown",
   "metadata": {},
   "source": [
    "# Variational AutoEncoder"
   ]
  },
  {
   "cell_type": "code",
   "execution_count": 1,
   "metadata": {},
   "outputs": [],
   "source": [
    "import numpy as np\n",
    "import matplotlib.pyplot as plt"
   ]
  },
  {
   "cell_type": "code",
   "execution_count": 12,
   "metadata": {},
   "outputs": [],
   "source": [
    "import numpy as np\n",
    "import tensorflow as tf\n",
    "\n",
    "from tensorflow.distributions import Normal\n",
    "from tensorflow.distributions import Bernoulli\n",
    "\n",
    "'''A Variational Auto Encoder using TensorFlow'''\n",
    "\n",
    "class VariationalAutoencoder:\n",
    "    \n",
    "    def __init__(self, n_input, n_list):\n",
    "        '''\n",
    "        number of input neurons and a list of the number of neurons in the encoder hidden layers\n",
    "            The last number provided should be the number of latent features desired\n",
    "                \n",
    "        The decoder will have an inverted architecture\n",
    "        \n",
    "        Note: the actual number of neurons in the last layer of the encoder will be x2, for mean and std\n",
    "            '''\n",
    "        # input data\n",
    "        self.X = tf.placeholder(tf.float32, shape=(None, n_input))\n",
    "        self.y = tf.placeholder(tf.float32,shape=(None,2))\n",
    "        \n",
    "        # encoder\n",
    "        self.encoder_layers = []\n",
    "        # input layer\n",
    "        previous = n_input\n",
    "        # current is the output of each layer (skip last because there is nothing after it)\n",
    "        for current in n_list[:-1]:\n",
    "            h = DenseLayer(previous,current)\n",
    "            self.encoder_layers.append(h)\n",
    "            previous = current\n",
    "        # latent features number\n",
    "        latent = n_list[-1]\n",
    "        encoder_output = DenseLayer(current,latent*2,activation='none')\n",
    "        self.encoder_layers.append(encoder_output)\n",
    "        \n",
    "        # feed forward through encoder\n",
    "        c_X = self.X\n",
    "        for layer in self.encoder_layers:\n",
    "            c_X = layer.feed_forward(c_X)\n",
    "        # c_X now holds the output of the encoder\n",
    "        # first half are the means\n",
    "        self.means = c_X[:,:latent]\n",
    "        # second half are the std; must be positive; +1e-6 for smoothing\n",
    "        self.std = tf.nn.softplus(c_X[:,latent:]) + 1e-6\n",
    "        \n",
    "        self.yhat = self.means[:,:2]\n",
    "        self.weight = tf.Variable(0.0)\n",
    "        self.error = tf.math.scalar_mul(self.weight,\n",
    "                                        tf.losses.mean_squared_error(labels=self.y, predictions=self.yhat))\n",
    "        \n",
    "        # reparameterization trick\n",
    "        normal = Normal(loc=self.means,scale=self.std)\n",
    "        self.Z = normal.sample()\n",
    "                \n",
    "        # decoder\n",
    "        self.decoder_layers = []\n",
    "        previous = latent\n",
    "        for current in reversed(n_list[:-1]):\n",
    "            h = DenseLayer(previous,current)\n",
    "            self.decoder_layers.append(h)\n",
    "            previous = current\n",
    "        # output is the reconstruction\n",
    "        decoder_output = DenseLayer(previous,n_input,activation=lambda x:x)\n",
    "        self.decoder_layers.append(decoder_output)\n",
    "\n",
    "        #feed forward through decoder, using the sampled 'data'\n",
    "        c_X = self.Z\n",
    "        for layer in self.decoder_layers:\n",
    "            c_X = layer.feed_forward(c_X)\n",
    "        logits = c_X\n",
    "        # use logits for cost function below\n",
    "        neg_cross_entropy = -tf.nn.sigmoid_cross_entropy_with_logits(labels=self.X,\n",
    "                    logits=logits)\n",
    "        neg_cross_entropy = tf.reduce_sum(neg_cross_entropy, 1)\n",
    "        \n",
    "        # output\n",
    "        self.y_prob = Bernoulli(logits=logits)\n",
    "        \n",
    "        # sample from output\n",
    "        self.post_pred = self.y_prob.sample()\n",
    "        self.post_pred_probs = tf.nn.sigmoid(logits)\n",
    "        \n",
    "        # generate 'de-novo' output\n",
    "        self.gen = tf.Variable(0)\n",
    "        Z_std = Normal(0.0,1.0).sample([self.gen,latent])\n",
    "        c_X = Z_std\n",
    "        for layer in self.decoder_layers:\n",
    "            c_X = layer.feed_forward(c_X)\n",
    "        logits = c_X\n",
    "        \n",
    "        prior_pred_dist = Bernoulli(logits=logits)\n",
    "        self.prior_pred = prior_pred_dist.sample()\n",
    "        self.prior_pred_probs = tf.nn.sigmoid(logits)\n",
    "        \n",
    "        # manually input Z\n",
    "        self.Z_input = tf.placeholder(np.float32, shape=(None, latent))\n",
    "        c_X = self.Z_input\n",
    "        for layer in self.decoder_layers:\n",
    "            c_X = layer.feed_forward(c_X)\n",
    "        logits = c_X\n",
    "        self.manual_prior_prob = tf.nn.sigmoid(logits)\n",
    "        \n",
    "        # cost function\n",
    "        # Kullback–Leibler divergence\n",
    "        kl = -tf.log(self.std) + 0.5*(self.std**2 + self.means**2) - 0.5\n",
    "        kl = tf.reduce_sum(kl, axis=1)\n",
    "        # ELBO\n",
    "        self.elbo = tf.reduce_sum(neg_cross_entropy - kl) \n",
    "        \n",
    "        self.optimizer = tf.train.RMSPropOptimizer(learning_rate=0.001).minimize(-self.elbo + self.error)\n",
    "               \n",
    "        self.init = tf.global_variables_initializer()\n",
    "        self.session = tf.Session()\n",
    "        self.session.run(self.init)\n",
    "        \n",
    "    def fit(self,X,y,epochs=10,batch=50):\n",
    "        n_batches = len(X) // batch\n",
    "        for epoch in range(epochs):\n",
    "            print('Epoch:',epoch+1)\n",
    "            np.random.shuffle(X)\n",
    "            cost = 0\n",
    "            for b in range(n_batches):\n",
    "                c_batch = X[b*batch:(b+1)*batch]\n",
    "                y_batch = y[b*batch:(b+1)*batch]\n",
    "                _,c, = self.session.run((self.optimizer, self.elbo),feed_dict={self.X: c_batch,self.y: y_batch})\n",
    "                # accumulate cost\n",
    "                cost+=c\n",
    "            print('Cost:', cost)\n",
    "            \n",
    "    def predict(self,X,out='prob'):\n",
    "        '''\n",
    "        Pass data through encoder and decoder and retrieve reconstructed output\n",
    "            by default the probabilities are returned, user can specify 'sample' or 'both'\n",
    "        '''\n",
    "        # correct shape if needed\n",
    "        if (X.ndim==1):\n",
    "            X = X.reshape([1,-1])\n",
    "        pred,prob = self.session.run((self.post_pred,self.post_pred_probs),feed_dict={self.X:X})\n",
    "        if (out=='prob'):\n",
    "            return prob\n",
    "        elif (out=='sample'):\n",
    "            return pred\n",
    "        else:\n",
    "            return pred,prob\n",
    "\n",
    "    def generate(self,n=1,out='prob'):\n",
    "        '''\n",
    "        Generate output\n",
    "            by default the probabilities are returned, user can specify 'sample' or 'both'\n",
    "            User specifies the number of points requested \n",
    "        '''\n",
    "        pred,prob = self.session.run((self.prior_pred,self.prior_pred_probs),feed_dict={self.gen:n})\n",
    "        if (out=='prob'):\n",
    "            return prob\n",
    "        elif (out=='sample'):\n",
    "            return pred\n",
    "        else:\n",
    "            return pred,prob\n",
    "    \n",
    "    def feed(self,Z):\n",
    "        '''Generate output using provided latent-space input Z'''\n",
    "        # correct shape if needed\n",
    "        if (Z.ndim==1):\n",
    "            Z = Z.reshape([1,-1])\n",
    "        return self.session.run(self.manual_prior_prob,feed_dict={self.Z_input:Z})\n",
    "    \n",
    "    def close(self):\n",
    "        self.session.close()\n",
    "\n",
    "class DenseLayer(object):\n",
    "    '''A fully connected layer'''\n",
    "    \n",
    "    def __init__(self, n_in, n_out, activation=tf.nn.relu):\n",
    "        '''number of input and output neurons; the activation function'''\n",
    "        self.weights = tf.Variable(tf.random_normal(shape=(n_in, n_out), stddev=2/np.sqrt(n_in)))\n",
    "        self.bias = tf.Variable(tf.constant(0.0,shape=[n_out]))\n",
    "        if (activation=='none'):\n",
    "            self.activation = lambda x: x\n",
    "        else:\n",
    "            self.activation = activation\n",
    "            \n",
    "    def feed_forward(self, X):\n",
    "        '''Run input through layer and retrieve output'''\n",
    "        return self.activation(tf.matmul(X, self.weights) + self.bias)\n"
   ]
  },
  {
   "cell_type": "markdown",
   "metadata": {},
   "source": [
    "### Generate data"
   ]
  },
  {
   "cell_type": "code",
   "execution_count": 3,
   "metadata": {},
   "outputs": [],
   "source": [
    "size = 100000\n",
    "d = 12\n",
    "\n",
    "center = np.random.randint(1,d-1,size=(size,2))\n",
    "height = np.random.randint(1,d//2-1,size=size)\n",
    "width =  np.random.randint(1,d//2-1,size=size)\n",
    "\n",
    "X = np.zeros((size,d,d),dtype=int)\n",
    "y = np.zeros((size,2),dtype=int)\n",
    "\n",
    "# paint rectangles\n",
    "for i in range (len(X)):\n",
    "    left = min(max(center[i,0]-width[i]//2,0),d-1)\n",
    "    right = min(max(center[i,0]+width[i]//2,0),d-1)\n",
    "    top = min(max(center[i,1]+height[i]//2,0),d-1)\n",
    "    bottom = min(max(center[i,1]-height[i]//2,0),d-1)\n",
    "    # fix single lines\n",
    "    if abs(left-right) < 3:\n",
    "        if (left>0):\n",
    "            left-=1\n",
    "        if (right<d-1):\n",
    "            right+=1\n",
    "    if abs(bottom-top) < 3:\n",
    "        if (bottom>0):\n",
    "            bottom-=1\n",
    "        if (top<d-1):\n",
    "            top+=1\n",
    "    X[i,top,left:right+1] = 1\n",
    "    X[i,bottom,left:right] = 1\n",
    "    X[i,bottom:top,left] = 1\n",
    "    X[i,bottom:top,right] = 1\n",
    "    y[i,0] = abs(left-right)+1\n",
    "    y[i,1] = abs(top-bottom)+1\n",
    "    \n",
    "# normalize y\n",
    "y = (y - y.mean(axis=0)) / y.std(axis=0)"
   ]
  },
  {
   "cell_type": "code",
   "execution_count": 4,
   "metadata": {},
   "outputs": [
    {
     "name": "stdout",
     "output_type": "stream",
     "text": [
      "[0.76489636 0.76123308]\n"
     ]
    },
    {
     "data": {
      "image/png": "[encoded data removed]",
      "text/plain": [
       "<Figure size 432x288 with 1 Axes>"
      ]
     },
     "metadata": {},
     "output_type": "display_data"
    }
   ],
   "source": [
    "i = np.random.choice(range(len(X)))\n",
    "print(y[i])\n",
    "plt.imshow(X[i],cmap='gray')\n",
    "plt.show()"
   ]
  },
  {
   "cell_type": "code",
   "execution_count": 8,
   "metadata": {},
   "outputs": [
    {
     "data": {
      "text/plain": [
       "(100000, 144)"
      ]
     },
     "execution_count": 8,
     "metadata": {},
     "output_type": "execute_result"
    }
   ],
   "source": [
    "# flatten\n",
    "X = X.reshape(size,-1)\n",
    "X.shape"
   ]
  },
  {
   "cell_type": "markdown",
   "metadata": {},
   "source": [
    "### Generate and train encoder"
   ]
  },
  {
   "cell_type": "code",
   "execution_count": 14,
   "metadata": {},
   "outputs": [],
   "source": [
    "vae = VariationalAutoencoder(144, [48,4])"
   ]
  },
  {
   "cell_type": "markdown",
   "metadata": {},
   "source": [
    "** After several iterations, it finally converged and reconstructions were satisfactory **"
   ]
  },
  {
   "cell_type": "code",
   "execution_count": null,
   "metadata": {},
   "outputs": [],
   "source": [
    "vae.fit(X,y,epochs=5)"
   ]
  },
  {
   "cell_type": "code",
   "execution_count": 17,
   "metadata": {},
   "outputs": [
    {
     "ename": "InvalidArgumentError",
     "evalue": "Input 0 of node RMSProp_1/update_Variable_34/ApplyRMSProp was passed float from _arg_Variable_34_0_2:0 incompatible with expected float_ref.",
     "output_type": "error",
     "traceback": [
      "\u001b[0;31m---------------------------------------------------------------------------\u001b[0m",
      "\u001b[0;31mInvalidArgumentError\u001b[0m                      Traceback (most recent call last)",
      "\u001b[0;32m~/.local/lib/python3.6/site-packages/tensorflow/python/client/session.py\u001b[0m in \u001b[0;36m_do_call\u001b[0;34m(self, fn, *args)\u001b[0m\n\u001b[1;32m   1333\u001b[0m     \u001b[0;32mtry\u001b[0m\u001b[0;34m:\u001b[0m\u001b[0;34m\u001b[0m\u001b[0;34m\u001b[0m\u001b[0m\n\u001b[0;32m-> 1334\u001b[0;31m       \u001b[0;32mreturn\u001b[0m \u001b[0mfn\u001b[0m\u001b[0;34m(\u001b[0m\u001b[0;34m*\u001b[0m\u001b[0margs\u001b[0m\u001b[0;34m)\u001b[0m\u001b[0;34m\u001b[0m\u001b[0;34m\u001b[0m\u001b[0m\n\u001b[0m\u001b[1;32m   1335\u001b[0m     \u001b[0;32mexcept\u001b[0m \u001b[0merrors\u001b[0m\u001b[0;34m.\u001b[0m\u001b[0mOpError\u001b[0m \u001b[0;32mas\u001b[0m \u001b[0me\u001b[0m\u001b[0;34m:\u001b[0m\u001b[0;34m\u001b[0m\u001b[0;34m\u001b[0m\u001b[0m\n",
      "\u001b[0;32m~/.local/lib/python3.6/site-packages/tensorflow/python/client/session.py\u001b[0m in \u001b[0;36m_run_fn\u001b[0;34m(feed_dict, fetch_list, target_list, options, run_metadata)\u001b[0m\n\u001b[1;32m   1318\u001b[0m       return self._call_tf_sessionrun(\n\u001b[0;32m-> 1319\u001b[0;31m           options, feed_dict, fetch_list, target_list, run_metadata)\n\u001b[0m\u001b[1;32m   1320\u001b[0m \u001b[0;34m\u001b[0m\u001b[0m\n",
      "\u001b[0;32m~/.local/lib/python3.6/site-packages/tensorflow/python/client/session.py\u001b[0m in \u001b[0;36m_call_tf_sessionrun\u001b[0;34m(self, options, feed_dict, fetch_list, target_list, run_metadata)\u001b[0m\n\u001b[1;32m   1406\u001b[0m         \u001b[0mself\u001b[0m\u001b[0;34m.\u001b[0m\u001b[0m_session\u001b[0m\u001b[0;34m,\u001b[0m \u001b[0moptions\u001b[0m\u001b[0;34m,\u001b[0m \u001b[0mfeed_dict\u001b[0m\u001b[0;34m,\u001b[0m \u001b[0mfetch_list\u001b[0m\u001b[0;34m,\u001b[0m \u001b[0mtarget_list\u001b[0m\u001b[0;34m,\u001b[0m\u001b[0;34m\u001b[0m\u001b[0;34m\u001b[0m\u001b[0m\n\u001b[0;32m-> 1407\u001b[0;31m         run_metadata)\n\u001b[0m\u001b[1;32m   1408\u001b[0m \u001b[0;34m\u001b[0m\u001b[0m\n",
      "\u001b[0;31mInvalidArgumentError\u001b[0m: Input 0 of node RMSProp_1/update_Variable_34/ApplyRMSProp was passed float from _arg_Variable_34_0_2:0 incompatible with expected float_ref.",
      "\nDuring handling of the above exception, another exception occurred:\n",
      "\u001b[0;31mInvalidArgumentError\u001b[0m                      Traceback (most recent call last)",
      "\u001b[0;32m<ipython-input-17-0775a2ac2b14>\u001b[0m in \u001b[0;36m<module>\u001b[0;34m()\u001b[0m\n\u001b[0;32m----> 1\u001b[0;31m \u001b[0mvae\u001b[0m\u001b[0;34m.\u001b[0m\u001b[0msession\u001b[0m\u001b[0;34m.\u001b[0m\u001b[0mrun\u001b[0m\u001b[0;34m(\u001b[0m\u001b[0;34m(\u001b[0m\u001b[0mvae\u001b[0m\u001b[0;34m.\u001b[0m\u001b[0moptimizer\u001b[0m\u001b[0;34m,\u001b[0m \u001b[0;34m-\u001b[0m\u001b[0mvae\u001b[0m\u001b[0;34m.\u001b[0m\u001b[0melbo\u001b[0m\u001b[0;34m,\u001b[0m \u001b[0mvae\u001b[0m\u001b[0;34m.\u001b[0m\u001b[0merror\u001b[0m\u001b[0;34m)\u001b[0m\u001b[0;34m,\u001b[0m\u001b[0mfeed_dict\u001b[0m\u001b[0;34m=\u001b[0m\u001b[0;34m{\u001b[0m\u001b[0mvae\u001b[0m\u001b[0;34m.\u001b[0m\u001b[0mX\u001b[0m\u001b[0;34m:\u001b[0m\u001b[0mX\u001b[0m\u001b[0;34m,\u001b[0m\u001b[0mvae\u001b[0m\u001b[0;34m.\u001b[0m\u001b[0my\u001b[0m\u001b[0;34m:\u001b[0m\u001b[0my\u001b[0m\u001b[0;34m,\u001b[0m\u001b[0mvae\u001b[0m\u001b[0;34m.\u001b[0m\u001b[0mweight\u001b[0m\u001b[0;34m:\u001b[0m\u001b[0;36m1.0\u001b[0m\u001b[0;34m}\u001b[0m\u001b[0;34m)\u001b[0m\u001b[0;34m\u001b[0m\u001b[0;34m\u001b[0m\u001b[0m\n\u001b[0m",
      "\u001b[0;32m~/.local/lib/python3.6/site-packages/tensorflow/python/client/session.py\u001b[0m in \u001b[0;36mrun\u001b[0;34m(self, fetches, feed_dict, options, run_metadata)\u001b[0m\n\u001b[1;32m    927\u001b[0m     \u001b[0;32mtry\u001b[0m\u001b[0;34m:\u001b[0m\u001b[0;34m\u001b[0m\u001b[0;34m\u001b[0m\u001b[0m\n\u001b[1;32m    928\u001b[0m       result = self._run(None, fetches, feed_dict, options_ptr,\n\u001b[0;32m--> 929\u001b[0;31m                          run_metadata_ptr)\n\u001b[0m\u001b[1;32m    930\u001b[0m       \u001b[0;32mif\u001b[0m \u001b[0mrun_metadata\u001b[0m\u001b[0;34m:\u001b[0m\u001b[0;34m\u001b[0m\u001b[0;34m\u001b[0m\u001b[0m\n\u001b[1;32m    931\u001b[0m         \u001b[0mproto_data\u001b[0m \u001b[0;34m=\u001b[0m \u001b[0mtf_session\u001b[0m\u001b[0;34m.\u001b[0m\u001b[0mTF_GetBuffer\u001b[0m\u001b[0;34m(\u001b[0m\u001b[0mrun_metadata_ptr\u001b[0m\u001b[0;34m)\u001b[0m\u001b[0;34m\u001b[0m\u001b[0;34m\u001b[0m\u001b[0m\n",
      "\u001b[0;32m~/.local/lib/python3.6/site-packages/tensorflow/python/client/session.py\u001b[0m in \u001b[0;36m_run\u001b[0;34m(self, handle, fetches, feed_dict, options, run_metadata)\u001b[0m\n\u001b[1;32m   1150\u001b[0m     \u001b[0;32mif\u001b[0m \u001b[0mfinal_fetches\u001b[0m \u001b[0;32mor\u001b[0m \u001b[0mfinal_targets\u001b[0m \u001b[0;32mor\u001b[0m \u001b[0;34m(\u001b[0m\u001b[0mhandle\u001b[0m \u001b[0;32mand\u001b[0m \u001b[0mfeed_dict_tensor\u001b[0m\u001b[0;34m)\u001b[0m\u001b[0;34m:\u001b[0m\u001b[0;34m\u001b[0m\u001b[0;34m\u001b[0m\u001b[0m\n\u001b[1;32m   1151\u001b[0m       results = self._do_run(handle, final_targets, final_fetches,\n\u001b[0;32m-> 1152\u001b[0;31m                              feed_dict_tensor, options, run_metadata)\n\u001b[0m\u001b[1;32m   1153\u001b[0m     \u001b[0;32melse\u001b[0m\u001b[0;34m:\u001b[0m\u001b[0;34m\u001b[0m\u001b[0;34m\u001b[0m\u001b[0m\n\u001b[1;32m   1154\u001b[0m       \u001b[0mresults\u001b[0m \u001b[0;34m=\u001b[0m \u001b[0;34m[\u001b[0m\u001b[0;34m]\u001b[0m\u001b[0;34m\u001b[0m\u001b[0;34m\u001b[0m\u001b[0m\n",
      "\u001b[0;32m~/.local/lib/python3.6/site-packages/tensorflow/python/client/session.py\u001b[0m in \u001b[0;36m_do_run\u001b[0;34m(self, handle, target_list, fetch_list, feed_dict, options, run_metadata)\u001b[0m\n\u001b[1;32m   1326\u001b[0m     \u001b[0;32mif\u001b[0m \u001b[0mhandle\u001b[0m \u001b[0;32mis\u001b[0m \u001b[0;32mNone\u001b[0m\u001b[0;34m:\u001b[0m\u001b[0;34m\u001b[0m\u001b[0;34m\u001b[0m\u001b[0m\n\u001b[1;32m   1327\u001b[0m       return self._do_call(_run_fn, feeds, fetches, targets, options,\n\u001b[0;32m-> 1328\u001b[0;31m                            run_metadata)\n\u001b[0m\u001b[1;32m   1329\u001b[0m     \u001b[0;32melse\u001b[0m\u001b[0;34m:\u001b[0m\u001b[0;34m\u001b[0m\u001b[0;34m\u001b[0m\u001b[0m\n\u001b[1;32m   1330\u001b[0m       \u001b[0;32mreturn\u001b[0m \u001b[0mself\u001b[0m\u001b[0;34m.\u001b[0m\u001b[0m_do_call\u001b[0m\u001b[0;34m(\u001b[0m\u001b[0m_prun_fn\u001b[0m\u001b[0;34m,\u001b[0m \u001b[0mhandle\u001b[0m\u001b[0;34m,\u001b[0m \u001b[0mfeeds\u001b[0m\u001b[0;34m,\u001b[0m \u001b[0mfetches\u001b[0m\u001b[0;34m)\u001b[0m\u001b[0;34m\u001b[0m\u001b[0;34m\u001b[0m\u001b[0m\n",
      "\u001b[0;32m~/.local/lib/python3.6/site-packages/tensorflow/python/client/session.py\u001b[0m in \u001b[0;36m_do_call\u001b[0;34m(self, fn, *args)\u001b[0m\n\u001b[1;32m   1346\u001b[0m           \u001b[0;32mpass\u001b[0m\u001b[0;34m\u001b[0m\u001b[0;34m\u001b[0m\u001b[0m\n\u001b[1;32m   1347\u001b[0m       \u001b[0mmessage\u001b[0m \u001b[0;34m=\u001b[0m \u001b[0merror_interpolation\u001b[0m\u001b[0;34m.\u001b[0m\u001b[0minterpolate\u001b[0m\u001b[0;34m(\u001b[0m\u001b[0mmessage\u001b[0m\u001b[0;34m,\u001b[0m \u001b[0mself\u001b[0m\u001b[0;34m.\u001b[0m\u001b[0m_graph\u001b[0m\u001b[0;34m)\u001b[0m\u001b[0;34m\u001b[0m\u001b[0;34m\u001b[0m\u001b[0m\n\u001b[0;32m-> 1348\u001b[0;31m       \u001b[0;32mraise\u001b[0m \u001b[0mtype\u001b[0m\u001b[0;34m(\u001b[0m\u001b[0me\u001b[0m\u001b[0;34m)\u001b[0m\u001b[0;34m(\u001b[0m\u001b[0mnode_def\u001b[0m\u001b[0;34m,\u001b[0m \u001b[0mop\u001b[0m\u001b[0;34m,\u001b[0m \u001b[0mmessage\u001b[0m\u001b[0;34m)\u001b[0m\u001b[0;34m\u001b[0m\u001b[0;34m\u001b[0m\u001b[0m\n\u001b[0m\u001b[1;32m   1349\u001b[0m \u001b[0;34m\u001b[0m\u001b[0m\n\u001b[1;32m   1350\u001b[0m   \u001b[0;32mdef\u001b[0m \u001b[0m_extend_graph\u001b[0m\u001b[0;34m(\u001b[0m\u001b[0mself\u001b[0m\u001b[0;34m)\u001b[0m\u001b[0;34m:\u001b[0m\u001b[0;34m\u001b[0m\u001b[0;34m\u001b[0m\u001b[0m\n",
      "\u001b[0;31mInvalidArgumentError\u001b[0m: Input 0 of node RMSProp_1/update_Variable_34/ApplyRMSProp was passed float from _arg_Variable_34_0_2:0 incompatible with expected float_ref."
     ]
    }
   ],
   "source": [
    "vae.session.run((vae.optimizer, -vae.elbo, vae.error),feed_dict={vae.X:X,vae.y:y,vae.weight:1.0})"
   ]
  },
  {
   "cell_type": "markdown",
   "metadata": {},
   "source": [
    "### Reconstruction"
   ]
  },
  {
   "cell_type": "code",
   "execution_count": null,
   "metadata": {},
   "outputs": [],
   "source": [
    "fig,axes = plt.subplots(ncols=3,figsize=(16,16))\n",
    "\n",
    "i = np.random.choice(len(X))\n",
    "aa = vae.predict(X[i:i+3])\n",
    "a = aa[0].reshape(d,d)\n",
    "b = vae.predict(X[i],'sample').reshape(d,d)\n",
    "\n",
    "print(y[i])\n",
    "print(vae.session.run(vae.means,feed_dict={vae.X:X[i].reshape([1,-1])}))\n",
    "\n",
    "axes[0].imshow(X[i].reshape(d,d),cmap='gray')\n",
    "axes[0].set_title('original')\n",
    "axes[1].imshow(a,cmap='gray')\n",
    "axes[1].set_title('probability')\n",
    "axes[2].imshow(b,cmap='gray')\n",
    "axes[2].set_title('sample')\n",
    "plt.show()"
   ]
  },
  {
   "cell_type": "markdown",
   "metadata": {},
   "source": [
    "### Generation"
   ]
  },
  {
   "cell_type": "code",
   "execution_count": null,
   "metadata": {},
   "outputs": [],
   "source": [
    "fig,axes = plt.subplots(ncols=4,figsize=(16,16))\n",
    "\n",
    "c,dd = vae.generate(2,'both')\n",
    "a,b = c[0].reshape(d,d), dd[0].reshape(d,d)\n",
    "c,dd = c[1].reshape(d,d), dd[1].reshape(d,d)\n",
    "\n",
    "axes[0].imshow(a,cmap='gray')\n",
    "axes[0].set_title('sampled 1')\n",
    "axes[1].imshow(b,cmap='gray')\n",
    "axes[1].set_title('probability 1')\n",
    "axes[2].imshow(c,cmap='gray')\n",
    "axes[2].set_title('sampled 2')\n",
    "axes[3].imshow(dd,cmap='gray')\n",
    "axes[3].set_title('probability 2')\n",
    "plt.show()"
   ]
  },
  {
   "cell_type": "markdown",
   "metadata": {},
   "source": [
    "** Latent space contains values that map to non-square output, let's explore the latent space more carefully **"
   ]
  },
  {
   "cell_type": "markdown",
   "metadata": {},
   "source": [
    "### Manual input to latent space"
   ]
  },
  {
   "cell_type": "code",
   "execution_count": null,
   "metadata": {},
   "outputs": [],
   "source": [
    "Z_input = np.random.normal(size=(4,4))\n",
    "\n",
    "fig,axes = plt.subplots(ncols=4,figsize=(16,16))\n",
    "\n",
    "g = vae.feed(Z_input)\n",
    "a,b = g[0].reshape(d,d), g[1].reshape(d,d)\n",
    "c,dd = g[2].reshape(d,d), g[3].reshape(d,d)\n",
    "\n",
    "axes[0].imshow(a,cmap='gray')\n",
    "axes[1].imshow(b,cmap='gray')\n",
    "axes[2].imshow(c,cmap='gray')\n",
    "axes[3].imshow(dd,cmap='gray')\n",
    "plt.show()"
   ]
  },
  {
   "cell_type": "markdown",
   "metadata": {},
   "source": [
    "### Observe latent space"
   ]
  },
  {
   "cell_type": "code",
   "execution_count": null,
   "metadata": {},
   "outputs": [],
   "source": [
    "grid = 7\n",
    "xs = np.linspace(-3, 3, grid)\n",
    "ys = np.linspace(-3, 3, grid)\n",
    "latent = np.empty((d * grid, d * grid))\n",
    "\n",
    "manual_Z = []\n",
    "for x in xs:\n",
    "    for y in ys:\n",
    "        manual_Z.append([x,y,3,0])\n",
    "        \n",
    "manual_Z = np.array(manual_Z)\n",
    "g = vae.feed(manual_Z)\n",
    "\n",
    "for x in range(grid):\n",
    "    for y in range(grid):\n",
    "        idx = x+y*grid\n",
    "        current = g[idx].reshape(d,d)\n",
    "        latent[x*d:(x+1)*d,y*d:(y+1)*d] = current\n",
    "        latent[x*d,:] = 1\n",
    "        latent[:,y*d] = 1\n",
    "\n",
    "plt.figure(figsize=(10,10))\n",
    "plt.imshow(latent,cmap='gray')\n",
    "plt.show()"
   ]
  },
  {
   "cell_type": "markdown",
   "metadata": {},
   "source": [
    "x = 0 and y = 1 provides a good starting point (latent features 0 and 1)"
   ]
  },
  {
   "cell_type": "code",
   "execution_count": null,
   "metadata": {},
   "outputs": [],
   "source": [
    "grid = 7\n",
    "xs = np.linspace(-3, 3, grid)\n",
    "ys = np.linspace(-6, 0, grid)\n",
    "latent = np.empty((d * grid, d * grid))\n",
    "\n",
    "manual_Z = []\n",
    "for x in xs:\n",
    "    for y in ys:\n",
    "        manual_Z.append([0,1,x,y])\n",
    "        \n",
    "manual_Z = np.array(manual_Z)\n",
    "g = vae.feed(manual_Z)\n",
    "\n",
    "for x in range(grid):\n",
    "    for y in range(grid):\n",
    "        idx = x+y*grid\n",
    "        current = g[idx].reshape(d,d)\n",
    "        latent[x*d:(x+1)*d,y*d:(y+1)*d] = current\n",
    "        latent[x*d,:] = 1\n",
    "        latent[:,y*d] = 1\n",
    "\n",
    "plt.figure(figsize=(10,10))\n",
    "plt.imshow(latent,cmap='gray')\n",
    "plt.show()"
   ]
  },
  {
   "cell_type": "markdown",
   "metadata": {},
   "source": [
    "After slight adjustment to the range, it seems that within this setting, the latent space features 2 and 3 vaguely translate to position of the rectangle, but the features are mixed with other characteristics as well"
   ]
  }
 ],
 "metadata": {
  "kernelspec": {
   "display_name": "Python 3",
   "language": "python",
   "name": "python3"
  },
  "language_info": {
   "codemirror_mode": {
    "name": "ipython",
    "version": 3
   },
   "file_extension": ".py",
   "mimetype": "text/x-python",
   "name": "python",
   "nbconvert_exporter": "python",
   "pygments_lexer": "ipython3",
   "version": "3.6.8"
  }
 },
 "nbformat": 4,
 "nbformat_minor": 2
}
