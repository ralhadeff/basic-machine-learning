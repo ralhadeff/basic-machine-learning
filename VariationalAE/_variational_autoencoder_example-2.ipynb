{
 "cells": [
  {
   "cell_type": "markdown",
   "metadata": {},
   "source": [
    "# Variational AutoEncoder"
   ]
  },
  {
   "cell_type": "code",
   "execution_count": 1,
   "metadata": {},
   "outputs": [],
   "source": [
    "import numpy as np\n",
    "import matplotlib.pyplot as plt\n",
    "\n",
    "from vae import VariationalAutoencoder"
   ]
  },
  {
   "cell_type": "markdown",
   "metadata": {},
   "source": [
    "### Generate data"
   ]
  },
  {
   "cell_type": "code",
   "execution_count": 2,
   "metadata": {},
   "outputs": [],
   "source": [
    "size = 100000\n",
    "d = 12\n",
    "\n",
    "center = np.random.randint(1,d-1,size=(size,2))\n",
    "height = np.random.randint(1,d//2-1,size=size)\n",
    "width =  np.random.randint(1,d//2-1,size=size)\n",
    "\n",
    "X = np.zeros((size,d,d),dtype=int)\n",
    "\n",
    "# paint rectangles\n",
    "for i in range (len(X)):\n",
    "    left = min(max(center[i,0]-width[i]//2,0),d-1)\n",
    "    right = min(max(center[i,0]+width[i]//2,0),d-1)\n",
    "    top = min(max(center[i,1]+height[i]//2,0),d-1)\n",
    "    bottom = min(max(center[i,1]-height[i]//2,0),d-1)\n",
    "    # fix single lines\n",
    "    if abs(left-right) < 3:\n",
    "        if (left>0):\n",
    "            left-=1\n",
    "        if (right<d-1):\n",
    "            right+=1\n",
    "    if abs(bottom-top) < 3:\n",
    "        if (bottom>0):\n",
    "            bottom-=1\n",
    "        if (top<d-1):\n",
    "            top+=1\n",
    "    X[i,top,left:right+1] = 1\n",
    "    X[i,bottom,left:right] = 1\n",
    "    X[i,bottom:top,left] = 1\n",
    "    X[i,bottom:top,right] = 1"
   ]
  },
  {
   "cell_type": "code",
   "execution_count": 3,
   "metadata": {},
   "outputs": [
    {
     "data": {
      "image/png": "[encoded data removed]",
      "text/plain": [
       "<Figure size 432x288 with 1 Axes>"
      ]
     },
     "metadata": {},
     "output_type": "display_data"
    }
   ],
   "source": [
    "i = np.random.choice(range(len(X)))\n",
    "plt.imshow(X[i],cmap='gray')\n",
    "plt.show()"
   ]
  },
  {
   "cell_type": "code",
   "execution_count": 4,
   "metadata": {},
   "outputs": [
    {
     "data": {
      "text/plain": [
       "(100000, 144)"
      ]
     },
     "execution_count": 4,
     "metadata": {},
     "output_type": "execute_result"
    }
   ],
   "source": [
    "# flatten\n",
    "X = X.reshape(size,-1)\n",
    "X.shape"
   ]
  },
  {
   "cell_type": "markdown",
   "metadata": {},
   "source": [
    "### Generate and train encoder"
   ]
  },
  {
   "cell_type": "code",
   "execution_count": 6,
   "metadata": {},
   "outputs": [],
   "source": [
    "vae = VariationalAutoencoder(144, [48,4])"
   ]
  },
  {
   "cell_type": "markdown",
   "metadata": {},
   "source": [
    "** After several iterations, it finally converged and reconstructions were satisfactory **"
   ]
  },
  {
   "cell_type": "code",
   "execution_count": 22,
   "metadata": {},
   "outputs": [
    {
     "name": "stdout",
     "output_type": "stream",
     "text": [
      "Epoch: 1\n",
      "Cost: -1163624.522644043\n",
      "Epoch: 2\n",
      "Cost: -1155887.308166504\n",
      "Epoch: 3\n",
      "Cost: -1150346.8211975098\n",
      "Epoch: 4\n",
      "Cost: -1144217.289276123\n",
      "Epoch: 5\n",
      "Cost: -1139266.971130371\n"
     ]
    }
   ],
   "source": [
    "vae.fit(X,epochs=5)"
   ]
  },
  {
   "cell_type": "markdown",
   "metadata": {},
   "source": [
    "### Reconstruction"
   ]
  },
  {
   "cell_type": "code",
   "execution_count": 25,
   "metadata": {},
   "outputs": [
    {
     "data": {
      "image/png": "[encoded data removed]",
      "text/plain": [
       "<Figure size 1152x1152 with 3 Axes>"
      ]
     },
     "metadata": {},
     "output_type": "display_data"
    }
   ],
   "source": [
    "fig,axes = plt.subplots(ncols=3,figsize=(16,16))\n",
    "\n",
    "i = np.random.choice(len(X))\n",
    "aa = vae.predict(X[i:i+3])\n",
    "a = aa[0].reshape(d,d)\n",
    "b = vae.predict(X[i],'sample').reshape(d,d)\n",
    "\n",
    "axes[0].imshow(X[i].reshape(d,d),cmap='gray')\n",
    "axes[0].set_title('original')\n",
    "axes[1].imshow(a,cmap='gray')\n",
    "axes[1].set_title('probability')\n",
    "axes[2].imshow(b,cmap='gray')\n",
    "axes[2].set_title('sample')\n",
    "plt.show()"
   ]
  },
  {
   "cell_type": "markdown",
   "metadata": {},
   "source": [
    "### Generation"
   ]
  },
  {
   "cell_type": "code",
   "execution_count": 26,
   "metadata": {},
   "outputs": [
    {
     "data": {
      "image/png": "[encoded data removed]",
      "text/plain": [
       "<Figure size 1152x1152 with 4 Axes>"
      ]
     },
     "metadata": {},
     "output_type": "display_data"
    }
   ],
   "source": [
    "fig,axes = plt.subplots(ncols=4,figsize=(16,16))\n",
    "\n",
    "c,dd = vae.generate(2,'both')\n",
    "a,b = c[0].reshape(d,d), dd[0].reshape(d,d)\n",
    "c,dd = c[1].reshape(d,d), dd[1].reshape(d,d)\n",
    "\n",
    "axes[0].imshow(a,cmap='gray')\n",
    "axes[0].set_title('sampled 1')\n",
    "axes[1].imshow(b,cmap='gray')\n",
    "axes[1].set_title('probability 1')\n",
    "axes[2].imshow(c,cmap='gray')\n",
    "axes[2].set_title('sampled 2')\n",
    "axes[3].imshow(dd,cmap='gray')\n",
    "axes[3].set_title('probability 2')\n",
    "plt.show()"
   ]
  },
  {
   "cell_type": "markdown",
   "metadata": {},
   "source": [
    "** Latent space contains values that map to non-square output, let's explore the latent space more carefully **"
   ]
  },
  {
   "cell_type": "markdown",
   "metadata": {},
   "source": [
    "### Manual input to latent space"
   ]
  },
  {
   "cell_type": "code",
   "execution_count": 27,
   "metadata": {},
   "outputs": [
    {
     "data": {
      "image/png": "[encoded data removed]",
      "text/plain": [
       "<Figure size 1152x1152 with 4 Axes>"
      ]
     },
     "metadata": {},
     "output_type": "display_data"
    }
   ],
   "source": [
    "Z_input = np.random.normal(size=(4,4))\n",
    "\n",
    "fig,axes = plt.subplots(ncols=4,figsize=(16,16))\n",
    "\n",
    "g = vae.feed(Z_input)\n",
    "a,b = g[0].reshape(d,d), g[1].reshape(d,d)\n",
    "c,dd = g[2].reshape(d,d), g[3].reshape(d,d)\n",
    "\n",
    "axes[0].imshow(a,cmap='gray')\n",
    "axes[1].imshow(b,cmap='gray')\n",
    "axes[2].imshow(c,cmap='gray')\n",
    "axes[3].imshow(dd,cmap='gray')\n",
    "plt.show()"
   ]
  },
  {
   "cell_type": "markdown",
   "metadata": {},
   "source": [
    "### Observe latent space"
   ]
  },
  {
   "cell_type": "code",
   "execution_count": 29,
   "metadata": {},
   "outputs": [
    {
     "data": {
      "image/png": "[encoded data removed]",
      "text/plain": [
       "<Figure size 720x720 with 1 Axes>"
      ]
     },
     "metadata": {},
     "output_type": "display_data"
    }
   ],
   "source": [
    "grid = 7\n",
    "xs = np.linspace(-3, 3, grid)\n",
    "ys = np.linspace(-3, 3, grid)\n",
    "latent = np.empty((d * grid, d * grid))\n",
    "\n",
    "manual_Z = []\n",
    "for x in xs:\n",
    "    for y in ys:\n",
    "        manual_Z.append([x,y,0,0])\n",
    "        \n",
    "manual_Z = np.array(manual_Z)\n",
    "g = vae.feed(manual_Z)\n",
    "\n",
    "for x in range(grid):\n",
    "    for y in range(grid):\n",
    "        idx = x+y*grid\n",
    "        current = g[idx].reshape(d,d)\n",
    "        latent[x*d:(x+1)*d,y*d:(y+1)*d] = current\n",
    "        latent[x*d,:] = 1\n",
    "        latent[:,y*d] = 1\n",
    "\n",
    "plt.figure(figsize=(10,10))\n",
    "plt.imshow(latent,cmap='gray')\n",
    "plt.show()"
   ]
  },
  {
   "cell_type": "markdown",
   "metadata": {},
   "source": [
    "x = 0 and y = 1 provides a good starting point (latent features 0 and 1)"
   ]
  },
  {
   "cell_type": "code",
   "execution_count": 35,
   "metadata": {},
   "outputs": [
    {
     "data": {
      "image/png": "[encoded data removed]",
      "text/plain": [
       "<Figure size 720x720 with 1 Axes>"
      ]
     },
     "metadata": {},
     "output_type": "display_data"
    }
   ],
   "source": [
    "grid = 7\n",
    "xs = np.linspace(-3, 3, grid)\n",
    "ys = np.linspace(-6, 0, grid)\n",
    "latent = np.empty((d * grid, d * grid))\n",
    "\n",
    "manual_Z = []\n",
    "for x in xs:\n",
    "    for y in ys:\n",
    "        manual_Z.append([0,1,x,y])\n",
    "        \n",
    "manual_Z = np.array(manual_Z)\n",
    "g = vae.feed(manual_Z)\n",
    "\n",
    "for x in range(grid):\n",
    "    for y in range(grid):\n",
    "        idx = x+y*grid\n",
    "        current = g[idx].reshape(d,d)\n",
    "        latent[x*d:(x+1)*d,y*d:(y+1)*d] = current\n",
    "        latent[x*d,:] = 1\n",
    "        latent[:,y*d] = 1\n",
    "\n",
    "plt.figure(figsize=(10,10))\n",
    "plt.imshow(latent,cmap='gray')\n",
    "plt.show()"
   ]
  },
  {
   "cell_type": "markdown",
   "metadata": {},
   "source": [
    "After slight adjustment to the range, it seems that within this setting, the latent space features 2 and 3 vaguely translate to position of the rectangle, but the features are mixed with other characteristics as well"
   ]
  }
 ],
 "metadata": {
  "kernelspec": {
   "display_name": "Python 3",
   "language": "python",
   "name": "python3"
  },
  "language_info": {
   "codemirror_mode": {
    "name": "ipython",
    "version": 3
   },
   "file_extension": ".py",
   "mimetype": "text/x-python",
   "name": "python",
   "nbconvert_exporter": "python",
   "pygments_lexer": "ipython3",
   "version": "3.6.8"
  }
 },
 "nbformat": 4,
 "nbformat_minor": 2
}
