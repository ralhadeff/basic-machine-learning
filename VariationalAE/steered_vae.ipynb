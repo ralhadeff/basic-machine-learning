{
 "cells": [
  {
   "cell_type": "markdown",
   "metadata": {},
   "source": [
    "# Steered Variational AutoEncoder"
   ]
  },
  {
   "cell_type": "markdown",
   "metadata": {},
   "source": [
    "**Note: if such a method already exists under a different name, I am simply not aware of it**"
   ]
  },
  {
   "cell_type": "code",
   "execution_count": 1,
   "metadata": {},
   "outputs": [],
   "source": [
    "import numpy as np\n",
    "import matplotlib.pyplot as plt"
   ]
  },
  {
   "cell_type": "code",
   "execution_count": 73,
   "metadata": {},
   "outputs": [],
   "source": [
    "import numpy as np\n",
    "import tensorflow as tf\n",
    "\n",
    "from tensorflow.distributions import Normal\n",
    "from tensorflow.distributions import Bernoulli\n",
    "\n",
    "# modified version\n",
    "class VariationalAutoencoder:\n",
    "    \n",
    "    def __init__(self, n_input, n_list, n_y=None):\n",
    "        # input data\n",
    "        self.X = tf.placeholder(tf.float32, shape=(None, n_input))\n",
    "        if (n_y is not None):\n",
    "            self.y = tf.placeholder(tf.float32, shape=(None, n_y))\n",
    "        \n",
    "        # encoder\n",
    "        self.encoder_layers = []\n",
    "        # input layer\n",
    "        previous = n_input\n",
    "        # current is the output of each layer (skip last because there is nothing after it)\n",
    "        for current in n_list[:-1]:\n",
    "            h = DenseLayer(previous,current)\n",
    "            self.encoder_layers.append(h)\n",
    "            previous = current\n",
    "        # latent features number\n",
    "        latent = n_list[-1]\n",
    "        encoder_output = DenseLayer(current,latent*2,activation='none')\n",
    "        self.encoder_layers.append(encoder_output)\n",
    "        \n",
    "        # feed forward through encoder\n",
    "        c_X = self.X\n",
    "        for layer in self.encoder_layers:\n",
    "            c_X = layer.feed_forward(c_X)\n",
    "        # c_X now holds the output of the encoder\n",
    "        # first half are the means\n",
    "        self.means = c_X[:,:latent]\n",
    "        # second half are the std; must be positive; +1e-6 for smoothing\n",
    "        self.std = tf.nn.softplus(c_X[:,latent:]) + 1e-6\n",
    "        \n",
    "        # optional loss for directed latent features\n",
    "        if (n_y is not None):\n",
    "            self.yhat = self.means[:,:n_y]\n",
    "            self.error = tf.losses.mean_squared_error(labels=self.y,predictions=self.yhat)\n",
    "        \n",
    "        # reparameterization trick\n",
    "        normal = Normal(loc=self.means,scale=self.std)\n",
    "        self.Z = normal.sample()\n",
    "                \n",
    "        # decoder\n",
    "        self.decoder_layers = []\n",
    "        previous = latent\n",
    "        for current in reversed(n_list[:-1]):\n",
    "            h = DenseLayer(previous,current)\n",
    "            self.decoder_layers.append(h)\n",
    "            previous = current\n",
    "        # output is the reconstruction\n",
    "        decoder_output = DenseLayer(previous,n_input,activation=lambda x:x)\n",
    "        self.decoder_layers.append(decoder_output)\n",
    "\n",
    "        #feed forward through decoder, using the sampled 'data'\n",
    "        c_X = self.Z\n",
    "        for layer in self.decoder_layers:\n",
    "            c_X = layer.feed_forward(c_X)\n",
    "        logits = c_X\n",
    "        # use logits for cost function below\n",
    "        neg_cross_entropy = -tf.nn.sigmoid_cross_entropy_with_logits(labels=self.X,\n",
    "                    logits=logits)\n",
    "        neg_cross_entropy = tf.reduce_sum(neg_cross_entropy, 1)\n",
    "        \n",
    "        # output\n",
    "        self.y_prob = Bernoulli(logits=logits)\n",
    "        \n",
    "        # sample from output\n",
    "        self.post_pred = self.y_prob.sample()\n",
    "        self.post_pred_probs = tf.nn.sigmoid(logits)\n",
    "        \n",
    "        # generate 'de-novo' output\n",
    "        self.gen = tf.Variable(0)\n",
    "        Z_std = Normal(0.0,1.0).sample([self.gen,latent])\n",
    "        c_X = Z_std\n",
    "        for layer in self.decoder_layers:\n",
    "            c_X = layer.feed_forward(c_X)\n",
    "        logits = c_X\n",
    "        \n",
    "        prior_pred_dist = Bernoulli(logits=logits)\n",
    "        self.prior_pred = prior_pred_dist.sample()\n",
    "        self.prior_pred_probs = tf.nn.sigmoid(logits)\n",
    "        \n",
    "        # manually input Z\n",
    "        self.Z_input = tf.placeholder(np.float32, shape=(None, latent))\n",
    "        c_X = self.Z_input\n",
    "        for layer in self.decoder_layers:\n",
    "            c_X = layer.feed_forward(c_X)\n",
    "        logits = c_X\n",
    "        self.manual_prior_prob = tf.nn.sigmoid(logits)\n",
    "        \n",
    "        # cost function\n",
    "        # Kullback–Leibler divergence\n",
    "        kl = -tf.log(self.std) + 0.5*(self.std**2 + self.means**2) - 0.5\n",
    "        kl = tf.reduce_sum(kl, axis=1)\n",
    "        # ELBO\n",
    "        self.elbo = tf.reduce_sum(neg_cross_entropy - kl)\n",
    "        \n",
    "        if (n_y is None):\n",
    "            self.optimizer = tf.train.RMSPropOptimizer(learning_rate=0.001).minimize(-self.elbo)\n",
    "        else:\n",
    "            self.optimizer = tf.train.RMSPropOptimizer(learning_rate=0.001).minimize(\n",
    "                tf.reduce_sum(100*self.error-self.elbo))\n",
    "               \n",
    "        self.init = tf.global_variables_initializer()\n",
    "        self.session = tf.Session()\n",
    "        self.session.run(self.init)\n",
    "    \n",
    "    def steer(self,X,y,epochs=10,batch=50):\n",
    "        '''Replaces fit, user provides the labels for the latent features'''\n",
    "        n_batches = len(X) // batch\n",
    "        for epoch in range(epochs):\n",
    "            print('Epoch:',epoch+1)\n",
    "            cost = 0\n",
    "            e_cost = 0\n",
    "            for b in range(n_batches):\n",
    "                c_batch = X[b*batch:(b+1)*batch]\n",
    "                y_batch = y[b*batch:(b+1)*batch]\n",
    "                _,c,e, = self.session.run((self.optimizer, self.elbo,self.error),feed_dict={self.X: c_batch,self.y:y_batch})\n",
    "                # accumulate cost\n",
    "                cost+=c\n",
    "                e_cost+=e\n",
    "            print('Cost:', cost,e_cost)\n",
    "    \n",
    "    def fit(self,X,epochs=10,batch=50):\n",
    "        n_batches = len(X) // batch\n",
    "        for epoch in range(epochs):\n",
    "            print('Epoch:',epoch+1)\n",
    "            cost = 0\n",
    "            for b in range(n_batches):\n",
    "                c_batch = X[b*batch:(b+1)*batch]\n",
    "                _,c, = self.session.run((self.optimizer, self.elbo),feed_dict={self.X: c_batch})\n",
    "                # accumulate cost\n",
    "                cost+=c\n",
    "            print('Cost:', cost)\n",
    "                       \n",
    "    def predict(self,X,out='prob'):\n",
    "        '''\n",
    "        Pass data through encoder and decoder and retrieve reconstructed output\n",
    "            by default the probabilities are returned, user can specify 'sample' or 'both'\n",
    "        '''\n",
    "        # correct shape if needed\n",
    "        if (X.ndim==1):\n",
    "            X = X.reshape([1,-1])\n",
    "        pred,prob,mm = self.session.run((self.post_pred,self.post_pred_probs,self.means),feed_dict={self.X:X})\n",
    "        if (out=='prob'):\n",
    "            return prob,mm\n",
    "        elif (out=='sample'):\n",
    "            return pred\n",
    "        else:\n",
    "            return pred,prob\n",
    "\n",
    "    def generate(self,n=1,out='prob'):\n",
    "        '''\n",
    "        Generate output\n",
    "            by default the probabilities are returned, user can specify 'sample' or 'both'\n",
    "            User specifies the number of points requested \n",
    "        '''\n",
    "        pred,prob = self.session.run((self.prior_pred,self.prior_pred_probs),feed_dict={self.gen:n})\n",
    "        if (out=='prob'):\n",
    "            return prob\n",
    "        elif (out=='sample'):\n",
    "            return pred\n",
    "        else:\n",
    "            return pred,prob\n",
    "    \n",
    "    def feed(self,Z):\n",
    "        '''Generate output using provided latent-space input Z'''\n",
    "        # correct shape if needed\n",
    "        if (Z.ndim==1):\n",
    "            Z = Z.reshape([1,-1])\n",
    "        return self.session.run(self.manual_prior_prob,feed_dict={self.Z_input:Z})\n",
    "    \n",
    "    def close(self):\n",
    "        self.session.close()\n",
    "\n",
    "class DenseLayer(object):\n",
    "    '''A fully connected layer'''\n",
    "    \n",
    "    def __init__(self, n_in, n_out, activation=tf.nn.relu):\n",
    "        '''number of input and output neurons; the activation function'''\n",
    "        self.weights = tf.Variable(tf.random_normal(shape=(n_in, n_out), stddev=2/np.sqrt(n_in)))\n",
    "        self.bias = tf.Variable(tf.constant(0.0,shape=[n_out]))\n",
    "        if (activation=='none'):\n",
    "            self.activation = lambda x: x\n",
    "        else:\n",
    "            self.activation = activation\n",
    "            \n",
    "    def feed_forward(self, X):\n",
    "        '''Run input through layer and retrieve output'''\n",
    "        return self.activation(tf.matmul(X, self.weights) + self.bias)"
   ]
  },
  {
   "cell_type": "markdown",
   "metadata": {},
   "source": [
    "### Generate data"
   ]
  },
  {
   "cell_type": "code",
   "execution_count": 92,
   "metadata": {},
   "outputs": [],
   "source": [
    "size = 100000\n",
    "d = 8\n",
    "\n",
    "center = np.random.randint(1,d-1,size=(size,2))\n",
    "height = np.random.randint(1,d//2-1,size=size)\n",
    "width =  np.random.randint(1,d//2-1,size=size)\n",
    "\n",
    "X = np.zeros((size,d,d),dtype=int)\n",
    "y = np.zeros((size,4))\n",
    "\n",
    "# paint rectangles\n",
    "for i in range (len(X)):\n",
    "    left = min(max(center[i,0]-width[i]//2,0),d-1)\n",
    "    right = min(max(center[i,0]+width[i]//2,0),d-1)\n",
    "    top = min(max(center[i,1]+height[i]//2,0),d-1)\n",
    "    bottom = min(max(center[i,1]-height[i]//2,0),d-1)\n",
    "    # fix single lines\n",
    "    if abs(left-right) < 3:\n",
    "        if (left>0):\n",
    "            left-=1\n",
    "        if (right<d-1):\n",
    "            right+=1\n",
    "    if abs(bottom-top) < 3:\n",
    "        if (bottom>0):\n",
    "            bottom-=1\n",
    "        if (top<d-1):\n",
    "            top+=1\n",
    "    X[i,top,left:right+1] = 1\n",
    "    X[i,bottom,left:right] = 1\n",
    "    X[i,bottom:top,left] = 1\n",
    "    X[i,bottom:top,right] = 1\n",
    "    y[i,0] = abs(top-bottom)+1\n",
    "    y[i,1] = abs(left-right)+1\n",
    "    y[i,2] = (top+bottom)/2\n",
    "    y[i,3] = (left+right)/2\n",
    "\n",
    "y = (y-y.mean(axis=0))/y.std(axis=0)"
   ]
  },
  {
   "cell_type": "code",
   "execution_count": 93,
   "metadata": {},
   "outputs": [
    {
     "name": "stdout",
     "output_type": "stream",
     "text": [
      "[-0.9255257   1.29809     1.57178787  0.94372816]\n"
     ]
    },
    {
     "data": {
      "image/png": "[encoded data removed]",
      "text/plain": [
       "<Figure size 432x288 with 1 Axes>"
      ]
     },
     "metadata": {
      "needs_background": "light"
     },
     "output_type": "display_data"
    }
   ],
   "source": [
    "i = np.random.choice(range(len(X)))\n",
    "print(y[i])\n",
    "plt.imshow(X[i],cmap='gray')\n",
    "plt.show()"
   ]
  },
  {
   "cell_type": "code",
   "execution_count": 94,
   "metadata": {},
   "outputs": [
    {
     "data": {
      "text/plain": [
       "((100000, 64), (100000, 4))"
      ]
     },
     "execution_count": 94,
     "metadata": {},
     "output_type": "execute_result"
    }
   ],
   "source": [
    "# flatten\n",
    "X = X.reshape(size,-1)\n",
    "X.shape, y.shape"
   ]
  },
  {
   "cell_type": "markdown",
   "metadata": {},
   "source": [
    "### Generate and train encoder"
   ]
  },
  {
   "cell_type": "code",
   "execution_count": 77,
   "metadata": {},
   "outputs": [],
   "source": [
    "vae = VariationalAutoencoder(64, [24,4],4)"
   ]
  },
  {
   "cell_type": "code",
   "execution_count": 96,
   "metadata": {},
   "outputs": [
    {
     "name": "stdout",
     "output_type": "stream",
     "text": [
      "Epoch: 1\n",
      "Cost: -945061.2065124512 928.3135843873024\n",
      "Epoch: 2\n",
      "Cost: -946956.0149536133 929.0393362045288\n",
      "Epoch: 3\n",
      "Cost: -949314.0523681641 928.4616147875786\n",
      "Epoch: 4\n",
      "Cost: -949629.3695983887 927.3976556956768\n",
      "Epoch: 5\n",
      "Cost: -952677.4588928223 922.5802194178104\n"
     ]
    }
   ],
   "source": [
    "vae.steer(X,y,epochs=5)"
   ]
  },
  {
   "cell_type": "markdown",
   "metadata": {},
   "source": [
    "### Reconstruction"
   ]
  },
  {
   "cell_type": "code",
   "execution_count": 97,
   "metadata": {},
   "outputs": [
    {
     "name": "stdout",
     "output_type": "stream",
     "text": [
      "[ 1.30049968  0.18422254 -0.31134832 -1.25327309]\n",
      "[ 1.2344284  -0.37480196 -0.3050932  -1.6446443 ]\n"
     ]
    },
    {
     "data": {
      "image/png": "[encoded data removed]",
      "text/plain": [
       "<Figure size 1152x1152 with 3 Axes>"
      ]
     },
     "metadata": {
      "needs_background": "light"
     },
     "output_type": "display_data"
    }
   ],
   "source": [
    "fig,axes = plt.subplots(ncols=3,figsize=(16,16))\n",
    "\n",
    "i = np.random.choice(len(X))\n",
    "aa,mm = vae.predict(X[i:i+3])\n",
    "a = aa[0].reshape(d,d)\n",
    "b = vae.predict(X[i],'sample')[0].reshape(d,d)\n",
    "\n",
    "print(y[i])\n",
    "print(mm[0])\n",
    "\n",
    "axes[0].imshow(X[i].reshape(d,d),cmap='gray')\n",
    "axes[0].set_title('original')\n",
    "axes[1].imshow(a,cmap='gray')\n",
    "axes[1].set_title('probability')\n",
    "axes[2].imshow(b,cmap='gray')\n",
    "axes[2].set_title('sample')\n",
    "plt.show()"
   ]
  },
  {
   "cell_type": "markdown",
   "metadata": {},
   "source": [
    "### Generation"
   ]
  },
  {
   "cell_type": "code",
   "execution_count": 98,
   "metadata": {},
   "outputs": [
    {
     "data": {
      "image/png": "[encoded data removed]",
      "text/plain": [
       "<Figure size 1152x1152 with 4 Axes>"
      ]
     },
     "metadata": {
      "needs_background": "light"
     },
     "output_type": "display_data"
    }
   ],
   "source": [
    "fig,axes = plt.subplots(ncols=4,figsize=(16,16))\n",
    "\n",
    "c,dd = vae.generate(2,'both')\n",
    "a,b = c[0].reshape(d,d), dd[0].reshape(d,d)\n",
    "c,dd = c[1].reshape(d,d), dd[1].reshape(d,d)\n",
    "\n",
    "axes[0].imshow(a,cmap='gray')\n",
    "axes[0].set_title('sampled 1')\n",
    "axes[1].imshow(b,cmap='gray')\n",
    "axes[1].set_title('probability 1')\n",
    "axes[2].imshow(c,cmap='gray')\n",
    "axes[2].set_title('sampled 2')\n",
    "axes[3].imshow(dd,cmap='gray')\n",
    "axes[3].set_title('probability 2')\n",
    "plt.show()"
   ]
  },
  {
   "cell_type": "markdown",
   "metadata": {},
   "source": [
    "### Manual input to latent space"
   ]
  },
  {
   "cell_type": "code",
   "execution_count": 83,
   "metadata": {},
   "outputs": [
    {
     "data": {
      "image/png": "[encoded data removed]",
      "text/plain": [
       "<Figure size 1152x1152 with 4 Axes>"
      ]
     },
     "metadata": {
      "needs_background": "light"
     },
     "output_type": "display_data"
    }
   ],
   "source": [
    "Z_input = np.random.normal(size=(4,4))\n",
    "\n",
    "fig,axes = plt.subplots(ncols=4,figsize=(16,16))\n",
    "\n",
    "g = vae.feed(Z_input)\n",
    "a,b = g[0].reshape(d,d), g[1].reshape(d,d)\n",
    "c,dd = g[2].reshape(d,d), g[3].reshape(d,d)\n",
    "\n",
    "axes[0].imshow(a,cmap='gray')\n",
    "axes[1].imshow(b,cmap='gray')\n",
    "axes[2].imshow(c,cmap='gray')\n",
    "axes[3].imshow(dd,cmap='gray')\n",
    "plt.show()"
   ]
  },
  {
   "cell_type": "markdown",
   "metadata": {},
   "source": [
    "### Observe latent space"
   ]
  },
  {
   "cell_type": "code",
   "execution_count": 104,
   "metadata": {},
   "outputs": [
    {
     "data": {
      "image/png": "[encoded data removed]",
      "text/plain": [
       "<Figure size 720x720 with 1 Axes>"
      ]
     },
     "metadata": {
      "needs_background": "light"
     },
     "output_type": "display_data"
    }
   ],
   "source": [
    "grid = 7\n",
    "xs = np.linspace(-2, 2, grid)\n",
    "ys = np.linspace(-2, 2, grid)\n",
    "latent = np.empty((d * grid, d * grid))\n",
    "\n",
    "manual_Z = []\n",
    "for x in xs:\n",
    "    for y in ys:\n",
    "        manual_Z.append([y,x,1,1])\n",
    "        \n",
    "manual_Z = np.array(manual_Z)\n",
    "g = vae.feed(manual_Z)\n",
    "\n",
    "for x in range(grid):\n",
    "    for y in range(grid):\n",
    "        idx = x+y*grid\n",
    "        current = g[idx].reshape(d,d)\n",
    "        latent[x*d:(x+1)*d,y*d:(y+1)*d] = current\n",
    "        latent[x*d,:] = 1\n",
    "        latent[:,y*d] = 1\n",
    "\n",
    "plt.figure(figsize=(10,10))\n",
    "plt.imshow(latent,cmap='gray')\n",
    "plt.show()"
   ]
  },
  {
   "cell_type": "markdown",
   "metadata": {},
   "source": [
    "Overall, features 0 and 1 dicate the width and height, as trained"
   ]
  },
  {
   "cell_type": "code",
   "execution_count": 105,
   "metadata": {},
   "outputs": [
    {
     "data": {
      "image/png": "[encoded data removed]",
      "text/plain": [
       "<Figure size 720x720 with 1 Axes>"
      ]
     },
     "metadata": {
      "needs_background": "light"
     },
     "output_type": "display_data"
    }
   ],
   "source": [
    "grid = 7\n",
    "xs = np.linspace(-2, 2, grid)\n",
    "ys = np.linspace(-2, 2, grid)\n",
    "latent = np.empty((d * grid, d * grid))\n",
    "\n",
    "manual_Z = []\n",
    "for x in xs:\n",
    "    for y in ys:\n",
    "        manual_Z.append([1,1,y,x])\n",
    "        \n",
    "manual_Z = np.array(manual_Z)\n",
    "g = vae.feed(manual_Z)\n",
    "\n",
    "for x in range(grid):\n",
    "    for y in range(grid):\n",
    "        idx = x+y*grid\n",
    "        current = g[idx].reshape(d,d)\n",
    "        latent[x*d:(x+1)*d,y*d:(y+1)*d] = current\n",
    "        latent[x*d,:] = 1\n",
    "        latent[:,y*d] = 1\n",
    "\n",
    "plt.figure(figsize=(10,10))\n",
    "plt.imshow(latent,cmap='gray')\n",
    "plt.show()"
   ]
  },
  {
   "cell_type": "markdown",
   "metadata": {},
   "source": [
    "Indeed, position is mostly dictated by latent features 2 and 3, as trained"
   ]
  }
 ],
 "metadata": {
  "kernelspec": {
   "display_name": "Python 3",
   "language": "python",
   "name": "python3"
  },
  "language_info": {
   "codemirror_mode": {
    "name": "ipython",
    "version": 3
   },
   "file_extension": ".py",
   "mimetype": "text/x-python",
   "name": "python",
   "nbconvert_exporter": "python",
   "pygments_lexer": "ipython3",
   "version": "3.6.7"
  }
 },
 "nbformat": 4,
 "nbformat_minor": 2
}
