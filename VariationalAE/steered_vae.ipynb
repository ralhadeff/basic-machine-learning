{
 "cells": [
  {
   "cell_type": "markdown",
   "metadata": {},
   "source": [
    "# Steered Variational AutoEncoder"
   ]
  },
  {
   "cell_type": "markdown",
   "metadata": {},
   "source": [
    "**Note: if such a method already exists under a different name, I am simply not aware of it**"
   ]
  },
  {
   "cell_type": "code",
   "execution_count": 2,
   "metadata": {},
   "outputs": [],
   "source": [
    "import numpy as np\n",
    "import matplotlib.pyplot as plt\n",
    "\n",
    "from steered import SteeredVAE"
   ]
  },
  {
   "cell_type": "markdown",
   "metadata": {},
   "source": [
    "### Generate data"
   ]
  },
  {
   "cell_type": "code",
   "execution_count": 29,
   "metadata": {},
   "outputs": [],
   "source": [
    "size = 100000\n",
    "d = 8\n",
    "\n",
    "center = np.random.randint(1,d-1,size=(size,2))\n",
    "height = np.random.randint(1,d//2-1,size=size)\n",
    "width =  np.random.randint(1,d//2-1,size=size)\n",
    "\n",
    "X = np.zeros((size,d,d),dtype=int)\n",
    "y = np.zeros((size,4))\n",
    "\n",
    "# paint rectangles\n",
    "for i in range (len(X)):\n",
    "    left = min(max(center[i,0]-width[i]//2,0),d-1)\n",
    "    right = min(max(center[i,0]+width[i]//2,0),d-1)\n",
    "    top = min(max(center[i,1]+height[i]//2,0),d-1)\n",
    "    bottom = min(max(center[i,1]-height[i]//2,0),d-1)\n",
    "    # fix single lines\n",
    "    if abs(left-right) < 3:\n",
    "        if (left>0):\n",
    "            left-=1\n",
    "        if (right<d-1):\n",
    "            right+=1\n",
    "    if abs(bottom-top) < 3:\n",
    "        if (bottom>0):\n",
    "            bottom-=1\n",
    "        if (top<d-1):\n",
    "            top+=1\n",
    "    X[i,top,left:right+1] = 1\n",
    "    X[i,bottom,left:right] = 1\n",
    "    X[i,bottom:top,left] = 1\n",
    "    X[i,bottom:top,right] = 1\n",
    "    y[i,0] = abs(top-bottom)+1\n",
    "    y[i,1] = abs(left-right)+1\n",
    "    y[i,2] = (top+bottom)/2\n",
    "    y[i,3] = (left+right)/2\n",
    "\n",
    "# normalize m\n",
    "y_m = y.mean(axis=0)\n",
    "y_s = y.std(axis=0)\n",
    "y = (y-y_m)/y_s"
   ]
  },
  {
   "cell_type": "markdown",
   "metadata": {},
   "source": [
    "**Note: y labels MUST be normalized and standarized, because the latent space is a normal distribution**"
   ]
  },
  {
   "cell_type": "code",
   "execution_count": 30,
   "metadata": {},
   "outputs": [
    {
     "name": "stdout",
     "output_type": "stream",
     "text": [
      "[4.  3.  5.5 2. ]\n"
     ]
    },
    {
     "data": {
      "image/png": "[encoded data removed]",
      "text/plain": [
       "<Figure size 432x288 with 1 Axes>"
      ]
     },
     "metadata": {
      "needs_background": "light"
     },
     "output_type": "display_data"
    }
   ],
   "source": [
    "i = np.random.choice(range(len(X)))\n",
    "print(y[i]*y_s+y_m)\n",
    "plt.imshow(X[i],cmap='gray')\n",
    "plt.show()"
   ]
  },
  {
   "cell_type": "code",
   "execution_count": 31,
   "metadata": {},
   "outputs": [
    {
     "data": {
      "text/plain": [
       "((100000, 64), (100000, 4))"
      ]
     },
     "execution_count": 31,
     "metadata": {},
     "output_type": "execute_result"
    }
   ],
   "source": [
    "# flatten\n",
    "X = X.reshape(size,-1)\n",
    "X.shape, y.shape"
   ]
  },
  {
   "cell_type": "markdown",
   "metadata": {},
   "source": [
    "### Generate and train encoder"
   ]
  },
  {
   "cell_type": "code",
   "execution_count": 11,
   "metadata": {},
   "outputs": [],
   "source": [
    "# steer 4 features (x,y position height and width)\n",
    "vae = SteeredVAE(64, [24,4],4)"
   ]
  },
  {
   "cell_type": "code",
   "execution_count": 32,
   "metadata": {},
   "outputs": [
    {
     "name": "stdout",
     "output_type": "stream",
     "text": [
      "Epoch: 1\n",
      "Cost: -910506.6416625977 1246.45086145401\n",
      "Epoch: 2\n",
      "Cost: -912429.8784179688 1242.2454152107239\n",
      "Epoch: 3\n",
      "Cost: -913253.5433654785 1238.9601491689682\n",
      "Epoch: 4\n",
      "Cost: -913029.6405639648 1233.9455044269562\n",
      "Epoch: 5\n",
      "Cost: -914780.787109375 1229.950330466032\n"
     ]
    }
   ],
   "source": [
    "vae.steer(X,y,epochs=5)"
   ]
  },
  {
   "cell_type": "markdown",
   "metadata": {},
   "source": [
    "Costs are ELBO and L2-loss"
   ]
  },
  {
   "cell_type": "markdown",
   "metadata": {},
   "source": [
    "### Reconstruction"
   ]
  },
  {
   "cell_type": "code",
   "execution_count": 33,
   "metadata": {},
   "outputs": [
    {
     "name": "stdout",
     "output_type": "stream",
     "text": [
      "[ 1.29882948 -0.93274969  0.30917273  0.31487155]\n",
      "[0.09622589 1.4303287  0.02610569 0.626733  ]\n"
     ]
    },
    {
     "data": {
      "image/png": "[encoded data removed]",
      "text/plain": [
       "<Figure size 1152x1152 with 3 Axes>"
      ]
     },
     "metadata": {
      "needs_background": "light"
     },
     "output_type": "display_data"
    }
   ],
   "source": [
    "fig,axes = plt.subplots(ncols=3,figsize=(16,16))\n",
    "\n",
    "i = np.random.choice(len(X))\n",
    "aa,mm = vae.predict(X[i:i+3])\n",
    "a = aa[0].reshape(d,d)\n",
    "b = vae.predict(X[i],'sample')[0].reshape(d,d)\n",
    "\n",
    "print(y[i])\n",
    "print(mm[0])\n",
    "\n",
    "axes[0].imshow(X[i].reshape(d,d),cmap='gray')\n",
    "axes[0].set_title('original')\n",
    "axes[1].imshow(a,cmap='gray')\n",
    "axes[1].set_title('probability')\n",
    "axes[2].imshow(b,cmap='gray')\n",
    "axes[2].set_title('sample')\n",
    "plt.show()"
   ]
  },
  {
   "cell_type": "markdown",
   "metadata": {},
   "source": [
    "### Observe latent space"
   ]
  },
  {
   "cell_type": "code",
   "execution_count": 35,
   "metadata": {},
   "outputs": [
    {
     "data": {
      "image/png": "[encoded data removed]",
      "text/plain": [
       "<Figure size 720x720 with 1 Axes>"
      ]
     },
     "metadata": {
      "needs_background": "light"
     },
     "output_type": "display_data"
    }
   ],
   "source": [
    "grid = 7\n",
    "xs = np.linspace(-2, 2, grid)\n",
    "ys = np.linspace(-2, 2, grid)\n",
    "latent = np.empty((d * grid, d * grid))\n",
    "\n",
    "manual_Z = []\n",
    "for x in xs:\n",
    "    for y in ys:\n",
    "        manual_Z.append([y,x,1,1])\n",
    "        \n",
    "manual_Z = np.array(manual_Z)\n",
    "g = vae.feed(manual_Z)\n",
    "\n",
    "for xx in range(grid):\n",
    "    for yy in range(grid):\n",
    "        idx = xx+yy*grid\n",
    "        current = g[idx].reshape(d,d)\n",
    "        latent[xx*d:(xx+1)*d,yy*d:(yy+1)*d] = current\n",
    "        latent[xx*d,:] = 1\n",
    "        latent[:,yy*d] = 1\n",
    "\n",
    "plt.figure(figsize=(10,10))\n",
    "plt.imshow(latent,cmap='gray')\n",
    "plt.show()"
   ]
  },
  {
   "cell_type": "markdown",
   "metadata": {},
   "source": [
    "Overall, features 0 and 1 dicate the width and height, as trained"
   ]
  },
  {
   "cell_type": "code",
   "execution_count": 36,
   "metadata": {},
   "outputs": [
    {
     "data": {
      "image/png": "[encoded data removed]",
      "text/plain": [
       "<Figure size 720x720 with 1 Axes>"
      ]
     },
     "metadata": {
      "needs_background": "light"
     },
     "output_type": "display_data"
    }
   ],
   "source": [
    "grid = 7\n",
    "xs = np.linspace(-2, 2, grid)\n",
    "ys = np.linspace(-2, 2, grid)\n",
    "latent = np.empty((d * grid, d * grid))\n",
    "\n",
    "manual_Z = []\n",
    "for x in xs:\n",
    "    for y in ys:\n",
    "        manual_Z.append([1,1,y,x])\n",
    "        \n",
    "manual_Z = np.array(manual_Z)\n",
    "g = vae.feed(manual_Z)\n",
    "\n",
    "for x in range(grid):\n",
    "    for y in range(grid):\n",
    "        idx = x+y*grid\n",
    "        current = g[idx].reshape(d,d)\n",
    "        latent[x*d:(x+1)*d,y*d:(y+1)*d] = current\n",
    "        latent[x*d,:] = 1\n",
    "        latent[:,y*d] = 1\n",
    "\n",
    "plt.figure(figsize=(10,10))\n",
    "plt.imshow(latent,cmap='gray')\n",
    "plt.show()"
   ]
  },
  {
   "cell_type": "markdown",
   "metadata": {},
   "source": [
    "Indeed, position is mostly dictated by latent features 2 and 3, as trained"
   ]
  }
 ],
 "metadata": {
  "kernelspec": {
   "display_name": "Python 3",
   "language": "python",
   "name": "python3"
  },
  "language_info": {
   "codemirror_mode": {
    "name": "ipython",
    "version": 3
   },
   "file_extension": ".py",
   "mimetype": "text/x-python",
   "name": "python",
   "nbconvert_exporter": "python",
   "pygments_lexer": "ipython3",
   "version": "3.6.7"
  }
 },
 "nbformat": 4,
 "nbformat_minor": 2
}
