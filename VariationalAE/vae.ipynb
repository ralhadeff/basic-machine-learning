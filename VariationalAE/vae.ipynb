{
 "cells": [
  {
   "cell_type": "code",
   "execution_count": 1,
   "metadata": {},
   "outputs": [],
   "source": [
    "import numpy as np\n",
    "import tensorflow as tf\n",
    "import matplotlib.pyplot as plt\n",
    "\n",
    "from tensorflow.distributions import Normal\n",
    "from tensorflow.distributions import Bernoulli"
   ]
  },
  {
   "cell_type": "code",
   "execution_count": 2,
   "metadata": {},
   "outputs": [],
   "source": [
    "class DenseLayer(object):\n",
    "    '''A fully connected layer'''\n",
    "    def __init__(self, n_in, n_out, activation=tf.nn.relu):\n",
    "        '''number of input and output neurons, and the activation function'''\n",
    "        self.weights = tf.Variable(tf.random_normal(shape=(n_in, n_out), stddev=2/np.sqrt(n_in)))\n",
    "        self.bias = tf.Variable(tf.constant(0.0,shape=[n_out]))\n",
    "        if (activation=='none'):\n",
    "            self.activation = lambda x: x\n",
    "        else:\n",
    "            self.activation = activation\n",
    "            \n",
    "    def feed_forward(self, X):\n",
    "        # run input through layer and retrieve output\n",
    "        return self.activation(tf.matmul(X, self.weights) + self.bias)"
   ]
  },
  {
   "cell_type": "code",
   "execution_count": 7,
   "metadata": {},
   "outputs": [],
   "source": [
    "class VariationalAutoencoder:\n",
    "    def __init__(self, n_input, n_list):\n",
    "        ''''''\n",
    "        # input\n",
    "        self.X = tf.placeholder(tf.float32, shape=(None, n_input))\n",
    "        \n",
    "        # encoder\n",
    "        # build hidden layers\n",
    "        self.encoder_layers = []\n",
    "        # input of first hidden layer\n",
    "        previous = n_input\n",
    "        # current is the output of each layer (skip last because there is nothing after it)\n",
    "        for current in n_list[:-1]:\n",
    "            # hidden layer\n",
    "            h = DenseLayer(previous,current)\n",
    "            self.encoder_layers.append(h)\n",
    "            previous = current\n",
    "        # latent features number\n",
    "        latent = n_list[-1]\n",
    "        encoder_output = DenseLayer(current,latent*2,activation='none')\n",
    "        self.encoder_layers.append(encoder_output)\n",
    "        \n",
    "        # feed forward through encoder\n",
    "        c_X = self.X\n",
    "        for layer in self.encoder_layers:\n",
    "            c_X = layer.feed_forward(c_X)\n",
    "        # c_X now holds the output of the encoder\n",
    "        self.means = c_X[:,:latent]\n",
    "        # std must be positive, 1e-6 for smoothing\n",
    "        self.std = tf.nn.softplus(c_X[:,latent:]) + 1e-6\n",
    "        \n",
    "        # reparameterization trick\n",
    "        normal = Normal(loc=self.means,scale=self.std)\n",
    "        self.Z = normal.sample()\n",
    "        \n",
    "        \n",
    "        # decoder\n",
    "        self.decoder_layers = []\n",
    "        previous = latent\n",
    "        for current in reversed(n_list[:-1]):\n",
    "            h = DenseLayer(previous,current)\n",
    "            self.decoder_layers.append(h)\n",
    "            previous = current\n",
    "        decoder_output = DenseLayer(previous,n_input,activation=lambda x:x)\n",
    "        self.decoder_layers.append(decoder_output)\n",
    "\n",
    "        #feed forward through decoder\n",
    "        c_X = self.Z\n",
    "        for layer in self.decoder_layers:\n",
    "            c_X = layer.feed_forward(c_X)\n",
    "        logits = c_X\n",
    "        # save for cost function below\n",
    "        neg_cross_entropy = -tf.nn.sigmoid_cross_entropy_with_logits(labels=self.X,\n",
    "                    logits=logits)\n",
    "        neg_cross_entropy = tf.reduce_sum(neg_cross_entropy, 1)\n",
    "        \n",
    "        # output\n",
    "        self.pred = Bernoulli(logits=logits)\n",
    "        \n",
    "        # sample from output\n",
    "        self.post_pred = self.pred.sample()\n",
    "        self.post_pred_probs = tf.nn.sigmoid(logits)\n",
    "        \n",
    "        scale = np.ones(latent,dtype=np.float32)\n",
    "        loc = scale*0\n",
    "        std_norm = Normal(loc,scale)\n",
    "        \n",
    "        Z_std = std_norm.sample(1)\n",
    "        c_X = Z_std\n",
    "        for layer in self.decoder_layers:\n",
    "            c_X = layer.feed_forward(c_X)\n",
    "        logits = c_X\n",
    "        \n",
    "        prior_pred_dist = Bernoulli(logits=logits)\n",
    "        self.prior_pred = prior_pred_dist.sample()\n",
    "        self.prior_pred_probs = tf.nn.sigmoid(logits)\n",
    "        \n",
    "        self.Z_input = tf.placeholder(np.float32, shape=(None, latent))\n",
    "        c_X = self.Z_input\n",
    "        for layer in self.decoder_layers:\n",
    "            c_X = layer.feed_forward(c_X)\n",
    "        logits = c_X\n",
    "        self.prior_pred_from_in_probs = tf.nn.sigmoid(logits)\n",
    "        \n",
    "        # cost\n",
    "        # Kullback–Leibler divergence\n",
    "        kl = -tf.log(self.std) + 0.5*(self.std**2 + self.means**2) - 0.5\n",
    "        kl = tf.reduce_sum(kl, axis=1)\n",
    "        # ELBO\n",
    "        self.elbo = tf.reduce_sum(neg_cross_entropy - kl)\n",
    "         \n",
    "        self.optimizer = tf.train.RMSPropOptimizer(learning_rate=0.001).minimize(-self.elbo)\n",
    "               \n",
    "        self.init = tf.global_variables_initializer()\n",
    "        self.session = tf.Session()\n",
    "        self.session.run(self.init)\n",
    "        \n",
    "    def fit(self,X,epochs=10,batch=50):\n",
    "        costs = []\n",
    "        n_batches = len(X) // batch\n",
    "        for epoch in range(epochs):\n",
    "            print('Epoch:',epoch+1)\n",
    "            np.random.shuffle(X)\n",
    "            for b in range(n_batches):\n",
    "                c_batch = X[b*batch:(b+1)*batch]\n",
    "                _,c, = self.session.run((self.optimizer, self.elbo),feed_dict={self.X: c_batch})\n",
    "                # normalize cost\n",
    "                c/=batch\n",
    "                costs.append(c)\n",
    "        plt.plot(costs)\n",
    "        plt.show()\n",
    "    \n",
    "    def transform(self,X):\n",
    "        return self.session.run(self.means,feed_dict={self.X: X})"
   ]
  },
  {
   "cell_type": "code",
   "execution_count": 14,
   "metadata": {},
   "outputs": [],
   "source": [
    "data = np.genfromtxt('train.csv', delimiter=',')"
   ]
  },
  {
   "cell_type": "code",
   "execution_count": 15,
   "metadata": {},
   "outputs": [],
   "source": [
    "X = data[1:,1:]\n",
    "y = data[1:,0]\n",
    "X/=255\n",
    "X = (X>0.5).astype(np.float32)"
   ]
  },
  {
   "cell_type": "code",
   "execution_count": 19,
   "metadata": {},
   "outputs": [],
   "source": [
    "vae = VariationalAutoencoder(784, [200, 100])"
   ]
  },
  {
   "cell_type": "code",
   "execution_count": 20,
   "metadata": {},
   "outputs": [
    {
     "name": "stdout",
     "output_type": "stream",
     "text": [
      "Epoch: 1\n",
      "Epoch: 2\n",
      "Epoch: 3\n",
      "Epoch: 4\n",
      "Epoch: 5\n",
      "Epoch: 6\n",
      "Epoch: 7\n",
      "Epoch: 8\n",
      "Epoch: 9\n",
      "Epoch: 10\n"
     ]
    },
    {
     "data": {
      "image/png": "[encoded data removed]",
      "text/plain": [
       "<Figure size 432x288 with 1 Axes>"
      ]
     },
     "metadata": {},
     "output_type": "display_data"
    }
   ],
   "source": [
    "vae.fit(X)"
   ]
  },
  {
   "cell_type": "code",
   "execution_count": 48,
   "metadata": {},
   "outputs": [
    {
     "data": {
      "image/png": "[encoded data removed]",
      "text/plain": [
       "<Figure size 1008x1008 with 5 Axes>"
      ]
     },
     "metadata": {},
     "output_type": "display_data"
    }
   ],
   "source": [
    "fig,axes = plt.subplots(ncols=5,figsize=(14,14))\n",
    "\n",
    "i = np.random.choice(len(X))\n",
    "a = vae.session.run(vae.post_pred,feed_dict={vae.X:[X[i]]}).reshape(28,28)\n",
    "b = vae.session.run(vae.post_pred_probs,feed_dict={vae.X:[X[i]]}).reshape(28,28)\n",
    "c,d = vae.session.run((vae.prior_pred,vae.prior_pred_probs))\n",
    "c,d = c.reshape(28,28), d.reshape(28,28)\n",
    "\n",
    "axes[0].imshow(X[i].reshape(28,28),cmap='gray')\n",
    "axes[0].set_title('original')\n",
    "axes[1].imshow(a,cmap='gray')\n",
    "axes[1].set_title('post_pred')\n",
    "axes[2].imshow(b,cmap='gray')\n",
    "axes[2].set_title('post_prob')\n",
    "axes[3].imshow(c,cmap='gray')\n",
    "axes[3].set_title('prior_pred')\n",
    "axes[4].imshow(d,cmap='gray')\n",
    "axes[4].set_title('prior_prob')\n",
    "plt.show()"
   ]
  },
  {
   "cell_type": "code",
   "execution_count": 111,
   "metadata": {},
   "outputs": [],
   "source": [
    "Z_input = np.random.normal(size=100)"
   ]
  },
  {
   "cell_type": "code",
   "execution_count": 122,
   "metadata": {},
   "outputs": [
    {
     "data": {
      "image/png": "[encoded data removed]",
      "text/plain": [
       "<Figure size 432x288 with 1 Axes>"
      ]
     },
     "metadata": {},
     "output_type": "display_data"
    }
   ],
   "source": [
    "# add noise\n",
    "ZZ = Z_input.copy()\n",
    "ZZ[10:20]-=10\n",
    "im = vae.session.run(vae.prior_pred_from_in_probs,feed_dict={vae.Z_input:[ZZ]}).reshape(28,28)\n",
    "plt.imshow(im,cmap='gray')\n",
    "plt.show()"
   ]
  },
  {
   "cell_type": "code",
   "execution_count": null,
   "metadata": {},
   "outputs": [],
   "source": []
  }
 ],
 "metadata": {
  "kernelspec": {
   "display_name": "Python 3",
   "language": "python",
   "name": "python3"
  },
  "language_info": {
   "codemirror_mode": {
    "name": "ipython",
    "version": 3
   },
   "file_extension": ".py",
   "mimetype": "text/x-python",
   "name": "python",
   "nbconvert_exporter": "python",
   "pygments_lexer": "ipython3",
   "version": "3.6.8"
  }
 },
 "nbformat": 4,
 "nbformat_minor": 2
}
