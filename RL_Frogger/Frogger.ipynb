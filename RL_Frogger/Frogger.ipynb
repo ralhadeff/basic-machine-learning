{
 "cells": [
  {
   "cell_type": "code",
   "execution_count": 126,
   "metadata": {},
   "outputs": [],
   "source": [
    "import numpy as np\n",
    "import matplotlib.pyplot as plt\n",
    "\n",
    "import time"
   ]
  },
  {
   "cell_type": "code",
   "execution_count": 18,
   "metadata": {},
   "outputs": [],
   "source": [
    "class Frog():\n",
    "    '''\n",
    "    Create a frog player for frogger\n",
    "    '''\n",
    "    \n",
    "    def __init__(self,road_width):\n",
    "        '''\n",
    "        road_width is the value of the road's positive edge in which this frog is playing\n",
    "        '''\n",
    "        self.lane = 0\n",
    "        self.pos = 0\n",
    "        self.road_width = road_width\n",
    "        \n",
    "    def move_up(self):\n",
    "        '''Frog moves up one lane'''\n",
    "        self.lane+=1\n",
    "        \n",
    "    def move_down(self):\n",
    "        '''Frog moves down one lane (if possible)'''\n",
    "        if (self.lane>0):\n",
    "            self.lane-=1\n",
    "    \n",
    "    def move_left(self):\n",
    "        '''From moves to the left if possible'''\n",
    "        if (self.pos>-self.road_width):\n",
    "            self.pos-=1\n",
    "\n",
    "    def move_right(self):\n",
    "        '''From moves to the right if possible'''\n",
    "        if (self.pos<self.road_width):\n",
    "            self.pos+=1"
   ]
  },
  {
   "cell_type": "code",
   "execution_count": 169,
   "metadata": {},
   "outputs": [],
   "source": [
    "class Car():\n",
    "    \n",
    "    def __init__(self,road_width,lane,left,velocity=1,size=2):\n",
    "        self.lane = lane\n",
    "        if (left):\n",
    "            self.pos = -road_width\n",
    "            self.velocity = velocity\n",
    "        else:\n",
    "            self.pos = road_width\n",
    "            self.velocity = -velocity\n",
    "        self.size = size\n",
    "        \n",
    "    def move(self):\n",
    "        self.pos+=self.velocity"
   ]
  },
  {
   "cell_type": "code",
   "execution_count": 188,
   "metadata": {},
   "outputs": [],
   "source": [
    "class Road():\n",
    "    \n",
    "    def __init__(self,lanes,width):\n",
    "        self.lanes = lanes\n",
    "        self.width = width\n",
    "        self.cars = []\n",
    "    \n",
    "    def add_frog(self):\n",
    "        self.frog = Frog(self.width)\n",
    "        return self.frog\n",
    "    \n",
    "    def check_victory(self):\n",
    "        if (self.frog.lane>=self.lanes):\n",
    "            print('Victory')\n",
    "            \n",
    "    def add_car(self):\n",
    "        # defaults\n",
    "        self.cars.append(Car(self.width,\n",
    "                             np.random.randint(self.lanes),\n",
    "                            (np.random.randint(2)==0)))\n",
    "        \n",
    "    def update(self):\n",
    "        for car in self.cars:\n",
    "            car.move()\n",
    "    \n",
    "    def render(self):\n",
    "        # asphalt background 127 129 135\n",
    "        image = np.ones((self.lanes,self.width*2+1,3),dtype=int) * [127,129,135]\n",
    "        # paint frog (start from bottom left)\n",
    "        l,p = (self.lanes-self.frog.lane-1,self.width+self.frog.pos)\n",
    "        image[l,p,:] = (0,204,0)\n",
    "        # paint cars\n",
    "        for car in self.cars:\n",
    "            l,p = (self.lanes-car.lane-1,self.width+car.pos)\n",
    "            for i in range(car.size):\n",
    "                image[l,p+i*np.sign(car.velocity),:] = (255,0,0)\n",
    "            \n",
    "        return image"
   ]
  },
  {
   "cell_type": "code",
   "execution_count": 194,
   "metadata": {},
   "outputs": [
    {
     "data": {
      "image/png": "[encoded data removed]",
      "text/plain": [
       "<Figure size 432x288 with 1 Axes>"
      ]
     },
     "metadata": {
      "needs_background": "light"
     },
     "output_type": "display_data"
    }
   ],
   "source": [
    "road = Road(4,6)\n",
    "frog = road.add_frog()\n",
    "road.add_car()\n",
    "im = road.render()\n",
    "plt.imshow(im)\n",
    "plt.show()"
   ]
  },
  {
   "cell_type": "code",
   "execution_count": 195,
   "metadata": {},
   "outputs": [
    {
     "data": {
      "image/png": "[encoded data removed]",
      "text/plain": [
       "<Figure size 432x288 with 1 Axes>"
      ]
     },
     "metadata": {
      "needs_background": "light"
     },
     "output_type": "display_data"
    }
   ],
   "source": [
    "road.update()\n",
    "frog.move_up()\n",
    "road.check_victory()\n",
    "im = road.render()\n",
    "plt.imshow(im)\n",
    "plt.show()"
   ]
  },
  {
   "cell_type": "code",
   "execution_count": 198,
   "metadata": {},
   "outputs": [
    {
     "data": {
      "image/png": "[encoded data removed]",
      "text/plain": [
       "<Figure size 432x288 with 1 Axes>"
      ]
     },
     "metadata": {
      "needs_background": "light"
     },
     "output_type": "display_data"
    }
   ],
   "source": [
    "road.update()\n",
    "frog.move_left()\n",
    "im = road.render()\n",
    "plt.imshow(im)\n",
    "plt.show()"
   ]
  },
  {
   "cell_type": "code",
   "execution_count": null,
   "metadata": {},
   "outputs": [],
   "source": []
  }
 ],
 "metadata": {
  "kernelspec": {
   "display_name": "Python 3",
   "language": "python",
   "name": "python3"
  },
  "language_info": {
   "codemirror_mode": {
    "name": "ipython",
    "version": 3
   },
   "file_extension": ".py",
   "mimetype": "text/x-python",
   "name": "python",
   "nbconvert_exporter": "python",
   "pygments_lexer": "ipython3",
   "version": "3.6.7"
  }
 },
 "nbformat": 4,
 "nbformat_minor": 2
}
