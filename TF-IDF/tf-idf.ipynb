{
 "cells": [
  {
   "cell_type": "markdown",
   "metadata": {},
   "source": [
    "# TF-IDF"
   ]
  },
  {
   "cell_type": "markdown",
   "metadata": {},
   "source": [
    "data used is paragraphs (lines) from one of my papers, after removing all the headers, figures, and references.<br>\n",
    "https://doi.org/10.1073/pnas.1810316115"
   ]
  },
  {
   "cell_type": "code",
   "execution_count": 1,
   "metadata": {},
   "outputs": [],
   "source": [
    "import numpy as np\n",
    "import string\n",
    "\n",
    "from tfidf import TFIDF"
   ]
  },
  {
   "cell_type": "markdown",
   "metadata": {},
   "source": [
    "### Data"
   ]
  },
  {
   "cell_type": "code",
   "execution_count": 2,
   "metadata": {},
   "outputs": [
    {
     "data": {
      "text/plain": [
       "['\\ufeffG-protein coupled receptors (GPCRs) are a large group of membrane-bound receptor proteins that are involved in a plethora of diverse processes (e.g. vision, hormone response). In mammals, and particularly in humans, GPCRs are involved in many signal transduction pathways and as such are heavily studied for their immense pharmaceutical potential. Indeed, a large fraction of drugs target various GPCRs, and drug-development is often aimed at GPCRs. Therefore, understanding the activation of GPCRs is a challenge of a major importance both from fundamental and practical considerations. And yet, despite the remarkable progress in structural understanding, we still do not have a translation of the structural information to an energy-based picture. Here we use coarse grained (CG) modeling to chart the free energy landscape of the activation process of the β-2 adrenergic receptor (β2AR; a class A GPCR) as a representative GPCR. The landscape provides the needed tool for analyzing the processes that lead to activation of the receptor upon binding of the ligand (adrenaline) while limiting constitutive activation. Our results pave the way to better understand the biological mechanisms of action of the β2AR and GPCRs, from a physical chemistry point of view rather than simply by observing the receptor’s behavior physiologically.  \\n',\n",
       " '\\n',\n",
       " 'Exploring the action of GPCRs is a problem of major fundamental and practical importance. Hence, it is crucial to understand the free energy landscape of the activation of a GPCR. However, at present it is practically impossible to explore this issue by all-atom simulations. The current work uses a coarse-grained (CG) model to explore the nature of the relevant landscape and the resulting GPCR activation. We explore the energetic determinants of the allosteric mechanism of GPCR activation, shedding light on the structure/activity relationship of the system. This advance can serve as a basis for further progress in understanding GPCRs and related systems. Furthermore, it demonstrates the utility of CG approaches in describing and analyzing large and complex biological systems.\\n']"
      ]
     },
     "execution_count": 2,
     "metadata": {},
     "output_type": "execute_result"
    }
   ],
   "source": [
    "# open file\n",
    "raw_data = open(\"sample.txt\", \"r\")\n",
    "data = []\n",
    "# read line by line\n",
    "for l in raw_data:\n",
    "    data.append(l)\n",
    "# print 3 example paragraphs (lines)\n",
    "data[:3]"
   ]
  },
  {
   "cell_type": "markdown",
   "metadata": {},
   "source": [
    "### Fitting"
   ]
  },
  {
   "cell_type": "code",
   "execution_count": 3,
   "metadata": {},
   "outputs": [],
   "source": [
    "tfidf = TFIDF()"
   ]
  },
  {
   "cell_type": "code",
   "execution_count": 4,
   "metadata": {},
   "outputs": [],
   "source": [
    "# list of custom chosen words to skip\n",
    "skip = ['and','or','a','an','with','if','is','are','were','to','our','but','since','this','a','been']\n",
    "\n",
    "_ = tfidf.fit(data,\n",
    "          remove_punctuation=string.punctuation.replace('-',''),\n",
    "          ignore_case=True,\n",
    "          skip_words=skip)"
   ]
  },
  {
   "cell_type": "markdown",
   "metadata": {},
   "source": [
    "### Lookup documents by word"
   ]
  },
  {
   "cell_type": "code",
   "execution_count": 5,
   "metadata": {},
   "outputs": [
    {
     "data": {
      "text/plain": [
       "(array([42, 10, 37, 14, 47, 26, 32, 34, 12]),\n",
       " array([0.03927291, 0.0312852 , 0.01963645, 0.01942975, 0.01845827,\n",
       "        0.01809634, 0.01774833, 0.0138784 , 0.00591611]))"
      ]
     },
     "execution_count": 5,
     "metadata": {},
     "output_type": "execute_result"
    }
   ],
   "source": [
    "tfidf.search_word('protein',prune=True,return_tf_idf=True)"
   ]
  },
  {
   "cell_type": "markdown",
   "metadata": {},
   "source": [
    "### Lookup words by document"
   ]
  },
  {
   "cell_type": "code",
   "execution_count": 7,
   "metadata": {},
   "outputs": [
    {
     "data": {
      "text/plain": [
       "[['gpcrs', 'large', 'involved'],\n",
       " ['lines', 'top', 'opens'],\n",
       " ['explore', 'gpcr', 'systems'],\n",
       " ['lines', 'top', 'opens'],\n",
       " ['receptors', 'grows', 'cellular']]"
      ]
     },
     "execution_count": 7,
     "metadata": {},
     "output_type": "execute_result"
    }
   ],
   "source": [
    "tfidf.get_important_list(3)[:5]"
   ]
  },
  {
   "cell_type": "code",
   "execution_count": null,
   "metadata": {},
   "outputs": [],
   "source": []
  }
 ],
 "metadata": {
  "kernelspec": {
   "display_name": "Python 3",
   "language": "python",
   "name": "python3"
  },
  "language_info": {
   "codemirror_mode": {
    "name": "ipython",
    "version": 3
   },
   "file_extension": ".py",
   "mimetype": "text/x-python",
   "name": "python",
   "nbconvert_exporter": "python",
   "pygments_lexer": "ipython3",
   "version": "3.6.8"
  }
 },
 "nbformat": 4,
 "nbformat_minor": 2
}
