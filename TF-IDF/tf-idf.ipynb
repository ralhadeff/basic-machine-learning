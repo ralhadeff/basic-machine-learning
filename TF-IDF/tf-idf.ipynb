{
 "cells": [
  {
   "cell_type": "markdown",
   "metadata": {},
   "source": [
    "# TF-IDF"
   ]
  },
  {
   "cell_type": "markdown",
   "metadata": {},
   "source": [
    "data used is paragraphs (lines) from one of my papers, after removing all the headers, figures, and references.<br>\n",
    "https://doi.org/10.1073/pnas.1810316115"
   ]
  },
  {
   "cell_type": "code",
   "execution_count": 1,
   "metadata": {},
   "outputs": [],
   "source": [
    "import numpy as np\n",
    "import string\n",
    "\n",
    "from tfidf import TFIDF"
   ]
  },
  {
   "cell_type": "markdown",
   "metadata": {},
   "source": [
    "### Data"
   ]
  },
  {
   "cell_type": "code",
   "execution_count": 2,
   "metadata": {},
   "outputs": [
    {
     "data": {
      "text/plain": [
       "['\\ufeffG-protein coupled receptors (GPCRs) are a large group of membrane-bound receptor proteins that are involved in a plethora of diverse processes (e.g. vision, hormone response). In mammals, and particularly in humans, GPCRs are involved in many signal transduction pathways and as such are heavily studied for their immense pharmaceutical potential. Indeed, a large fraction of drugs target various GPCRs, and drug-development is often aimed at GPCRs. Therefore, understanding the activation of GPCRs is a challenge of a major importance both from fundamental and practical considerations. And yet, despite the remarkable progress in structural understanding, we still do not have a translation of the structural information to an energy-based picture. Here we use coarse grained (CG) modeling to chart the free energy landscape of the activation process of the β-2 adrenergic receptor (β2AR; a class A GPCR) as a representative GPCR. The landscape provides the needed tool for analyzing the processes that lead to activation of the receptor upon binding of the ligand (adrenaline) while limiting constitutive activation. Our results pave the way to better understand the biological mechanisms of action of the β2AR and GPCRs, from a physical chemistry point of view rather than simply by observing the receptor’s behavior physiologically.  \\n',\n",
       " '\\n',\n",
       " 'Exploring the action of GPCRs is a problem of major fundamental and practical importance. Hence, it is crucial to understand the free energy landscape of the activation of a GPCR. However, at present it is practically impossible to explore this issue by all-atom simulations. The current work uses a coarse-grained (CG) model to explore the nature of the relevant landscape and the resulting GPCR activation. We explore the energetic determinants of the allosteric mechanism of GPCR activation, shedding light on the structure/activity relationship of the system. This advance can serve as a basis for further progress in understanding GPCRs and related systems. Furthermore, it demonstrates the utility of CG approaches in describing and analyzing large and complex biological systems.\\n']"
      ]
     },
     "execution_count": 2,
     "metadata": {},
     "output_type": "execute_result"
    }
   ],
   "source": [
    "# open file\n",
    "raw_data = open(\"sample.txt\", \"r\")\n",
    "data = []\n",
    "# read line by line\n",
    "for l in raw_data:\n",
    "    data.append(l)\n",
    "# print 3 example paragraphs (lines)\n",
    "data[:3]"
   ]
  },
  {
   "cell_type": "markdown",
   "metadata": {},
   "source": [
    "Note: second paragraph is actually an empty line. This issue should not be relevant if using a list of actual documents and not lines from a single document"
   ]
  },
  {
   "cell_type": "markdown",
   "metadata": {},
   "source": [
    "### Fitting"
   ]
  },
  {
   "cell_type": "code",
   "execution_count": 4,
   "metadata": {},
   "outputs": [],
   "source": [
    "tfidf = TFIDF()"
   ]
  },
  {
   "cell_type": "code",
   "execution_count": 14,
   "metadata": {},
   "outputs": [
    {
     "data": {
      "text/plain": [
       "1320"
      ]
     },
     "execution_count": 14,
     "metadata": {},
     "output_type": "execute_result"
    }
   ],
   "source": [
    "tfidf.fit(data)\n",
    "len(tfidf.unique_words)"
   ]
  },
  {
   "cell_type": "code",
   "execution_count": 15,
   "metadata": {},
   "outputs": [
    {
     "data": {
      "text/plain": [
       "1325"
      ]
     },
     "execution_count": 15,
     "metadata": {},
     "output_type": "execute_result"
    }
   ],
   "source": [
    "# non default punctuation skipping\n",
    "# in this particular case, hyphens are important for context, and should not be removed\n",
    "tfidf.fit(data,remove_punctuation=string.punctuation.replace('-',''))\n",
    "len(tfidf.unique_words)"
   ]
  },
  {
   "cell_type": "code",
   "execution_count": 16,
   "metadata": {},
   "outputs": [
    {
     "data": {
      "text/plain": [
       "1275"
      ]
     },
     "execution_count": 16,
     "metadata": {},
     "output_type": "execute_result"
    }
   ],
   "source": [
    "# user can request case-insensitivity\n",
    "tfidf.fit(data,remove_punctuation=string.punctuation.replace('-',''),ignore_case=True)\n",
    "len(tfidf.unique_words)"
   ]
  },
  {
   "cell_type": "code",
   "execution_count": 17,
   "metadata": {},
   "outputs": [
    {
     "data": {
      "text/plain": [
       "1260"
      ]
     },
     "execution_count": 17,
     "metadata": {},
     "output_type": "execute_result"
    }
   ],
   "source": [
    "# user can remove words from TD-IDF analysis\n",
    "\n",
    "# arbitrary list of words for demonstration\n",
    "skip = ['and','or','a','an','with','if','is','are','were','to','our','but','since','this','a','been']\n",
    "\n",
    "tfidf.fit(data,remove_punctuation=string.punctuation.replace('-',''),ignore_case=True,skip_words=skip)\n",
    "len(tfidf.unique_words)"
   ]
  },
  {
   "cell_type": "markdown",
   "metadata": {},
   "source": [
    "### Lookup documents by word"
   ]
  },
  {
   "cell_type": "code",
   "execution_count": 19,
   "metadata": {},
   "outputs": [
    {
     "data": {
      "text/plain": [
       "array([51, 53, 22, 24, 42, 21, 10, 23,  6, 41,  9, 19, 14, 40, 26, 25,  2,\n",
       "        8, 49,  7, 20,  0, 12, 15, 13, 17, 18,  3, 11,  1,  4,  5, 16, 56,\n",
       "       27, 39, 54, 52, 50, 48, 47, 46, 45, 44, 43, 38, 55, 37, 36, 35, 34,\n",
       "       33, 32, 31, 30, 29, 28])"
      ]
     },
     "execution_count": 19,
     "metadata": {},
     "output_type": "execute_result"
    }
   ],
   "source": [
    "tfidf.search_word('energy')"
   ]
  },
  {
   "cell_type": "code",
   "execution_count": 20,
   "metadata": {},
   "outputs": [
    {
     "data": {
      "text/plain": [
       "'Figure 4 – Cross-sections of the CG energy landscape. The energies of the receptor and G-protein states, following several linear paths, are depicted by colored lines accompanied by cartoons adjacent to each point (shown as circles). The vertical black arrow denotes the difference in energy associated with binding of the adrenaline agonist. The purple and gray curves denote inactive receptor. The top of the black arrow denotes the energy of the agonist-free activated receptor and the bottom of the arrow, and all lines starting at that point, denote the agonist-bound receptor states.\\n'"
      ]
     },
     "execution_count": 20,
     "metadata": {},
     "output_type": "execute_result"
    }
   ],
   "source": [
    "data[51]"
   ]
  },
  {
   "cell_type": "code",
   "execution_count": 21,
   "metadata": {},
   "outputs": [
    {
     "data": {
      "text/plain": [
       "(array([51, 53, 22, 24, 42, 21, 10, 23,  6, 41,  9, 19, 14, 40, 26, 25,  2,\n",
       "         8, 49,  7, 20,  0, 12, 15, 13, 17, 18,  3, 11,  1,  4,  5, 16, 56,\n",
       "        27, 39, 54, 52, 50, 48, 47, 46, 45, 44, 43, 38, 55, 37, 36, 35, 34,\n",
       "        33, 32, 31, 30, 29, 28]),\n",
       " array([0.02959425, 0.0259302 , 0.02544552, 0.02135428, 0.01930972,\n",
       "        0.01762247, 0.01538232, 0.01452091, 0.01375086, 0.01148806,\n",
       "        0.01019727, 0.0101403 , 0.00955323, 0.00935626, 0.00889762,\n",
       "        0.00848184, 0.00762653, 0.00703533, 0.00546721, 0.00537016,\n",
       "        0.00467813, 0.00451521, 0.00290884, 0.        , 0.        ,\n",
       "        0.        , 0.        , 0.        , 0.        , 0.        ,\n",
       "        0.        , 0.        , 0.        , 0.        , 0.        ,\n",
       "        0.        , 0.        , 0.        , 0.        , 0.        ,\n",
       "        0.        , 0.        , 0.        , 0.        , 0.        ,\n",
       "        0.        , 0.        , 0.        , 0.        , 0.        ,\n",
       "        0.        , 0.        , 0.        , 0.        , 0.        ,\n",
       "        0.        , 0.        ]))"
      ]
     },
     "execution_count": 21,
     "metadata": {},
     "output_type": "execute_result"
    }
   ],
   "source": [
    "# user can view the actualy TD-IDF values\n",
    "tfidf.search_word('energy',return_tf_idf=True)"
   ]
  },
  {
   "cell_type": "markdown",
   "metadata": {},
   "source": [
    "Many uninformative zeros"
   ]
  },
  {
   "cell_type": "code",
   "execution_count": 22,
   "metadata": {},
   "outputs": [
    {
     "data": {
      "text/plain": [
       "(array([42, 10, 37, 14, 47, 26, 32, 34, 12]),\n",
       " array([0.03927291, 0.0312852 , 0.01963645, 0.01942975, 0.01845827,\n",
       "        0.01809634, 0.01774833, 0.0138784 , 0.00591611]))"
      ]
     },
     "execution_count": 22,
     "metadata": {},
     "output_type": "execute_result"
    }
   ],
   "source": [
    "# user can prune all zero values\n",
    "tfidf.search_word('protein',prune=True,return_tf_idf=True)"
   ]
  },
  {
   "cell_type": "code",
   "execution_count": 23,
   "metadata": {},
   "outputs": [
    {
     "data": {
      "text/plain": [
       "'The energy profile of the conformational transition, going from the inactive to the active β2AR conformation, was calculated using an under-development method which calculates the normal modes (NM) of the protein, and performs a MC simulation to sample the transition. See the SI appendix for more details.\\n'"
      ]
     },
     "execution_count": 23,
     "metadata": {},
     "output_type": "execute_result"
    }
   ],
   "source": [
    "data[42]"
   ]
  },
  {
   "cell_type": "markdown",
   "metadata": {},
   "source": [
    "### Lookup words by document"
   ]
  },
  {
   "cell_type": "code",
   "execution_count": 24,
   "metadata": {},
   "outputs": [
    {
     "data": {
      "text/plain": [
       "[['gpcrs'],\n",
       " ['binding'],\n",
       " ['explore'],\n",
       " ['binding'],\n",
       " ['receptors'],\n",
       " ['agonists'],\n",
       " ['having'],\n",
       " ['the'],\n",
       " ['effective'],\n",
       " ['components'],\n",
       " ['importance'],\n",
       " ['binding'],\n",
       " ['based'],\n",
       " ['conformations'],\n",
       " ['dipole'],\n",
       " ['only'],\n",
       " ['binding'],\n",
       " ['binding'],\n",
       " ['the'],\n",
       " ['presents'],\n",
       " ['when'],\n",
       " ['barrier'],\n",
       " ['release'],\n",
       " ['the'],\n",
       " ['it'],\n",
       " ['pre-coupling'],\n",
       " ['structure'],\n",
       " ['binding'],\n",
       " ['binding'],\n",
       " ['gtp'],\n",
       " ['binding'],\n",
       " ['binding'],\n",
       " ['provide'],\n",
       " ['energetics'],\n",
       " ['effects'],\n",
       " ['over'],\n",
       " ['ternary'],\n",
       " ['gcprs'],\n",
       " ['binding'],\n",
       " ['binding'],\n",
       " ['3sn6'],\n",
       " ['snapshots'],\n",
       " ['transition'],\n",
       " ['binding'],\n",
       " ['national'],\n",
       " ['gtp'],\n",
       " ['binding'],\n",
       " ['text'],\n",
       " ['binding'],\n",
       " ['ii2'],\n",
       " ['binding'],\n",
       " ['arrow'],\n",
       " ['binding'],\n",
       " ['the'],\n",
       " ['binding'],\n",
       " ['structures'],\n",
       " ['binding']]"
      ]
     },
     "execution_count": 24,
     "metadata": {},
     "output_type": "execute_result"
    }
   ],
   "source": [
    "tfidf.get_important_list()"
   ]
  },
  {
   "cell_type": "markdown",
   "metadata": {},
   "source": [
    "The most relevant word for each document"
   ]
  },
  {
   "cell_type": "code",
   "execution_count": 26,
   "metadata": {},
   "outputs": [
    {
     "data": {
      "text/plain": [
       "[['gpcrs', 'involved', 'large', 'the', 'processes'],\n",
       " ['binding', 'part', 'transduction', 'guide', 'bind'],\n",
       " ['explore', 'gpcr', 'systems', 'the', 'it'],\n",
       " ['binding', 'part', 'transduction', 'guide', 'bind'],\n",
       " ['receptors', 'knowledge', 'organisms', 'await', 'countless']]"
      ]
     },
     "execution_count": 26,
     "metadata": {},
     "output_type": "execute_result"
    }
   ],
   "source": [
    "# user can request for a list of most relevant words\n",
    "# truncated for visual purposes\n",
    "tfidf.get_important_list(5)[:5]"
   ]
  }
 ],
 "metadata": {
  "kernelspec": {
   "display_name": "Python 3",
   "language": "python",
   "name": "python3"
  },
  "language_info": {
   "codemirror_mode": {
    "name": "ipython",
    "version": 3
   },
   "file_extension": ".py",
   "mimetype": "text/x-python",
   "name": "python",
   "nbconvert_exporter": "python",
   "pygments_lexer": "ipython3",
   "version": "3.6.8"
  }
 },
 "nbformat": 4,
 "nbformat_minor": 2
}
