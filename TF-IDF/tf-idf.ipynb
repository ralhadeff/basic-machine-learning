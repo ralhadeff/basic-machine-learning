{
 "cells": [
  {
   "cell_type": "code",
   "execution_count": 1,
   "metadata": {},
   "outputs": [],
   "source": [
    "import numpy as np"
   ]
  },
  {
   "cell_type": "code",
   "execution_count": 2,
   "metadata": {},
   "outputs": [],
   "source": [
    "# data was just collected as lines from one of my paper drafts"
   ]
  },
  {
   "cell_type": "code",
   "execution_count": 3,
   "metadata": {},
   "outputs": [
    {
     "data": {
      "text/plain": [
       "['\\ufeffA free-energy landscape for the glucagon-like peptide 1 receptor GLP1R',\n",
       " 'a Department of Chemistry, University of Southern California, Los Angeles, CA 90089',\n",
       " '1 To whom correspondence should be addressed. Email: warshel@usc.edu']"
      ]
     },
     "execution_count": 3,
     "metadata": {},
     "output_type": "execute_result"
    }
   ],
   "source": [
    "# note - for privacy reasons, the document will not be shard in the repository\n",
    "raw_data = open(\"data/GLP1R_3,08,19.txt\", \"r\")\n",
    "data = []\n",
    "for l in raw_data:\n",
    "    line = l.split()\n",
    "    if (len(line)>6):\n",
    "        data.append(line)\n",
    "[\" \".join(a) for a in data[:3]]"
   ]
  },
  {
   "cell_type": "code",
   "execution_count": 4,
   "metadata": {},
   "outputs": [
    {
     "data": {
      "text/plain": [
       "2177"
      ]
     },
     "execution_count": 4,
     "metadata": {},
     "output_type": "execute_result"
    }
   ],
   "source": [
    "unique_words = set()\n",
    "for l in data:\n",
    "    for w in l:\n",
    "        unique_words.add(w)\n",
    "# convert to list to ensure order is maintained\n",
    "unique_words = list(unique_words)\n",
    "len(unique_words)"
   ]
  },
  {
   "cell_type": "code",
   "execution_count": 5,
   "metadata": {},
   "outputs": [
    {
     "data": {
      "text/plain": [
       "109"
      ]
     },
     "execution_count": 5,
     "metadata": {},
     "output_type": "execute_result"
    }
   ],
   "source": [
    "len(data)"
   ]
  },
  {
   "cell_type": "code",
   "execution_count": 6,
   "metadata": {},
   "outputs": [],
   "source": [
    "tf = np.zeros((len(data),len(unique_words)))\n",
    "idf = np.zeros(len(unique_words))\n",
    "\n",
    "for i in range(len(data)):\n",
    "    # sample length\n",
    "    s_length = len(data[i])\n",
    "    for w in range(len(unique_words)):\n",
    "        # word count in current sample\n",
    "        w_count = data[i].count(unique_words[w])\n",
    "        # word frequency in current sample\n",
    "        tf[i,w] =  w_count / s_length\n",
    "        if (w_count>0):\n",
    "            idf[w]+=1\n",
    "idf = np.log(len(data)/idf)\n",
    "\n",
    "tf_idf = tf*idf"
   ]
  },
  {
   "cell_type": "code",
   "execution_count": 7,
   "metadata": {},
   "outputs": [],
   "source": [
    "most_important = []\n",
    "for a in tf_idf:\n",
    "    most_important.append(np.argmax(a))"
   ]
  },
  {
   "cell_type": "code",
   "execution_count": 22,
   "metadata": {},
   "outputs": [
    {
     "data": {
      "text/plain": [
       "(1908,\n",
       " 'domain',\n",
       " 'The PDLD/S-LRA ligand-binding calculations described above were also conducted in the absence of the ECD domain (by removing it from the system entirely) in order to assess the energetic contribution of the ECD domain to the total binding energy. The results, presented in Table 1, show that the ECD domain reinforces ligand binding, in line with experimental results (6, 8).')"
      ]
     },
     "execution_count": 22,
     "metadata": {},
     "output_type": "execute_result"
    }
   ],
   "source": [
    "i = np.random.choice(range(len(data)))\n",
    "most_important[i],unique_words[most_important[i]],\" \".join(data[i])"
   ]
  }
 ],
 "metadata": {
  "kernelspec": {
   "display_name": "Python 3",
   "language": "python",
   "name": "python3"
  },
  "language_info": {
   "codemirror_mode": {
    "name": "ipython",
    "version": 3
   },
   "file_extension": ".py",
   "mimetype": "text/x-python",
   "name": "python",
   "nbconvert_exporter": "python",
   "pygments_lexer": "ipython3",
   "version": "3.6.7"
  }
 },
 "nbformat": 4,
 "nbformat_minor": 2
}
