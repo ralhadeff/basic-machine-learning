{
 "cells": [
  {
   "cell_type": "code",
   "execution_count": 109,
   "metadata": {},
   "outputs": [],
   "source": [
    "'''Restricted Bolzmann machine'''\n",
    "'''Currently not working'''\n",
    "\n",
    "import numpy as np\n",
    "\n",
    "class RBM():\n",
    "    \n",
    "    def __init__(self,n_visible,n_hidden):\n",
    "        self.weights = np.random.normal(0,0.1,(n_hidden,n_visible))\n",
    "        self.bias_h = np.random.normal(0,0.1,(n_hidden))\n",
    "        self.bias_v = np.random.normal(0,0.1,(n_visible))  \n",
    "        \n",
    "    def sample_h(self,X,return_probabilities=False):\n",
    "        z = X @ self.weights.T + self.bias_h # shape of result: samples x n_hidden\n",
    "        prob = sigmoid(z)\n",
    "        if (return_probabilities):\n",
    "            return prob\n",
    "        else:\n",
    "            return bernoulli(prob) \n",
    "\n",
    "    def sample_v(self,X,return_probabilities=False):\n",
    "        z = X @ self.weights + self.bias_v # shape of result: samples x n_visible\n",
    "        prob = sigmoid(z)\n",
    "        if (return_probabilities):\n",
    "            return prob\n",
    "        else:\n",
    "            return bernoulli(prob) \n",
    "    \n",
    "    def train(self,x0,xk,ph0,phk,learning_rate=0.01):\n",
    "        self.weights += learning_rate* (x0.T @ ph0 - xk.T @ phk).T\n",
    "        self.bias_v += learning_rate* (x0 - xk).sum(axis=0)\n",
    "        self.bias_h += learning_rate* (ph0 - phk).sum(axis=0)\n",
    "        \n",
    "def sigmoid(X):\n",
    "    return 1/(np.exp(-X)+1)    \n",
    "\n",
    "def bernoulli(X):\n",
    "    draws = np.random.random(X.shape)\n",
    "    return (X > draws).astype(int)"
   ]
  },
  {
   "cell_type": "markdown",
   "metadata": {},
   "source": [
    "### Generate dummy recommender data"
   ]
  },
  {
   "cell_type": "code",
   "execution_count": 154,
   "metadata": {},
   "outputs": [],
   "source": [
    "n_p = 1000\n",
    "n_m = 20\n",
    "\n",
    "# people who like movies of type 0-5\n",
    "people = np.random.randint(5,size=n_p)\n",
    "# movies of type 0-5\n",
    "movies = np.random.randint(5,size=n_m)\n",
    "\n",
    "def get_like(i):\n",
    "    return bernoulli((5-abs(movies - people[i]))/5)\n",
    "\n",
    "ratings = np.zeros((len(people),len(movies)))\n",
    "\n",
    "for i in range(len(ratings)):\n",
    "    ratings[i] = get_like(i)\n",
    "\n",
    "# save real values and randomly assign some to -1\n",
    "X = ratings\n",
    "X_copy = X.copy()\n",
    "for i in range(len(ratings)):\n",
    "    n_seen = np.random.randint(4,n_m+1)\n",
    "    not_seen = np.random.choice(np.arange(n_m),n_m-n_seen,replace=False)\n",
    "    ratings[not_seen] = -1"
   ]
  },
  {
   "cell_type": "code",
   "execution_count": 155,
   "metadata": {},
   "outputs": [],
   "source": [
    "rbm = RBM(len(movies),8)\n",
    "\n",
    "epochs = 1000\n",
    "k = 10\n",
    "batch_size = 10\n",
    "X = ratings\n",
    "\n",
    "for epoch in range(epochs):\n",
    "    ind = 0\n",
    "    for batch in range(len(X)//batch_size+1):\n",
    "        x0 = X[ind:ind+batch_size]\n",
    "        ind+=batch_size\n",
    "        if (len(x0)==0):\n",
    "            break\n",
    "        ph0 = rbm.sample_h(x0,True)\n",
    "        # xk when k=0\n",
    "        xk = x0\n",
    "        for i in range(k):\n",
    "            # feed into the machine\n",
    "            hk = rbm.sample_h(xk)\n",
    "            xk = rbm.sample_v(hk)\n",
    "            # do not update values that are -1\n",
    "            xk[x0==-1] = -1\n",
    "        phk = rbm.sample_h(xk,True)\n",
    "        rbm.train(x0,xk,ph0,phk)"
   ]
  },
  {
   "cell_type": "code",
   "execution_count": 156,
   "metadata": {},
   "outputs": [],
   "source": [
    "a = rbm.sample_v(rbm.sample_h(X))"
   ]
  },
  {
   "cell_type": "code",
   "execution_count": 162,
   "metadata": {},
   "outputs": [
    {
     "data": {
      "text/plain": [
       "0.49"
      ]
     },
     "execution_count": 162,
     "metadata": {},
     "output_type": "execute_result"
    }
   ],
   "source": [
    "(X_copy[X==-1] == a[X==-1]).mean()"
   ]
  },
  {
   "cell_type": "code",
   "execution_count": null,
   "metadata": {},
   "outputs": [],
   "source": []
  },
  {
   "cell_type": "code",
   "execution_count": 149,
   "metadata": {},
   "outputs": [
    {
     "name": "stdout",
     "output_type": "stream",
     "text": [
      "0 1.0\n",
      "1 1.0\n",
      "2 1.0\n",
      "3 1.0\n",
      "4 1.0\n",
      "5 1.0\n",
      "6 1.0\n",
      "7 1.0\n",
      "8 1.0\n",
      "9 1.0\n",
      "10 0.996\n",
      "11 0.978\n",
      "12 0.913\n",
      "13 0.789\n",
      "14 0.621\n",
      "15 0.424\n",
      "16 0.253\n",
      "17 0.101\n",
      "18 0.036\n",
      "19 0.01\n"
     ]
    }
   ],
   "source": [
    "p = []\n",
    "for i in range(20):\n",
    "    p.append(((((a == X).sum(axis=1))>=i)).mean())\n",
    "    print(i,p[i])"
   ]
  },
  {
   "cell_type": "code",
   "execution_count": null,
   "metadata": {},
   "outputs": [],
   "source": []
  }
 ],
 "metadata": {
  "kernelspec": {
   "display_name": "Python 3",
   "language": "python",
   "name": "python3"
  },
  "language_info": {
   "codemirror_mode": {
    "name": "ipython",
    "version": 3
   },
   "file_extension": ".py",
   "mimetype": "text/x-python",
   "name": "python",
   "nbconvert_exporter": "python",
   "pygments_lexer": "ipython3",
   "version": "3.6.8"
  }
 },
 "nbformat": 4,
 "nbformat_minor": 2
}
