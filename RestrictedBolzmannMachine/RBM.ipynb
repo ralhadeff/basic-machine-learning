{
 "cells": [
  {
   "cell_type": "code",
   "execution_count": 1,
   "metadata": {},
   "outputs": [],
   "source": [
    "import numpy as np\n",
    "\n",
    "from rbm import RBM"
   ]
  },
  {
   "cell_type": "markdown",
   "metadata": {},
   "source": [
    "### Generate dummy recommender data"
   ]
  },
  {
   "cell_type": "code",
   "execution_count": 2,
   "metadata": {},
   "outputs": [],
   "source": [
    "def bernoulli(X):\n",
    "    '''Returns 0 or 1 using a uniform distribution, with cutoffs provided in X'''\n",
    "    draws = np.random.random(X.shape)\n",
    "    np.random.random_sample()\n",
    "    return (X > draws).astype(int)"
   ]
  },
  {
   "cell_type": "code",
   "execution_count": 3,
   "metadata": {},
   "outputs": [],
   "source": [
    "n_p = 1000\n",
    "movies = 80\n",
    "types = 10\n",
    "\n",
    "people = np.random.randint(types,size=n_p)\n",
    "\n",
    "def get_like(i):\n",
    "    t = people[i]\n",
    "    return bernoulli(np.array([0.95 if abs(m%types-t)<3 else 0.05 for m in range(movies)]))\n",
    "\n",
    "ratings = np.zeros((len(people),movies))\n",
    "\n",
    "for i in range(len(ratings)):\n",
    "    ratings[i] = get_like(i)\n",
    "\n",
    "# save real values and randomly assign some to -1\n",
    "X = ratings\n",
    "X_copy = X.copy()\n",
    "for i in range(len(ratings)):\n",
    "    seen = np.random.randint(movies//8,movies+1)\n",
    "    not_seen = np.random.choice(np.arange(movies),movies-seen,replace=False)\n",
    "    ratings[i,not_seen] = -1"
   ]
  },
  {
   "cell_type": "code",
   "execution_count": 4,
   "metadata": {},
   "outputs": [],
   "source": [
    "rbm = RBM(movies,types)"
   ]
  },
  {
   "cell_type": "code",
   "execution_count": 5,
   "metadata": {},
   "outputs": [],
   "source": [
    "rbm.fit(X,learning_rate=0.02,ignore=-1)"
   ]
  },
  {
   "cell_type": "code",
   "execution_count": 6,
   "metadata": {},
   "outputs": [],
   "source": [
    "a = rbm.predict(X)"
   ]
  },
  {
   "cell_type": "code",
   "execution_count": 7,
   "metadata": {},
   "outputs": [
    {
     "data": {
      "text/plain": [
       "0.79225"
      ]
     },
     "execution_count": 7,
     "metadata": {},
     "output_type": "execute_result"
    }
   ],
   "source": [
    "(X_copy == a).mean()"
   ]
  },
  {
   "cell_type": "code",
   "execution_count": 8,
   "metadata": {},
   "outputs": [
    {
     "data": {
      "text/plain": [
       "0.734673279889267"
      ]
     },
     "execution_count": 8,
     "metadata": {},
     "output_type": "execute_result"
    }
   ],
   "source": [
    "(X_copy[X==-1] == a[X==-1]).mean()"
   ]
  },
  {
   "cell_type": "code",
   "execution_count": 9,
   "metadata": {},
   "outputs": [
    {
     "data": {
      "text/plain": [
       "(0.55295, 0.44705, 0.433475)"
      ]
     },
     "execution_count": 9,
     "metadata": {},
     "output_type": "execute_result"
    }
   ],
   "source": [
    "(X_copy == 0).mean(),(X_copy == 1).mean(),(X == -1).mean()"
   ]
  }
 ],
 "metadata": {
  "kernelspec": {
   "display_name": "Python 3",
   "language": "python",
   "name": "python3"
  },
  "language_info": {
   "codemirror_mode": {
    "name": "ipython",
    "version": 3
   },
   "file_extension": ".py",
   "mimetype": "text/x-python",
   "name": "python",
   "nbconvert_exporter": "python",
   "pygments_lexer": "ipython3",
   "version": "3.6.7"
  }
 },
 "nbformat": 4,
 "nbformat_minor": 2
}
