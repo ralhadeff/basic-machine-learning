{
 "cells": [
  {
   "cell_type": "markdown",
   "metadata": {},
   "source": [
    "# Restricted Boltzmann machine"
   ]
  },
  {
   "cell_type": "code",
   "execution_count": 1,
   "metadata": {},
   "outputs": [],
   "source": [
    "import numpy as np\n",
    "from rbm import RBM"
   ]
  },
  {
   "cell_type": "markdown",
   "metadata": {},
   "source": [
    "### Generate dummy recommender data"
   ]
  },
  {
   "cell_type": "code",
   "execution_count": 2,
   "metadata": {},
   "outputs": [],
   "source": [
    "'''Made up ratings of somewhat rigid watchers'''\n",
    "\n",
    "# number of watchers\n",
    "n_p = 1000\n",
    "# number of unique movies\n",
    "movies = 80\n",
    "# types of people (in terms of what types of movies they like)\n",
    "types = 10\n",
    "\n",
    "# which types does each person belong to\n",
    "people = np.random.randint(types,size=n_p)\n",
    "\n",
    "def get_like(i):\n",
    "    '''generate a probably to like movies array and then randomly select whether a specific watcher\n",
    "        liked them or not'''\n",
    "    # type of ith person\n",
    "    t = people[i]\n",
    "    draws = np.random.random(movies)\n",
    "    # probability array. Each type likes on average 50% of the movies (with fixed criteria)\n",
    "    # and doesn't like the others, with fairly high probabilities\n",
    "    like = np.array([0.95 if abs(m%types-t)<3 else 0.05 for m in range(movies)])\n",
    "    return (like > draws).astype(int)\n",
    "\n",
    "ratings = np.zeros((len(people),movies))\n",
    "\n",
    "# populate the ratings array\n",
    "for i in range(len(ratings)):\n",
    "    ratings[i] = get_like(i)\n",
    "\n",
    "# save real values (for verification later)\n",
    "X = ratings\n",
    "X_copy = X.copy()\n",
    "# randomly assign some to ratings to -1 = didn't watch\n",
    "for i in range(len(ratings)):\n",
    "    # number of movies seen\n",
    "    seen = np.random.randint(movies//8,movies+1)\n",
    "    # index of movies not seen\n",
    "    not_seen = np.random.choice(np.arange(movies),movies-seen,replace=False)\n",
    "    ratings[i,not_seen] = -1"
   ]
  },
  {
   "cell_type": "code",
   "execution_count": 3,
   "metadata": {},
   "outputs": [
    {
     "data": {
      "text/plain": [
       "(0.5572125, 0.4427875, 0.440075)"
      ]
     },
     "execution_count": 3,
     "metadata": {},
     "output_type": "execute_result"
    }
   ],
   "source": [
    "(X_copy == 0).mean(),(X_copy == 1).mean(),(X == -1).mean()"
   ]
  },
  {
   "cell_type": "markdown",
   "metadata": {},
   "source": [
    "Liked and disliked movie are balanced<br>\n",
    "Almost half of the ratings are missing from the training set (`X`)"
   ]
  },
  {
   "cell_type": "markdown",
   "metadata": {},
   "source": [
    "### Fitting"
   ]
  },
  {
   "cell_type": "code",
   "execution_count": 4,
   "metadata": {},
   "outputs": [],
   "source": [
    "# arbitrarily chose 10 hidden nodes (case by case decision)\n",
    "rbm = RBM(movies,10)"
   ]
  },
  {
   "cell_type": "code",
   "execution_count": 5,
   "metadata": {},
   "outputs": [],
   "source": [
    "# ignore -1 flags (didn't watch) during the training of the machine\n",
    "rbm.fit(X,learning_rate=0.02,ignore=-1)"
   ]
  },
  {
   "cell_type": "markdown",
   "metadata": {},
   "source": [
    "### Predictions"
   ]
  },
  {
   "cell_type": "code",
   "execution_count": 6,
   "metadata": {},
   "outputs": [],
   "source": [
    "# prediction of entire rating array\n",
    "pred = rbm.predict(X)"
   ]
  },
  {
   "cell_type": "markdown",
   "metadata": {},
   "source": [
    "**Total accuracy**"
   ]
  },
  {
   "cell_type": "code",
   "execution_count": 8,
   "metadata": {},
   "outputs": [
    {
     "data": {
      "text/plain": [
       "0.7875"
      ]
     },
     "execution_count": 8,
     "metadata": {},
     "output_type": "execute_result"
    }
   ],
   "source": [
    "# note that X_copy is the real ratings, where all watchers have seen all movies\n",
    "(X_copy == pred).mean()"
   ]
  },
  {
   "cell_type": "markdown",
   "metadata": {},
   "source": [
    "The ability of the machine to conserve the input (`X`)"
   ]
  },
  {
   "cell_type": "markdown",
   "metadata": {},
   "source": [
    "**Accuracy of unknowns**"
   ]
  },
  {
   "cell_type": "code",
   "execution_count": 9,
   "metadata": {},
   "outputs": [
    {
     "data": {
      "text/plain": [
       "0.733880588536045"
      ]
     },
     "execution_count": 9,
     "metadata": {},
     "output_type": "execute_result"
    }
   ],
   "source": [
    "# select only the predictions for movies that were not watched\n",
    "(X_copy[X==-1] == pred[X==-1]).mean()"
   ]
  },
  {
   "cell_type": "markdown",
   "metadata": {},
   "source": [
    "The ability of the machine to properly predict unknown viewer's probably taste (stored in `X_copy` but not available to the machine in training)<br>\n",
    "More than 70% of the ratings are correctly predicted"
   ]
  }
 ],
 "metadata": {
  "kernelspec": {
   "display_name": "Python 3",
   "language": "python",
   "name": "python3"
  },
  "language_info": {
   "codemirror_mode": {
    "name": "ipython",
    "version": 3
   },
   "file_extension": ".py",
   "mimetype": "text/x-python",
   "name": "python",
   "nbconvert_exporter": "python",
   "pygments_lexer": "ipython3",
   "version": "3.6.7"
  }
 },
 "nbformat": 4,
 "nbformat_minor": 2
}
