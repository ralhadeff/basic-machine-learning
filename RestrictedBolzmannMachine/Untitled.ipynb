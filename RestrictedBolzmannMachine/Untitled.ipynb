{
 "cells": [
  {
   "cell_type": "code",
   "execution_count": 5,
   "metadata": {},
   "outputs": [],
   "source": [
    "'''Restricted Bolzmann machine'''\n",
    "\n",
    "import numpy as np\n",
    "\n",
    "class RBM():\n",
    "    \n",
    "    def __init__(self,n_visible,n_hidden):\n",
    "        self.weights = np.random.normal(0,0.1,(n_hidden,n_visible))\n",
    "        self.bias_h = np.random.normal(0,0.1,(n_hidden))\n",
    "        self.bias_v = np.random.normal(0,0.1,(n_visible))  \n",
    "        \n",
    "    def sample_h(self,X):\n",
    "        z = X @ self.weights.T + self.bias_h # shape of result: samples x n_hidden\n",
    "        prob = sigmoid(z)\n",
    "        # Bernoulli RBM\n",
    "        # TODO check if this needs to be for the whole of X or only for one sample x\n",
    "        return prob, bernoulli(prob) \n",
    "\n",
    "    def sample_v(self,X):\n",
    "        z = X @ self.weights + self.bias_v # shape of result: samples x n_visible\n",
    "        prob = sigmoid(z)\n",
    "        return prob, bernoulli(prob)        \n",
    "        \n",
    "def sigmoid(X):\n",
    "    return 1/(np.exp(-x)+1)    \n",
    "\n",
    "def bernoulli(X):\n",
    "    # TODO\n",
    "    pass"
   ]
  },
  {
   "cell_type": "code",
   "execution_count": null,
   "metadata": {},
   "outputs": [],
   "source": []
  }
 ],
 "metadata": {
  "kernelspec": {
   "display_name": "Python 3",
   "language": "python",
   "name": "python3"
  },
  "language_info": {
   "codemirror_mode": {
    "name": "ipython",
    "version": 3
   },
   "file_extension": ".py",
   "mimetype": "text/x-python",
   "name": "python",
   "nbconvert_exporter": "python",
   "pygments_lexer": "ipython3",
   "version": "3.6.8"
  }
 },
 "nbformat": 4,
 "nbformat_minor": 2
}
