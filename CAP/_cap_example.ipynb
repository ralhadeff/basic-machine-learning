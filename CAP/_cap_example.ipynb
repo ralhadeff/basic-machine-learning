{
 "cells": [
  {
   "cell_type": "markdown",
   "metadata": {},
   "source": [
    "# Cumulative accuracy profile"
   ]
  },
  {
   "cell_type": "markdown",
   "metadata": {},
   "source": [
    "### Demonstration of the CAP tool for binary classification"
   ]
  },
  {
   "cell_type": "code",
   "execution_count": 1,
   "metadata": {},
   "outputs": [],
   "source": [
    "import numpy as np\n",
    "import matplotlib.pyplot as plt\n",
    "from logistic_regressor import LogisticRegressor\n",
    "\n",
    "from cap import cap"
   ]
  },
  {
   "cell_type": "markdown",
   "metadata": {},
   "source": [
    "** Generate training and test datasets **\n",
    "<br>\n",
    "Note that noise is deliberately high, otherwise CAP is very close to perfect for this example and hard to visualize "
   ]
  },
  {
   "cell_type": "code",
   "execution_count": 2,
   "metadata": {},
   "outputs": [],
   "source": [
    "size =1000\n",
    "\n",
    "coefficients = [0,-1.4,1.1,-4,4.8,-10]\n",
    "x = np.ones((size,len(coefficients)))\n",
    "for i in range(1,len(coefficients)):\n",
    "    x[:,i]=np.random.rand(size)\n",
    "y = np.vectorize(lambda x: round(1/(1+np.exp(-x))))((x*coefficients).sum(axis=1) + 3*np.random.normal(size=size))\n",
    "coefficients\n",
    "\n",
    "t_x = np.ones((size,len(coefficients)))\n",
    "for i in range(1,len(coefficients)):\n",
    "    t_x[:,i]=np.random.rand(size)\n",
    "t_y = np.vectorize(lambda x: round(1/(1+np.exp(-x))))((t_x*coefficients).sum(axis=1) + 3*np.random.normal(size=size))"
   ]
  },
  {
   "cell_type": "markdown",
   "metadata": {},
   "source": [
    "Data is deliberately not balanced to make CAP curve more steep"
   ]
  },
  {
   "cell_type": "code",
   "execution_count": 3,
   "metadata": {},
   "outputs": [
    {
     "name": "stdout",
     "output_type": "stream",
     "text": [
      "0s\t 1s\n",
      "859 \t 141\n"
     ]
    }
   ],
   "source": [
    "print('0s\\t 1s')\n",
    "print((y==0).sum(),'\\t',(y==1).sum())"
   ]
  },
  {
   "cell_type": "markdown",
   "metadata": {},
   "source": [
    "### Fit and predict"
   ]
  },
  {
   "cell_type": "code",
   "execution_count": 4,
   "metadata": {},
   "outputs": [
    {
     "name": "stdout",
     "output_type": "stream",
     "text": [
      "854\n"
     ]
    }
   ],
   "source": [
    "log = LogisticRegressor()\n",
    "log.fit(x,y,epochs=100,learning_rate=0.01,bin_size=1)\n",
    "# prediction labels\n",
    "pred = log.predict(t_x) \n",
    "# probability of label 1\n",
    "prob = log.predict(t_x,True)\n",
    "\n",
    "print((pred==t_y).sum())"
   ]
  },
  {
   "cell_type": "markdown",
   "metadata": {},
   "source": [
    "Performance is mediocre due to implemented high noise (see above)"
   ]
  },
  {
   "cell_type": "markdown",
   "metadata": {},
   "source": [
    "### Generate cumulative accuracy profile"
   ]
  },
  {
   "cell_type": "code",
   "execution_count": 5,
   "metadata": {},
   "outputs": [
    {
     "data": {
      "image/png": "[encoded data removed]",
      "text/plain": [
       "<Figure size 432x288 with 1 Axes>"
      ]
     },
     "metadata": {},
     "output_type": "display_data"
    }
   ],
   "source": [
    "# cap\n",
    "xy = cap(t_y,prob)\n",
    "# perfect scenario for comparison\n",
    "perfect = cap(t_y,None,perfect=True)\n",
    "# random selector for comparison\n",
    "random = np.asarray([[0,0],[len(t_y),(t_y==True).sum()]])\n",
    "\n",
    "# plot\n",
    "plt.plot(xy[:,0],xy[:,1],label='CAP')\n",
    "plt.plot(perfect[:,0],perfect[:,1],'r',label='Perfect model')\n",
    "plt.plot(random[:,0],random[:,1],'orange',label='Random')\n",
    "plt.ylabel(\"'hits'\")\n",
    "plt.xlabel(\"cumulative % of samples 'contacted'\")\n",
    "plt.legend()\n",
    "plt.show()"
   ]
  }
 ],
 "metadata": {
  "kernelspec": {
   "display_name": "Python 3",
   "language": "python",
   "name": "python3"
  },
  "language_info": {
   "codemirror_mode": {
    "name": "ipython",
    "version": 3
   },
   "file_extension": ".py",
   "mimetype": "text/x-python",
   "name": "python",
   "nbconvert_exporter": "python",
   "pygments_lexer": "ipython3",
   "version": "3.6.5"
  }
 },
 "nbformat": 4,
 "nbformat_minor": 2
}
