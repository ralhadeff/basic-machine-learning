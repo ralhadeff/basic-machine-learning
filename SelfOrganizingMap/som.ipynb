{
 "cells": [
  {
   "cell_type": "code",
   "execution_count": 4,
   "metadata": {},
   "outputs": [],
   "source": [
    "import numpy as np\n",
    "import matplotlib.pyplot as plt"
   ]
  },
  {
   "cell_type": "code",
   "execution_count": 2,
   "metadata": {},
   "outputs": [],
   "source": [
    "# plan:\n",
    "# each node (neuron) has n coordinats == the number of features in the sample space\n",
    "\n",
    "# pick one sample at random\n",
    "# find which node is the closest to it\n",
    "# move it closer to that sample point (using the learning rate)\n",
    "# update all nodes that are within r of the closest node above using a weighted 1/r formula of some sort\n",
    "\n",
    "# each epoch the radius is shrinking"
   ]
  },
  {
   "cell_type": "markdown",
   "metadata": {},
   "source": [
    "### Generate some shaped data"
   ]
  },
  {
   "cell_type": "code",
   "execution_count": 47,
   "metadata": {},
   "outputs": [
    {
     "data": {
      "text/plain": [
       "<matplotlib.collections.PathCollection at 0x7f5dd3d104e0>"
      ]
     },
     "execution_count": 47,
     "metadata": {},
     "output_type": "execute_result"
    },
    {
     "data": {
      "image/png": "[encoded data removed]",
      "text/plain": [
       "<Figure size 432x288 with 1 Axes>"
      ]
     },
     "metadata": {
      "needs_background": "light"
     },
     "output_type": "display_data"
    }
   ],
   "source": [
    "size = 500\n",
    "\n",
    "x = np.random.normal(0,1,size)\n",
    "y = np.random.normal(-1,1,size)\n",
    "x[x>0]*=3\n",
    "y[(x<1.5) * (y<0)]*=3\n",
    "\n",
    "plt.scatter(x,y)"
   ]
  },
  {
   "cell_type": "code",
   "execution_count": 51,
   "metadata": {},
   "outputs": [],
   "source": [
    "n_rows = 5\n",
    "n_columns = 5\n",
    "n_dim = 2"
   ]
  },
  {
   "cell_type": "code",
   "execution_count": 58,
   "metadata": {},
   "outputs": [],
   "source": [
    "nodes = np.random.normal(0,0.1,(n_rows,n_columns,n_dim))"
   ]
  },
  {
   "cell_type": "code",
   "execution_count": 69,
   "metadata": {},
   "outputs": [],
   "source": [
    "def find_clostest(nodes,sample):\n",
    "    '''find the closest node to this sample'''\n",
    "    min_dist = float('inf')\n",
    "    n_rows,n_cols,_ = nodes.shape\n",
    "    for i in range(n_rows):\n",
    "        for j in range(n_cols):\n",
    "            # distance to current node\n",
    "            dist = ((nodes[i][j]-sample)**2).sum()\n",
    "            if (dist<min_dist):\n",
    "                # update if closer than previously closest\n",
    "                min_dist = dist\n",
    "                closest = (i,j)\n",
    "    return closest"
   ]
  },
  {
   "cell_type": "code",
   "execution_count": 68,
   "metadata": {},
   "outputs": [
    {
     "data": {
      "text/plain": [
       "(1, 2)"
      ]
     },
     "execution_count": 68,
     "metadata": {},
     "output_type": "execute_result"
    }
   ],
   "source": [
    "find_clostest(nodes,(0.064,0.11))"
   ]
  },
  {
   "cell_type": "code",
   "execution_count": 72,
   "metadata": {},
   "outputs": [],
   "source": [
    "def updated_weights(current,sample,learning_rate):\n",
    "    '''calculate the current update'''\n",
    "    delta = sample-current\n",
    "    return current + delta * learning_rate"
   ]
  },
  {
   "cell_type": "code",
   "execution_count": null,
   "metadata": {},
   "outputs": [],
   "source": []
  }
 ],
 "metadata": {
  "kernelspec": {
   "display_name": "Python 3",
   "language": "python",
   "name": "python3"
  },
  "language_info": {
   "codemirror_mode": {
    "name": "ipython",
    "version": 3
   },
   "file_extension": ".py",
   "mimetype": "text/x-python",
   "name": "python",
   "nbconvert_exporter": "python",
   "pygments_lexer": "ipython3",
   "version": "3.6.7"
  }
 },
 "nbformat": 4,
 "nbformat_minor": 2
}
