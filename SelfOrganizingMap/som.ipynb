{
 "cells": [
  {
   "cell_type": "code",
   "execution_count": 9,
   "metadata": {},
   "outputs": [],
   "source": [
    "import numpy as np\n",
    "import matplotlib.pyplot as plt\n",
    "import math"
   ]
  },
  {
   "cell_type": "code",
   "execution_count": 2,
   "metadata": {},
   "outputs": [],
   "source": [
    "# plan:\n",
    "# each node (neuron) has n coordinats == the number of features in the sample space\n",
    "\n",
    "# pick one sample at random\n",
    "# find which node is the closest to it\n",
    "# move it closer to that sample point (using the learning rate)\n",
    "# update all nodes that are within r of the closest node above using a weighted 1/r formula of some sort\n",
    "\n",
    "# each epoch the radius is shrinking"
   ]
  },
  {
   "cell_type": "markdown",
   "metadata": {},
   "source": [
    "### Generate some shaped data"
   ]
  },
  {
   "cell_type": "code",
   "execution_count": 52,
   "metadata": {},
   "outputs": [],
   "source": [
    "size = 500\n",
    "\n",
    "x = np.random.normal(0,1,size)\n",
    "y = np.random.normal(-1,1,size)\n",
    "x[x>0]*=3\n",
    "y[(x<1.5) * (y<0)]*=3\n",
    "\n",
    "X = np.concatenate((x,y)).reshape(2,size).T"
   ]
  },
  {
   "cell_type": "code",
   "execution_count": 6,
   "metadata": {},
   "outputs": [],
   "source": [
    "def find_clostest(nodes,sample):\n",
    "    '''find the closest node to this sample'''\n",
    "    min_dist = float('inf')\n",
    "    n_rows,n_cols,_ = nodes.shape\n",
    "    for i in range(n_rows):\n",
    "        for j in range(n_cols):\n",
    "            # distance to current node\n",
    "            dist = ((nodes[i][j]-sample)**2).sum()\n",
    "            if (dist<min_dist):\n",
    "                # update if closer than previously closest\n",
    "                min_dist = dist\n",
    "                closest = (i,j)\n",
    "    return closest"
   ]
  },
  {
   "cell_type": "code",
   "execution_count": 17,
   "metadata": {},
   "outputs": [],
   "source": [
    "def find_starting_radius(nodes):\n",
    "    '''compute the starting radius that is the smallest that still includes all nodes'''\n",
    "    # assume the 'unit cell' of the grid is 1 and that it has the same scale over x and y\n",
    "    x,y,_ = nodes.shape\n",
    "    return (max(x,y))/2"
   ]
  },
  {
   "cell_type": "code",
   "execution_count": 19,
   "metadata": {},
   "outputs": [],
   "source": [
    "def find_time_constant(iterations, start_radius):\n",
    "    '''compute the time constant for the decay'''\n",
    "    return iterations / math.log(start_radius)"
   ]
  },
  {
   "cell_type": "code",
   "execution_count": 20,
   "metadata": {},
   "outputs": [],
   "source": [
    "def calculate_current_radius(start_radius, iteration, time_constant):\n",
    "    '''compute the radius for the neighborhood search'''\n",
    "    return start_radius * math.exp(-iteration/time_constant)"
   ]
  },
  {
   "cell_type": "code",
   "execution_count": 23,
   "metadata": {},
   "outputs": [],
   "source": [
    "def updated_weights(current,sample,learning_rate):\n",
    "    '''calculate the current update'''\n",
    "    delta = sample-current\n",
    "    return current + delta * learning_rate"
   ]
  },
  {
   "cell_type": "code",
   "execution_count": 38,
   "metadata": {},
   "outputs": [],
   "source": [
    "def current_learning_rate(start_learning_rate,iteration,total_iterations):\n",
    "    return start_learning_rate * math.exp ( -iteration/total_iterations )"
   ]
  },
  {
   "cell_type": "code",
   "execution_count": null,
   "metadata": {},
   "outputs": [],
   "source": []
  },
  {
   "cell_type": "code",
   "execution_count": 85,
   "metadata": {},
   "outputs": [
    {
     "data": {
      "image/png": "[encoded data removed]",
      "text/plain": [
       "<Figure size 432x288 with 1 Axes>"
      ]
     },
     "metadata": {
      "needs_background": "light"
     },
     "output_type": "display_data"
    }
   ],
   "source": [
    "# number of iterations\n",
    "iterations = 1000\n",
    "# starting learning rate\n",
    "learning_rate = 0.5\n",
    "\n",
    "# setup grid\n",
    "n_rows = 5\n",
    "n_columns = 5\n",
    "n_dim = X.ndim\n",
    "# initialize nodes\n",
    "nodes = np.random.normal(0,0.1,(n_rows,n_columns,n_dim))\n",
    "\n",
    "# setup starting values\n",
    "start_radius = find_starting_radius(nodes)\n",
    "time_constant = find_time_constant(iterations,start_radius)\n",
    "\n",
    "for i in range(iterations):\n",
    "    # pick one sample at random\n",
    "    sample = X[np.random.randint(len(X))]\n",
    "    # fine BMU\n",
    "    closest = find_clostest(nodes,sample)\n",
    "    node = nodes[closest]\n",
    "    # update radius and learning rate\n",
    "    l = current_learning_rate(learning_rate,i,iterations)\n",
    "    r_squared = (calculate_current_radius(start_radius,i,time_constant))**2\n",
    "    # update BMU\n",
    "    nodes[closest] = updated_weights(node,sample,learning_rate)\n",
    "    # update neighbors\n",
    "    ii,jj,_ = nodes.shape\n",
    "    for i in range(ii):\n",
    "        for j in range(jj):\n",
    "            neighbor = nodes[i,j]\n",
    "            if ((i,j) != closest):\n",
    "                # distance to neighbor\n",
    "                dist_squared = (np.array((closest[0]-i,closest[1]-j))**2).sum()\n",
    "                # update neighbor if within radius (squared)\n",
    "                if (dist_squared < r_squared):\n",
    "                    influence = math.exp(-dist_squared/(2*r_squared) )\n",
    "                    nodes[(i,j)] = updated_weights(nodes[(i,j)],sample,influence*l)\n",
    "                    \n",
    "# visualize data and map\n",
    "plt.scatter(X[:,0],X[:,1],s=20)\n",
    "plt.scatter(nodes[:,:,0],nodes[:,:,1],s=80,c='black')\n",
    "\n",
    "plt.show()"
   ]
  }
 ],
 "metadata": {
  "kernelspec": {
   "display_name": "Python 3",
   "language": "python",
   "name": "python3"
  },
  "language_info": {
   "codemirror_mode": {
    "name": "ipython",
    "version": 3
   },
   "file_extension": ".py",
   "mimetype": "text/x-python",
   "name": "python",
   "nbconvert_exporter": "python",
   "pygments_lexer": "ipython3",
   "version": "3.6.7"
  }
 },
 "nbformat": 4,
 "nbformat_minor": 2
}
