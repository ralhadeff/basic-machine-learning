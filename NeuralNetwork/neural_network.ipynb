{
 "cells": [
  {
   "cell_type": "code",
   "execution_count": 468,
   "metadata": {},
   "outputs": [],
   "source": [
    "import numpy as np"
   ]
  },
  {
   "cell_type": "code",
   "execution_count": 1105,
   "metadata": {},
   "outputs": [],
   "source": [
    "class Layer():\n",
    "    \n",
    "    def __init__(self,no_of_neurons,previous_layer=None,activation=None):\n",
    "        # number of neurons in current layer\n",
    "        self.n = no_of_neurons\n",
    "        # layer that sends input into this layer\n",
    "        self.previous_layer = previous_layer\n",
    "        # layer that recieves this layer's output\n",
    "        self.next_layer = None\n",
    "        if (self.previous_layer is not None):\n",
    "            # sort the hierarchy\n",
    "            previous_layer.next_layer = self\n",
    "            # initialize the weights between the layers\n",
    "            previous_layer.initialize_weights()\n",
    "            # set the activation function\n",
    "            self.set_activation(activation)\n",
    "        else:\n",
    "            # this is the input layer\n",
    "            self.set_activation('none')\n",
    "    \n",
    "    def initialize_weights(self):\n",
    "        if (self.next_layer is not None):\n",
    "            # weights\n",
    "            self.weights = np.random.normal(0,0.1,(self.n,self.next_layer.n))\n",
    "            # bias separately\n",
    "            self.bias = np.random.normal(0,0.1,self.next_layer.n)\n",
    "    \n",
    "    def set_activation(self,func='ReLU'):\n",
    "        if (func=='ReLU'):\n",
    "            # set ReLU and the derivative\n",
    "            self.func = ReLU\n",
    "            self.deriv = dReLU\n",
    "        elif (func=='none'):\n",
    "            self.func = lambda x:x\n",
    "            self.deriv = lambda x:1\n",
    "\n",
    "    def feed_forward(self,z):\n",
    "        # remember z and a for later\n",
    "        self.z = z\n",
    "        self.a = self.func(z)\n",
    "        if (self.next_layer is not None):\n",
    "            return self.next_layer.feed_forward(self.a @ self.weights + self.bias)\n",
    "        else:\n",
    "            return self.a\n",
    "    \n",
    "    def update_weights(self,learning_rate,error):\n",
    "        self.weights -= self.weights*learning_rate*error\n",
    "        self.bias -= self.bias*learning_rate*error\n",
    "        \n",
    "    def back_propagate(self,y=None,learning_rate=0.001):\n",
    "        \n",
    "        if (self.next_layer is None):\n",
    "            self.error = self.a - y\n",
    "            self.delta = self.error * self.deriv(self.z)\n",
    "        else:\n",
    "            thetaT = np.hstack((self.weights,self.bias[:,None])).T\n",
    "            self.error = thetaT @ self.next_layer.delta\n",
    "            self.delta = self.error * self.deriv(self.z)\n",
    "            # there is something wrong here:\n",
    "            #self.weights -= learning_rate * (self.a @ self.delta[:-1])\n",
    "            #self.bias -= learning_rate * (self.a * self.delta[-1])\n",
    "        if (self.previous_layer is not None):\n",
    "            self.previous_layer.back_propagate(learning_rate=learning_rate)\n",
    "        \n",
    "def ReLU(x):\n",
    "    # ReLU function\n",
    "    return np.maximum(x,0)\n",
    "\n",
    "def dReLU(x):\n",
    "    # derivative of ReLU\n",
    "    if (x<=0):\n",
    "        return 0\n",
    "    else:\n",
    "        return 1"
   ]
  },
  {
   "cell_type": "code",
   "execution_count": 1106,
   "metadata": {},
   "outputs": [],
   "source": [
    "a = Layer(2)"
   ]
  },
  {
   "cell_type": "code",
   "execution_count": 1107,
   "metadata": {},
   "outputs": [],
   "source": [
    "b = Layer(2,a,activation='none')"
   ]
  },
  {
   "cell_type": "code",
   "execution_count": 1130,
   "metadata": {},
   "outputs": [
    {
     "data": {
      "text/plain": [
       "array([nan, nan])"
      ]
     },
     "execution_count": 1130,
     "metadata": {},
     "output_type": "execute_result"
    }
   ],
   "source": [
    "x = np.array([1,4])\n",
    "y = np.array([x.sum(),3*x[0]+2*x[1]])\n",
    "a.feed_forward(x)"
   ]
  },
  {
   "cell_type": "code",
   "execution_count": 1129,
   "metadata": {},
   "outputs": [
    {
     "name": "stderr",
     "output_type": "stream",
     "text": [
      "/home/raphael/Software/anaconda3/lib/python3.6/site-packages/ipykernel_launcher.py:42: RuntimeWarning: invalid value encountered in add\n"
     ]
    }
   ],
   "source": [
    "for i in range(1000):\n",
    "    b.back_propagate(y)\n",
    "    a.feed_forward(x)"
   ]
  },
  {
   "cell_type": "code",
   "execution_count": 1127,
   "metadata": {},
   "outputs": [],
   "source": [
    "for i in range(1000):\n",
    "    x = np.random.random(size=2)\n",
    "    y = np.array([x.sum(),3*x[0]+2*x[1]])\n",
    "    a.feed_forward(x)\n",
    "    b.back_propagate(y)"
   ]
  },
  {
   "cell_type": "code",
   "execution_count": 906,
   "metadata": {},
   "outputs": [
    {
     "data": {
      "text/plain": [
       "array([6.68571747, 2.78078495])"
      ]
     },
     "execution_count": 906,
     "metadata": {},
     "output_type": "execute_result"
    }
   ],
   "source": [
    "a.feed_forward([0.6,0.2])"
   ]
  },
  {
   "cell_type": "code",
   "execution_count": 461,
   "metadata": {},
   "outputs": [
    {
     "data": {
      "text/plain": [
       "array([-0.0020577 ,  0.08637008])"
      ]
     },
     "execution_count": 461,
     "metadata": {},
     "output_type": "execute_result"
    }
   ],
   "source": [
    "a.bias"
   ]
  },
  {
   "cell_type": "code",
   "execution_count": 462,
   "metadata": {},
   "outputs": [
    {
     "data": {
      "text/plain": [
       "array([[-0.00404494,  0.00867371],\n",
       "       [ 0.02071155, -0.00183865]])"
      ]
     },
     "execution_count": 462,
     "metadata": {},
     "output_type": "execute_result"
    }
   ],
   "source": [
    "a.weights"
   ]
  },
  {
   "cell_type": "code",
   "execution_count": null,
   "metadata": {},
   "outputs": [],
   "source": []
  }
 ],
 "metadata": {
  "kernelspec": {
   "display_name": "Python 3",
   "language": "python",
   "name": "python3"
  },
  "language_info": {
   "codemirror_mode": {
    "name": "ipython",
    "version": 3
   },
   "file_extension": ".py",
   "mimetype": "text/x-python",
   "name": "python",
   "nbconvert_exporter": "python",
   "pygments_lexer": "ipython3",
   "version": "3.6.7"
  }
 },
 "nbformat": 4,
 "nbformat_minor": 2
}
