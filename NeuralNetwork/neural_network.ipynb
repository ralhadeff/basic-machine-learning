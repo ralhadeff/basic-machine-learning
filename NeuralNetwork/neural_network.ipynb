{
 "cells": [
  {
   "cell_type": "code",
   "execution_count": 5,
   "metadata": {},
   "outputs": [],
   "source": [
    "import numpy as np"
   ]
  },
  {
   "cell_type": "code",
   "execution_count": 676,
   "metadata": {},
   "outputs": [],
   "source": [
    "class Layer():\n",
    "    \n",
    "    def __init__(self,no_of_neurons,previous_layer=None,activation=None,name='def'):\n",
    "        # number of neurons in current layer\n",
    "        self.n = no_of_neurons\n",
    "        # layer that sends input into this layer\n",
    "        self.previous_layer = previous_layer\n",
    "        # layer that recieves this layer's output\n",
    "        self.next_layer = None\n",
    "        if (self.previous_layer is not None):\n",
    "            # sort the hierarchy\n",
    "            previous_layer.next_layer = self\n",
    "            # initialize the weights between the layers\n",
    "            previous_layer.initialize_weights()\n",
    "            # set the activation function\n",
    "            self.set_activation(activation)\n",
    "        else:\n",
    "            # this is the input layer\n",
    "            self.set_activation('none')\n",
    "        # for testing purposes\n",
    "        self.name = name\n",
    "    \n",
    "    def initialize_weights(self):\n",
    "        if (self.next_layer is not None):\n",
    "            # weights\n",
    "            self.weights = np.random.normal(0,0.1,(self.n,self.next_layer.n))\n",
    "            # bias separately\n",
    "            self.bias = np.random.normal(0,0.1,self.next_layer.n)\n",
    "    \n",
    "    def set_activation(self,func='ReLU'):\n",
    "        if (func=='ReLU'):\n",
    "            # set ReLU and the derivative\n",
    "            self.func = ReLU\n",
    "            self.deriv = dReLU\n",
    "        elif (func=='none'):\n",
    "            self.func = lambda x:x\n",
    "            self.deriv = lambda x:1\n",
    "\n",
    "    def feed_forward(self,z):\n",
    "        # remember z and a for later\n",
    "        self.z = z\n",
    "        self.a = self.func(z)\n",
    "        if (self.next_layer is not None):\n",
    "            return self.next_layer.feed_forward(self.a @ self.weights + self.bias)\n",
    "        else:\n",
    "            return self.a\n",
    "    \n",
    "    def update_weights(self,learning_rate,error):\n",
    "        self.weights -= self.weights*learning_rate*error\n",
    "        self.bias -= self.bias*learning_rate*error\n",
    "        \n",
    "    def back_propagate(self,y=None,learning_rate=0.00001):       \n",
    "        if (self.next_layer is None):\n",
    "            self.error = self.a - y\n",
    "            self.delta = self.error * self.deriv(self.z)\n",
    "        else:\n",
    "            # removed the .T from weights\n",
    "            self.error = self.weights @ self.next_layer.delta\n",
    "            self.delta = self.error * self.deriv(self.z)\n",
    "            for i in range (self.weights.shape[1]):\n",
    "                self.weights[:,i] -= learning_rate * (self.a * self.next_layer.delta[i])\n",
    "            for i in range(len(self.bias)):\n",
    "                self.bias[i] -= learning_rate * self.next_layer.delta[i]\n",
    "        if (self.previous_layer is not None):\n",
    "            self.previous_layer.back_propagate(learning_rate=learning_rate)\n",
    "        \n",
    "def ReLU(x):\n",
    "    # ReLU function\n",
    "    return np.maximum(x,0)\n",
    "\n",
    "def dReLU(x):\n",
    "    x = x.copy()\n",
    "    x[x<=0] = 0\n",
    "    x[x>0] = 1\n",
    "    return x    "
   ]
  },
  {
   "cell_type": "code",
   "execution_count": 677,
   "metadata": {},
   "outputs": [],
   "source": [
    "a = Layer(2,name='a')"
   ]
  },
  {
   "cell_type": "code",
   "execution_count": 678,
   "metadata": {},
   "outputs": [],
   "source": [
    "b = Layer(50,a,activation='ReLU',name='b')"
   ]
  },
  {
   "cell_type": "code",
   "execution_count": 679,
   "metadata": {},
   "outputs": [],
   "source": [
    "c = Layer(6,b,activation='none',name='c')"
   ]
  },
  {
   "cell_type": "code",
   "execution_count": 711,
   "metadata": {},
   "outputs": [],
   "source": [
    "for i in range(10000):\n",
    "    x = np.random.random(size=2)\n",
    "    y = np.array([x[0],x[1],x[0]+x[1],x[0]-x[1],x[0]*x[1],3*x[0]-1.6*x[1]])\n",
    "    a.feed_forward(x)\n",
    "    c.back_propagate(y,learning_rate=0.0001)"
   ]
  },
  {
   "cell_type": "code",
   "execution_count": 712,
   "metadata": {},
   "outputs": [
    {
     "data": {
      "text/plain": [
       "-0.10164558748679357"
      ]
     },
     "execution_count": 712,
     "metadata": {},
     "output_type": "execute_result"
    }
   ],
   "source": [
    "x = np.array([0.99,0.67])\n",
    "y = np.array([x[0],x[1],x[0]+x[1],x[0]-x[1],x[0]*x[1],3*x[0]-1.6*x[1]])\n",
    "(a.feed_forward(x) - y).mean()"
   ]
  },
  {
   "cell_type": "code",
   "execution_count": 713,
   "metadata": {},
   "outputs": [
    {
     "data": {
      "text/plain": [
       "array([0.91615567, 0.53557707, 1.47709228, 0.3618328 , 0.46692129,\n",
       "       1.83384736])"
      ]
     },
     "execution_count": 713,
     "metadata": {},
     "output_type": "execute_result"
    }
   ],
   "source": [
    "a.feed_forward(x)"
   ]
  },
  {
   "cell_type": "code",
   "execution_count": 603,
   "metadata": {},
   "outputs": [
    {
     "data": {
      "text/plain": [
       "array([0.99617295, 0.67346865, 1.66621645, 0.32224475, 0.57991196])"
      ]
     },
     "execution_count": 603,
     "metadata": {},
     "output_type": "execute_result"
    }
   ],
   "source": [
    "a.feed_forward(x)"
   ]
  },
  {
   "cell_type": "code",
   "execution_count": null,
   "metadata": {},
   "outputs": [],
   "source": []
  }
 ],
 "metadata": {
  "kernelspec": {
   "display_name": "Python 3",
   "language": "python",
   "name": "python3"
  },
  "language_info": {
   "codemirror_mode": {
    "name": "ipython",
    "version": 3
   },
   "file_extension": ".py",
   "mimetype": "text/x-python",
   "name": "python",
   "nbconvert_exporter": "python",
   "pygments_lexer": "ipython3",
   "version": "3.6.7"
  }
 },
 "nbformat": 4,
 "nbformat_minor": 2
}
