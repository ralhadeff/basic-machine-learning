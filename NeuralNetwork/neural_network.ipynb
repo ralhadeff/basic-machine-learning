{
 "cells": [
  {
   "cell_type": "code",
   "execution_count": 1,
   "metadata": {},
   "outputs": [],
   "source": [
    "import numpy as np"
   ]
  },
  {
   "cell_type": "code",
   "execution_count": 92,
   "metadata": {},
   "outputs": [],
   "source": [
    "class Layer():\n",
    "    \n",
    "    def __init__(self,no_of_neurons,previous_layer=None,activation=None):\n",
    "        self.n = no_of_neurons\n",
    "        self.previous_layer = previous_layer\n",
    "        self.next_layer = None\n",
    "        self.func = None\n",
    "        if (self.previous_layer is not None):\n",
    "            previous_layer.next_layer = self\n",
    "            if (activation is None):\n",
    "                self.set_activation()\n",
    "            else:\n",
    "                self.set_activation(activation)\n",
    "            self.initialize_weights()\n",
    "        else:\n",
    "            self.set_activation(activation)\n",
    "    \n",
    "    def initialize_weights(self):\n",
    "        if (self.previous_layer is not None):\n",
    "            self.weights = np.random.normal(0,0.1,(self.previous_layer.n,self.n))\n",
    "            self.bias = np.random.normal(0,0.1,self.n)\n",
    "    \n",
    "    def set_activation(self,func='ReLU'):\n",
    "        if (self.func=='ReLU'):\n",
    "            self.func = ReLU\n",
    "        elif (self.func is None):\n",
    "            self.func = lambda x:x\n",
    "\n",
    "    def get_input(self,*z):\n",
    "        output = self.func(z)\n",
    "        if (self.next_layer is not None):\n",
    "            return self.next_layer.get_input(output @ self.next_layer.weights + self.next_layer.bias)\n",
    "        else:\n",
    "            return output\n",
    "            \n",
    "def ReLU(self,x):\n",
    "    return np.maximum(x,0,x)"
   ]
  },
  {
   "cell_type": "code",
   "execution_count": 88,
   "metadata": {},
   "outputs": [],
   "source": [
    "a = Layer(2)"
   ]
  },
  {
   "cell_type": "code",
   "execution_count": 89,
   "metadata": {},
   "outputs": [],
   "source": [
    "b = Layer(3,a)"
   ]
  },
  {
   "cell_type": "code",
   "execution_count": 90,
   "metadata": {},
   "outputs": [],
   "source": [
    "c = Layer(1,b)"
   ]
  },
  {
   "cell_type": "code",
   "execution_count": 91,
   "metadata": {},
   "outputs": [
    {
     "data": {
      "text/plain": [
       "(array([[[-0.12458996]]]),)"
      ]
     },
     "execution_count": 91,
     "metadata": {},
     "output_type": "execute_result"
    }
   ],
   "source": [
    "a.get_input((1,2))"
   ]
  },
  {
   "cell_type": "code",
   "execution_count": null,
   "metadata": {},
   "outputs": [],
   "source": []
  }
 ],
 "metadata": {
  "kernelspec": {
   "display_name": "Python 3",
   "language": "python",
   "name": "python3"
  },
  "language_info": {
   "codemirror_mode": {
    "name": "ipython",
    "version": 3
   },
   "file_extension": ".py",
   "mimetype": "text/x-python",
   "name": "python",
   "nbconvert_exporter": "python",
   "pygments_lexer": "ipython3",
   "version": "3.6.7"
  }
 },
 "nbformat": 4,
 "nbformat_minor": 2
}
