{
 "cells": [
  {
   "cell_type": "code",
   "execution_count": 5,
   "metadata": {},
   "outputs": [],
   "source": [
    "import numpy as np"
   ]
  },
  {
   "cell_type": "code",
   "execution_count": 283,
   "metadata": {},
   "outputs": [],
   "source": [
    "class Layer():\n",
    "    \n",
    "    def __init__(self,no_of_neurons,previous_layer=None,activation=None):\n",
    "        # number of neurons in current layer\n",
    "        self.n = no_of_neurons\n",
    "        # layer that sends input into this layer\n",
    "        self.previous_layer = previous_layer\n",
    "        # layer that recieves this layer's output\n",
    "        self.next_layer = None\n",
    "        if (self.previous_layer is not None):\n",
    "            # sort the hierarchy\n",
    "            previous_layer.next_layer = self\n",
    "            # initialize the weights between the layers\n",
    "            previous_layer.initialize_weights()\n",
    "            # set the activation function\n",
    "            if (activation is None):\n",
    "                self.set_activation()\n",
    "            else:\n",
    "                self.set_activation(activation)\n",
    "        else:\n",
    "            # this is the input layer\n",
    "            self.set_input_layer()\n",
    "    \n",
    "    def initialize_weights(self):\n",
    "        if (self.next_layer is not None):\n",
    "            # weights\n",
    "            self.weights = np.random.normal(0,0.1,(self.n,self.next_layer.n))\n",
    "            # bias separately\n",
    "            self.bias = np.random.normal(0,0.1,self.next_layer.n)\n",
    "    \n",
    "    def set_input_layer(self):\n",
    "        self.func = lambda x:x\n",
    "    \n",
    "    def set_activation(self,func='ReLU'):\n",
    "        if (func=='ReLU'):\n",
    "            # set ReLU and the derivative\n",
    "            self.func = ReLU\n",
    "            self.deriv = dReLU\n",
    "        else:\n",
    "            self.func = func\n",
    "            # TODO\n",
    "            self.deriv = None\n",
    "\n",
    "    def feed_forward(self,*z):\n",
    "        output = self.func(z)\n",
    "        if (self.next_layer is not None):\n",
    "            return self.next_layer.feed_forward(output @ self.weights + self.bias)\n",
    "        else:\n",
    "            return output\n",
    "    \n",
    "    def update_weights(self,learning_rate,error):\n",
    "        self.weights += learning_rate*error\n",
    "        \n",
    "    def back_propagate(self,*z):\n",
    "        pass\n",
    "            \n",
    "def ReLU(x):\n",
    "    # ReLU function\n",
    "    return np.maximum(x,0)\n",
    "\n",
    "def dReLU(x):\n",
    "    # derivative of ReLU\n",
    "    return np.maximum()"
   ]
  },
  {
   "cell_type": "code",
   "execution_count": 284,
   "metadata": {},
   "outputs": [],
   "source": [
    "a = Layer(2)"
   ]
  },
  {
   "cell_type": "code",
   "execution_count": 285,
   "metadata": {},
   "outputs": [],
   "source": [
    "#b = Layer(6,a)"
   ]
  },
  {
   "cell_type": "code",
   "execution_count": 286,
   "metadata": {},
   "outputs": [],
   "source": [
    "c = Layer(1,a,activation=lambda x: x)"
   ]
  },
  {
   "cell_type": "code",
   "execution_count": 375,
   "metadata": {},
   "outputs": [
    {
     "data": {
      "text/plain": [
       "0.00010099923179218706"
      ]
     },
     "execution_count": 375,
     "metadata": {},
     "output_type": "execute_result"
    }
   ],
   "source": [
    "x = np.array((0,3))\n",
    "\n",
    "error = x.sum() - a.feed_forward(x)[0][0][0]\n",
    "error"
   ]
  },
  {
   "cell_type": "code",
   "execution_count": 376,
   "metadata": {},
   "outputs": [
    {
     "data": {
      "text/plain": [
       "array([[0.82550504],\n",
       "       [0.93048363]])"
      ]
     },
     "execution_count": 376,
     "metadata": {},
     "output_type": "execute_result"
    }
   ],
   "source": [
    "a.weights"
   ]
  },
  {
   "cell_type": "code",
   "execution_count": 377,
   "metadata": {},
   "outputs": [],
   "source": [
    "a.update_weights(0.1,error)"
   ]
  },
  {
   "cell_type": "code",
   "execution_count": null,
   "metadata": {},
   "outputs": [],
   "source": []
  }
 ],
 "metadata": {
  "kernelspec": {
   "display_name": "Python 3",
   "language": "python",
   "name": "python3"
  },
  "language_info": {
   "codemirror_mode": {
    "name": "ipython",
    "version": 3
   },
   "file_extension": ".py",
   "mimetype": "text/x-python",
   "name": "python",
   "nbconvert_exporter": "python",
   "pygments_lexer": "ipython3",
   "version": "3.6.7"
  }
 },
 "nbformat": 4,
 "nbformat_minor": 2
}
