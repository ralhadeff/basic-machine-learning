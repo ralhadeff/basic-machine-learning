{
 "cells": [
  {
   "cell_type": "markdown",
   "metadata": {},
   "source": [
    "# Neural network regression"
   ]
  },
  {
   "cell_type": "code",
   "execution_count": 1,
   "metadata": {},
   "outputs": [],
   "source": [
    "import numpy as np\n",
    "np.set_printoptions(suppress=True)\n",
    "import math\n",
    "import matplotlib.pyplot as plt\n",
    "\n",
    "from neural_network import Layer "
   ]
  },
  {
   "cell_type": "markdown",
   "metadata": {},
   "source": [
    "### Build the network"
   ]
  },
  {
   "cell_type": "code",
   "execution_count": 2,
   "metadata": {},
   "outputs": [],
   "source": [
    "# 2 numbers as input\n",
    "l_input = Layer(2)"
   ]
  },
  {
   "cell_type": "code",
   "execution_count": 3,
   "metadata": {},
   "outputs": [],
   "source": [
    "# one hidden layer with 4 neurons using ReLU activation function\n",
    "hidden_1 = Layer(4,previous_layer=l_input,activation='ReLU')"
   ]
  },
  {
   "cell_type": "code",
   "execution_count": 4,
   "metadata": {},
   "outputs": [],
   "source": [
    "# output layer with 6 outputs (see below) and no activation function\n",
    "    # the network should output the desired operations as specified below\n",
    "l_output = Layer(6,previous_layer=hidden_1,activation='none')"
   ]
  },
  {
   "cell_type": "markdown",
   "metadata": {},
   "source": [
    "### Data and training"
   ]
  },
  {
   "cell_type": "markdown",
   "metadata": {},
   "source": [
    "**This demonstration will generate data and train the network simultaneously.**\n",
    "**The network will be trained to take 2 numbers (smaller numbers to avoid divergence during training) and return the numbers, their sum, the difference between their values, their multiplication, and some linear transformation of them**"
   ]
  },
  {
   "cell_type": "code",
   "execution_count": 5,
   "metadata": {},
   "outputs": [],
   "source": [
    "# training\n",
    "for i in range(1000000):\n",
    "    # randomly generate 2 input numbers\n",
    "    x = np.random.normal(0,2,size=2)\n",
    "    # calculate the desired arithemetic operations\n",
    "    y = np.array([x[0],x[1],x[0]+x[1],x[0]-x[1],x[0]*x[1],3*x[0]-1.6*x[1]])\n",
    "    # feed input through network (with the first layer)\n",
    "    l_input.feed_forward(x)\n",
    "    # back propagate and train network (with the last layer)\n",
    "    l_output.back_propagate(y,learning_rate=0.001)"
   ]
  },
  {
   "cell_type": "markdown",
   "metadata": {},
   "source": [
    "### Check error"
   ]
  },
  {
   "cell_type": "markdown",
   "metadata": {},
   "source": [
    "**Using one random point for simplicity**"
   ]
  },
  {
   "cell_type": "code",
   "execution_count": 5,
   "metadata": {},
   "outputs": [
    {
     "data": {
      "text/plain": [
       "-0.052521841634607436"
      ]
     },
     "execution_count": 5,
     "metadata": {},
     "output_type": "execute_result"
    }
   ],
   "source": [
    "x = np.random.normal(0,1,size=2)\n",
    "y = np.array([x[0],x[1],x[0]+x[1],x[0]-x[1],x[0]*x[1],3*x[0]-1.6*x[1]])\n",
    "(l_input.feed_forward(x) - y).mean()"
   ]
  },
  {
   "cell_type": "markdown",
   "metadata": {},
   "source": [
    "Keep training until error is small enough<br><br>"
   ]
  },
  {
   "cell_type": "markdown",
   "metadata": {},
   "source": [
    "### Explore and understand the network"
   ]
  },
  {
   "cell_type": "markdown",
   "metadata": {},
   "source": [
    "Using simple input for convenience"
   ]
  },
  {
   "cell_type": "code",
   "execution_count": 6,
   "metadata": {},
   "outputs": [
    {
     "data": {
      "text/plain": [
       "array([3.01231204, 2.1147405 , 5.12705254, 0.89757154, 6.14772166,\n",
       "       5.65335131])"
      ]
     },
     "execution_count": 6,
     "metadata": {},
     "output_type": "execute_result"
    }
   ],
   "source": [
    "x = np.array([3,2])\n",
    "# the expected y would be\n",
    "y = np.array([3,2,5,1,6,5.8])\n",
    "# what the network actually gives\n",
    "l_input.feed_forward(x)"
   ]
  },
  {
   "cell_type": "code",
   "execution_count": 7,
   "metadata": {},
   "outputs": [
    {
     "name": "stdout",
     "output_type": "stream",
     "text": [
      "[[3.   2.   5.   1.   6.   5.8 ]\n",
      " [3.01 2.11 5.13 0.9  6.15 5.65]]\n"
     ]
    }
   ],
   "source": [
    "print(np.round(np.concatenate((y,l_input.feed_forward(x))).reshape(2,6),2))"
   ]
  },
  {
   "cell_type": "markdown",
   "metadata": {},
   "source": [
    "Close enough<br>"
   ]
  },
  {
   "cell_type": "markdown",
   "metadata": {},
   "source": [
    "Now, let's see if we can understand what the network is doing"
   ]
  },
  {
   "cell_type": "code",
   "execution_count": 8,
   "metadata": {},
   "outputs": [
    {
     "data": {
      "text/plain": [
       "array([[-1.25140598,  1.21598337, -1.26341707,  1.25633488],\n",
       "       [-1.2935384 ,  1.27645959,  1.28083919, -1.30006289]])"
      ]
     },
     "execution_count": 8,
     "metadata": {},
     "output_type": "execute_result"
    }
   ],
   "source": [
    "l_input.weights"
   ]
  },
  {
   "cell_type": "code",
   "execution_count": 9,
   "metadata": {},
   "outputs": [
    {
     "data": {
      "text/plain": [
       "array([-0.21796951, -0.04613101, -0.03085759, -0.02845642])"
      ]
     },
     "execution_count": 9,
     "metadata": {},
     "output_type": "execute_result"
    }
   ],
   "source": [
    "l_input.bias"
   ]
  },
  {
   "cell_type": "code",
   "execution_count": 10,
   "metadata": {},
   "outputs": [
    {
     "data": {
      "text/plain": [
       "array([-0.0298016 , -0.02095525, -0.05075685, -0.00884635,  0.11241052,\n",
       "       -0.05587641])"
      ]
     },
     "execution_count": 10,
     "metadata": {},
     "output_type": "execute_result"
    }
   ],
   "source": [
    "hidden_1.bias"
   ]
  },
  {
   "cell_type": "markdown",
   "metadata": {},
   "source": [
    "Note: the biases are fairly small and can be ignored for a simple interpretation"
   ]
  },
  {
   "cell_type": "code",
   "execution_count": 11,
   "metadata": {},
   "outputs": [
    {
     "data": {
      "text/plain": [
       "array([-0.40829963,  0.42108915, -0.39750749,  0.39495901])"
      ]
     },
     "execution_count": 11,
     "metadata": {},
     "output_type": "execute_result"
    }
   ],
   "source": [
    "hidden_1.weights[:,0]"
   ]
  },
  {
   "cell_type": "code",
   "execution_count": 12,
   "metadata": {},
   "outputs": [
    {
     "data": {
      "text/plain": [
       "array([-0.40710125,  0.41862725,  0.38573531, -0.38656324])"
      ]
     },
     "execution_count": 12,
     "metadata": {},
     "output_type": "execute_result"
    }
   ],
   "source": [
    "hidden_1.weights[:,1]"
   ]
  },
  {
   "cell_type": "markdown",
   "metadata": {},
   "source": [
    "As a first approximation, we can see that to reproduce input (which is also outputs 0 and 1) the network takes 2 neurons for positive input, **or** 2 neurons for negative input (because of the ReLU), multiplies each by ~1.25 and then again by ~0.4, producing 0.5, twice - and totaling on output 0 back to 1 (times the input).\n",
    "<br>\n",
    "Notice how the +'s and -'s are one shifted between input 0 and 1 so that they don't add together for outputs 0 and 1\n",
    "<br>"
   ]
  },
  {
   "cell_type": "markdown",
   "metadata": {},
   "source": [
    "Next, let's try to track the sum"
   ]
  },
  {
   "cell_type": "code",
   "execution_count": 13,
   "metadata": {},
   "outputs": [
    {
     "data": {
      "text/plain": [
       "array([-0.81540088,  0.8397164 , -0.01177218,  0.00839577])"
      ]
     },
     "execution_count": 13,
     "metadata": {},
     "output_type": "execute_result"
    }
   ],
   "source": [
    "hidden_1.weights[:,2]"
   ]
  },
  {
   "cell_type": "markdown",
   "metadata": {},
   "source": [
    "Here, it is using the same principle, with the first weight if both are positive and the second weight if both are negative (adding their absolute values) and multiplying by ~0.8 instead of twice by ~0.4. The last two weights are very small because their input is the values where the +'s and -'s do not build up (see above)\n",
    "<br>\n",
    "We can only expect the difference in value to be an inverted image of this"
   ]
  },
  {
   "cell_type": "code",
   "execution_count": 14,
   "metadata": {},
   "outputs": [
    {
     "data": {
      "text/plain": [
       "array([-0.00119837,  0.00246191, -0.78324281,  0.78152224])"
      ]
     },
     "execution_count": 14,
     "metadata": {},
     "output_type": "execute_result"
    }
   ],
   "source": [
    "hidden_1.weights[:,3]"
   ]
  },
  {
   "cell_type": "markdown",
   "metadata": {},
   "source": [
    "Indeed<br>"
   ]
  },
  {
   "cell_type": "markdown",
   "metadata": {},
   "source": [
    "<br>\n",
    "Let's skip the multiplication for now and look at the weighted sum, with 3 and -1.6 as weights."
   ]
  },
  {
   "cell_type": "code",
   "execution_count": 15,
   "metadata": {},
   "outputs": [
    {
     "data": {
      "text/plain": [
       "array([-0.57353687,  0.59346387, -1.80969899,  1.8033782 ])"
      ]
     },
     "execution_count": 15,
     "metadata": {},
     "output_type": "execute_result"
    }
   ],
   "source": [
    "hidden_1.weights[:,5]"
   ]
  },
  {
   "cell_type": "markdown",
   "metadata": {},
   "source": [
    "If we recall that the first input is represented by ~1.25 on neurons 1 and 3, then multiplied by ~0.6 and ~1.8 we get 3 ($1.25\\times0.6 + 1.25\\times1.8$). input 2 however is represented by ~1.25 on neuron 1 but -1.25 on neuron 3 (which is corrected by a negative weight that sends input to output 1, see above).<br>\n",
    "Thus, we get $1.25\\times0.6 - 1.25\\times1.8 = -1.5$, close enough  "
   ]
  },
  {
   "cell_type": "markdown",
   "metadata": {},
   "source": [
    "And finally, the multiplication:"
   ]
  },
  {
   "cell_type": "code",
   "execution_count": 16,
   "metadata": {},
   "outputs": [
    {
     "data": {
      "text/plain": [
       "array([ 1.30378528,  1.207875  , -1.22731348, -1.22660108])"
      ]
     },
     "execution_count": 16,
     "metadata": {},
     "output_type": "execute_result"
    }
   ],
   "source": [
    "hidden_1.weights[:,4]"
   ]
  },
  {
   "cell_type": "markdown",
   "metadata": {},
   "source": [
    "Actually, if we look carefully, the multiplication doesn't really work. The close approximation it gives is 3 times input 2, which happens to be the correct answer in our example, but just be chance."
   ]
  },
  {
   "cell_type": "code",
   "execution_count": 17,
   "metadata": {},
   "outputs": [
    {
     "data": {
      "text/plain": [
       "2.9389936740445544"
      ]
     },
     "execution_count": 17,
     "metadata": {},
     "output_type": "execute_result"
    }
   ],
   "source": [
    "l_input.feed_forward((4,1))[4]"
   ]
  },
  {
   "cell_type": "code",
   "execution_count": 18,
   "metadata": {},
   "outputs": [
    {
     "data": {
      "text/plain": [
       "1.0543614181174115"
      ]
     },
     "execution_count": 18,
     "metadata": {},
     "output_type": "execute_result"
    }
   ],
   "source": [
    "l_input.feed_forward((1,0.33))[4]"
   ]
  },
  {
   "cell_type": "markdown",
   "metadata": {},
   "source": [
    "**Important note**: All this analysis is a first approximation, under certain constraints that were not explicity taken into consideration (e.g. input 0 > input 1, and both inputs being positive)."
   ]
  },
  {
   "cell_type": "markdown",
   "metadata": {},
   "source": [
    "### Conclusion"
   ]
  },
  {
   "cell_type": "markdown",
   "metadata": {},
   "source": [
    "This simple network performs linear operations well, but doesn't perform very well on non-linear operations. This is most likely because it is too simple (not enough neurons or layers) - however, it would have been impossible to analyze manually the results a much more complex network.<br>\n",
    "All in all, I think this demonstration is instructive and helpful."
   ]
  }
 ],
 "metadata": {
  "kernelspec": {
   "display_name": "Python 3",
   "language": "python",
   "name": "python3"
  },
  "language_info": {
   "codemirror_mode": {
    "name": "ipython",
    "version": 3
   },
   "file_extension": ".py",
   "mimetype": "text/x-python",
   "name": "python",
   "nbconvert_exporter": "python",
   "pygments_lexer": "ipython3",
   "version": "3.6.7"
  }
 },
 "nbformat": 4,
 "nbformat_minor": 2
}
