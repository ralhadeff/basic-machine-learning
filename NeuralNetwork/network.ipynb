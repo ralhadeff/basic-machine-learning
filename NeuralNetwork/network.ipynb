{
 "cells": [
  {
   "cell_type": "markdown",
   "metadata": {},
   "source": [
    "# Artificial neural network manager"
   ]
  },
  {
   "cell_type": "code",
   "execution_count": 1,
   "metadata": {},
   "outputs": [],
   "source": [
    "import numpy as np\n",
    "import math\n",
    "\n",
    "from network import Network"
   ]
  },
  {
   "cell_type": "markdown",
   "metadata": {},
   "source": [
    "### Regression"
   ]
  },
  {
   "cell_type": "code",
   "execution_count": 2,
   "metadata": {},
   "outputs": [],
   "source": [
    "X = np.random.normal(0,2,size=(100,2))\n",
    "y = np.zeros((100,4))\n",
    "for i in range(len(y)):\n",
    "    y[i] = [X[i,0],X[i,1],X[i].sum(),X[i,0]-X[i,1]]"
   ]
  },
  {
   "cell_type": "code",
   "execution_count": 3,
   "metadata": {},
   "outputs": [],
   "source": [
    "# 2 input neurons, 2 hidden layers with 8 neurons each and 4 output neurons\n",
    "network = Network(2,8,8,4,output_type='regression')"
   ]
  },
  {
   "cell_type": "code",
   "execution_count": 7,
   "metadata": {},
   "outputs": [],
   "source": [
    "network.train(X,y,200)"
   ]
  },
  {
   "cell_type": "code",
   "execution_count": 8,
   "metadata": {},
   "outputs": [],
   "source": [
    "p = network.predict(X)"
   ]
  },
  {
   "cell_type": "code",
   "execution_count": 9,
   "metadata": {},
   "outputs": [
    {
     "data": {
      "text/plain": [
       "0.36130959620137937"
      ]
     },
     "execution_count": 9,
     "metadata": {},
     "output_type": "execute_result"
    }
   ],
   "source": [
    "# MSE\n",
    "((p-y)**2).sum()"
   ]
  },
  {
   "cell_type": "markdown",
   "metadata": {},
   "source": [
    "### Binary classification"
   ]
  },
  {
   "cell_type": "code",
   "execution_count": 10,
   "metadata": {},
   "outputs": [],
   "source": [
    "size = 100\n",
    "r = 6\n",
    "# blob 1\n",
    "x = np.random.normal(4,2,(size))\n",
    "y = np.random.normal(1,2,(size))\n",
    "# blob 2\n",
    "x2 = np.zeros(size)\n",
    "y2 = np.zeros(size)\n",
    "for i in range(size):\n",
    "    x2[i] = 4+r*math.cos(2*math.pi*(i/size))\n",
    "    y2[i] = 1+r*math.sin(2*math.pi*(i/size))\n",
    "x2+=np.random.normal(0,1.5,(size))\n",
    "y2+=np.random.normal(0,1.5,(size))\n",
    "\n",
    "x = np.concatenate((x,x2))\n",
    "y = np.concatenate((y,y2))\n",
    "# add xy together \n",
    "X = np.hstack((x,y)).reshape(2,2*size).T\n",
    "# reuse y for flags\n",
    "y[:size] = 0\n",
    "y[size:] = 1\n",
    "\n",
    "#shuffle\n",
    "mask = np.random.permutation(len(X))\n",
    "X = X[mask]\n",
    "y = y[mask]"
   ]
  },
  {
   "cell_type": "code",
   "execution_count": 11,
   "metadata": {},
   "outputs": [],
   "source": [
    "# 2 input neurons, 2 hidden layers with 8 neurons each and 1 neuron in the output layer\n",
    "#    (default is classification)\n",
    "network = Network(2,8,8,1)"
   ]
  },
  {
   "cell_type": "code",
   "execution_count": 12,
   "metadata": {},
   "outputs": [],
   "source": [
    "network.train(X,y,200)"
   ]
  },
  {
   "cell_type": "code",
   "execution_count": 13,
   "metadata": {},
   "outputs": [
    {
     "data": {
      "text/plain": [
       "0.83"
      ]
     },
     "execution_count": 13,
     "metadata": {},
     "output_type": "execute_result"
    }
   ],
   "source": [
    "p = network.predict(X)\n",
    "(p == y).mean()"
   ]
  },
  {
   "cell_type": "markdown",
   "metadata": {},
   "source": [
    "**works also with custom labels**"
   ]
  },
  {
   "cell_type": "code",
   "execution_count": 14,
   "metadata": {},
   "outputs": [
    {
     "data": {
      "text/plain": [
       "array(['0.0', '1.0', '1.0', '0.0'], dtype='<U32')"
      ]
     },
     "execution_count": 14,
     "metadata": {},
     "output_type": "execute_result"
    }
   ],
   "source": [
    "y = y.astype(str)\n",
    "y[y=='0'] = 'Bear'\n",
    "y[y=='1'] = 'Gazelle'\n",
    "\n",
    "network.train(X,y,200)\n",
    "p = network.predict(X)\n",
    "p[:4]"
   ]
  },
  {
   "cell_type": "code",
   "execution_count": 15,
   "metadata": {},
   "outputs": [
    {
     "data": {
      "text/plain": [
       "0.885"
      ]
     },
     "execution_count": 15,
     "metadata": {},
     "output_type": "execute_result"
    }
   ],
   "source": [
    "(p == y).mean()"
   ]
  },
  {
   "cell_type": "markdown",
   "metadata": {},
   "source": [
    "### Multiclass classification"
   ]
  },
  {
   "cell_type": "code",
   "execution_count": 16,
   "metadata": {},
   "outputs": [],
   "source": [
    "size = 100\n",
    "# 4 blobs\n",
    "x = np.random.normal(0,1,(size))\n",
    "y = np.random.normal(0,1,(size))\n",
    "x2 = np.random.normal(-3,1,(size))\n",
    "y2 = np.random.normal(-3,1,(size))\n",
    "x3 = np.random.normal(1,1,(size))\n",
    "y3 = np.random.normal(-4,1,(size))\n",
    "x4 = np.random.normal(-1,0.5,(size))\n",
    "y4 = np.random.normal(-2,0.5,(size))\n",
    "\n",
    "# join blobs and transform xy into sample array X\n",
    "x = np.concatenate((x,x2,x3,x4))\n",
    "y = np.concatenate((y,y2,y3,y4))\n",
    "X = np.hstack((x,y)).reshape(2,4*size).T\n",
    "# color labels\n",
    "cy = np.ones(y.shape)\n",
    "cy[:size] = 0\n",
    "cy[2*size:3*size] = 2\n",
    "cy[-size:] = 3\n",
    "\n",
    "# shuffle data\n",
    "mask = np.random.permutation(len(X))\n",
    "X = X[mask]\n",
    "cy = cy[mask]\n",
    "\n",
    "# generate one hot encoded y array\n",
    "y = np.zeros((len(X),4))\n",
    "y[cy==0,0] = 1\n",
    "y[cy==1,1] = 1\n",
    "y[cy==2,2] = 1\n",
    "y[cy==3,3] = 1"
   ]
  },
  {
   "cell_type": "markdown",
   "metadata": {},
   "source": [
    "**Notice: labels are already encoded**"
   ]
  },
  {
   "cell_type": "code",
   "execution_count": 17,
   "metadata": {},
   "outputs": [
    {
     "data": {
      "text/plain": [
       "array([[0., 0., 1., 0.],\n",
       "       [0., 0., 1., 0.],\n",
       "       [0., 0., 0., 1.],\n",
       "       [1., 0., 0., 0.]])"
      ]
     },
     "execution_count": 17,
     "metadata": {},
     "output_type": "execute_result"
    }
   ],
   "source": [
    "y[:4]"
   ]
  },
  {
   "cell_type": "code",
   "execution_count": 18,
   "metadata": {},
   "outputs": [],
   "source": [
    "# 2 input neurons, 2 hidden layers with 8 neurons each and 4 neurons in the output layer\n",
    "#    (default is classification, softmax when there are multiple output neurons)\n",
    "network = Network(2,8,8,4)"
   ]
  },
  {
   "cell_type": "code",
   "execution_count": 22,
   "metadata": {},
   "outputs": [],
   "source": [
    "network.train(X,y,100)"
   ]
  },
  {
   "cell_type": "markdown",
   "metadata": {},
   "source": [
    "**Output also encoded**"
   ]
  },
  {
   "cell_type": "code",
   "execution_count": 23,
   "metadata": {},
   "outputs": [
    {
     "data": {
      "text/plain": [
       "array([[0., 0., 1., 0.],\n",
       "       [0., 0., 1., 0.],\n",
       "       [0., 0., 0., 1.],\n",
       "       [1., 0., 0., 0.]])"
      ]
     },
     "execution_count": 23,
     "metadata": {},
     "output_type": "execute_result"
    }
   ],
   "source": [
    "p = network.predict(X)\n",
    "p[:4]"
   ]
  },
  {
   "cell_type": "code",
   "execution_count": 24,
   "metadata": {},
   "outputs": [
    {
     "data": {
      "text/plain": [
       "0.9225"
      ]
     },
     "execution_count": 24,
     "metadata": {},
     "output_type": "execute_result"
    }
   ],
   "source": [
    "# 4 matches per line is a correct classification\n",
    "((p == y).sum(axis=1)==4).mean()"
   ]
  },
  {
   "cell_type": "markdown",
   "metadata": {},
   "source": [
    "**Also works with custom labels that are not encoded**"
   ]
  },
  {
   "cell_type": "code",
   "execution_count": 25,
   "metadata": {},
   "outputs": [
    {
     "data": {
      "text/plain": [
       "array(['Dwarf', 'Dwarf', 'Goblin', 'Orc'], dtype='<U6')"
      ]
     },
     "execution_count": 25,
     "metadata": {},
     "output_type": "execute_result"
    }
   ],
   "source": [
    "new_y = np.zeros(len(y),dtype='<U6')\n",
    "new_y[y[:,0]==1] = 'Orc'\n",
    "new_y[y[:,1]==1] = 'Elf'\n",
    "new_y[y[:,2]==1] = 'Dwarf'\n",
    "new_y[y[:,3]==1] = 'Goblin'\n",
    "new_y[:4]"
   ]
  },
  {
   "cell_type": "code",
   "execution_count": 26,
   "metadata": {},
   "outputs": [
    {
     "data": {
      "text/plain": [
       "array(['Dwarf', 'Dwarf', 'Goblin', 'Orc'], dtype='<U6')"
      ]
     },
     "execution_count": 26,
     "metadata": {},
     "output_type": "execute_result"
    }
   ],
   "source": [
    "network = Network(2,8,8,4)\n",
    "network.train(X,new_y,100)\n",
    "p = network.predict(X)\n",
    "p[:4]"
   ]
  },
  {
   "cell_type": "code",
   "execution_count": 27,
   "metadata": {},
   "outputs": [
    {
     "data": {
      "text/plain": [
       "0.9225"
      ]
     },
     "execution_count": 27,
     "metadata": {},
     "output_type": "execute_result"
    }
   ],
   "source": [
    "(p == new_y).mean()"
   ]
  }
 ],
 "metadata": {
  "kernelspec": {
   "display_name": "Python 3",
   "language": "python",
   "name": "python3"
  },
  "language_info": {
   "codemirror_mode": {
    "name": "ipython",
    "version": 3
   },
   "file_extension": ".py",
   "mimetype": "text/x-python",
   "name": "python",
   "nbconvert_exporter": "python",
   "pygments_lexer": "ipython3",
   "version": "3.6.7"
  }
 },
 "nbformat": 4,
 "nbformat_minor": 2
}
