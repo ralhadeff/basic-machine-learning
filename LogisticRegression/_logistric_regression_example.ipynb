{
 "cells": [
  {
   "cell_type": "markdown",
   "metadata": {},
   "source": [
    "# Logistic regression metrics"
   ]
  },
  {
   "cell_type": "code",
   "execution_count": 1,
   "metadata": {},
   "outputs": [],
   "source": [
    "import numpy as np\n",
    "import math\n",
    "np.set_printoptions(suppress=True)\n",
    "\n",
    "from logistic_regressor import LogisticRegressor"
   ]
  },
  {
   "cell_type": "markdown",
   "metadata": {},
   "source": [
    "### Random dataset to work with (binary classification)"
   ]
  },
  {
   "cell_type": "markdown",
   "metadata": {},
   "source": [
    "** Training set **\n",
    "<br>\n",
    "The original goal was to train the regressor and reproduce the coefficients, however, I realized that reproducing the actual values is fairly difficult (I tried with sklearn and statsmodels as well, with little success). However, the ratio between the coefficients are fairly conserved.\n",
    "<br>\n",
    "I will use total accuracy for this demonstration"
   ]
  },
  {
   "cell_type": "code",
   "execution_count": 2,
   "metadata": {},
   "outputs": [
    {
     "data": {
      "text/plain": [
       "[0, -1.4, 2.1, -3, 10.4, -8]"
      ]
     },
     "execution_count": 2,
     "metadata": {},
     "output_type": "execute_result"
    }
   ],
   "source": [
    "size =1000\n",
    "\n",
    "coefficients = [0,-1.4,2.1,-3,10.4,-8]\n",
    "x = np.ones((size,len(coefficients)))\n",
    "for i in range(1,len(coefficients)):\n",
    "    x[:,i]=np.random.rand(size)\n",
    "y = np.vectorize(lambda x: round(1/(1+math.exp(-x))))((x*coefficients).sum(axis=1) + np.random.normal(size=size))\n",
    "coefficients"
   ]
  },
  {
   "cell_type": "code",
   "execution_count": 3,
   "metadata": {},
   "outputs": [
    {
     "name": "stdout",
     "output_type": "stream",
     "text": [
      "512 488\n"
     ]
    }
   ],
   "source": [
    "print((y==0).sum(),(y==1).sum())"
   ]
  },
  {
   "cell_type": "markdown",
   "metadata": {},
   "source": [
    "Dataset is balanced"
   ]
  },
  {
   "cell_type": "markdown",
   "metadata": {},
   "source": [
    "** Test set **"
   ]
  },
  {
   "cell_type": "code",
   "execution_count": 4,
   "metadata": {},
   "outputs": [],
   "source": [
    "t_x = np.ones((size,len(coefficients)))\n",
    "for i in range(1,len(coefficients)):\n",
    "    t_x[:,i]=np.random.rand(size)\n",
    "t_y = np.vectorize(lambda x: round(1/(1+math.exp(-x))))((t_x*coefficients).sum(axis=1)\n",
    "                                                        + np.random.normal(size=size))"
   ]
  },
  {
   "cell_type": "markdown",
   "metadata": {},
   "source": [
    "### Logistic Regressor"
   ]
  },
  {
   "cell_type": "code",
   "execution_count": 5,
   "metadata": {},
   "outputs": [],
   "source": [
    "from logistic_regressor import LogisticRegressor\n",
    "log = LogisticRegressor()"
   ]
  },
  {
   "cell_type": "markdown",
   "metadata": {},
   "source": [
    "**Default solution is found using stochastic gradient descent**"
   ]
  },
  {
   "cell_type": "code",
   "execution_count": 6,
   "metadata": {},
   "outputs": [
    {
     "data": {
      "text/plain": [
       "array([-0.84269476, -0.87646913,  2.51090639, -2.73968631,  9.53928816,\n",
       "       -6.58303746])"
      ]
     },
     "execution_count": 6,
     "metadata": {},
     "output_type": "execute_result"
    }
   ],
   "source": [
    "log.fit(x,y,epochs=100,learning_rate=0.01,bin_size=1)\n",
    "log.coeff"
   ]
  },
  {
   "cell_type": "markdown",
   "metadata": {},
   "source": [
    "**Coefficients ratio:**\n",
    "<br>\n",
    "(Intercept at index 0 should be ignored)"
   ]
  },
  {
   "cell_type": "code",
   "execution_count": 7,
   "metadata": {},
   "outputs": [
    {
     "data": {
      "text/plain": [
       "array([-0.        ,  1.59731809,  0.83635137,  1.09501587,  1.0902281 ,\n",
       "        1.21524449])"
      ]
     },
     "execution_count": 7,
     "metadata": {},
     "output_type": "execute_result"
    }
   ],
   "source": [
    "coeff = log.coeff\n",
    "coefficients/coeff"
   ]
  },
  {
   "cell_type": "markdown",
   "metadata": {},
   "source": [
    "Accuracy on test set:"
   ]
  },
  {
   "cell_type": "code",
   "execution_count": 8,
   "metadata": {},
   "outputs": [
    {
     "name": "stdout",
     "output_type": "stream",
     "text": [
      "938\n"
     ]
    }
   ],
   "source": [
    "pred = log.predict(t_x) \n",
    "\n",
    "print((pred==t_y).sum())"
   ]
  },
  {
   "cell_type": "markdown",
   "metadata": {},
   "source": [
    "** Batch gradient descent **"
   ]
  },
  {
   "cell_type": "code",
   "execution_count": 9,
   "metadata": {},
   "outputs": [
    {
     "name": "stdout",
     "output_type": "stream",
     "text": [
      "930\n"
     ]
    }
   ],
   "source": [
    "log.fit(x,y,method='batch',learning_rate=0.01,epochs=500)\n",
    "pred = log.predict(t_x) \n",
    "print((pred==t_y).sum())"
   ]
  },
  {
   "cell_type": "markdown",
   "metadata": {},
   "source": [
    "### Arguments"
   ]
  },
  {
   "cell_type": "markdown",
   "metadata": {},
   "source": [
    "** Columns of values 1 is automatically added if missing **\n",
    "<br>\n",
    "User can force regressor not to add it"
   ]
  },
  {
   "cell_type": "markdown",
   "metadata": {},
   "source": [
    "with intercept:"
   ]
  },
  {
   "cell_type": "code",
   "execution_count": 10,
   "metadata": {},
   "outputs": [
    {
     "name": "stdout",
     "output_type": "stream",
     "text": [
      "939\n"
     ]
    }
   ],
   "source": [
    "log.fit(x[:,1:],y,epochs=500,learning_rate=0.01,bin_size=1)\n",
    "pred = log.predict(t_x) \n",
    "print((pred==t_y).sum())"
   ]
  },
  {
   "cell_type": "markdown",
   "metadata": {},
   "source": [
    "no intercept"
   ]
  },
  {
   "cell_type": "code",
   "execution_count": 11,
   "metadata": {},
   "outputs": [
    {
     "name": "stdout",
     "output_type": "stream",
     "text": [
      "935\n"
     ]
    }
   ],
   "source": [
    "log.fit(x[:,1:],y,add_x0=False,epochs=500,learning_rate=0.01,bin_size=1)\n",
    "pred = log.predict(t_x[:,1:]) \n",
    "print((pred==t_y).sum())"
   ]
  },
  {
   "cell_type": "markdown",
   "metadata": {},
   "source": [
    "**User can modify learning rate, epochs and bin size**"
   ]
  },
  {
   "cell_type": "code",
   "execution_count": 12,
   "metadata": {},
   "outputs": [],
   "source": [
    "log.fit(x,y,learning_rate=0.1,epochs=250,bin_size=20)"
   ]
  },
  {
   "cell_type": "markdown",
   "metadata": {},
   "source": [
    "** User can specify starting coefficients **"
   ]
  },
  {
   "cell_type": "code",
   "execution_count": 13,
   "metadata": {},
   "outputs": [
    {
     "name": "stdout",
     "output_type": "stream",
     "text": [
      "890\n"
     ]
    }
   ],
   "source": [
    "log.fit(x,y,learning_rate=0.1,epochs=1)\n",
    "pred = log.predict(t_x) \n",
    "print((pred==t_y).sum())"
   ]
  },
  {
   "cell_type": "markdown",
   "metadata": {},
   "source": [
    "continue from previously learnt coefficients:"
   ]
  },
  {
   "cell_type": "code",
   "execution_count": 14,
   "metadata": {},
   "outputs": [
    {
     "name": "stdout",
     "output_type": "stream",
     "text": [
      "937\n"
     ]
    }
   ],
   "source": [
    "log.fit(x,y,learning_rate=0.1,epochs=1,starting_coeff=log.coeff)\n",
    "pred = log.predict(t_x) \n",
    "print((pred==t_y).sum())"
   ]
  },
  {
   "cell_type": "markdown",
   "metadata": {},
   "source": [
    "### Predictions"
   ]
  },
  {
   "cell_type": "markdown",
   "metadata": {},
   "source": [
    "**Predict labels**"
   ]
  },
  {
   "cell_type": "code",
   "execution_count": 15,
   "metadata": {},
   "outputs": [
    {
     "name": "stdout",
     "output_type": "stream",
     "text": [
      "True 1:\t\t 512\n",
      "Predicted 1:\t 505\n",
      "[1 1 1 0 0 0 0 0 0 0]\n"
     ]
    }
   ],
   "source": [
    "pred = log.predict(t_x)\n",
    "\n",
    "print('True 1:\\t\\t',t_y.sum())\n",
    "print('Predicted 1:\\t', pred.sum())\n",
    "print(pred[:10])"
   ]
  },
  {
   "cell_type": "markdown",
   "metadata": {},
   "source": [
    "**Output probabilties** (probability for 1)"
   ]
  },
  {
   "cell_type": "code",
   "execution_count": 16,
   "metadata": {},
   "outputs": [
    {
     "name": "stdout",
     "output_type": "stream",
     "text": [
      "[0.50899483 0.56325886 0.58824181 0.47268824 0.48184544 0.48953257\n",
      " 0.47406203 0.49172269 0.44655136 0.43768228]\n"
     ]
    }
   ],
   "source": [
    "pred = log.predict(t_x,probability=True)\n",
    "\n",
    "print(pred[:10])"
   ]
  },
  {
   "cell_type": "markdown",
   "metadata": {},
   "source": [
    "**Predict labels with a different threshold ** default is 0.5"
   ]
  },
  {
   "cell_type": "code",
   "execution_count": 17,
   "metadata": {},
   "outputs": [
    {
     "name": "stdout",
     "output_type": "stream",
     "text": [
      "True 1:\t\t 512\n",
      "Predicted 1:\t 103\n",
      "[0 0 0 0 0 0 0 0 0 0]\n"
     ]
    }
   ],
   "source": [
    "pred = log.predict(t_x,threshold=0.6)\n",
    "\n",
    "print('True 1:\\t\\t',t_y.sum())\n",
    "print('Predicted 1:\\t', pred.sum())\n",
    "print(pred[:10])"
   ]
  }
 ],
 "metadata": {
  "kernelspec": {
   "display_name": "Python 3",
   "language": "python",
   "name": "python3"
  },
  "language_info": {
   "codemirror_mode": {
    "name": "ipython",
    "version": 3
   },
   "file_extension": ".py",
   "mimetype": "text/x-python",
   "name": "python",
   "nbconvert_exporter": "python",
   "pygments_lexer": "ipython3",
   "version": "3.6.5"
  }
 },
 "nbformat": 4,
 "nbformat_minor": 2
}
