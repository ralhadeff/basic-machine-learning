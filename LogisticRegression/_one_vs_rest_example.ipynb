{
 "cells": [
  {
   "cell_type": "markdown",
   "metadata": {},
   "source": [
    "# One-vs-All example\n",
    "\n",
    "### Multiclass classification\n",
    "\n",
    "** This One-vs-All object uses n logistic regressors ** "
   ]
  },
  {
   "cell_type": "code",
   "execution_count": 1,
   "metadata": {},
   "outputs": [],
   "source": [
    "import numpy as np\n",
    "import pandas as pd\n",
    "\n",
    "import one_vs_rest\n",
    "from sklearn.metrics import confusion_matrix"
   ]
  },
  {
   "cell_type": "markdown",
   "metadata": {},
   "source": [
    "### generate training set\n",
    "\n",
    "** Note: this set is not entirely linearly separable, but it works well enough for the example **"
   ]
  },
  {
   "cell_type": "code",
   "execution_count": 2,
   "metadata": {},
   "outputs": [
    {
     "name": "stdout",
     "output_type": "stream",
     "text": [
      "0.0    331\n",
      "4.0    218\n",
      "1.0    199\n",
      "2.0    144\n",
      "3.0    108\n",
      "Name: y, dtype: int64\n",
      "85.27309071448038\n"
     ]
    },
    {
     "data": {
      "text/html": [
       "<div>\n",
       "<style scoped>\n",
       "    .dataframe tbody tr th:only-of-type {\n",
       "        vertical-align: middle;\n",
       "    }\n",
       "\n",
       "    .dataframe tbody tr th {\n",
       "        vertical-align: top;\n",
       "    }\n",
       "\n",
       "    .dataframe thead th {\n",
       "        text-align: right;\n",
       "    }\n",
       "</style>\n",
       "<table border=\"1\" class=\"dataframe\">\n",
       "  <thead>\n",
       "    <tr style=\"text-align: right;\">\n",
       "      <th></th>\n",
       "      <th>x1</th>\n",
       "      <th>x2</th>\n",
       "      <th>x3</th>\n",
       "      <th>x4</th>\n",
       "      <th>y</th>\n",
       "    </tr>\n",
       "  </thead>\n",
       "  <tbody>\n",
       "    <tr>\n",
       "      <th>0</th>\n",
       "      <td>1.761553</td>\n",
       "      <td>-0.311067</td>\n",
       "      <td>0.502025</td>\n",
       "      <td>0.109265</td>\n",
       "      <td>0.0</td>\n",
       "    </tr>\n",
       "    <tr>\n",
       "      <th>1</th>\n",
       "      <td>-0.407302</td>\n",
       "      <td>0.423910</td>\n",
       "      <td>0.616338</td>\n",
       "      <td>0.114228</td>\n",
       "      <td>2.0</td>\n",
       "    </tr>\n",
       "    <tr>\n",
       "      <th>2</th>\n",
       "      <td>0.942139</td>\n",
       "      <td>1.128345</td>\n",
       "      <td>-1.555455</td>\n",
       "      <td>-1.953168</td>\n",
       "      <td>0.0</td>\n",
       "    </tr>\n",
       "    <tr>\n",
       "      <th>3</th>\n",
       "      <td>0.151805</td>\n",
       "      <td>-0.793728</td>\n",
       "      <td>-1.253582</td>\n",
       "      <td>-0.817049</td>\n",
       "      <td>4.0</td>\n",
       "    </tr>\n",
       "    <tr>\n",
       "      <th>4</th>\n",
       "      <td>-0.730682</td>\n",
       "      <td>-0.209059</td>\n",
       "      <td>0.788876</td>\n",
       "      <td>0.110730</td>\n",
       "      <td>2.0</td>\n",
       "    </tr>\n",
       "  </tbody>\n",
       "</table>\n",
       "</div>"
      ],
      "text/plain": [
       "         x1        x2        x3        x4    y\n",
       "0  1.761553 -0.311067  0.502025  0.109265  0.0\n",
       "1 -0.407302  0.423910  0.616338  0.114228  2.0\n",
       "2  0.942139  1.128345 -1.555455 -1.953168  0.0\n",
       "3  0.151805 -0.793728 -1.253582 -0.817049  4.0\n",
       "4 -0.730682 -0.209059  0.788876  0.110730  2.0"
      ]
     },
     "execution_count": 2,
     "metadata": {},
     "output_type": "execute_result"
    }
   ],
   "source": [
    "size = 1000\n",
    "thr = 0.5\n",
    "\n",
    "x = np.random.normal(size=(size,4))\n",
    "y = []\n",
    "for i in x:\n",
    "    if (i[0]>thr):\n",
    "        y.append(0)\n",
    "    elif (i[1]>thr):\n",
    "        y.append(1)\n",
    "    elif (i[2]>thr):\n",
    "        y.append(2)\n",
    "    elif (i[3]>thr):\n",
    "        y.append(3)\n",
    "    else:\n",
    "        y.append(4)    \n",
    "    \n",
    "y = np.asarray(y)\n",
    "\n",
    "# convert to pandas DataFrame\n",
    "df = pd.DataFrame(np.hstack((x,y[:,None])))\n",
    "df.columns = ['x1','x2','x3','x4','y']\n",
    " \n",
    "# check balance\n",
    "print(df['y'].value_counts())\n",
    "print(df['y'].value_counts().std())\n",
    "df.head()"
   ]
  },
  {
   "cell_type": "markdown",
   "metadata": {},
   "source": [
    "### Test set"
   ]
  },
  {
   "cell_type": "code",
   "execution_count": 3,
   "metadata": {},
   "outputs": [],
   "source": [
    "tx = np.random.normal(size=(size,4))\n",
    "ty = []\n",
    "for i in tx:\n",
    "    if (i[0]>thr):\n",
    "        ty.append(0)\n",
    "    elif (i[1]>thr):\n",
    "        ty.append(1)\n",
    "    elif (i[2]>thr):\n",
    "        ty.append(2)\n",
    "    elif (i[3]>thr):\n",
    "        ty.append(3)\n",
    "    else:\n",
    "        ty.append(4)    \n",
    "\n",
    "ty = np.asarray(ty)"
   ]
  },
  {
   "cell_type": "markdown",
   "metadata": {},
   "source": [
    "### Classification"
   ]
  },
  {
   "cell_type": "code",
   "execution_count": 4,
   "metadata": {},
   "outputs": [],
   "source": [
    "ovr = one_vs_rest.OvR()"
   ]
  },
  {
   "cell_type": "code",
   "execution_count": 5,
   "metadata": {},
   "outputs": [],
   "source": [
    "ovr.fit(x,y,epochs=100)"
   ]
  },
  {
   "cell_type": "markdown",
   "metadata": {},
   "source": [
    "** Prediction **"
   ]
  },
  {
   "cell_type": "code",
   "execution_count": 6,
   "metadata": {},
   "outputs": [],
   "source": [
    "pred = ovr.predict(tx)"
   ]
  },
  {
   "cell_type": "code",
   "execution_count": 7,
   "metadata": {},
   "outputs": [
    {
     "data": {
      "text/plain": [
       "array([[313,  24,  27,  25,  45],\n",
       "       [  2, 173,   9,   7,  15],\n",
       "       [  1,   2,  81,   4,   1],\n",
       "       [  3,   3,   4,  51,   0],\n",
       "       [  1,  10,  16,  19, 164]])"
      ]
     },
     "execution_count": 7,
     "metadata": {},
     "output_type": "execute_result"
    }
   ],
   "source": [
    "confusion_matrix(pred,ty)"
   ]
  },
  {
   "cell_type": "markdown",
   "metadata": {},
   "source": [
    "** Performance is decent considering the quality of the traning set **\n",
    "<br><br>\n",
    "Note: y=3 is the least linearly separable class and performs the worst consequently"
   ]
  },
  {
   "cell_type": "markdown",
   "metadata": {},
   "source": [
    "** Input parameters are similar to a single LinearRegressor: **"
   ]
  },
  {
   "cell_type": "code",
   "execution_count": 8,
   "metadata": {},
   "outputs": [],
   "source": [
    "ovr.fit(x,y,starting_coeff=True,method='stochastic', bin_size=1 ,epochs=100, learning_rate=0.00001)\n",
    "ovr.fit(x,y,starting_coeff=True,method='batch', epochs=100, learning_rate=0.00001)"
   ]
  },
  {
   "cell_type": "markdown",
   "metadata": {},
   "source": [
    "** Also works with pandas DataFrame or Series: **"
   ]
  },
  {
   "cell_type": "code",
   "execution_count": 9,
   "metadata": {},
   "outputs": [],
   "source": [
    "ovr.fit(df.drop('y',axis=1),df['y'],epochs=100)"
   ]
  }
 ],
 "metadata": {
  "kernelspec": {
   "display_name": "Python 3",
   "language": "python",
   "name": "python3"
  },
  "language_info": {
   "codemirror_mode": {
    "name": "ipython",
    "version": 3
   },
   "file_extension": ".py",
   "mimetype": "text/x-python",
   "name": "python",
   "nbconvert_exporter": "python",
   "pygments_lexer": "ipython3",
   "version": "3.6.5"
  }
 },
 "nbformat": 4,
 "nbformat_minor": 2
}
